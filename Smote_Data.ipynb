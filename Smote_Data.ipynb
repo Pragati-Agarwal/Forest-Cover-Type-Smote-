{
  "nbformat": 4,
  "nbformat_minor": 0,
  "metadata": {
    "colab": {
      "name": "Smote Data.ipynb",
      "provenance": [],
      "collapsed_sections": [
        "c__UGChytAnR",
        "0EhpB-glkWF1",
        "bpzF0f7VkWF4",
        "_4lBxBPEkWGv",
        "zLp0vphJkWHI",
        "9mKCpeTavVZW",
        "jVgDvBbrvVZc",
        "DRtWY7zRvVZg",
        "4DfnFS76vVZs",
        "6PefRG5YvVZ3",
        "wSqDRClivVaI",
        "d0o9SyObJRfl",
        "asTEG_vDJV0k",
        "zQMywTkDNApE",
        "y6uILqC_t0Vh",
        "VsN7mqeofQZz",
        "RyJ_dApGgdXE",
        "ObcA2x11ghSx",
        "6JyxSmEOhGas",
        "SJ6BHDF4hL5p",
        "nlt2vWg2hL5y",
        "cX9qNOb6hL6F",
        "01rNEge4hL6b",
        "BDn3Bof-hL6_",
        "lbOJDHpchL7W",
        "nIoOzN_qPHWr",
        "qOzIaECOPLYm",
        "4OnB0J0ThL8N",
        "mThdOqYoLXYc",
        "5PuSz0w6LXZM",
        "OMk_5e0M5-8G",
        "Qn2tOsH85-8Q",
        "F6Sz5Wpr5-9j",
        "jg435tai5--N",
        "Y_n4IT0yLXaL",
        "Rr9n_4tbLXaO",
        "1puWBg1ILXaU",
        "v-ytGWooLXac",
        "D3yZKhTvLXam",
        "7mGq9FvxLXat",
        "yGQOVsr-S-iT",
        "FE6WbDIZTB5c",
        "K9HKJWwILXbL",
        "WkxgihfJzZEG",
        "W_MD20Zx1dqU",
        "q1VGIftM1dqX",
        "jhEEaHgz1drR",
        "kb1Cqucx1drn",
        "9MvLMA6QBHYY",
        "qO5rhiSLBHYc",
        "UOHk9v7WBHYf",
        "Z-ExjFUYBHYn",
        "-yd6TNDLBHZB",
        "AyPpP18mBHZJ",
        "v2LOXpNHWN67",
        "5vDa4jMdWTIe",
        "4LEvlN48BHZk",
        "1zzpjcA4_HX3",
        "zcmXiCr8_HOc",
        "YiQzMGLiJdOi",
        "sQvtzCixJdOt",
        "b8ApTpfzJdQh",
        "azoVoP-qJdRE",
        "FnGsYuYG_Sd_",
        "62CZWrgMm4M5",
        "ZDmFviKBMKHl",
        "5mlKRaN_SmVt",
        "wH5r_cacMVPr",
        "Bp2MHHaPt5-s",
        "wn-ZqwuvXzFx",
        "SD2FfVJEX4Nm",
        "tYm2lQFy-tzj",
        "guCO9sl8j7UJ",
        "UXVtovtDj7Ud",
        "2QNH2oE3j7Ue",
        "rakrjX71j7VI",
        "NcfgsPoej7Vn",
        "dx5uAUNFj7WW",
        "oECW2xj9C8zE",
        "qhDa50oPC8zK",
        "EwN8_9mLC8za",
        "mt32hNFKC8zr",
        "qOyTLRDlC8z3",
        "N6Goxk0laT56",
        "FzOT8Ox5aXW2",
        "QqOzeuuij7XS",
        "KHGwhlf_jW4Q",
        "I_KdKtNtjW40",
        "WSMci8IZjW41",
        "4K0Frr3TjW5R",
        "p9UnCB_SjW5g",
        "WzJfmjEcjW5z",
        "-xRapZJrjW52",
        "FOfsMdObjW54",
        "UdH5PBtnjW6F",
        "de-w8lN3jW6P",
        "JIAqUN35jW6X",
        "8IGSgipYZfzt",
        "Q58VWJcAZkN8",
        "HZsCNcqRjW6n",
        "SMHeO5xQJP77",
        "CXhADPOSJP-g",
        "oCj41-0EJP-i",
        "3PTgLEG9JP_6",
        "_IrztdcGJQA9",
        "SOpP6bibJQCJ",
        "l4JxI8xOJQCW",
        "8ar8FafZJQCe",
        "TRsDbxnSJQDK",
        "CM8ueAZGJQDm",
        "rW6_-SXkJQEC",
        "r65KSThSeTBS",
        "vBd-UVbneYQB",
        "qrms6a6hJQEp"
      ]
    },
    "kernelspec": {
      "name": "python3",
      "display_name": "Python 3"
    }
  },
  "cells": [
    {
      "cell_type": "markdown",
      "metadata": {
        "id": "c__UGChytAnR"
      },
      "source": [
        "## Reading Data"
      ]
    },
    {
      "cell_type": "code",
      "metadata": {
        "id": "VLq_PH61gZzF",
        "colab": {
          "base_uri": "https://localhost:8080/",
          "height": 52
        },
        "outputId": "d991e1d4-5b08-460e-d235-53efdc90195e"
      },
      "source": [
        "import pandas as pd\n",
        "import numpy as np\n",
        "import matplotlib.pyplot as plt\n",
        "import seaborn as sns"
      ],
      "execution_count": null,
      "outputs": [
        {
          "output_type": "stream",
          "text": [
            "/usr/local/lib/python3.6/dist-packages/statsmodels/tools/_testing.py:19: FutureWarning: pandas.util.testing is deprecated. Use the functions in the public API at pandas.testing instead.\n",
            "  import pandas.util.testing as tm\n"
          ],
          "name": "stderr"
        }
      ]
    },
    {
      "cell_type": "code",
      "metadata": {
        "id": "NB8P5HJ5hmWb",
        "colab": {
          "base_uri": "https://localhost:8080/"
        },
        "outputId": "1240ac23-3d29-4f3c-9378-0c5398b15b0a"
      },
      "source": [
        "forest = pd.read_csv('/content/drive/My Drive/Colab Notebooks/Forest_Data/full_forest')\n",
        "forest.head()"
      ],
      "execution_count": null,
      "outputs": [
        {
          "output_type": "execute_result",
          "data": {
            "text/html": [
              "<div>\n",
              "<style scoped>\n",
              "    .dataframe tbody tr th:only-of-type {\n",
              "        vertical-align: middle;\n",
              "    }\n",
              "\n",
              "    .dataframe tbody tr th {\n",
              "        vertical-align: top;\n",
              "    }\n",
              "\n",
              "    .dataframe thead th {\n",
              "        text-align: right;\n",
              "    }\n",
              "</style>\n",
              "<table border=\"1\" class=\"dataframe\">\n",
              "  <thead>\n",
              "    <tr style=\"text-align: right;\">\n",
              "      <th></th>\n",
              "      <th>Unnamed: 0</th>\n",
              "      <th>Elevation</th>\n",
              "      <th>Aspect</th>\n",
              "      <th>Slope</th>\n",
              "      <th>Horizontal_Distance_To_Hydrology</th>\n",
              "      <th>Vertical_Distance_To_Hydrology</th>\n",
              "      <th>Horizontal_Distance_To_Roadways</th>\n",
              "      <th>Hillshade_9am</th>\n",
              "      <th>Hillshade_Noon</th>\n",
              "      <th>Hillshade_3pm</th>\n",
              "      <th>Horizontal_Distance_To_Fire_Points</th>\n",
              "      <th>Wilderness_Area_01</th>\n",
              "      <th>Wilderness_Area_02</th>\n",
              "      <th>Wilderness_Area_03</th>\n",
              "      <th>Wilderness_Area_04</th>\n",
              "      <th>Soil_Type_01</th>\n",
              "      <th>Soil_Type_02</th>\n",
              "      <th>Soil_Type_03</th>\n",
              "      <th>Soil_Type_04</th>\n",
              "      <th>Soil_Type_05</th>\n",
              "      <th>Soil_Type_06</th>\n",
              "      <th>Soil_Type_07</th>\n",
              "      <th>Soil_Type_08</th>\n",
              "      <th>Soil_Type_09</th>\n",
              "      <th>Soil_Type_10</th>\n",
              "      <th>Soil_Type_11</th>\n",
              "      <th>Soil_Type_12</th>\n",
              "      <th>Soil_Type_13</th>\n",
              "      <th>Soil_Type_14</th>\n",
              "      <th>Soil_Type_15</th>\n",
              "      <th>Soil_Type_16</th>\n",
              "      <th>Soil_Type_17</th>\n",
              "      <th>Soil_Type_18</th>\n",
              "      <th>Soil_Type_19</th>\n",
              "      <th>Soil_Type_20</th>\n",
              "      <th>Soil_Type_21</th>\n",
              "      <th>Soil_Type_22</th>\n",
              "      <th>Soil_Type_23</th>\n",
              "      <th>Soil_Type_24</th>\n",
              "      <th>Soil_Type_25</th>\n",
              "      <th>Soil_Type_26</th>\n",
              "      <th>Soil_Type_27</th>\n",
              "      <th>Soil_Type_28</th>\n",
              "      <th>Soil_Type_29</th>\n",
              "      <th>Soil_Type_30</th>\n",
              "      <th>Soil_Type_31</th>\n",
              "      <th>Soil_Type_32</th>\n",
              "      <th>Soil_Type_33</th>\n",
              "      <th>Soil_Type_34</th>\n",
              "      <th>Soil_Type_35</th>\n",
              "      <th>Soil_Type_36</th>\n",
              "      <th>Soil_Type_37</th>\n",
              "      <th>Soil_Type_38</th>\n",
              "      <th>Soil_Type_39</th>\n",
              "      <th>Soil_Type_40</th>\n",
              "      <th>Cover_Type</th>\n",
              "      <th>Wilderness</th>\n",
              "      <th>Soil</th>\n",
              "    </tr>\n",
              "  </thead>\n",
              "  <tbody>\n",
              "    <tr>\n",
              "      <th>0</th>\n",
              "      <td>0</td>\n",
              "      <td>2596</td>\n",
              "      <td>51</td>\n",
              "      <td>3</td>\n",
              "      <td>258</td>\n",
              "      <td>0</td>\n",
              "      <td>510</td>\n",
              "      <td>221</td>\n",
              "      <td>232</td>\n",
              "      <td>148</td>\n",
              "      <td>6279</td>\n",
              "      <td>1</td>\n",
              "      <td>0</td>\n",
              "      <td>0</td>\n",
              "      <td>0</td>\n",
              "      <td>0</td>\n",
              "      <td>0</td>\n",
              "      <td>0</td>\n",
              "      <td>0</td>\n",
              "      <td>0</td>\n",
              "      <td>0</td>\n",
              "      <td>0</td>\n",
              "      <td>0</td>\n",
              "      <td>0</td>\n",
              "      <td>0</td>\n",
              "      <td>0</td>\n",
              "      <td>0</td>\n",
              "      <td>0</td>\n",
              "      <td>0</td>\n",
              "      <td>0</td>\n",
              "      <td>0</td>\n",
              "      <td>0</td>\n",
              "      <td>0</td>\n",
              "      <td>0</td>\n",
              "      <td>0</td>\n",
              "      <td>0</td>\n",
              "      <td>0</td>\n",
              "      <td>0</td>\n",
              "      <td>0</td>\n",
              "      <td>0</td>\n",
              "      <td>0</td>\n",
              "      <td>0</td>\n",
              "      <td>0</td>\n",
              "      <td>1</td>\n",
              "      <td>0</td>\n",
              "      <td>0</td>\n",
              "      <td>0</td>\n",
              "      <td>0</td>\n",
              "      <td>0</td>\n",
              "      <td>0</td>\n",
              "      <td>0</td>\n",
              "      <td>0</td>\n",
              "      <td>0</td>\n",
              "      <td>0</td>\n",
              "      <td>0</td>\n",
              "      <td>5</td>\n",
              "      <td>1</td>\n",
              "      <td>29</td>\n",
              "    </tr>\n",
              "    <tr>\n",
              "      <th>1</th>\n",
              "      <td>1</td>\n",
              "      <td>2590</td>\n",
              "      <td>56</td>\n",
              "      <td>2</td>\n",
              "      <td>212</td>\n",
              "      <td>-6</td>\n",
              "      <td>390</td>\n",
              "      <td>220</td>\n",
              "      <td>235</td>\n",
              "      <td>151</td>\n",
              "      <td>6225</td>\n",
              "      <td>1</td>\n",
              "      <td>0</td>\n",
              "      <td>0</td>\n",
              "      <td>0</td>\n",
              "      <td>0</td>\n",
              "      <td>0</td>\n",
              "      <td>0</td>\n",
              "      <td>0</td>\n",
              "      <td>0</td>\n",
              "      <td>0</td>\n",
              "      <td>0</td>\n",
              "      <td>0</td>\n",
              "      <td>0</td>\n",
              "      <td>0</td>\n",
              "      <td>0</td>\n",
              "      <td>0</td>\n",
              "      <td>0</td>\n",
              "      <td>0</td>\n",
              "      <td>0</td>\n",
              "      <td>0</td>\n",
              "      <td>0</td>\n",
              "      <td>0</td>\n",
              "      <td>0</td>\n",
              "      <td>0</td>\n",
              "      <td>0</td>\n",
              "      <td>0</td>\n",
              "      <td>0</td>\n",
              "      <td>0</td>\n",
              "      <td>0</td>\n",
              "      <td>0</td>\n",
              "      <td>0</td>\n",
              "      <td>0</td>\n",
              "      <td>1</td>\n",
              "      <td>0</td>\n",
              "      <td>0</td>\n",
              "      <td>0</td>\n",
              "      <td>0</td>\n",
              "      <td>0</td>\n",
              "      <td>0</td>\n",
              "      <td>0</td>\n",
              "      <td>0</td>\n",
              "      <td>0</td>\n",
              "      <td>0</td>\n",
              "      <td>0</td>\n",
              "      <td>5</td>\n",
              "      <td>1</td>\n",
              "      <td>29</td>\n",
              "    </tr>\n",
              "    <tr>\n",
              "      <th>2</th>\n",
              "      <td>2</td>\n",
              "      <td>2804</td>\n",
              "      <td>139</td>\n",
              "      <td>9</td>\n",
              "      <td>268</td>\n",
              "      <td>65</td>\n",
              "      <td>3180</td>\n",
              "      <td>234</td>\n",
              "      <td>238</td>\n",
              "      <td>135</td>\n",
              "      <td>6121</td>\n",
              "      <td>1</td>\n",
              "      <td>0</td>\n",
              "      <td>0</td>\n",
              "      <td>0</td>\n",
              "      <td>0</td>\n",
              "      <td>0</td>\n",
              "      <td>0</td>\n",
              "      <td>0</td>\n",
              "      <td>0</td>\n",
              "      <td>0</td>\n",
              "      <td>0</td>\n",
              "      <td>0</td>\n",
              "      <td>0</td>\n",
              "      <td>0</td>\n",
              "      <td>0</td>\n",
              "      <td>1</td>\n",
              "      <td>0</td>\n",
              "      <td>0</td>\n",
              "      <td>0</td>\n",
              "      <td>0</td>\n",
              "      <td>0</td>\n",
              "      <td>0</td>\n",
              "      <td>0</td>\n",
              "      <td>0</td>\n",
              "      <td>0</td>\n",
              "      <td>0</td>\n",
              "      <td>0</td>\n",
              "      <td>0</td>\n",
              "      <td>0</td>\n",
              "      <td>0</td>\n",
              "      <td>0</td>\n",
              "      <td>0</td>\n",
              "      <td>0</td>\n",
              "      <td>0</td>\n",
              "      <td>0</td>\n",
              "      <td>0</td>\n",
              "      <td>0</td>\n",
              "      <td>0</td>\n",
              "      <td>0</td>\n",
              "      <td>0</td>\n",
              "      <td>0</td>\n",
              "      <td>0</td>\n",
              "      <td>0</td>\n",
              "      <td>0</td>\n",
              "      <td>2</td>\n",
              "      <td>1</td>\n",
              "      <td>12</td>\n",
              "    </tr>\n",
              "    <tr>\n",
              "      <th>3</th>\n",
              "      <td>3</td>\n",
              "      <td>2785</td>\n",
              "      <td>155</td>\n",
              "      <td>18</td>\n",
              "      <td>242</td>\n",
              "      <td>118</td>\n",
              "      <td>3090</td>\n",
              "      <td>238</td>\n",
              "      <td>238</td>\n",
              "      <td>122</td>\n",
              "      <td>6211</td>\n",
              "      <td>1</td>\n",
              "      <td>0</td>\n",
              "      <td>0</td>\n",
              "      <td>0</td>\n",
              "      <td>0</td>\n",
              "      <td>0</td>\n",
              "      <td>0</td>\n",
              "      <td>0</td>\n",
              "      <td>0</td>\n",
              "      <td>0</td>\n",
              "      <td>0</td>\n",
              "      <td>0</td>\n",
              "      <td>0</td>\n",
              "      <td>0</td>\n",
              "      <td>0</td>\n",
              "      <td>0</td>\n",
              "      <td>0</td>\n",
              "      <td>0</td>\n",
              "      <td>0</td>\n",
              "      <td>0</td>\n",
              "      <td>0</td>\n",
              "      <td>0</td>\n",
              "      <td>0</td>\n",
              "      <td>0</td>\n",
              "      <td>0</td>\n",
              "      <td>0</td>\n",
              "      <td>0</td>\n",
              "      <td>0</td>\n",
              "      <td>0</td>\n",
              "      <td>0</td>\n",
              "      <td>0</td>\n",
              "      <td>0</td>\n",
              "      <td>0</td>\n",
              "      <td>1</td>\n",
              "      <td>0</td>\n",
              "      <td>0</td>\n",
              "      <td>0</td>\n",
              "      <td>0</td>\n",
              "      <td>0</td>\n",
              "      <td>0</td>\n",
              "      <td>0</td>\n",
              "      <td>0</td>\n",
              "      <td>0</td>\n",
              "      <td>0</td>\n",
              "      <td>2</td>\n",
              "      <td>1</td>\n",
              "      <td>30</td>\n",
              "    </tr>\n",
              "    <tr>\n",
              "      <th>4</th>\n",
              "      <td>4</td>\n",
              "      <td>2595</td>\n",
              "      <td>45</td>\n",
              "      <td>2</td>\n",
              "      <td>153</td>\n",
              "      <td>-1</td>\n",
              "      <td>391</td>\n",
              "      <td>220</td>\n",
              "      <td>234</td>\n",
              "      <td>150</td>\n",
              "      <td>6172</td>\n",
              "      <td>1</td>\n",
              "      <td>0</td>\n",
              "      <td>0</td>\n",
              "      <td>0</td>\n",
              "      <td>0</td>\n",
              "      <td>0</td>\n",
              "      <td>0</td>\n",
              "      <td>0</td>\n",
              "      <td>0</td>\n",
              "      <td>0</td>\n",
              "      <td>0</td>\n",
              "      <td>0</td>\n",
              "      <td>0</td>\n",
              "      <td>0</td>\n",
              "      <td>0</td>\n",
              "      <td>0</td>\n",
              "      <td>0</td>\n",
              "      <td>0</td>\n",
              "      <td>0</td>\n",
              "      <td>0</td>\n",
              "      <td>0</td>\n",
              "      <td>0</td>\n",
              "      <td>0</td>\n",
              "      <td>0</td>\n",
              "      <td>0</td>\n",
              "      <td>0</td>\n",
              "      <td>0</td>\n",
              "      <td>0</td>\n",
              "      <td>0</td>\n",
              "      <td>0</td>\n",
              "      <td>0</td>\n",
              "      <td>0</td>\n",
              "      <td>1</td>\n",
              "      <td>0</td>\n",
              "      <td>0</td>\n",
              "      <td>0</td>\n",
              "      <td>0</td>\n",
              "      <td>0</td>\n",
              "      <td>0</td>\n",
              "      <td>0</td>\n",
              "      <td>0</td>\n",
              "      <td>0</td>\n",
              "      <td>0</td>\n",
              "      <td>0</td>\n",
              "      <td>5</td>\n",
              "      <td>1</td>\n",
              "      <td>29</td>\n",
              "    </tr>\n",
              "  </tbody>\n",
              "</table>\n",
              "</div>"
            ],
            "text/plain": [
              "   Unnamed: 0  Elevation  Aspect  ...  Cover_Type  Wilderness  Soil\n",
              "0           0       2596      51  ...           5           1    29\n",
              "1           1       2590      56  ...           5           1    29\n",
              "2           2       2804     139  ...           2           1    12\n",
              "3           3       2785     155  ...           2           1    30\n",
              "4           4       2595      45  ...           5           1    29\n",
              "\n",
              "[5 rows x 58 columns]"
            ]
          },
          "metadata": {
            "tags": []
          },
          "execution_count": 2
        }
      ]
    },
    {
      "cell_type": "markdown",
      "metadata": {
        "id": "lfnRdbdeys5U"
      },
      "source": [
        "Removing index column and dummy columns of soil_types and wilderness_areas and storing it in a dataframe **'forest_a'** "
      ]
    },
    {
      "cell_type": "code",
      "metadata": {
        "id": "2iQ6BnVcp-ii"
      },
      "source": [
        "forest = forest.drop(columns = forest.columns[:1])\n",
        "forest_a = forest.drop(columns = forest.columns[10:54])"
      ],
      "execution_count": null,
      "outputs": []
    },
    {
      "cell_type": "markdown",
      "metadata": {
        "id": "QbRP3Gxrznt9"
      },
      "source": [
        "Converting soil, wilderness and cover_type columns to category"
      ]
    },
    {
      "cell_type": "code",
      "metadata": {
        "id": "qJYKl5ECp-eU"
      },
      "source": [
        "for i in forest.columns[::-1][:3]:\n",
        "  forest_a[i] = forest_a[i].astype('category')"
      ],
      "execution_count": null,
      "outputs": []
    },
    {
      "cell_type": "code",
      "metadata": {
        "id": "YgoWHfn7tF2R",
        "colab": {
          "base_uri": "https://localhost:8080/"
        },
        "outputId": "47e6105e-e8a2-422b-872e-6cc9e98e2c64"
      },
      "source": [
        "forest_a.info()"
      ],
      "execution_count": null,
      "outputs": [
        {
          "output_type": "stream",
          "text": [
            "<class 'pandas.core.frame.DataFrame'>\n",
            "RangeIndex: 581012 entries, 0 to 581011\n",
            "Data columns (total 13 columns):\n",
            " #   Column                              Non-Null Count   Dtype   \n",
            "---  ------                              --------------   -----   \n",
            " 0   Elevation                           581012 non-null  int64   \n",
            " 1   Aspect                              581012 non-null  int64   \n",
            " 2   Slope                               581012 non-null  int64   \n",
            " 3   Horizontal_Distance_To_Hydrology    581012 non-null  int64   \n",
            " 4   Vertical_Distance_To_Hydrology      581012 non-null  int64   \n",
            " 5   Horizontal_Distance_To_Roadways     581012 non-null  int64   \n",
            " 6   Hillshade_9am                       581012 non-null  int64   \n",
            " 7   Hillshade_Noon                      581012 non-null  int64   \n",
            " 8   Hillshade_3pm                       581012 non-null  int64   \n",
            " 9   Horizontal_Distance_To_Fire_Points  581012 non-null  int64   \n",
            " 10  Cover_Type                          581012 non-null  category\n",
            " 11  Wilderness                          581012 non-null  category\n",
            " 12  Soil                                581012 non-null  category\n",
            "dtypes: category(3), int64(10)\n",
            "memory usage: 46.0 MB\n"
          ],
          "name": "stdout"
        }
      ]
    },
    {
      "cell_type": "markdown",
      "metadata": {
        "id": "0EhpB-glkWF1"
      },
      "source": [
        "## Modelling on Original Data"
      ]
    },
    {
      "cell_type": "markdown",
      "metadata": {
        "id": "bpzF0f7VkWF4"
      },
      "source": [
        "### Decision Tree"
      ]
    },
    {
      "cell_type": "code",
      "metadata": {
        "id": "_oAF9bOEkWF7"
      },
      "source": [
        "from sklearn.model_selection import train_test_split\n",
        "from sklearn.metrics import classification_report, confusion_matrix, accuracy_score\n",
        "from sklearn.tree import DecisionTreeClassifier\n",
        "import warnings\n",
        "warnings.filterwarnings(\"ignore\")"
      ],
      "execution_count": null,
      "outputs": []
    },
    {
      "cell_type": "markdown",
      "metadata": {
        "id": "wxGdpTMX49fo"
      },
      "source": [
        "Dividing data into x (independent variable) and y (dependent variable) and then splitting data to train and test in 7:3 ratio"
      ]
    },
    {
      "cell_type": "code",
      "metadata": {
        "id": "rtI0i0UIkWGF"
      },
      "source": [
        "x = forest_a.drop(columns = ['Cover_Type'])\n",
        "y = forest_a['Cover_Type']"
      ],
      "execution_count": null,
      "outputs": []
    },
    {
      "cell_type": "code",
      "metadata": {
        "id": "FRpq9RhWkWGO"
      },
      "source": [
        "x_train, x_test, y_train, y_test = train_test_split(x, y, test_size = .3, random_state=25)"
      ],
      "execution_count": null,
      "outputs": []
    },
    {
      "cell_type": "code",
      "metadata": {
        "id": "6Wuy9eiJkWGW",
        "colab": {
          "base_uri": "https://localhost:8080/",
          "height": 124
        },
        "outputId": "e43328dc-aa6e-401b-d8db-31d41b3b8474"
      },
      "source": [
        "dt = DecisionTreeClassifier(criterion = \"entropy\", \n",
        "                                  random_state = 25,\n",
        "                                  max_depth=19, \n",
        "                                  min_samples_leaf=10,\n",
        "                                  min_samples_split=10)\n",
        "dt.fit(x_train, y_train)"
      ],
      "execution_count": null,
      "outputs": [
        {
          "output_type": "execute_result",
          "data": {
            "text/plain": [
              "DecisionTreeClassifier(ccp_alpha=0.0, class_weight=None, criterion='entropy',\n",
              "                       max_depth=19, max_features=None, max_leaf_nodes=None,\n",
              "                       min_impurity_decrease=0.0, min_impurity_split=None,\n",
              "                       min_samples_leaf=10, min_samples_split=10,\n",
              "                       min_weight_fraction_leaf=0.0, presort='deprecated',\n",
              "                       random_state=25, splitter='best')"
            ]
          },
          "metadata": {
            "tags": []
          },
          "execution_count": 11
        }
      ]
    },
    {
      "cell_type": "code",
      "metadata": {
        "id": "HKMUXh-ikWGd",
        "colab": {
          "base_uri": "https://localhost:8080/",
          "height": 52
        },
        "outputId": "104032a8-1c05-4371-b355-1e905675eae5"
      },
      "source": [
        "print('Training Score:',dt.score(x_train, y_train))\n",
        "print('Testing Score:',dt.score(x_test, y_test))"
      ],
      "execution_count": null,
      "outputs": [
        {
          "output_type": "stream",
          "text": [
            "Training Score: 0.9301390678324498\n",
            "Testing Score: 0.9029396915733431\n"
          ],
          "name": "stdout"
        }
      ]
    },
    {
      "cell_type": "code",
      "metadata": {
        "id": "nN9EF2kDkWGi",
        "colab": {
          "base_uri": "https://localhost:8080/",
          "height": 394
        },
        "outputId": "e0eedf5d-ad3f-4f97-c03c-4e1c0ece0ea2"
      },
      "source": [
        "y_pred = dt.predict(x_test)\n",
        "print(classification_report(y_test,y_pred))\n",
        "print(confusion_matrix(y_test,y_pred))"
      ],
      "execution_count": null,
      "outputs": [
        {
          "output_type": "stream",
          "text": [
            "              precision    recall  f1-score   support\n",
            "\n",
            "           1       0.90      0.90      0.90     63514\n",
            "           2       0.91      0.92      0.92     85045\n",
            "           3       0.90      0.90      0.90     10747\n",
            "           4       0.84      0.82      0.83       804\n",
            "           5       0.81      0.73      0.76      2844\n",
            "           6       0.83      0.82      0.82      5235\n",
            "           7       0.93      0.91      0.92      6115\n",
            "\n",
            "    accuracy                           0.90    174304\n",
            "   macro avg       0.87      0.86      0.86    174304\n",
            "weighted avg       0.90      0.90      0.90    174304\n",
            "\n",
            "[[56973  6108    11     0    64     9   349]\n",
            " [ 5937 78137   286     5   382   251    47]\n",
            " [   11   352  9685    92    20   587     0]\n",
            " [    0     2   108   660     0    34     0]\n",
            " [   58   647    51     0  2069    19     0]\n",
            " [    9   247   641    28    32  4278     0]\n",
            " [  462    69     0     0     0     0  5584]]\n"
          ],
          "name": "stdout"
        }
      ]
    },
    {
      "cell_type": "code",
      "metadata": {
        "id": "rDA4BINKkWGq",
        "colab": {
          "base_uri": "https://localhost:8080/",
          "height": 388
        },
        "outputId": "2c1547cd-bd4b-4d61-fd18-7c16baf92a44"
      },
      "source": [
        "pd.DataFrame({'columns':x.columns,'Importance':dt.feature_importances_})"
      ],
      "execution_count": null,
      "outputs": [
        {
          "output_type": "execute_result",
          "data": {
            "text/html": [
              "<div>\n",
              "<style scoped>\n",
              "    .dataframe tbody tr th:only-of-type {\n",
              "        vertical-align: middle;\n",
              "    }\n",
              "\n",
              "    .dataframe tbody tr th {\n",
              "        vertical-align: top;\n",
              "    }\n",
              "\n",
              "    .dataframe thead th {\n",
              "        text-align: right;\n",
              "    }\n",
              "</style>\n",
              "<table border=\"1\" class=\"dataframe\">\n",
              "  <thead>\n",
              "    <tr style=\"text-align: right;\">\n",
              "      <th></th>\n",
              "      <th>columns</th>\n",
              "      <th>Importance</th>\n",
              "    </tr>\n",
              "  </thead>\n",
              "  <tbody>\n",
              "    <tr>\n",
              "      <th>0</th>\n",
              "      <td>Elevation</td>\n",
              "      <td>0.429758</td>\n",
              "    </tr>\n",
              "    <tr>\n",
              "      <th>1</th>\n",
              "      <td>Aspect</td>\n",
              "      <td>0.016254</td>\n",
              "    </tr>\n",
              "    <tr>\n",
              "      <th>2</th>\n",
              "      <td>Slope</td>\n",
              "      <td>0.009723</td>\n",
              "    </tr>\n",
              "    <tr>\n",
              "      <th>3</th>\n",
              "      <td>Horizontal_Distance_To_Hydrology</td>\n",
              "      <td>0.048272</td>\n",
              "    </tr>\n",
              "    <tr>\n",
              "      <th>4</th>\n",
              "      <td>Vertical_Distance_To_Hydrology</td>\n",
              "      <td>0.032472</td>\n",
              "    </tr>\n",
              "    <tr>\n",
              "      <th>5</th>\n",
              "      <td>Horizontal_Distance_To_Roadways</td>\n",
              "      <td>0.120886</td>\n",
              "    </tr>\n",
              "    <tr>\n",
              "      <th>6</th>\n",
              "      <td>Hillshade_9am</td>\n",
              "      <td>0.025126</td>\n",
              "    </tr>\n",
              "    <tr>\n",
              "      <th>7</th>\n",
              "      <td>Hillshade_Noon</td>\n",
              "      <td>0.024433</td>\n",
              "    </tr>\n",
              "    <tr>\n",
              "      <th>8</th>\n",
              "      <td>Hillshade_3pm</td>\n",
              "      <td>0.013320</td>\n",
              "    </tr>\n",
              "    <tr>\n",
              "      <th>9</th>\n",
              "      <td>Horizontal_Distance_To_Fire_Points</td>\n",
              "      <td>0.121630</td>\n",
              "    </tr>\n",
              "    <tr>\n",
              "      <th>10</th>\n",
              "      <td>Wilderness</td>\n",
              "      <td>0.035618</td>\n",
              "    </tr>\n",
              "    <tr>\n",
              "      <th>11</th>\n",
              "      <td>Soil</td>\n",
              "      <td>0.122507</td>\n",
              "    </tr>\n",
              "  </tbody>\n",
              "</table>\n",
              "</div>"
            ],
            "text/plain": [
              "                               columns  Importance\n",
              "0                            Elevation    0.429758\n",
              "1                               Aspect    0.016254\n",
              "2                                Slope    0.009723\n",
              "3     Horizontal_Distance_To_Hydrology    0.048272\n",
              "4       Vertical_Distance_To_Hydrology    0.032472\n",
              "5      Horizontal_Distance_To_Roadways    0.120886\n",
              "6                        Hillshade_9am    0.025126\n",
              "7                       Hillshade_Noon    0.024433\n",
              "8                        Hillshade_3pm    0.013320\n",
              "9   Horizontal_Distance_To_Fire_Points    0.121630\n",
              "10                          Wilderness    0.035618\n",
              "11                                Soil    0.122507"
            ]
          },
          "metadata": {
            "tags": []
          },
          "execution_count": 14
        }
      ]
    },
    {
      "cell_type": "markdown",
      "metadata": {
        "id": "_4lBxBPEkWGv"
      },
      "source": [
        "### Random Forest"
      ]
    },
    {
      "cell_type": "code",
      "metadata": {
        "id": "G9wXdESBkWGw"
      },
      "source": [
        "from sklearn.ensemble import RandomForestClassifier"
      ],
      "execution_count": null,
      "outputs": []
    },
    {
      "cell_type": "code",
      "metadata": {
        "id": "KqW49Z8kkWG0",
        "colab": {
          "base_uri": "https://localhost:8080/",
          "height": 160
        },
        "outputId": "3386757e-11c6-40db-92dd-816a8a9aa6b4"
      },
      "source": [
        "rforest = RandomForestClassifier(criterion = \"entropy\", \n",
        "                                  random_state = 25,\n",
        "                                  max_depth=19, \n",
        "                                  min_samples_leaf=10,\n",
        "                                  min_samples_split=10)\n",
        "rforest.fit(x_train, y_train)"
      ],
      "execution_count": null,
      "outputs": [
        {
          "output_type": "execute_result",
          "data": {
            "text/plain": [
              "RandomForestClassifier(bootstrap=True, ccp_alpha=0.0, class_weight=None,\n",
              "                       criterion='entropy', max_depth=19, max_features='auto',\n",
              "                       max_leaf_nodes=None, max_samples=None,\n",
              "                       min_impurity_decrease=0.0, min_impurity_split=None,\n",
              "                       min_samples_leaf=10, min_samples_split=10,\n",
              "                       min_weight_fraction_leaf=0.0, n_estimators=100,\n",
              "                       n_jobs=None, oob_score=False, random_state=25, verbose=0,\n",
              "                       warm_start=False)"
            ]
          },
          "metadata": {
            "tags": []
          },
          "execution_count": 16
        }
      ]
    },
    {
      "cell_type": "code",
      "metadata": {
        "id": "92iHYvuZkWG5",
        "colab": {
          "base_uri": "https://localhost:8080/",
          "height": 52
        },
        "outputId": "4e552857-b667-4c23-e7d2-3e799ecec60a"
      },
      "source": [
        "print('Training Score:',rforest.score(x_train, y_train))\n",
        "print('Testing Score:',rforest.score(x_test, y_test))"
      ],
      "execution_count": null,
      "outputs": [
        {
          "output_type": "stream",
          "text": [
            "Training Score: 0.9509943251669503\n",
            "Testing Score: 0.9273051679823756\n"
          ],
          "name": "stdout"
        }
      ]
    },
    {
      "cell_type": "code",
      "metadata": {
        "id": "GfVlYJx5kWG9",
        "colab": {
          "base_uri": "https://localhost:8080/",
          "height": 394
        },
        "outputId": "21e3466a-30be-4b60-e068-e27b240eda9d"
      },
      "source": [
        "y_pred = rforest.predict(x_test)\n",
        "print(classification_report(y_test,y_pred))\n",
        "print(confusion_matrix(y_test,y_pred))"
      ],
      "execution_count": null,
      "outputs": [
        {
          "output_type": "stream",
          "text": [
            "              precision    recall  f1-score   support\n",
            "\n",
            "           1       0.94      0.91      0.92     63514\n",
            "           2       0.92      0.96      0.94     85045\n",
            "           3       0.91      0.95      0.93     10747\n",
            "           4       0.91      0.82      0.86       804\n",
            "           5       0.93      0.64      0.76      2844\n",
            "           6       0.91      0.84      0.87      5235\n",
            "           7       0.97      0.91      0.94      6115\n",
            "\n",
            "    accuracy                           0.93    174304\n",
            "   macro avg       0.93      0.86      0.89    174304\n",
            "weighted avg       0.93      0.93      0.93    174304\n",
            "\n",
            "[[57522  5805     1     0    18    12   156]\n",
            " [ 3042 81495   230     4   121   127    26]\n",
            " [    3   267 10163    35     1   278     0]\n",
            " [    0     0   129   659     0    16     0]\n",
            " [   42   906    48     0  1829    19     0]\n",
            " [    2   252   539    24     2  4416     0]\n",
            " [  523    43     0     0     0     0  5549]]\n"
          ],
          "name": "stdout"
        }
      ]
    },
    {
      "cell_type": "code",
      "metadata": {
        "id": "H_sn_reLkWHC",
        "colab": {
          "base_uri": "https://localhost:8080/",
          "height": 388
        },
        "outputId": "4c7401ba-650f-4e4a-aec2-b61acd95a99b"
      },
      "source": [
        "pd.DataFrame({'columns':x.columns,'Importance':rforest.feature_importances_})"
      ],
      "execution_count": null,
      "outputs": [
        {
          "output_type": "execute_result",
          "data": {
            "text/html": [
              "<div>\n",
              "<style scoped>\n",
              "    .dataframe tbody tr th:only-of-type {\n",
              "        vertical-align: middle;\n",
              "    }\n",
              "\n",
              "    .dataframe tbody tr th {\n",
              "        vertical-align: top;\n",
              "    }\n",
              "\n",
              "    .dataframe thead th {\n",
              "        text-align: right;\n",
              "    }\n",
              "</style>\n",
              "<table border=\"1\" class=\"dataframe\">\n",
              "  <thead>\n",
              "    <tr style=\"text-align: right;\">\n",
              "      <th></th>\n",
              "      <th>columns</th>\n",
              "      <th>Importance</th>\n",
              "    </tr>\n",
              "  </thead>\n",
              "  <tbody>\n",
              "    <tr>\n",
              "      <th>0</th>\n",
              "      <td>Elevation</td>\n",
              "      <td>0.309273</td>\n",
              "    </tr>\n",
              "    <tr>\n",
              "      <th>1</th>\n",
              "      <td>Aspect</td>\n",
              "      <td>0.029003</td>\n",
              "    </tr>\n",
              "    <tr>\n",
              "      <th>2</th>\n",
              "      <td>Slope</td>\n",
              "      <td>0.019739</td>\n",
              "    </tr>\n",
              "    <tr>\n",
              "      <th>3</th>\n",
              "      <td>Horizontal_Distance_To_Hydrology</td>\n",
              "      <td>0.043881</td>\n",
              "    </tr>\n",
              "    <tr>\n",
              "      <th>4</th>\n",
              "      <td>Vertical_Distance_To_Hydrology</td>\n",
              "      <td>0.037401</td>\n",
              "    </tr>\n",
              "    <tr>\n",
              "      <th>5</th>\n",
              "      <td>Horizontal_Distance_To_Roadways</td>\n",
              "      <td>0.106711</td>\n",
              "    </tr>\n",
              "    <tr>\n",
              "      <th>6</th>\n",
              "      <td>Hillshade_9am</td>\n",
              "      <td>0.025773</td>\n",
              "    </tr>\n",
              "    <tr>\n",
              "      <th>7</th>\n",
              "      <td>Hillshade_Noon</td>\n",
              "      <td>0.026322</td>\n",
              "    </tr>\n",
              "    <tr>\n",
              "      <th>8</th>\n",
              "      <td>Hillshade_3pm</td>\n",
              "      <td>0.021980</td>\n",
              "    </tr>\n",
              "    <tr>\n",
              "      <th>9</th>\n",
              "      <td>Horizontal_Distance_To_Fire_Points</td>\n",
              "      <td>0.097453</td>\n",
              "    </tr>\n",
              "    <tr>\n",
              "      <th>10</th>\n",
              "      <td>Wilderness</td>\n",
              "      <td>0.086091</td>\n",
              "    </tr>\n",
              "    <tr>\n",
              "      <th>11</th>\n",
              "      <td>Soil</td>\n",
              "      <td>0.196372</td>\n",
              "    </tr>\n",
              "  </tbody>\n",
              "</table>\n",
              "</div>"
            ],
            "text/plain": [
              "                               columns  Importance\n",
              "0                            Elevation    0.309273\n",
              "1                               Aspect    0.029003\n",
              "2                                Slope    0.019739\n",
              "3     Horizontal_Distance_To_Hydrology    0.043881\n",
              "4       Vertical_Distance_To_Hydrology    0.037401\n",
              "5      Horizontal_Distance_To_Roadways    0.106711\n",
              "6                        Hillshade_9am    0.025773\n",
              "7                       Hillshade_Noon    0.026322\n",
              "8                        Hillshade_3pm    0.021980\n",
              "9   Horizontal_Distance_To_Fire_Points    0.097453\n",
              "10                          Wilderness    0.086091\n",
              "11                                Soil    0.196372"
            ]
          },
          "metadata": {
            "tags": []
          },
          "execution_count": 19
        }
      ]
    },
    {
      "cell_type": "markdown",
      "metadata": {
        "id": "zLp0vphJkWHI"
      },
      "source": [
        "### KNN"
      ]
    },
    {
      "cell_type": "markdown",
      "metadata": {
        "id": "o4r-OhkE0G6M"
      },
      "source": [
        "\n",
        "*   scaling all numerical columns and saving it in a dataframe 'x_std'\n",
        "*   concatenating all the independent data into a dataframe 'x_' \n",
        "*   dividing data to x_ (independent variable) and y_ (dependent variable)\n",
        "*   splitting data into train and test in 7:3 ratio"
      ]
    },
    {
      "cell_type": "code",
      "metadata": {
        "id": "XXxlow_LkWHJ",
        "colab": {
          "base_uri": "https://localhost:8080/",
          "height": 189
        },
        "outputId": "e5d1affb-4aed-41c1-9383-269048aacfa6"
      },
      "source": [
        "from sklearn.preprocessing import StandardScaler\n",
        "\n",
        "x1 = forest_a.drop(columns= ['Cover_Type','Soil','Wilderness'])\n",
        "\n",
        "x_std = StandardScaler().fit_transform(x1)\n",
        "\n",
        "x_std = pd.DataFrame(x_std, columns = x1.columns)\n",
        "\n",
        "x_ = pd.concat([x_std,forest_a[['Soil','Wilderness']]], axis = 1)\n",
        "y_ = forest_a['Cover_Type']\n",
        "x_.head()"
      ],
      "execution_count": null,
      "outputs": [
        {
          "output_type": "execute_result",
          "data": {
            "text/html": [
              "<div>\n",
              "<style scoped>\n",
              "    .dataframe tbody tr th:only-of-type {\n",
              "        vertical-align: middle;\n",
              "    }\n",
              "\n",
              "    .dataframe tbody tr th {\n",
              "        vertical-align: top;\n",
              "    }\n",
              "\n",
              "    .dataframe thead th {\n",
              "        text-align: right;\n",
              "    }\n",
              "</style>\n",
              "<table border=\"1\" class=\"dataframe\">\n",
              "  <thead>\n",
              "    <tr style=\"text-align: right;\">\n",
              "      <th></th>\n",
              "      <th>Elevation</th>\n",
              "      <th>Aspect</th>\n",
              "      <th>Slope</th>\n",
              "      <th>Horizontal_Distance_To_Hydrology</th>\n",
              "      <th>Vertical_Distance_To_Hydrology</th>\n",
              "      <th>Horizontal_Distance_To_Roadways</th>\n",
              "      <th>Hillshade_9am</th>\n",
              "      <th>Hillshade_Noon</th>\n",
              "      <th>Hillshade_3pm</th>\n",
              "      <th>Horizontal_Distance_To_Fire_Points</th>\n",
              "      <th>Soil</th>\n",
              "      <th>Wilderness</th>\n",
              "    </tr>\n",
              "  </thead>\n",
              "  <tbody>\n",
              "    <tr>\n",
              "      <th>0</th>\n",
              "      <td>-1.297805</td>\n",
              "      <td>-0.935157</td>\n",
              "      <td>-1.482820</td>\n",
              "      <td>-0.053767</td>\n",
              "      <td>-0.796273</td>\n",
              "      <td>-1.180146</td>\n",
              "      <td>0.330743</td>\n",
              "      <td>0.439143</td>\n",
              "      <td>0.142960</td>\n",
              "      <td>3.246283</td>\n",
              "      <td>29</td>\n",
              "      <td>1</td>\n",
              "    </tr>\n",
              "    <tr>\n",
              "      <th>1</th>\n",
              "      <td>-1.319235</td>\n",
              "      <td>-0.890480</td>\n",
              "      <td>-1.616363</td>\n",
              "      <td>-0.270188</td>\n",
              "      <td>-0.899197</td>\n",
              "      <td>-1.257106</td>\n",
              "      <td>0.293388</td>\n",
              "      <td>0.590899</td>\n",
              "      <td>0.221342</td>\n",
              "      <td>3.205504</td>\n",
              "      <td>29</td>\n",
              "      <td>1</td>\n",
              "    </tr>\n",
              "    <tr>\n",
              "      <th>2</th>\n",
              "      <td>-0.554907</td>\n",
              "      <td>-0.148836</td>\n",
              "      <td>-0.681563</td>\n",
              "      <td>-0.006719</td>\n",
              "      <td>0.318742</td>\n",
              "      <td>0.532212</td>\n",
              "      <td>0.816364</td>\n",
              "      <td>0.742654</td>\n",
              "      <td>-0.196691</td>\n",
              "      <td>3.126965</td>\n",
              "      <td>12</td>\n",
              "      <td>1</td>\n",
              "    </tr>\n",
              "    <tr>\n",
              "      <th>3</th>\n",
              "      <td>-0.622768</td>\n",
              "      <td>-0.005869</td>\n",
              "      <td>0.520322</td>\n",
              "      <td>-0.129044</td>\n",
              "      <td>1.227908</td>\n",
              "      <td>0.474492</td>\n",
              "      <td>0.965786</td>\n",
              "      <td>0.742654</td>\n",
              "      <td>-0.536343</td>\n",
              "      <td>3.194931</td>\n",
              "      <td>30</td>\n",
              "      <td>1</td>\n",
              "    </tr>\n",
              "    <tr>\n",
              "      <th>4</th>\n",
              "      <td>-1.301377</td>\n",
              "      <td>-0.988770</td>\n",
              "      <td>-1.616363</td>\n",
              "      <td>-0.547771</td>\n",
              "      <td>-0.813427</td>\n",
              "      <td>-1.256464</td>\n",
              "      <td>0.293388</td>\n",
              "      <td>0.540313</td>\n",
              "      <td>0.195215</td>\n",
              "      <td>3.165479</td>\n",
              "      <td>29</td>\n",
              "      <td>1</td>\n",
              "    </tr>\n",
              "  </tbody>\n",
              "</table>\n",
              "</div>"
            ],
            "text/plain": [
              "   Elevation    Aspect  ...  Soil  Wilderness\n",
              "0  -1.297805 -0.935157  ...    29           1\n",
              "1  -1.319235 -0.890480  ...    29           1\n",
              "2  -0.554907 -0.148836  ...    12           1\n",
              "3  -0.622768 -0.005869  ...    30           1\n",
              "4  -1.301377 -0.988770  ...    29           1\n",
              "\n",
              "[5 rows x 12 columns]"
            ]
          },
          "metadata": {
            "tags": []
          },
          "execution_count": 12
        }
      ]
    },
    {
      "cell_type": "code",
      "metadata": {
        "id": "gne4aNtykWHO"
      },
      "source": [
        "x_train_k, x_test_k, y_train_k, y_test_k = train_test_split(x_, y_, test_size = .3, random_state=25)"
      ],
      "execution_count": null,
      "outputs": []
    },
    {
      "cell_type": "code",
      "metadata": {
        "id": "o0JO_TQPkWHS"
      },
      "source": [
        "from sklearn.neighbors import KNeighborsClassifier"
      ],
      "execution_count": null,
      "outputs": []
    },
    {
      "cell_type": "code",
      "metadata": {
        "id": "y1R7ykJ5kWHX"
      },
      "source": [
        "knn = KNeighborsClassifier(metric = 'cityblock', n_neighbors= 4, weights= 'distance')\n",
        "knn.fit(x_train_k,y_train_k)\n",
        "y_pred_k = knn.predict(x_test_k)"
      ],
      "execution_count": null,
      "outputs": []
    },
    {
      "cell_type": "code",
      "metadata": {
        "id": "eXqe2fZhu8Sn",
        "colab": {
          "base_uri": "https://localhost:8080/",
          "height": 52
        },
        "outputId": "991843d8-7039-46d2-dfca-b077cf70628a"
      },
      "source": [
        "print('Training Score:',knn.score(x_train_k,y_train_k))\n",
        "print('Testing Score:',knn.score(x_test_k,y_test_k))"
      ],
      "execution_count": null,
      "outputs": [
        {
          "output_type": "stream",
          "text": [
            "Training Score: 1.0\n",
            "Testing Score: 0.9372647787773086\n"
          ],
          "name": "stdout"
        }
      ]
    },
    {
      "cell_type": "code",
      "metadata": {
        "id": "nLxsftmWkWHb",
        "colab": {
          "base_uri": "https://localhost:8080/",
          "height": 394
        },
        "outputId": "a0097650-d300-4731-8dbf-115fe7548fda"
      },
      "source": [
        "print(classification_report(y_test_k, y_pred_k))\n",
        "print(confusion_matrix(y_test_k, y_pred_k))"
      ],
      "execution_count": null,
      "outputs": [
        {
          "output_type": "stream",
          "text": [
            "              precision    recall  f1-score   support\n",
            "\n",
            "           1       0.94      0.93      0.94     63514\n",
            "           2       0.94      0.95      0.95     85045\n",
            "           3       0.91      0.92      0.92     10747\n",
            "           4       0.88      0.82      0.85       804\n",
            "           5       0.85      0.80      0.82      2844\n",
            "           6       0.83      0.85      0.84      5235\n",
            "           7       0.95      0.95      0.95      6115\n",
            "\n",
            "    accuracy                           0.94    174304\n",
            "   macro avg       0.90      0.89      0.90    174304\n",
            "weighted avg       0.94      0.94      0.94    174304\n",
            "\n",
            "[[59348  3862     2     0    42    17   243]\n",
            " [ 3213 80973   246     2   321   252    38]\n",
            " [   10   219  9885    61    28   544     0]\n",
            " [    0     1    98   661     0    44     0]\n",
            " [   56   455    36     0  2275    22     0]\n",
            " [    7   203   538    28    16  4443     0]\n",
            " [  297    34     0     0     0     0  5784]]\n"
          ],
          "name": "stdout"
        }
      ]
    },
    {
      "cell_type": "markdown",
      "metadata": {
        "id": "9mKCpeTavVZW"
      },
      "source": [
        "### Ensemble Techniques on Original Data"
      ]
    },
    {
      "cell_type": "code",
      "metadata": {
        "id": "b3IgESGVvVZY"
      },
      "source": [
        "base_DT = DecisionTreeClassifier(criterion = \"entropy\", \n",
        "                                  random_state = 25,\n",
        "                                  max_depth=19, \n",
        "                                  min_samples_leaf=10,\n",
        "                                  min_samples_split=10)\n",
        "\n",
        "base_RF = RandomForestClassifier(criterion = \"entropy\", \n",
        "                                  random_state = 25,\n",
        "                                  max_depth=19, \n",
        "                                  min_samples_leaf=10,\n",
        "                                  min_samples_split=10)\n",
        "\n",
        "base_KNN = KNeighborsClassifier(metric = 'cityblock', \n",
        "                                n_neighbors= 4, \n",
        "                                weights= 'distance')"
      ],
      "execution_count": null,
      "outputs": []
    },
    {
      "cell_type": "markdown",
      "metadata": {
        "id": "jVgDvBbrvVZc"
      },
      "source": [
        "### Bagging"
      ]
    },
    {
      "cell_type": "code",
      "metadata": {
        "id": "nOnuULQFvVZd"
      },
      "source": [
        "from sklearn.ensemble import BaggingClassifier"
      ],
      "execution_count": null,
      "outputs": []
    },
    {
      "cell_type": "markdown",
      "metadata": {
        "id": "DRtWY7zRvVZg"
      },
      "source": [
        "#### Decision Bag"
      ]
    },
    {
      "cell_type": "code",
      "metadata": {
        "id": "CQVrWIlrvVZj",
        "colab": {
          "base_uri": "https://localhost:8080/",
          "height": 322
        },
        "outputId": "cec3e0ef-c3f1-4d01-9676-930649ce2dbd"
      },
      "source": [
        "bgcl_DT = BaggingClassifier(base_estimator=base_DT,n_estimators=51,oob_score=True,random_state=25)\n",
        "bgcl_DT.fit(x_train, y_train)"
      ],
      "execution_count": null,
      "outputs": [
        {
          "output_type": "execute_result",
          "data": {
            "text/plain": [
              "BaggingClassifier(base_estimator=DecisionTreeClassifier(ccp_alpha=0.0,\n",
              "                                                        class_weight=None,\n",
              "                                                        criterion='entropy',\n",
              "                                                        max_depth=19,\n",
              "                                                        max_features=None,\n",
              "                                                        max_leaf_nodes=None,\n",
              "                                                        min_impurity_decrease=0.0,\n",
              "                                                        min_impurity_split=None,\n",
              "                                                        min_samples_leaf=10,\n",
              "                                                        min_samples_split=10,\n",
              "                                                        min_weight_fraction_leaf=0.0,\n",
              "                                                        presort='deprecated',\n",
              "                                                        random_state=25,\n",
              "                                                        splitter='best'),\n",
              "                  bootstrap=True, bootstrap_features=False, max_features=1.0,\n",
              "                  max_samples=1.0, n_estimators=51, n_jobs=None, oob_score=True,\n",
              "                  random_state=25, verbose=0, warm_start=False)"
            ]
          },
          "metadata": {
            "tags": []
          },
          "execution_count": 28
        }
      ]
    },
    {
      "cell_type": "code",
      "metadata": {
        "id": "lgW9GM7tvVZm",
        "colab": {
          "base_uri": "https://localhost:8080/",
          "height": 70
        },
        "outputId": "580f46d7-e1c3-4ce7-da78-80cb2ed84406"
      },
      "source": [
        "print('OOB SCORE:',bgcl_DT.oob_score_)\n",
        "print('Training Accuracy:',bgcl_DT.score(x_train,y_train))\n",
        "print('Testing Accuracy:',bgcl_DT.score(x_test,y_test))"
      ],
      "execution_count": null,
      "outputs": [
        {
          "output_type": "stream",
          "text": [
            "OOB SCORE: 0.9380907186482685\n",
            "Training Accuracy: 0.963979070979671\n",
            "Testing Accuracy: 0.9411373232972279\n"
          ],
          "name": "stdout"
        }
      ]
    },
    {
      "cell_type": "code",
      "metadata": {
        "id": "4BWys7JNvVZp",
        "colab": {
          "base_uri": "https://localhost:8080/",
          "height": 394
        },
        "outputId": "34fe6c9b-98ac-487f-e7a3-8b1ce2cbba03"
      },
      "source": [
        "print(classification_report(y_test,bgcl_DT.predict(x_test)))\n",
        "print(confusion_matrix(y_test,bgcl_DT.predict(x_test)))"
      ],
      "execution_count": null,
      "outputs": [
        {
          "output_type": "stream",
          "text": [
            "              precision    recall  f1-score   support\n",
            "\n",
            "           1       0.95      0.93      0.94     63514\n",
            "           2       0.94      0.96      0.95     85045\n",
            "           3       0.93      0.95      0.94     10747\n",
            "           4       0.91      0.85      0.88       804\n",
            "           5       0.92      0.74      0.82      2844\n",
            "           6       0.91      0.88      0.90      5235\n",
            "           7       0.96      0.93      0.94      6115\n",
            "\n",
            "    accuracy                           0.94    174304\n",
            "   macro avg       0.93      0.89      0.91    174304\n",
            "weighted avg       0.94      0.94      0.94    174304\n",
            "\n",
            "[[59092  4201     5     0    31     4   181]\n",
            " [ 2879 81703   179     3   143   103    35]\n",
            " [    4   216 10182    43    16   286     0]\n",
            " [    0     0   101   684     0    19     0]\n",
            " [   38   631    49     0  2106    20     0]\n",
            " [    7   172   412    22     3  4619     0]\n",
            " [  413    44     0     0     0     0  5658]]\n"
          ],
          "name": "stdout"
        }
      ]
    },
    {
      "cell_type": "markdown",
      "metadata": {
        "id": "4DfnFS76vVZs"
      },
      "source": [
        "#### Random Forest Bag"
      ]
    },
    {
      "cell_type": "code",
      "metadata": {
        "id": "yj3uBoALvVZs",
        "colab": {
          "base_uri": "https://localhost:8080/",
          "height": 412
        },
        "outputId": "c760bc6d-053e-463a-c1ce-95482d38fdb3"
      },
      "source": [
        "bgcl_RF = BaggingClassifier(base_estimator=base_RF,n_estimators=51,oob_score=True,random_state=25)\n",
        "bgcl_RF.fit(x_train, y_train)"
      ],
      "execution_count": null,
      "outputs": [
        {
          "output_type": "execute_result",
          "data": {
            "text/plain": [
              "BaggingClassifier(base_estimator=RandomForestClassifier(bootstrap=True,\n",
              "                                                        ccp_alpha=0.0,\n",
              "                                                        class_weight=None,\n",
              "                                                        criterion='entropy',\n",
              "                                                        max_depth=19,\n",
              "                                                        max_features='auto',\n",
              "                                                        max_leaf_nodes=None,\n",
              "                                                        max_samples=None,\n",
              "                                                        min_impurity_decrease=0.0,\n",
              "                                                        min_impurity_split=None,\n",
              "                                                        min_samples_leaf=10,\n",
              "                                                        min_samples_split=10,\n",
              "                                                        min_weight_fraction_leaf=0.0,\n",
              "                                                        n_estimators=100,\n",
              "                                                        n_jobs=None,\n",
              "                                                        oob_score=False,\n",
              "                                                        random_state=25,\n",
              "                                                        verbose=0,\n",
              "                                                        warm_start=False),\n",
              "                  bootstrap=True, bootstrap_features=False, max_features=1.0,\n",
              "                  max_samples=1.0, n_estimators=51, n_jobs=None, oob_score=True,\n",
              "                  random_state=25, verbose=0, warm_start=False)"
            ]
          },
          "metadata": {
            "tags": []
          },
          "execution_count": 31
        }
      ]
    },
    {
      "cell_type": "code",
      "metadata": {
        "id": "R990ZUvnvVZv",
        "colab": {
          "base_uri": "https://localhost:8080/",
          "height": 70
        },
        "outputId": "78d09083-43ae-4f15-90a2-89daa190a51b"
      },
      "source": [
        "print('OOB SCORE:',bgcl_RF.oob_score_)\n",
        "print('Training Accuracy:',bgcl_RF.score(x_train,y_train))\n",
        "print('Testing Accuracy:',bgcl_RF.score(x_test,y_test))"
      ],
      "execution_count": null,
      "outputs": [
        {
          "output_type": "stream",
          "text": [
            "OOB SCORE: 0.9138300697306175\n",
            "Training Accuracy: 0.9338247587950077\n",
            "Testing Accuracy: 0.9147466495318524\n"
          ],
          "name": "stdout"
        }
      ]
    },
    {
      "cell_type": "code",
      "metadata": {
        "id": "_LFc8tcwvVZz",
        "colab": {
          "base_uri": "https://localhost:8080/",
          "height": 394
        },
        "outputId": "5c85799c-27b4-446b-ce16-b15ad288502c"
      },
      "source": [
        "print(classification_report(y_test,bgcl_RF.predict(x_test)))\n",
        "print(confusion_matrix(y_test,bgcl_RF.predict(x_test)))"
      ],
      "execution_count": null,
      "outputs": [
        {
          "output_type": "stream",
          "text": [
            "              precision    recall  f1-score   support\n",
            "\n",
            "           1       0.93      0.89      0.91     63514\n",
            "           2       0.90      0.95      0.93     85045\n",
            "           3       0.90      0.94      0.92     10747\n",
            "           4       0.91      0.79      0.85       804\n",
            "           5       0.93      0.56      0.70      2844\n",
            "           6       0.90      0.80      0.84      5235\n",
            "           7       0.96      0.88      0.92      6115\n",
            "\n",
            "    accuracy                           0.91    174304\n",
            "   macro avg       0.92      0.83      0.87    174304\n",
            "weighted avg       0.92      0.91      0.91    174304\n",
            "\n",
            "[[56647  6659     2     0    14     9   183]\n",
            " [ 3565 80922   278     4    94   152    30]\n",
            " [    3   342 10070    37     2   293     0]\n",
            " [    0     0   156   636     0    12     0]\n",
            " [   40  1148    49     0  1594    13     0]\n",
            " [    0   352   680    24     1  4178     0]\n",
            " [  676    42     0     0     0     0  5397]]\n"
          ],
          "name": "stdout"
        }
      ]
    },
    {
      "cell_type": "markdown",
      "metadata": {
        "id": "6PefRG5YvVZ3"
      },
      "source": [
        "#### KNN Bag"
      ]
    },
    {
      "cell_type": "code",
      "metadata": {
        "id": "PT_AHSVSvVZ4",
        "colab": {
          "base_uri": "https://localhost:8080/",
          "height": 196
        },
        "outputId": "3fd5872b-893f-4214-afb2-9a5bce774479"
      },
      "source": [
        "bgcl_KN = BaggingClassifier(base_estimator=base_KNN,n_estimators=51,oob_score=True,random_state=25)\n",
        "bgcl_KN.fit(x_train_k, y_train_k)"
      ],
      "execution_count": null,
      "outputs": [
        {
          "output_type": "execute_result",
          "data": {
            "text/plain": [
              "BaggingClassifier(base_estimator=KNeighborsClassifier(algorithm='auto',\n",
              "                                                      leaf_size=30,\n",
              "                                                      metric='cityblock',\n",
              "                                                      metric_params=None,\n",
              "                                                      n_jobs=None,\n",
              "                                                      n_neighbors=4, p=2,\n",
              "                                                      weights='distance'),\n",
              "                  bootstrap=True, bootstrap_features=False, max_features=1.0,\n",
              "                  max_samples=1.0, n_estimators=51, n_jobs=None, oob_score=True,\n",
              "                  random_state=25, verbose=0, warm_start=False)"
            ]
          },
          "metadata": {
            "tags": []
          },
          "execution_count": 17
        }
      ]
    },
    {
      "cell_type": "code",
      "metadata": {
        "id": "KCUvM8gTvVZ-",
        "colab": {
          "base_uri": "https://localhost:8080/",
          "height": 70
        },
        "outputId": "6312e9df-88de-4f00-ec37-5bb39f544c0b"
      },
      "source": [
        "print('OOB SCORE:',bgcl_KN.oob_score_)\n",
        "print('Training Accuracy:',bgcl_KN.score(x_train_k,y_train_k))\n",
        "print('Testing Accuracy:',bgcl_KN.score(x_test_k,y_test_k))"
      ],
      "execution_count": null,
      "outputs": [
        {
          "output_type": "stream",
          "text": [
            "OOB SCORE: 0.9361458343578194\n",
            "Training Accuracy: 0.9998303451124639\n",
            "Testing Accuracy: 0.936857444464843\n"
          ],
          "name": "stdout"
        }
      ]
    },
    {
      "cell_type": "code",
      "metadata": {
        "id": "gdpXuxpdvVaC",
        "colab": {
          "base_uri": "https://localhost:8080/",
          "height": 394
        },
        "outputId": "734f4e7f-2222-49d9-b2de-0526bf60b680"
      },
      "source": [
        "print(classification_report(y_test_k,bgcl_KN.predict(x_test_k)))\n",
        "print(confusion_matrix(y_test_k,bgcl_KN.predict(x_test_k)))"
      ],
      "execution_count": null,
      "outputs": [
        {
          "output_type": "stream",
          "text": [
            "              precision    recall  f1-score   support\n",
            "\n",
            "           1       0.94      0.93      0.94     63514\n",
            "           2       0.94      0.95      0.95     85045\n",
            "           3       0.91      0.92      0.92     10747\n",
            "           4       0.88      0.81      0.85       804\n",
            "           5       0.85      0.79      0.82      2844\n",
            "           6       0.83      0.84      0.84      5235\n",
            "           7       0.95      0.94      0.95      6115\n",
            "\n",
            "    accuracy                           0.94    174304\n",
            "   macro avg       0.90      0.89      0.89    174304\n",
            "weighted avg       0.94      0.94      0.94    174304\n",
            "\n",
            "[[59243  3973     1     0    37    18   242]\n",
            " [ 3119 81072   248     3   310   252    41]\n",
            " [   10   238  9883    58    24   534     0]\n",
            " [    0     0   101   654     0    49     0]\n",
            " [   59   461    39     0  2260    24     1]\n",
            " [    8   223   552    28    14  4410     0]\n",
            " [  303    36     0     0     0     0  5776]]\n"
          ],
          "name": "stdout"
        }
      ]
    },
    {
      "cell_type": "markdown",
      "metadata": {
        "id": "wSqDRClivVaI"
      },
      "source": [
        "### AdaBoost"
      ]
    },
    {
      "cell_type": "code",
      "metadata": {
        "id": "Z9ZE645dvVaJ"
      },
      "source": [
        "from sklearn.ensemble import AdaBoostClassifier\n",
        "\n",
        "abcl_DT = AdaBoostClassifier(base_estimator=base_DT,n_estimators=50,random_state=25)\n",
        "\n",
        "abcl_RF = AdaBoostClassifier(base_estimator=base_RF,n_estimators=50,random_state=25)"
      ],
      "execution_count": null,
      "outputs": []
    },
    {
      "cell_type": "markdown",
      "metadata": {
        "id": "d0o9SyObJRfl"
      },
      "source": [
        "#### Decision Tree"
      ]
    },
    {
      "cell_type": "code",
      "metadata": {
        "scrolled": true,
        "id": "8x0sYRd9vVaN",
        "colab": {
          "base_uri": "https://localhost:8080/",
          "height": 52
        },
        "outputId": "6bdca742-aef6-4e9f-a7ca-61999d4f1986"
      },
      "source": [
        "abcl_DT.fit(x_train,y_train)\n",
        "print('Training Accuracy:',abcl_DT.score(x_train,y_train))\n",
        "print('Testing Accuracy:',abcl_DT.score(x_test,y_test))"
      ],
      "execution_count": null,
      "outputs": [
        {
          "output_type": "stream",
          "text": [
            "Training Accuracy: 0.9999704948021676\n",
            "Testing Accuracy: 0.9539769597943822\n"
          ],
          "name": "stdout"
        }
      ]
    },
    {
      "cell_type": "code",
      "metadata": {
        "id": "yDD_PqhOvVaT",
        "colab": {
          "base_uri": "https://localhost:8080/",
          "height": 394
        },
        "outputId": "7cda36d5-2d3e-4ab3-f820-0f4af4bbe724"
      },
      "source": [
        "print(classification_report(y_test,abcl_DT.predict(x_test)))\n",
        "print(confusion_matrix(y_test,abcl_DT.predict(x_test)))"
      ],
      "execution_count": null,
      "outputs": [
        {
          "output_type": "stream",
          "text": [
            "              precision    recall  f1-score   support\n",
            "\n",
            "           1       0.96      0.94      0.95     63514\n",
            "           2       0.95      0.97      0.96     85045\n",
            "           3       0.95      0.97      0.96     10747\n",
            "           4       0.95      0.85      0.90       804\n",
            "           5       0.96      0.77      0.85      2844\n",
            "           6       0.94      0.91      0.93      5235\n",
            "           7       0.98      0.94      0.96      6115\n",
            "\n",
            "    accuracy                           0.95    174304\n",
            "   macro avg       0.96      0.91      0.93    174304\n",
            "weighted avg       0.95      0.95      0.95    174304\n",
            "\n",
            "[[59962  3447     1     0    14     1    89]\n",
            " [ 2186 82565   129     2    75    74    14]\n",
            " [    3   160 10387    17     5   175     0]\n",
            " [    0     0    98   685     0    21     0]\n",
            " [   29   589    34     0  2177    14     1]\n",
            " [    0   158   305    17     3  4752     0]\n",
            " [  334    27     0     0     0     0  5754]]\n"
          ],
          "name": "stdout"
        }
      ]
    },
    {
      "cell_type": "markdown",
      "metadata": {
        "id": "asTEG_vDJV0k"
      },
      "source": [
        "#### Random Forest"
      ]
    },
    {
      "cell_type": "code",
      "metadata": {
        "id": "rjjxiTfCvVaW",
        "colab": {
          "base_uri": "https://localhost:8080/",
          "height": 52
        },
        "outputId": "c09b621c-3148-4ac4-d51e-89e2ef571023"
      },
      "source": [
        "abcl_RF.fit(x_train,y_train)\n",
        "print('Training Accuracy:',abcl_RF.score(x_train,y_train))\n",
        "print('Testing Accuracy:',abcl_RF.score(x_test,y_test))"
      ],
      "execution_count": null,
      "outputs": [
        {
          "output_type": "stream",
          "text": [
            "Training Accuracy: 0.7101483127944372\n",
            "Testing Accuracy: 0.6796688544152745\n"
          ],
          "name": "stdout"
        }
      ]
    },
    {
      "cell_type": "code",
      "metadata": {
        "id": "i4DqirivvVaZ",
        "colab": {
          "base_uri": "https://localhost:8080/",
          "height": 394
        },
        "outputId": "187c23fc-52cf-48f8-e12b-11f0fce09244"
      },
      "source": [
        "print(classification_report(y_test,abcl_RF.predict(x_test)))\n",
        "print(confusion_matrix(y_test,abcl_RF.predict(x_test)))"
      ],
      "execution_count": null,
      "outputs": [
        {
          "output_type": "stream",
          "text": [
            "              precision    recall  f1-score   support\n",
            "\n",
            "           1       0.55      1.00      0.71     63514\n",
            "           2       0.96      0.46      0.62     85045\n",
            "           3       0.85      0.93      0.89     10747\n",
            "           4       0.89      0.62      0.73       804\n",
            "           5       0.96      0.40      0.57      2844\n",
            "           6       0.86      0.70      0.77      5235\n",
            "           7       1.00      0.09      0.17      6115\n",
            "\n",
            "    accuracy                           0.68    174304\n",
            "   macro avg       0.87      0.60      0.64    174304\n",
            "weighted avg       0.80      0.68      0.66    174304\n",
            "\n",
            "[[63254   260     0     0     0     0     0]\n",
            " [45162 39411   276     2    36   158     0]\n",
            " [   58   300  9963    35     5   386     0]\n",
            " [    0     0   272   501     0    31     0]\n",
            " [  745   911    34     0  1143    11     0]\n",
            " [   92   270  1204    23     1  3645     0]\n",
            " [ 5561     2     0     0     0     0   552]]\n"
          ],
          "name": "stdout"
        }
      ]
    },
    {
      "cell_type": "markdown",
      "metadata": {
        "id": "zQMywTkDNApE"
      },
      "source": [
        "### Gradient Boost"
      ]
    },
    {
      "cell_type": "code",
      "metadata": {
        "id": "-0fACJjqM_fT",
        "colab": {
          "base_uri": "https://localhost:8080/",
          "height": 196
        },
        "outputId": "4883558e-58ba-45ca-830f-58cd0a281321"
      },
      "source": [
        "from sklearn.ensemble import GradientBoostingClassifier\n",
        "\n",
        "gbcl = GradientBoostingClassifier(random_state = 25,\n",
        "                                  max_depth=19, \n",
        "                                  min_samples_leaf=10,\n",
        "                                  min_samples_split=10,\n",
        "                                  n_estimators = 50)\n",
        "gbcl.fit(x_train, y_train)"
      ],
      "execution_count": null,
      "outputs": [
        {
          "output_type": "execute_result",
          "data": {
            "text/plain": [
              "GradientBoostingClassifier(ccp_alpha=0.0, criterion='friedman_mse', init=None,\n",
              "                           learning_rate=0.1, loss='deviance', max_depth=19,\n",
              "                           max_features=None, max_leaf_nodes=None,\n",
              "                           min_impurity_decrease=0.0, min_impurity_split=None,\n",
              "                           min_samples_leaf=10, min_samples_split=10,\n",
              "                           min_weight_fraction_leaf=0.0, n_estimators=50,\n",
              "                           n_iter_no_change=None, presort='deprecated',\n",
              "                           random_state=25, subsample=1.0, tol=0.0001,\n",
              "                           validation_fraction=0.1, verbose=0,\n",
              "                           warm_start=False)"
            ]
          },
          "metadata": {
            "tags": []
          },
          "execution_count": 20
        }
      ]
    },
    {
      "cell_type": "code",
      "metadata": {
        "id": "VbUq9Ve1M_fa",
        "colab": {
          "base_uri": "https://localhost:8080/",
          "height": 52
        },
        "outputId": "0ac64982-d5b4-475b-c266-64df966fa0f3"
      },
      "source": [
        "print('Training Score:',gbcl.score(x_train,y_train))\n",
        "print('Testing Score:',gbcl.score(x_test,y_test))"
      ],
      "execution_count": null,
      "outputs": [
        {
          "output_type": "stream",
          "text": [
            "Training Score: 0.9986009618694494\n",
            "Testing Score: 0.966518266935928\n"
          ],
          "name": "stdout"
        }
      ]
    },
    {
      "cell_type": "code",
      "metadata": {
        "id": "cuZXU9t9M_fe",
        "colab": {
          "base_uri": "https://localhost:8080/",
          "height": 394
        },
        "outputId": "29e5eb24-ac67-4c05-be71-ae4ca3d4df17"
      },
      "source": [
        "print(classification_report(y_test,gbcl.predict(x_test)))\n",
        "print(confusion_matrix(y_test,gbcl.predict(x_test)))"
      ],
      "execution_count": null,
      "outputs": [
        {
          "output_type": "stream",
          "text": [
            "              precision    recall  f1-score   support\n",
            "\n",
            "           1       0.97      0.97      0.97     63514\n",
            "           2       0.97      0.98      0.97     85045\n",
            "           3       0.95      0.94      0.94     10747\n",
            "           4       0.67      0.75      0.71       804\n",
            "           5       0.93      0.84      0.88      2844\n",
            "           6       0.92      0.91      0.91      5235\n",
            "           7       0.98      0.96      0.97      6115\n",
            "\n",
            "    accuracy                           0.97    174304\n",
            "   macro avg       0.91      0.91      0.91    174304\n",
            "weighted avg       0.97      0.97      0.97    174304\n",
            "\n",
            "[[61469  1897     2     0    21     6   119]\n",
            " [ 1344 83327   111    11   143    89    20]\n",
            " [   11   164 10066   221    13   272     0]\n",
            " [    1    12   143   606     0    41     1]\n",
            " [   27   374    34     0  2395    14     0]\n",
            " [    3   129   290    61     1  4751     0]\n",
            " [  225    33     0     3     0     0  5854]]\n"
          ],
          "name": "stdout"
        }
      ]
    },
    {
      "cell_type": "markdown",
      "metadata": {
        "id": "y6uILqC_t0Vh"
      },
      "source": [
        "## Feature Engineering"
      ]
    },
    {
      "cell_type": "markdown",
      "metadata": {
        "id": "CYSBWWzOLN09"
      },
      "source": [
        "Min scaling 'vertical_distance_to_hydrology' column as it has got some negative values"
      ]
    },
    {
      "cell_type": "code",
      "metadata": {
        "id": "CYpKFOo262g1"
      },
      "source": [
        "forest_a['Vertical_Scaled'] = forest_a['Vertical_Distance_To_Hydrology'] - min(forest_a['Vertical_Distance_To_Hydrology'])"
      ],
      "execution_count": null,
      "outputs": []
    },
    {
      "cell_type": "markdown",
      "metadata": {
        "id": "Ykdt8pc5LYE_"
      },
      "source": [
        "Calculating Euclidean distance to hydrology. As water being the necessity for a vegetation to grow."
      ]
    },
    {
      "cell_type": "code",
      "metadata": {
        "id": "cIN3zPAap-aK"
      },
      "source": [
        "forest_a['Hydr_Dist'] = (forest_a['Horizontal_Distance_To_Hydrology']**2 + forest_a['Vertical_Distance_To_Hydrology']**2)**0.5"
      ],
      "execution_count": null,
      "outputs": []
    },
    {
      "cell_type": "markdown",
      "metadata": {
        "id": "8V3Q0XBwLjnN"
      },
      "source": [
        "Taking average of all the Hillshades"
      ]
    },
    {
      "cell_type": "code",
      "metadata": {
        "id": "b09jKIqBqWIK"
      },
      "source": [
        "forest_a['Hillshades'] = (forest_a['Hillshade_3pm'] + forest_a['Hillshade_Noon'] + forest_a['Hillshade_9am'])/3"
      ],
      "execution_count": null,
      "outputs": []
    },
    {
      "cell_type": "markdown",
      "metadata": {
        "id": "S0b6o33vLqbx"
      },
      "source": [
        "Taking Linear Combination of 'Horizontal_distance_to_roadways and 'Horizontal_distance_to_Firepoints'."
      ]
    },
    {
      "cell_type": "code",
      "metadata": {
        "id": "iL6BxSgEqWED"
      },
      "source": [
        "forest_a['Fire_Road'] = forest_a['Horizontal_Distance_To_Fire_Points'] + forest_a['Horizontal_Distance_To_Roadways']"
      ],
      "execution_count": null,
      "outputs": []
    },
    {
      "cell_type": "markdown",
      "metadata": {
        "id": "u3AUI62VMDjA"
      },
      "source": [
        "Taking average of all the horizontal distances columns. Fire_points, hydrology and roadways being the basic amenities affecting any vegetation."
      ]
    },
    {
      "cell_type": "code",
      "metadata": {
        "id": "Hkx6KFJksEUe"
      },
      "source": [
        "forest_a['Avg_Horizontal'] = (forest_a['Horizontal_Distance_To_Fire_Points'] + \n",
        "                              forest_a['Horizontal_Distance_To_Hydrology'] + \n",
        "                              forest_a['Horizontal_Distance_To_Roadways'])/3"
      ],
      "execution_count": null,
      "outputs": []
    },
    {
      "cell_type": "markdown",
      "metadata": {
        "id": "mh2sBnceMKaQ"
      },
      "source": [
        "Taking the average of 'Horizotal_Distance_to_Fire_points' and 'Horizontal_distance_to_hydrology' column.</b>"
      ]
    },
    {
      "cell_type": "code",
      "metadata": {
        "id": "_fwpipkxsEPE"
      },
      "source": [
        "forest_a['Fire_Hydr'] = (forest_a['Horizontal_Distance_To_Fire_Points'] + forest_a['Horizontal_Distance_To_Hydrology'])/2"
      ],
      "execution_count": null,
      "outputs": []
    },
    {
      "cell_type": "markdown",
      "metadata": {
        "id": "1Q8dIVOrMkcX"
      },
      "source": [
        "Calculating at what steepness the particular cover_type is located from hydrology"
      ]
    },
    {
      "cell_type": "code",
      "metadata": {
        "id": "kx6XGxf-tUEL"
      },
      "source": [
        "forest_a['Hydr_Slope'] = forest_a['Vertical_Distance_To_Hydrology']/forest_a['Horizontal_Distance_To_Hydrology']"
      ],
      "execution_count": null,
      "outputs": []
    },
    {
      "cell_type": "markdown",
      "metadata": {
        "id": "dqC4vw8NNCw3"
      },
      "source": [
        "converting the slope values into degrees and replacing all the null values with 0"
      ]
    },
    {
      "cell_type": "code",
      "metadata": {
        "id": "ZImJbUTc8KSh"
      },
      "source": [
        "from math import degrees\n",
        "a = []\n",
        "for i in forest_a['Hydr_Slope']:\n",
        "  a.append(degrees(np.arctan(i)))\n",
        "\n",
        "b = pd.DataFrame({'a':a})\n",
        "forest_a['Hydr_Slope'] = np.where(b['a'].isnull(),0,b['a'])\n",
        "forest_a['Hydr_Slope'].isnull().sum()  "
      ],
      "execution_count": null,
      "outputs": []
    },
    {
      "cell_type": "markdown",
      "metadata": {
        "id": "YpE4Ur8nNu7F"
      },
      "source": [
        "Making a list of all numerical Columns and storing it in a variable 'quant_col'"
      ]
    },
    {
      "cell_type": "code",
      "metadata": {
        "id": "Gu7OzSp6vgb5",
        "colab": {
          "base_uri": "https://localhost:8080/",
          "height": 322
        },
        "outputId": "65320fe5-3771-4219-f5fe-d78ead2dd933"
      },
      "source": [
        "quant_col = list(forest_a.columns[:10])\n",
        "quant_col.extend(forest_a.columns[::-1][:7])\n",
        "quant_col"
      ],
      "execution_count": null,
      "outputs": [
        {
          "output_type": "execute_result",
          "data": {
            "text/plain": [
              "['Elevation',\n",
              " 'Aspect',\n",
              " 'Slope',\n",
              " 'Horizontal_Distance_To_Hydrology',\n",
              " 'Vertical_Distance_To_Hydrology',\n",
              " 'Horizontal_Distance_To_Roadways',\n",
              " 'Hillshade_9am',\n",
              " 'Hillshade_Noon',\n",
              " 'Hillshade_3pm',\n",
              " 'Horizontal_Distance_To_Fire_Points',\n",
              " 'Hydr_Slope',\n",
              " 'Fire_Hydr',\n",
              " 'Avg_Horizontal',\n",
              " 'Fire_Road',\n",
              " 'Hillshades',\n",
              " 'Hydr_Dist',\n",
              " 'Vertical_Scaled']"
            ]
          },
          "metadata": {
            "tags": []
          },
          "execution_count": 18
        }
      ]
    },
    {
      "cell_type": "code",
      "metadata": {
        "id": "2K85wJhWhb9C",
        "colab": {
          "base_uri": "https://localhost:8080/",
          "height": 502
        },
        "outputId": "25a71650-ca4b-4844-c834-0479d0ee84f2"
      },
      "source": [
        "forest_a.info()"
      ],
      "execution_count": null,
      "outputs": [
        {
          "output_type": "stream",
          "text": [
            "<class 'pandas.core.frame.DataFrame'>\n",
            "RangeIndex: 581012 entries, 0 to 581011\n",
            "Data columns (total 20 columns):\n",
            " #   Column                              Non-Null Count   Dtype   \n",
            "---  ------                              --------------   -----   \n",
            " 0   Elevation                           581012 non-null  int64   \n",
            " 1   Aspect                              581012 non-null  int64   \n",
            " 2   Slope                               581012 non-null  int64   \n",
            " 3   Horizontal_Distance_To_Hydrology    581012 non-null  int64   \n",
            " 4   Vertical_Distance_To_Hydrology      581012 non-null  int64   \n",
            " 5   Horizontal_Distance_To_Roadways     581012 non-null  int64   \n",
            " 6   Hillshade_9am                       581012 non-null  int64   \n",
            " 7   Hillshade_Noon                      581012 non-null  int64   \n",
            " 8   Hillshade_3pm                       581012 non-null  int64   \n",
            " 9   Horizontal_Distance_To_Fire_Points  581012 non-null  int64   \n",
            " 10  Cover_Type                          581012 non-null  category\n",
            " 11  Wilderness                          581012 non-null  category\n",
            " 12  Soil                                581012 non-null  category\n",
            " 13  Vertical_Scaled                     581012 non-null  int64   \n",
            " 14  Hydr_Dist                           581012 non-null  float64 \n",
            " 15  Hillshades                          581012 non-null  float64 \n",
            " 16  Fire_Road                           581012 non-null  int64   \n",
            " 17  Avg_Horizontal                      581012 non-null  float64 \n",
            " 18  Fire_Hydr                           581012 non-null  float64 \n",
            " 19  Hydr_Slope                          581012 non-null  float64 \n",
            "dtypes: category(3), float64(5), int64(12)\n",
            "memory usage: 77.0 MB\n"
          ],
          "name": "stdout"
        }
      ]
    },
    {
      "cell_type": "markdown",
      "metadata": {
        "id": "VsN7mqeofQZz"
      },
      "source": [
        "## Modelling after Feature Engineering"
      ]
    },
    {
      "cell_type": "markdown",
      "metadata": {
        "id": "RyJ_dApGgdXE"
      },
      "source": [
        "### Decision Tree"
      ]
    },
    {
      "cell_type": "code",
      "metadata": {
        "id": "ZmS1NyB9cEK1"
      },
      "source": [
        "from sklearn.model_selection import train_test_split\n",
        "from sklearn.metrics import classification_report, confusion_matrix, accuracy_score\n",
        "from sklearn.tree import DecisionTreeClassifier\n",
        "import warnings\n",
        "warnings.filterwarnings(\"ignore\")"
      ],
      "execution_count": null,
      "outputs": []
    },
    {
      "cell_type": "markdown",
      "metadata": {
        "id": "GqohThQ9Jz-Y"
      },
      "source": [
        "Dividing data into x (independent variable) and y (dependent variable) and then splitting data to train and test in 7:3 ratio"
      ]
    },
    {
      "cell_type": "code",
      "metadata": {
        "id": "fw3J3DOLfhGu"
      },
      "source": [
        "x = forest_a.drop(columns = ['Cover_Type','Vertical_Scaled'])\n",
        "y = forest_a['Cover_Type']"
      ],
      "execution_count": null,
      "outputs": []
    },
    {
      "cell_type": "code",
      "metadata": {
        "id": "4gs8g0gpfs4H"
      },
      "source": [
        "x_train, x_test, y_train, y_test = train_test_split(x, y, test_size = .3, random_state=25)"
      ],
      "execution_count": null,
      "outputs": []
    },
    {
      "cell_type": "code",
      "metadata": {
        "id": "tp8u95lTZTnL",
        "colab": {
          "base_uri": "https://localhost:8080/",
          "height": 124
        },
        "outputId": "d6e2028c-f5dc-40ac-c3b1-be5d63682a50"
      },
      "source": [
        "dt = DecisionTreeClassifier(criterion = \"entropy\", \n",
        "                                  random_state = 25,\n",
        "                                  max_depth=19, \n",
        "                                  min_samples_leaf=10,\n",
        "                                  min_samples_split=10)\n",
        "dt.fit(x_train, y_train)"
      ],
      "execution_count": null,
      "outputs": [
        {
          "output_type": "execute_result",
          "data": {
            "text/plain": [
              "DecisionTreeClassifier(ccp_alpha=0.0, class_weight=None, criterion='entropy',\n",
              "                       max_depth=19, max_features=None, max_leaf_nodes=None,\n",
              "                       min_impurity_decrease=0.0, min_impurity_split=None,\n",
              "                       min_samples_leaf=10, min_samples_split=10,\n",
              "                       min_weight_fraction_leaf=0.0, presort='deprecated',\n",
              "                       random_state=25, splitter='best')"
            ]
          },
          "metadata": {
            "tags": []
          },
          "execution_count": 25
        }
      ]
    },
    {
      "cell_type": "code",
      "metadata": {
        "id": "zNVTwIzDZTnO",
        "colab": {
          "base_uri": "https://localhost:8080/",
          "height": 52
        },
        "outputId": "65314a2c-27f8-49fd-b7f6-fd3597cf6c67"
      },
      "source": [
        "print('Training Score:',dt.score(x_train, y_train))\n",
        "print('Testing Score:',dt.score(x_test, y_test))"
      ],
      "execution_count": null,
      "outputs": [
        {
          "output_type": "stream",
          "text": [
            "Training Score: 0.9350861060023408\n",
            "Testing Score: 0.9073802092895171\n"
          ],
          "name": "stdout"
        }
      ]
    },
    {
      "cell_type": "code",
      "metadata": {
        "id": "uqo--nxsf3yb",
        "colab": {
          "base_uri": "https://localhost:8080/",
          "height": 394
        },
        "outputId": "ad5125a4-1fa7-4695-fc8c-63e1530db03b"
      },
      "source": [
        "y_pred = dt.predict(x_test)\n",
        "print(classification_report(y_test,y_pred))\n",
        "print(confusion_matrix(y_test,y_pred))"
      ],
      "execution_count": null,
      "outputs": [
        {
          "output_type": "stream",
          "text": [
            "              precision    recall  f1-score   support\n",
            "\n",
            "           1       0.90      0.90      0.90     63514\n",
            "           2       0.92      0.92      0.92     85045\n",
            "           3       0.90      0.91      0.91     10747\n",
            "           4       0.83      0.80      0.82       804\n",
            "           5       0.79      0.76      0.78      2844\n",
            "           6       0.85      0.82      0.83      5235\n",
            "           7       0.95      0.91      0.93      6115\n",
            "\n",
            "    accuracy                           0.91    174304\n",
            "   macro avg       0.88      0.86      0.87    174304\n",
            "weighted avg       0.91      0.91      0.91    174304\n",
            "\n",
            "[[57123  6035     8     0    82    10   256]\n",
            " [ 5470 78565   271     2   461   228    48]\n",
            " [    5   347  9822    83    20   470     0]\n",
            " [    0     4   125   641     0    34     0]\n",
            " [   55   559    45     0  2168    17     0]\n",
            " [   10   243   642    42    15  4283     0]\n",
            " [  511    45     1     0     0     0  5558]]\n"
          ],
          "name": "stdout"
        }
      ]
    },
    {
      "cell_type": "code",
      "metadata": {
        "id": "uT-ESofqPC1Q",
        "colab": {
          "base_uri": "https://localhost:8080/",
          "height": 559
        },
        "outputId": "62771890-4ef7-47c0-bbb2-63f8ad0ba1fa"
      },
      "source": [
        "pd.DataFrame({'columns':x.columns,'Importance':dt.feature_importances_})"
      ],
      "execution_count": null,
      "outputs": [
        {
          "output_type": "execute_result",
          "data": {
            "text/html": [
              "<div>\n",
              "<style scoped>\n",
              "    .dataframe tbody tr th:only-of-type {\n",
              "        vertical-align: middle;\n",
              "    }\n",
              "\n",
              "    .dataframe tbody tr th {\n",
              "        vertical-align: top;\n",
              "    }\n",
              "\n",
              "    .dataframe thead th {\n",
              "        text-align: right;\n",
              "    }\n",
              "</style>\n",
              "<table border=\"1\" class=\"dataframe\">\n",
              "  <thead>\n",
              "    <tr style=\"text-align: right;\">\n",
              "      <th></th>\n",
              "      <th>columns</th>\n",
              "      <th>Importance</th>\n",
              "    </tr>\n",
              "  </thead>\n",
              "  <tbody>\n",
              "    <tr>\n",
              "      <th>0</th>\n",
              "      <td>Elevation</td>\n",
              "      <td>0.423029</td>\n",
              "    </tr>\n",
              "    <tr>\n",
              "      <th>1</th>\n",
              "      <td>Aspect</td>\n",
              "      <td>0.013222</td>\n",
              "    </tr>\n",
              "    <tr>\n",
              "      <th>2</th>\n",
              "      <td>Slope</td>\n",
              "      <td>0.006725</td>\n",
              "    </tr>\n",
              "    <tr>\n",
              "      <th>3</th>\n",
              "      <td>Horizontal_Distance_To_Hydrology</td>\n",
              "      <td>0.013419</td>\n",
              "    </tr>\n",
              "    <tr>\n",
              "      <th>4</th>\n",
              "      <td>Vertical_Distance_To_Hydrology</td>\n",
              "      <td>0.018751</td>\n",
              "    </tr>\n",
              "    <tr>\n",
              "      <th>5</th>\n",
              "      <td>Horizontal_Distance_To_Roadways</td>\n",
              "      <td>0.075299</td>\n",
              "    </tr>\n",
              "    <tr>\n",
              "      <th>6</th>\n",
              "      <td>Hillshade_9am</td>\n",
              "      <td>0.022921</td>\n",
              "    </tr>\n",
              "    <tr>\n",
              "      <th>7</th>\n",
              "      <td>Hillshade_Noon</td>\n",
              "      <td>0.018160</td>\n",
              "    </tr>\n",
              "    <tr>\n",
              "      <th>8</th>\n",
              "      <td>Hillshade_3pm</td>\n",
              "      <td>0.009535</td>\n",
              "    </tr>\n",
              "    <tr>\n",
              "      <th>9</th>\n",
              "      <td>Horizontal_Distance_To_Fire_Points</td>\n",
              "      <td>0.054952</td>\n",
              "    </tr>\n",
              "    <tr>\n",
              "      <th>10</th>\n",
              "      <td>Wilderness</td>\n",
              "      <td>0.032410</td>\n",
              "    </tr>\n",
              "    <tr>\n",
              "      <th>11</th>\n",
              "      <td>Soil</td>\n",
              "      <td>0.118924</td>\n",
              "    </tr>\n",
              "    <tr>\n",
              "      <th>12</th>\n",
              "      <td>Hydr_Dist</td>\n",
              "      <td>0.029037</td>\n",
              "    </tr>\n",
              "    <tr>\n",
              "      <th>13</th>\n",
              "      <td>Hillshades</td>\n",
              "      <td>0.006389</td>\n",
              "    </tr>\n",
              "    <tr>\n",
              "      <th>14</th>\n",
              "      <td>Fire_Road</td>\n",
              "      <td>0.061677</td>\n",
              "    </tr>\n",
              "    <tr>\n",
              "      <th>15</th>\n",
              "      <td>Avg_Horizontal</td>\n",
              "      <td>0.039541</td>\n",
              "    </tr>\n",
              "    <tr>\n",
              "      <th>16</th>\n",
              "      <td>Fire_Hydr</td>\n",
              "      <td>0.040692</td>\n",
              "    </tr>\n",
              "    <tr>\n",
              "      <th>17</th>\n",
              "      <td>Hydr_Slope</td>\n",
              "      <td>0.015316</td>\n",
              "    </tr>\n",
              "  </tbody>\n",
              "</table>\n",
              "</div>"
            ],
            "text/plain": [
              "                               columns  Importance\n",
              "0                            Elevation    0.423029\n",
              "1                               Aspect    0.013222\n",
              "2                                Slope    0.006725\n",
              "3     Horizontal_Distance_To_Hydrology    0.013419\n",
              "4       Vertical_Distance_To_Hydrology    0.018751\n",
              "5      Horizontal_Distance_To_Roadways    0.075299\n",
              "6                        Hillshade_9am    0.022921\n",
              "7                       Hillshade_Noon    0.018160\n",
              "8                        Hillshade_3pm    0.009535\n",
              "9   Horizontal_Distance_To_Fire_Points    0.054952\n",
              "10                          Wilderness    0.032410\n",
              "11                                Soil    0.118924\n",
              "12                           Hydr_Dist    0.029037\n",
              "13                          Hillshades    0.006389\n",
              "14                           Fire_Road    0.061677\n",
              "15                      Avg_Horizontal    0.039541\n",
              "16                           Fire_Hydr    0.040692\n",
              "17                          Hydr_Slope    0.015316"
            ]
          },
          "metadata": {
            "tags": []
          },
          "execution_count": 28
        }
      ]
    },
    {
      "cell_type": "markdown",
      "metadata": {
        "id": "ObcA2x11ghSx"
      },
      "source": [
        "### Random Forest"
      ]
    },
    {
      "cell_type": "code",
      "metadata": {
        "id": "ofzOkw66rhnm"
      },
      "source": [
        "from sklearn.ensemble import RandomForestClassifier"
      ],
      "execution_count": null,
      "outputs": []
    },
    {
      "cell_type": "code",
      "metadata": {
        "id": "vX9VAB2Jrhoe",
        "colab": {
          "base_uri": "https://localhost:8080/",
          "height": 160
        },
        "outputId": "be3ac3a6-374d-48e4-9c87-a9f7ab80a675"
      },
      "source": [
        "rforest = RandomForestClassifier(criterion = \"entropy\", \n",
        "                                  random_state = 25,\n",
        "                                  max_depth=19, \n",
        "                                  min_samples_leaf=10,\n",
        "                                  min_samples_split=10)\n",
        "rforest.fit(x_train, y_train)"
      ],
      "execution_count": null,
      "outputs": [
        {
          "output_type": "execute_result",
          "data": {
            "text/plain": [
              "RandomForestClassifier(bootstrap=True, ccp_alpha=0.0, class_weight=None,\n",
              "                       criterion='entropy', max_depth=19, max_features='auto',\n",
              "                       max_leaf_nodes=None, max_samples=None,\n",
              "                       min_impurity_decrease=0.0, min_impurity_split=None,\n",
              "                       min_samples_leaf=10, min_samples_split=10,\n",
              "                       min_weight_fraction_leaf=0.0, n_estimators=100,\n",
              "                       n_jobs=None, oob_score=False, random_state=25, verbose=0,\n",
              "                       warm_start=False)"
            ]
          },
          "metadata": {
            "tags": []
          },
          "execution_count": 30
        }
      ]
    },
    {
      "cell_type": "code",
      "metadata": {
        "id": "CNSSvym9rhou",
        "colab": {
          "base_uri": "https://localhost:8080/",
          "height": 52
        },
        "outputId": "6b84c065-4b52-4838-cc30-2d2d2796cab9"
      },
      "source": [
        "print('Training Score:',rforest.score(x_train, y_train))\n",
        "print('Testing Score:',rforest.score(x_test, y_test))"
      ],
      "execution_count": null,
      "outputs": [
        {
          "output_type": "stream",
          "text": [
            "Training Score: 0.9648420980162672\n",
            "Testing Score: 0.9435124839361116\n"
          ],
          "name": "stdout"
        }
      ]
    },
    {
      "cell_type": "code",
      "metadata": {
        "id": "2uLlAYcLrho5",
        "colab": {
          "base_uri": "https://localhost:8080/",
          "height": 394
        },
        "outputId": "15d2f826-cc84-41b3-f90a-23436e3025fe"
      },
      "source": [
        "y_pred = rforest.predict(x_test)\n",
        "print(classification_report(y_test,y_pred))\n",
        "print(confusion_matrix(y_test,y_pred))"
      ],
      "execution_count": null,
      "outputs": [
        {
          "output_type": "stream",
          "text": [
            "              precision    recall  f1-score   support\n",
            "\n",
            "           1       0.95      0.93      0.94     63514\n",
            "           2       0.94      0.97      0.95     85045\n",
            "           3       0.93      0.96      0.94     10747\n",
            "           4       0.91      0.85      0.88       804\n",
            "           5       0.94      0.72      0.81      2844\n",
            "           6       0.93      0.87      0.90      5235\n",
            "           7       0.97      0.93      0.95      6115\n",
            "\n",
            "    accuracy                           0.94    174304\n",
            "   macro avg       0.94      0.89      0.91    174304\n",
            "weighted avg       0.94      0.94      0.94    174304\n",
            "\n",
            "[[58887  4481     1     0    17     3   125]\n",
            " [ 2357 82272   172     4   113   104    23]\n",
            " [    1   185 10318    39     5   199     0]\n",
            " [    0     0   106   684     0    14     0]\n",
            " [   35   695    53     0  2050    11     0]\n",
            " [    0   202   441    26     4  4562     0]\n",
            " [  394    36     0     0     0     0  5685]]\n"
          ],
          "name": "stdout"
        }
      ]
    },
    {
      "cell_type": "code",
      "metadata": {
        "id": "YCtSERZavSb5",
        "colab": {
          "base_uri": "https://localhost:8080/",
          "height": 559
        },
        "outputId": "cc977a70-dbab-41a7-fdfb-81b9dea01cc3"
      },
      "source": [
        "pd.DataFrame({'columns':x.columns,'Importance':rforest.feature_importances_})"
      ],
      "execution_count": null,
      "outputs": [
        {
          "output_type": "execute_result",
          "data": {
            "text/html": [
              "<div>\n",
              "<style scoped>\n",
              "    .dataframe tbody tr th:only-of-type {\n",
              "        vertical-align: middle;\n",
              "    }\n",
              "\n",
              "    .dataframe tbody tr th {\n",
              "        vertical-align: top;\n",
              "    }\n",
              "\n",
              "    .dataframe thead th {\n",
              "        text-align: right;\n",
              "    }\n",
              "</style>\n",
              "<table border=\"1\" class=\"dataframe\">\n",
              "  <thead>\n",
              "    <tr style=\"text-align: right;\">\n",
              "      <th></th>\n",
              "      <th>columns</th>\n",
              "      <th>Importance</th>\n",
              "    </tr>\n",
              "  </thead>\n",
              "  <tbody>\n",
              "    <tr>\n",
              "      <th>0</th>\n",
              "      <td>Elevation</td>\n",
              "      <td>0.280369</td>\n",
              "    </tr>\n",
              "    <tr>\n",
              "      <th>1</th>\n",
              "      <td>Aspect</td>\n",
              "      <td>0.021407</td>\n",
              "    </tr>\n",
              "    <tr>\n",
              "      <th>2</th>\n",
              "      <td>Slope</td>\n",
              "      <td>0.011833</td>\n",
              "    </tr>\n",
              "    <tr>\n",
              "      <th>3</th>\n",
              "      <td>Horizontal_Distance_To_Hydrology</td>\n",
              "      <td>0.021981</td>\n",
              "    </tr>\n",
              "    <tr>\n",
              "      <th>4</th>\n",
              "      <td>Vertical_Distance_To_Hydrology</td>\n",
              "      <td>0.021473</td>\n",
              "    </tr>\n",
              "    <tr>\n",
              "      <th>5</th>\n",
              "      <td>Horizontal_Distance_To_Roadways</td>\n",
              "      <td>0.065575</td>\n",
              "    </tr>\n",
              "    <tr>\n",
              "      <th>6</th>\n",
              "      <td>Hillshade_9am</td>\n",
              "      <td>0.020614</td>\n",
              "    </tr>\n",
              "    <tr>\n",
              "      <th>7</th>\n",
              "      <td>Hillshade_Noon</td>\n",
              "      <td>0.016448</td>\n",
              "    </tr>\n",
              "    <tr>\n",
              "      <th>8</th>\n",
              "      <td>Hillshade_3pm</td>\n",
              "      <td>0.015824</td>\n",
              "    </tr>\n",
              "    <tr>\n",
              "      <th>9</th>\n",
              "      <td>Horizontal_Distance_To_Fire_Points</td>\n",
              "      <td>0.049737</td>\n",
              "    </tr>\n",
              "    <tr>\n",
              "      <th>10</th>\n",
              "      <td>Wilderness</td>\n",
              "      <td>0.056165</td>\n",
              "    </tr>\n",
              "    <tr>\n",
              "      <th>11</th>\n",
              "      <td>Soil</td>\n",
              "      <td>0.180493</td>\n",
              "    </tr>\n",
              "    <tr>\n",
              "      <th>12</th>\n",
              "      <td>Hydr_Dist</td>\n",
              "      <td>0.025207</td>\n",
              "    </tr>\n",
              "    <tr>\n",
              "      <th>13</th>\n",
              "      <td>Hillshades</td>\n",
              "      <td>0.013669</td>\n",
              "    </tr>\n",
              "    <tr>\n",
              "      <th>14</th>\n",
              "      <td>Fire_Road</td>\n",
              "      <td>0.065077</td>\n",
              "    </tr>\n",
              "    <tr>\n",
              "      <th>15</th>\n",
              "      <td>Avg_Horizontal</td>\n",
              "      <td>0.061895</td>\n",
              "    </tr>\n",
              "    <tr>\n",
              "      <th>16</th>\n",
              "      <td>Fire_Hydr</td>\n",
              "      <td>0.049570</td>\n",
              "    </tr>\n",
              "    <tr>\n",
              "      <th>17</th>\n",
              "      <td>Hydr_Slope</td>\n",
              "      <td>0.022664</td>\n",
              "    </tr>\n",
              "  </tbody>\n",
              "</table>\n",
              "</div>"
            ],
            "text/plain": [
              "                               columns  Importance\n",
              "0                            Elevation    0.280369\n",
              "1                               Aspect    0.021407\n",
              "2                                Slope    0.011833\n",
              "3     Horizontal_Distance_To_Hydrology    0.021981\n",
              "4       Vertical_Distance_To_Hydrology    0.021473\n",
              "5      Horizontal_Distance_To_Roadways    0.065575\n",
              "6                        Hillshade_9am    0.020614\n",
              "7                       Hillshade_Noon    0.016448\n",
              "8                        Hillshade_3pm    0.015824\n",
              "9   Horizontal_Distance_To_Fire_Points    0.049737\n",
              "10                          Wilderness    0.056165\n",
              "11                                Soil    0.180493\n",
              "12                           Hydr_Dist    0.025207\n",
              "13                          Hillshades    0.013669\n",
              "14                           Fire_Road    0.065077\n",
              "15                      Avg_Horizontal    0.061895\n",
              "16                           Fire_Hydr    0.049570\n",
              "17                          Hydr_Slope    0.022664"
            ]
          },
          "metadata": {
            "tags": []
          },
          "execution_count": 33
        }
      ]
    },
    {
      "cell_type": "markdown",
      "metadata": {
        "id": "6JyxSmEOhGas"
      },
      "source": [
        "### KNN"
      ]
    },
    {
      "cell_type": "markdown",
      "metadata": {
        "id": "eYR0WLUqK5Qt"
      },
      "source": [
        "*   scaling all numerical columns and saving it in a dataframe 'x_std'\n",
        "*   concatenating all the independent data into a dataframe 'x_' \n",
        "*   dividing data to x_ (independent variable) and y_ (dependent variable)\n",
        "*   splitting data into train and test in 7:3 ratio\n"
      ]
    },
    {
      "cell_type": "code",
      "metadata": {
        "id": "1mcLH-axZTnz",
        "colab": {
          "base_uri": "https://localhost:8080/"
        },
        "outputId": "79462040-8526-4ca3-896d-5b487b4d9d59"
      },
      "source": [
        "from sklearn.preprocessing import StandardScaler\n",
        "\n",
        "x1 = forest_a.drop(columns= ['Cover_Type','Soil','Wilderness','Vertical_Scaled'])\n",
        "y_ = forest_a['Cover_Type']\n",
        "\n",
        "x_std = StandardScaler().fit_transform(x1)\n",
        "\n",
        "x_std = pd.DataFrame(x_std, columns = x1.columns)\n",
        "\n",
        "x_ = pd.concat([x_std,forest_a[['Soil','Wilderness']]], axis = 1)\n",
        "x_.head()"
      ],
      "execution_count": null,
      "outputs": [
        {
          "output_type": "execute_result",
          "data": {
            "text/html": [
              "<div>\n",
              "<style scoped>\n",
              "    .dataframe tbody tr th:only-of-type {\n",
              "        vertical-align: middle;\n",
              "    }\n",
              "\n",
              "    .dataframe tbody tr th {\n",
              "        vertical-align: top;\n",
              "    }\n",
              "\n",
              "    .dataframe thead th {\n",
              "        text-align: right;\n",
              "    }\n",
              "</style>\n",
              "<table border=\"1\" class=\"dataframe\">\n",
              "  <thead>\n",
              "    <tr style=\"text-align: right;\">\n",
              "      <th></th>\n",
              "      <th>Elevation</th>\n",
              "      <th>Aspect</th>\n",
              "      <th>Slope</th>\n",
              "      <th>Horizontal_Distance_To_Hydrology</th>\n",
              "      <th>Vertical_Distance_To_Hydrology</th>\n",
              "      <th>Horizontal_Distance_To_Roadways</th>\n",
              "      <th>Hillshade_9am</th>\n",
              "      <th>Hillshade_Noon</th>\n",
              "      <th>Hillshade_3pm</th>\n",
              "      <th>Horizontal_Distance_To_Fire_Points</th>\n",
              "      <th>Hydr_Dist</th>\n",
              "      <th>Hillshades</th>\n",
              "      <th>Fire_Road</th>\n",
              "      <th>Avg_Horizontal</th>\n",
              "      <th>Fire_Hydr</th>\n",
              "      <th>Hydr_Slope</th>\n",
              "      <th>Soil</th>\n",
              "      <th>Wilderness</th>\n",
              "    </tr>\n",
              "  </thead>\n",
              "  <tbody>\n",
              "    <tr>\n",
              "      <th>0</th>\n",
              "      <td>-1.297805</td>\n",
              "      <td>-0.935157</td>\n",
              "      <td>-1.482820</td>\n",
              "      <td>-0.053767</td>\n",
              "      <td>-0.796273</td>\n",
              "      <td>-1.180146</td>\n",
              "      <td>0.330743</td>\n",
              "      <td>0.439143</td>\n",
              "      <td>0.142960</td>\n",
              "      <td>3.246283</td>\n",
              "      <td>-0.083233</td>\n",
              "      <td>0.530152</td>\n",
              "      <td>1.043224</td>\n",
              "      <td>1.027143</td>\n",
              "      <td>3.171097</td>\n",
              "      <td>-1.041587</td>\n",
              "      <td>29</td>\n",
              "      <td>1</td>\n",
              "    </tr>\n",
              "    <tr>\n",
              "      <th>1</th>\n",
              "      <td>-1.319235</td>\n",
              "      <td>-0.890480</td>\n",
              "      <td>-1.616363</td>\n",
              "      <td>-0.270188</td>\n",
              "      <td>-0.899197</td>\n",
              "      <td>-1.257106</td>\n",
              "      <td>0.293388</td>\n",
              "      <td>0.590899</td>\n",
              "      <td>0.221342</td>\n",
              "      <td>3.205504</td>\n",
              "      <td>-0.294777</td>\n",
              "      <td>0.645367</td>\n",
              "      <td>0.969391</td>\n",
              "      <td>0.934802</td>\n",
              "      <td>3.097132</td>\n",
              "      <td>-1.228740</td>\n",
              "      <td>29</td>\n",
              "      <td>1</td>\n",
              "    </tr>\n",
              "    <tr>\n",
              "      <th>2</th>\n",
              "      <td>-0.554907</td>\n",
              "      <td>-0.148836</td>\n",
              "      <td>-0.681563</td>\n",
              "      <td>-0.006719</td>\n",
              "      <td>0.318742</td>\n",
              "      <td>0.532212</td>\n",
              "      <td>0.816364</td>\n",
              "      <td>0.742654</td>\n",
              "      <td>-0.196691</td>\n",
              "      <td>3.126965</td>\n",
              "      <td>-0.001362</td>\n",
              "      <td>0.668410</td>\n",
              "      <td>2.109122</td>\n",
              "      <td>2.085710</td>\n",
              "      <td>3.061629</td>\n",
              "      <td>0.532279</td>\n",
              "      <td>12</td>\n",
              "      <td>1</td>\n",
              "    </tr>\n",
              "    <tr>\n",
              "      <th>3</th>\n",
              "      <td>-0.622768</td>\n",
              "      <td>-0.005869</td>\n",
              "      <td>0.520322</td>\n",
              "      <td>-0.129044</td>\n",
              "      <td>1.227908</td>\n",
              "      <td>0.474492</td>\n",
              "      <td>0.965786</td>\n",
              "      <td>0.742654</td>\n",
              "      <td>-0.536343</td>\n",
              "      <td>3.194931</td>\n",
              "      <td>-0.031466</td>\n",
              "      <td>0.461022</td>\n",
              "      <td>2.109122</td>\n",
              "      <td>2.074797</td>\n",
              "      <td>3.108966</td>\n",
              "      <td>1.959275</td>\n",
              "      <td>30</td>\n",
              "      <td>1</td>\n",
              "    </tr>\n",
              "    <tr>\n",
              "      <th>4</th>\n",
              "      <td>-1.301377</td>\n",
              "      <td>-0.988770</td>\n",
              "      <td>-1.616363</td>\n",
              "      <td>-0.547771</td>\n",
              "      <td>-0.813427</td>\n",
              "      <td>-1.256464</td>\n",
              "      <td>0.293388</td>\n",
              "      <td>0.540313</td>\n",
              "      <td>0.195215</td>\n",
              "      <td>3.165479</td>\n",
              "      <td>-0.566983</td>\n",
              "      <td>0.599281</td>\n",
              "      <td>0.947327</td>\n",
              "      <td>0.888212</td>\n",
              "      <td>3.014291</td>\n",
              "      <td>-1.084819</td>\n",
              "      <td>29</td>\n",
              "      <td>1</td>\n",
              "    </tr>\n",
              "  </tbody>\n",
              "</table>\n",
              "</div>"
            ],
            "text/plain": [
              "   Elevation    Aspect     Slope  ...  Hydr_Slope  Soil  Wilderness\n",
              "0  -1.297805 -0.935157 -1.482820  ...   -1.041587    29           1\n",
              "1  -1.319235 -0.890480 -1.616363  ...   -1.228740    29           1\n",
              "2  -0.554907 -0.148836 -0.681563  ...    0.532279    12           1\n",
              "3  -0.622768 -0.005869  0.520322  ...    1.959275    30           1\n",
              "4  -1.301377 -0.988770 -1.616363  ...   -1.084819    29           1\n",
              "\n",
              "[5 rows x 18 columns]"
            ]
          },
          "metadata": {
            "tags": []
          },
          "execution_count": 27
        }
      ]
    },
    {
      "cell_type": "code",
      "metadata": {
        "id": "wfLAlvd-ZTn7"
      },
      "source": [
        "x_train_k, x_test_k, y_train_k, y_test_k = train_test_split(x_, y_, test_size = .3, random_state=25)"
      ],
      "execution_count": null,
      "outputs": []
    },
    {
      "cell_type": "code",
      "metadata": {
        "id": "91k6M8fjZToF"
      },
      "source": [
        "from sklearn.neighbors import KNeighborsClassifier"
      ],
      "execution_count": null,
      "outputs": []
    },
    {
      "cell_type": "code",
      "metadata": {
        "id": "BUu-W88FZToQ"
      },
      "source": [
        "knn = KNeighborsClassifier(metric = 'cityblock', n_neighbors= 4, weights= 'distance')\n",
        "knn.fit(x_train_k,y_train_k)\n",
        "y_pred_k = knn.predict(x_test_k)"
      ],
      "execution_count": null,
      "outputs": []
    },
    {
      "cell_type": "code",
      "metadata": {
        "id": "zi4p1oA3oUPn",
        "colab": {
          "base_uri": "https://localhost:8080/",
          "height": 52
        },
        "outputId": "556972e8-d8d0-4d6c-b1c5-7bc18f658ecb"
      },
      "source": [
        "print('Training Score:',knn.score(x_train_k,y_train_k))\n",
        "print('Testing Score:',knn.score(x_test_k,y_test_k))"
      ],
      "execution_count": null,
      "outputs": [
        {
          "output_type": "stream",
          "text": [
            "Training Score: 1.0\n",
            "Testing Score: 0.9477120433266017\n"
          ],
          "name": "stdout"
        }
      ]
    },
    {
      "cell_type": "code",
      "metadata": {
        "id": "sPN2fQ5WZToV",
        "colab": {
          "base_uri": "https://localhost:8080/",
          "height": 394
        },
        "outputId": "4ac46246-31de-4da5-f7f7-79c39810ef16"
      },
      "source": [
        "print(classification_report(y_test_k, y_pred_k))\n",
        "print(confusion_matrix(y_test_k, y_pred_k))"
      ],
      "execution_count": null,
      "outputs": [
        {
          "output_type": "stream",
          "text": [
            "              precision    recall  f1-score   support\n",
            "\n",
            "           1       0.95      0.95      0.95     63514\n",
            "           2       0.95      0.96      0.96     85045\n",
            "           3       0.93      0.93      0.93     10747\n",
            "           4       0.87      0.86      0.87       804\n",
            "           5       0.86      0.84      0.85      2844\n",
            "           6       0.87      0.88      0.87      5235\n",
            "           7       0.96      0.95      0.96      6115\n",
            "\n",
            "    accuracy                           0.95    174304\n",
            "   macro avg       0.91      0.91      0.91    174304\n",
            "weighted avg       0.95      0.95      0.95    174304\n",
            "\n",
            "[[60038  3189     2     0    45    20   220]\n",
            " [ 2683 81625   205     4   292   199    37]\n",
            " [    7   202 10009    65    32   432     0]\n",
            " [    0     2    72   695     0    35     0]\n",
            " [   50   358    29     0  2383    24     0]\n",
            " [    8   165   398    38    12  4614     0]\n",
            " [  256    33     0     0     0     0  5826]]\n"
          ],
          "name": "stdout"
        }
      ]
    },
    {
      "cell_type": "markdown",
      "metadata": {
        "id": "SJ6BHDF4hL5p"
      },
      "source": [
        "### Ensemble Techniques on data after feature enineering"
      ]
    },
    {
      "cell_type": "code",
      "metadata": {
        "id": "ft6ScT28hL5r"
      },
      "source": [
        "#base_LR = LogisticRegression(random_state = 25)\n",
        "base_DT = DecisionTreeClassifier(criterion = \"entropy\", \n",
        "                                  random_state = 25,\n",
        "                                  max_depth=19, \n",
        "                                  min_samples_leaf=10,\n",
        "                                  min_samples_split=10)\n",
        "#base_NB = GaussianNB()\n",
        "base_RF = RandomForestClassifier(criterion = \"entropy\", \n",
        "                                  random_state = 25,\n",
        "                                  max_depth=19, \n",
        "                                  min_samples_leaf=10,\n",
        "                                  min_samples_split=10)\n",
        "base_KNN = KNeighborsClassifier(metric = 'cityblock', \n",
        "                                n_neighbors= 4, \n",
        "                                weights= 'distance')"
      ],
      "execution_count": null,
      "outputs": []
    },
    {
      "cell_type": "markdown",
      "metadata": {
        "id": "nlt2vWg2hL5y"
      },
      "source": [
        "### Bagging"
      ]
    },
    {
      "cell_type": "code",
      "metadata": {
        "id": "LOPzFuK4hL5z"
      },
      "source": [
        "from sklearn.ensemble import BaggingClassifier"
      ],
      "execution_count": null,
      "outputs": []
    },
    {
      "cell_type": "markdown",
      "metadata": {
        "id": "cX9qNOb6hL6F"
      },
      "source": [
        "#### Decision Bag"
      ]
    },
    {
      "cell_type": "code",
      "metadata": {
        "id": "7Vbmd1juhL6G",
        "colab": {
          "base_uri": "https://localhost:8080/",
          "height": 322
        },
        "outputId": "89ea82a3-c427-442c-8c91-53a5d79185f6"
      },
      "source": [
        "bgcl_DT = BaggingClassifier(base_estimator=base_DT,n_estimators=51,oob_score=True,random_state=25)\n",
        "bgcl_DT.fit(x_train, y_train)"
      ],
      "execution_count": null,
      "outputs": [
        {
          "output_type": "execute_result",
          "data": {
            "text/plain": [
              "BaggingClassifier(base_estimator=DecisionTreeClassifier(ccp_alpha=0.0,\n",
              "                                                        class_weight=None,\n",
              "                                                        criterion='entropy',\n",
              "                                                        max_depth=19,\n",
              "                                                        max_features=None,\n",
              "                                                        max_leaf_nodes=None,\n",
              "                                                        min_impurity_decrease=0.0,\n",
              "                                                        min_impurity_split=None,\n",
              "                                                        min_samples_leaf=10,\n",
              "                                                        min_samples_split=10,\n",
              "                                                        min_weight_fraction_leaf=0.0,\n",
              "                                                        presort='deprecated',\n",
              "                                                        random_state=25,\n",
              "                                                        splitter='best'),\n",
              "                  bootstrap=True, bootstrap_features=False, max_features=1.0,\n",
              "                  max_samples=1.0, n_estimators=51, n_jobs=None, oob_score=True,\n",
              "                  random_state=25, verbose=0, warm_start=False)"
            ]
          },
          "metadata": {
            "tags": []
          },
          "execution_count": 42
        }
      ]
    },
    {
      "cell_type": "code",
      "metadata": {
        "id": "5Upe73i1hL6O",
        "colab": {
          "base_uri": "https://localhost:8080/",
          "height": 70
        },
        "outputId": "41657781-1b09-49ef-8898-2bbe019d3cf2"
      },
      "source": [
        "print('OOB SCORE:',bgcl_DT.oob_score_)\n",
        "print('Training Accuracy:',bgcl_DT.score(x_train,y_train))\n",
        "print('Testing Accuracy:',bgcl_DT.score(x_test,y_test))"
      ],
      "execution_count": null,
      "outputs": [
        {
          "output_type": "stream",
          "text": [
            "OOB SCORE: 0.9421181781523845\n",
            "Training Accuracy: 0.9677286898708656\n",
            "Testing Accuracy: 0.9455089957774921\n"
          ],
          "name": "stdout"
        }
      ]
    },
    {
      "cell_type": "code",
      "metadata": {
        "id": "Kc9zb6r7hL6T",
        "colab": {
          "base_uri": "https://localhost:8080/",
          "height": 394
        },
        "outputId": "61bdc27e-3559-4dc9-f825-b6722c217c12"
      },
      "source": [
        "print(classification_report(y_test,bgcl_DT.predict(x_test)))\n",
        "print(confusion_matrix(y_test,bgcl_DT.predict(x_test)))"
      ],
      "execution_count": null,
      "outputs": [
        {
          "output_type": "stream",
          "text": [
            "              precision    recall  f1-score   support\n",
            "\n",
            "           1       0.95      0.93      0.94     63514\n",
            "           2       0.94      0.96      0.95     85045\n",
            "           3       0.94      0.96      0.95     10747\n",
            "           4       0.90      0.85      0.88       804\n",
            "           5       0.91      0.77      0.84      2844\n",
            "           6       0.93      0.89      0.91      5235\n",
            "           7       0.97      0.93      0.95      6115\n",
            "\n",
            "    accuracy                           0.95    174304\n",
            "   macro avg       0.94      0.90      0.92    174304\n",
            "weighted avg       0.95      0.95      0.95    174304\n",
            "\n",
            "[[59374  3961     1     0    30     1   147]\n",
            " [ 2679 81905   161     4   160   103    33]\n",
            " [    2   188 10288    44    10   215     0]\n",
            " [    0     0   102   683     0    19     0]\n",
            " [   36   543    48     0  2195    22     0]\n",
            " [    4   144   398    25     4  4660     0]\n",
            " [  383    31     0     0     0     0  5701]]\n"
          ],
          "name": "stdout"
        }
      ]
    },
    {
      "cell_type": "markdown",
      "metadata": {
        "id": "01rNEge4hL6b"
      },
      "source": [
        "#### Random Forest Bag"
      ]
    },
    {
      "cell_type": "code",
      "metadata": {
        "id": "XXB6BYrMhL6c",
        "colab": {
          "base_uri": "https://localhost:8080/",
          "height": 412
        },
        "outputId": "2308172a-8ac7-409d-e017-7683e68b96d4"
      },
      "source": [
        "bgcl_RF = BaggingClassifier(base_estimator=base_RF,n_estimators=51,oob_score=True,random_state=25)\n",
        "bgcl_RF.fit(x_train, y_train)"
      ],
      "execution_count": null,
      "outputs": [
        {
          "output_type": "execute_result",
          "data": {
            "text/plain": [
              "BaggingClassifier(base_estimator=RandomForestClassifier(bootstrap=True,\n",
              "                                                        ccp_alpha=0.0,\n",
              "                                                        class_weight=None,\n",
              "                                                        criterion='entropy',\n",
              "                                                        max_depth=19,\n",
              "                                                        max_features='auto',\n",
              "                                                        max_leaf_nodes=None,\n",
              "                                                        max_samples=None,\n",
              "                                                        min_impurity_decrease=0.0,\n",
              "                                                        min_impurity_split=None,\n",
              "                                                        min_samples_leaf=10,\n",
              "                                                        min_samples_split=10,\n",
              "                                                        min_weight_fraction_leaf=0.0,\n",
              "                                                        n_estimators=100,\n",
              "                                                        n_jobs=None,\n",
              "                                                        oob_score=False,\n",
              "                                                        random_state=25,\n",
              "                                                        verbose=0,\n",
              "                                                        warm_start=False),\n",
              "                  bootstrap=True, bootstrap_features=False, max_features=1.0,\n",
              "                  max_samples=1.0, n_estimators=51, n_jobs=None, oob_score=True,\n",
              "                  random_state=25, verbose=0, warm_start=False)"
            ]
          },
          "metadata": {
            "tags": []
          },
          "execution_count": 45
        }
      ]
    },
    {
      "cell_type": "code",
      "metadata": {
        "id": "836PA9GJhL61",
        "colab": {
          "base_uri": "https://localhost:8080/",
          "height": 70
        },
        "outputId": "2d6a04d6-6e54-47f2-dd34-8c0bdd101c21"
      },
      "source": [
        "print('OOB SCORE:',bgcl_RF.oob_score_)\n",
        "print('Training Accuracy:',bgcl_RF.score(x_train,y_train))\n",
        "print('Testing Accuracy:',bgcl_RF.score(x_test,y_test))"
      ],
      "execution_count": null,
      "outputs": [
        {
          "output_type": "stream",
          "text": [
            "OOB SCORE: 0.9302816762886396\n",
            "Training Accuracy: 0.949125662637568\n",
            "Testing Accuracy: 0.930621213512025\n"
          ],
          "name": "stdout"
        }
      ]
    },
    {
      "cell_type": "code",
      "metadata": {
        "id": "G1oAJZifhL66",
        "colab": {
          "base_uri": "https://localhost:8080/",
          "height": 394
        },
        "outputId": "95e8d743-f05c-4da7-d4f8-ae0eeff4bc84"
      },
      "source": [
        "print(classification_report(y_test,bgcl_RF.predict(x_test)))\n",
        "print(confusion_matrix(y_test,bgcl_RF.predict(x_test)))"
      ],
      "execution_count": null,
      "outputs": [
        {
          "output_type": "stream",
          "text": [
            "              precision    recall  f1-score   support\n",
            "\n",
            "           1       0.94      0.91      0.93     63514\n",
            "           2       0.92      0.96      0.94     85045\n",
            "           3       0.91      0.95      0.93     10747\n",
            "           4       0.90      0.80      0.85       804\n",
            "           5       0.93      0.64      0.76      2844\n",
            "           6       0.92      0.84      0.88      5235\n",
            "           7       0.97      0.90      0.93      6115\n",
            "\n",
            "    accuracy                           0.93    174304\n",
            "   macro avg       0.93      0.86      0.89    174304\n",
            "weighted avg       0.93      0.93      0.93    174304\n",
            "\n",
            "[[58011  5328     1     0    16     8   150]\n",
            " [ 2924 81633   224     5   108   127    24]\n",
            " [    3   274 10192    41     2   235     0]\n",
            " [    0     0   144   644     0    16     0]\n",
            " [   40   925    49     0  1818    12     0]\n",
            " [    0   272   541    29     1  4392     0]\n",
            " [  555    39     0     0     0     0  5521]]\n"
          ],
          "name": "stdout"
        }
      ]
    },
    {
      "cell_type": "markdown",
      "metadata": {
        "id": "BDn3Bof-hL6_"
      },
      "source": [
        "#### KNN Bag"
      ]
    },
    {
      "cell_type": "code",
      "metadata": {
        "id": "ydzo2kzFhL7A",
        "colab": {
          "base_uri": "https://localhost:8080/",
          "height": 196
        },
        "outputId": "3e8c63c0-afd2-4eb7-846a-367c5ddeaaf6"
      },
      "source": [
        "bgcl_KN = BaggingClassifier(base_estimator=base_KNN,n_estimators=51,oob_score=True,random_state=25)\n",
        "bgcl_KN.fit(x_train_k, y_train_k)"
      ],
      "execution_count": null,
      "outputs": [
        {
          "output_type": "execute_result",
          "data": {
            "text/plain": [
              "BaggingClassifier(base_estimator=KNeighborsClassifier(algorithm='auto',\n",
              "                                                      leaf_size=30,\n",
              "                                                      metric='cityblock',\n",
              "                                                      metric_params=None,\n",
              "                                                      n_jobs=None,\n",
              "                                                      n_neighbors=4, p=2,\n",
              "                                                      weights='distance'),\n",
              "                  bootstrap=True, bootstrap_features=False, max_features=1.0,\n",
              "                  max_samples=1.0, n_estimators=51, n_jobs=None, oob_score=True,\n",
              "                  random_state=25, verbose=0, warm_start=False)"
            ]
          },
          "metadata": {
            "tags": []
          },
          "execution_count": 32
        }
      ]
    },
    {
      "cell_type": "code",
      "metadata": {
        "id": "9IzymgGBhL7G",
        "colab": {
          "base_uri": "https://localhost:8080/",
          "height": 70
        },
        "outputId": "ba5501bc-c42f-4a7c-81ea-d60d8cda23be"
      },
      "source": [
        "print('OOB SCORE:',bgcl_KN.oob_score_)\n",
        "print('Training Accuracy:',bgcl_KN.score(x_train_k,y_train_k))\n",
        "print('Testing Accuracy:',bgcl_KN.score(x_test_k,y_test_k))"
      ],
      "execution_count": null,
      "outputs": [
        {
          "output_type": "stream",
          "text": [
            "OOB SCORE: 0.9453268684166527\n",
            "Training Accuracy: 0.9998746029092125\n",
            "Testing Accuracy: 0.9468055810537911\n"
          ],
          "name": "stdout"
        }
      ]
    },
    {
      "cell_type": "code",
      "metadata": {
        "id": "nVljCba-hL7P",
        "colab": {
          "base_uri": "https://localhost:8080/",
          "height": 394
        },
        "outputId": "8a04e74f-37de-4328-b604-f9c764d3b388"
      },
      "source": [
        "print(classification_report(y_test_k,bgcl_KN.predict(x_test_k)))\n",
        "print(confusion_matrix(y_test_k,bgcl_KN.predict(x_test_k)))"
      ],
      "execution_count": null,
      "outputs": [
        {
          "output_type": "stream",
          "text": [
            "              precision    recall  f1-score   support\n",
            "\n",
            "           1       0.95      0.94      0.95     63514\n",
            "           2       0.95      0.96      0.96     85045\n",
            "           3       0.93      0.93      0.93     10747\n",
            "           4       0.86      0.85      0.86       804\n",
            "           5       0.87      0.83      0.85      2844\n",
            "           6       0.86      0.88      0.87      5235\n",
            "           7       0.96      0.95      0.95      6115\n",
            "\n",
            "    accuracy                           0.95    174304\n",
            "   macro avg       0.91      0.91      0.91    174304\n",
            "weighted avg       0.95      0.95      0.95    174304\n",
            "\n",
            "[[59949  3292     1     0    45    17   210]\n",
            " [ 2657 81644   211     6   280   207    40]\n",
            " [    8   202 10003    64    26   444     0]\n",
            " [    0     1    87   683     0    33     0]\n",
            " [   54   374    33     0  2358    24     1]\n",
            " [    8   188   408    37    11  4583     0]\n",
            " [  269    34     0     0     0     0  5812]]\n"
          ],
          "name": "stdout"
        }
      ]
    },
    {
      "cell_type": "markdown",
      "metadata": {
        "id": "lbOJDHpchL7W"
      },
      "source": [
        "### AdaBoost"
      ]
    },
    {
      "cell_type": "code",
      "metadata": {
        "id": "M0i8h8yMhL7y"
      },
      "source": [
        "from sklearn.ensemble import AdaBoostClassifier\n",
        "\n",
        "abcl_DT = AdaBoostClassifier(base_estimator=base_DT,n_estimators=50,random_state=25)\n",
        "\n",
        "abcl_RF = AdaBoostClassifier(base_estimator=base_RF,n_estimators=50,random_state=25)"
      ],
      "execution_count": null,
      "outputs": []
    },
    {
      "cell_type": "markdown",
      "metadata": {
        "id": "nIoOzN_qPHWr"
      },
      "source": [
        "#### Decision Tree"
      ]
    },
    {
      "cell_type": "code",
      "metadata": {
        "scrolled": true,
        "id": "DDAtAOaUhL73",
        "colab": {
          "base_uri": "https://localhost:8080/",
          "height": 52
        },
        "outputId": "d678552e-a497-4c91-ff12-ee3379add100"
      },
      "source": [
        "abcl_DT.fit(x_train,y_train)\n",
        "print('Training Accuracy:',abcl_DT.score(x_train,y_train))\n",
        "print('Testing Accuracy:',abcl_DT.score(x_test,y_test))"
      ],
      "execution_count": null,
      "outputs": [
        {
          "output_type": "stream",
          "text": [
            "Training Accuracy: 0.9999631185027096\n",
            "Testing Accuracy: 0.9589166054709014\n"
          ],
          "name": "stdout"
        }
      ]
    },
    {
      "cell_type": "code",
      "metadata": {
        "id": "kpElqq72hL79",
        "colab": {
          "base_uri": "https://localhost:8080/",
          "height": 394
        },
        "outputId": "55d1bfd0-de6f-4512-ac58-979d11177891"
      },
      "source": [
        "print(classification_report(y_test,abcl_DT.predict(x_test)))\n",
        "print(confusion_matrix(y_test,abcl_DT.predict(x_test)))"
      ],
      "execution_count": null,
      "outputs": [
        {
          "output_type": "stream",
          "text": [
            "              precision    recall  f1-score   support\n",
            "\n",
            "           1       0.96      0.95      0.96     63514\n",
            "           2       0.95      0.97      0.96     85045\n",
            "           3       0.96      0.97      0.96     10747\n",
            "           4       0.94      0.86      0.90       804\n",
            "           5       0.96      0.78      0.86      2844\n",
            "           6       0.95      0.92      0.94      5235\n",
            "           7       0.99      0.95      0.97      6115\n",
            "\n",
            "    accuracy                           0.96    174304\n",
            "   macro avg       0.96      0.91      0.94    174304\n",
            "weighted avg       0.96      0.96      0.96    174304\n",
            "\n",
            "[[60323  3106     0     0    14     2    69]\n",
            " [ 1934 82855   110     2    62    67    15]\n",
            " [    1   142 10445    19     7   133     0]\n",
            " [    0     0    89   693     0    22     0]\n",
            " [   29   568    29     0  2206    12     0]\n",
            " [    2   134   237    21     3  4838     0]\n",
            " [  303    29     0     0     0     0  5783]]\n"
          ],
          "name": "stdout"
        }
      ]
    },
    {
      "cell_type": "markdown",
      "metadata": {
        "id": "qOzIaECOPLYm"
      },
      "source": [
        "#### Random Forest"
      ]
    },
    {
      "cell_type": "code",
      "metadata": {
        "id": "mzPSNME2hL8C",
        "colab": {
          "base_uri": "https://localhost:8080/",
          "height": 52
        },
        "outputId": "af3741ed-3287-408b-fed9-7c5e44a73274"
      },
      "source": [
        "abcl_RF.fit(x_train,y_train)\n",
        "print('Training Accuracy:',abcl_RF.score(x_train,y_train))\n",
        "print('Testing Accuracy:',abcl_RF.score(x_test,y_test))"
      ],
      "execution_count": null,
      "outputs": [
        {
          "output_type": "stream",
          "text": [
            "Training Accuracy: 0.7354686900675669\n",
            "Testing Accuracy: 0.7069373049384983\n"
          ],
          "name": "stdout"
        }
      ]
    },
    {
      "cell_type": "code",
      "metadata": {
        "id": "YIAfagyyhL8I",
        "colab": {
          "base_uri": "https://localhost:8080/",
          "height": 394
        },
        "outputId": "22cc2759-2d1e-4b8e-cb42-1c09c15102d6"
      },
      "source": [
        "print(classification_report(y_test,abcl_RF.predict(x_test)))\n",
        "print(confusion_matrix(y_test,abcl_RF.predict(x_test)))"
      ],
      "execution_count": null,
      "outputs": [
        {
          "output_type": "stream",
          "text": [
            "              precision    recall  f1-score   support\n",
            "\n",
            "           1       0.57      0.99      0.73     63514\n",
            "           2       0.96      0.51      0.66     85045\n",
            "           3       0.89      0.93      0.91     10747\n",
            "           4       0.90      0.68      0.77       804\n",
            "           5       0.96      0.47      0.64      2844\n",
            "           6       0.87      0.78      0.82      5235\n",
            "           7       1.00      0.16      0.28      6115\n",
            "\n",
            "    accuracy                           0.71    174304\n",
            "   macro avg       0.88      0.65      0.69    174304\n",
            "weighted avg       0.81      0.71      0.69    174304\n",
            "\n",
            "[[63148   364     0     0     2     0     0]\n",
            " [41564 43088   193     2    38   158     2]\n",
            " [   42   228 10021    44     7   405     0]\n",
            " [    0     0   200   547     0    57     0]\n",
            " [  671   788    30     0  1349     6     0]\n",
            " [   77   221   834    18     2  4083     0]\n",
            " [ 5124     5     0     0     0     0   986]]\n"
          ],
          "name": "stdout"
        }
      ]
    },
    {
      "cell_type": "markdown",
      "metadata": {
        "id": "4OnB0J0ThL8N"
      },
      "source": [
        "### Gradient Boost"
      ]
    },
    {
      "cell_type": "code",
      "metadata": {
        "id": "4Hwa4sGvhL8R",
        "colab": {
          "base_uri": "https://localhost:8080/",
          "height": 196
        },
        "outputId": "f2a24fbb-42e5-4583-cdb7-19fd6e541ac6"
      },
      "source": [
        "from sklearn.ensemble import GradientBoostingClassifier\n",
        "\n",
        "gbcl = GradientBoostingClassifier(random_state = 25,\n",
        "                                  max_depth=19, \n",
        "                                  min_samples_leaf=10,\n",
        "                                  min_samples_split=10,\n",
        "                                  n_estimators = 50)\n",
        "gbcl.fit(x_train, y_train)"
      ],
      "execution_count": null,
      "outputs": [
        {
          "output_type": "execute_result",
          "data": {
            "text/plain": [
              "GradientBoostingClassifier(ccp_alpha=0.0, criterion='friedman_mse', init=None,\n",
              "                           learning_rate=0.1, loss='deviance', max_depth=19,\n",
              "                           max_features=None, max_leaf_nodes=None,\n",
              "                           min_impurity_decrease=0.0, min_impurity_split=None,\n",
              "                           min_samples_leaf=10, min_samples_split=10,\n",
              "                           min_weight_fraction_leaf=0.0, n_estimators=50,\n",
              "                           n_iter_no_change=None, presort='deprecated',\n",
              "                           random_state=25, subsample=1.0, tol=0.0001,\n",
              "                           validation_fraction=0.1, verbose=0,\n",
              "                           warm_start=False)"
            ]
          },
          "metadata": {
            "tags": []
          },
          "execution_count": 34
        }
      ]
    },
    {
      "cell_type": "code",
      "metadata": {
        "id": "5rC-8dSDhL8Y",
        "colab": {
          "base_uri": "https://localhost:8080/",
          "height": 52
        },
        "outputId": "dc137f8f-1e8e-4355-9b59-bb4b03887d3a"
      },
      "source": [
        "print('Training Score:',gbcl.score(x_train,y_train))\n",
        "print('Testing Score:',gbcl.score(x_test,y_test))"
      ],
      "execution_count": null,
      "outputs": [
        {
          "output_type": "stream",
          "text": [
            "Training Score: 0.9988468385180522\n",
            "Testing Score: 0.9698113640536075\n"
          ],
          "name": "stdout"
        }
      ]
    },
    {
      "cell_type": "code",
      "metadata": {
        "id": "aHGzGVSqhL8e",
        "colab": {
          "base_uri": "https://localhost:8080/",
          "height": 394
        },
        "outputId": "4769fff6-e0fa-44e5-a50e-d34fdc9d8d0b"
      },
      "source": [
        "print(classification_report(y_test,gbcl.predict(x_test)))\n",
        "print(confusion_matrix(y_test,gbcl.predict(x_test)))"
      ],
      "execution_count": null,
      "outputs": [
        {
          "output_type": "stream",
          "text": [
            "              precision    recall  f1-score   support\n",
            "\n",
            "           1       0.98      0.97      0.97     63514\n",
            "           2       0.97      0.98      0.98     85045\n",
            "           3       0.95      0.95      0.95     10747\n",
            "           4       0.74      0.76      0.75       804\n",
            "           5       0.94      0.86      0.90      2844\n",
            "           6       0.93      0.91      0.92      5235\n",
            "           7       0.98      0.96      0.97      6115\n",
            "\n",
            "    accuracy                           0.97    174304\n",
            "   macro avg       0.93      0.91      0.92    174304\n",
            "weighted avg       0.97      0.97      0.97    174304\n",
            "\n",
            "[[61635  1750     3     5    15     6   100]\n",
            " [ 1231 83470   120     8   121    81    14]\n",
            " [    4   143 10245   139     8   208     0]\n",
            " [    0    16   128   613     0    47     0]\n",
            " [   26   347    27     0  2432    12     0]\n",
            " [    5   138   248    61     2  4780     1]\n",
            " [  215    32     0     1     0     0  5867]]\n"
          ],
          "name": "stdout"
        }
      ]
    },
    {
      "cell_type": "markdown",
      "metadata": {
        "id": "mThdOqYoLXYc"
      },
      "source": [
        "## Transformations nd Outliers"
      ]
    },
    {
      "cell_type": "markdown",
      "metadata": {
        "id": "ELLmBAMDPcE_"
      },
      "source": [
        "\n",
        "\n",
        "*   Making three new dataframes forest_sqrt, forest_log, forest_cos\n",
        "*   Storing the square root transformation of all numerical columns in forest_sqrt\n",
        "*   Storing the log transformation of all numerical columns in forest_log\n",
        "*   Storing the cos transformation of all numerical columns in forest_cos\n",
        "\n"
      ]
    },
    {
      "cell_type": "code",
      "metadata": {
        "id": "19q2vY9LLXYq",
        "colab": {
          "base_uri": "https://localhost:8080/"
        },
        "outputId": "6bc24e89-ef30-4dc3-d07a-2e56228a1736"
      },
      "source": [
        "forest_sqrt = pd.DataFrame()\n",
        "forest_log = pd.DataFrame()\n",
        "forest_cos = pd.DataFrame()\n",
        "for i in quant_col:\n",
        "  forest_sqrt[i] = np.sqrt(forest_a[i])\n",
        "  forest_log[i] = np.log(forest_a[i]+1)\n",
        "  forest_cos[i] = np.cos(forest_a[i])"
      ],
      "execution_count": null,
      "outputs": [
        {
          "output_type": "stream",
          "text": [
            "/usr/local/lib/python3.6/dist-packages/pandas/core/series.py:679: RuntimeWarning: invalid value encountered in sqrt\n",
            "  result = getattr(ufunc, method)(*inputs, **kwargs)\n",
            "/usr/local/lib/python3.6/dist-packages/pandas/core/series.py:679: RuntimeWarning: divide by zero encountered in log\n",
            "  result = getattr(ufunc, method)(*inputs, **kwargs)\n",
            "/usr/local/lib/python3.6/dist-packages/pandas/core/series.py:679: RuntimeWarning: invalid value encountered in log\n",
            "  result = getattr(ufunc, method)(*inputs, **kwargs)\n"
          ],
          "name": "stderr"
        }
      ]
    },
    {
      "cell_type": "markdown",
      "metadata": {
        "id": "KeJRXMJ_QDap"
      },
      "source": [
        "Calculating the number of outliers in each numerical columns of original data after feature engineering"
      ]
    },
    {
      "cell_type": "code",
      "metadata": {
        "id": "oZQ8y1vSLXY0"
      },
      "source": [
        "outliers = []\n",
        "for i in quant_col:\n",
        "    q1 = forest_a[i].quantile(0.25)\n",
        "    q3 = forest_a[i].quantile(0.75)\n",
        "    IQR = q3- q1\n",
        "    outlier = forest_a[i][(forest_a[i] < (q1 - IQR*1.5)) | (forest_a[i] > (q3 + 1.5*IQR))].count()\n",
        "    outliers.append(outlier)"
      ],
      "execution_count": null,
      "outputs": []
    },
    {
      "cell_type": "markdown",
      "metadata": {
        "id": "V5tHSEWiQSKS"
      },
      "source": [
        "Calculating the number of outliers in each numerical columns of square root transformed data"
      ]
    },
    {
      "cell_type": "code",
      "metadata": {
        "id": "Sk_fb8ZOLXY7"
      },
      "source": [
        "outliers_sqrt = []\n",
        "for i in quant_col:\n",
        "    q1 = forest_sqrt[i].quantile(0.25)\n",
        "    q3 = forest_sqrt[i].quantile(0.75)\n",
        "    IQR = q3- q1\n",
        "    outlier_sqrt = forest_sqrt[i][(forest_sqrt[i] < (q1 - IQR*1.5)) | (forest_sqrt[i] > (q3 + 1.5*IQR))].count()\n",
        "    outliers_sqrt.append(outlier_sqrt)"
      ],
      "execution_count": null,
      "outputs": []
    },
    {
      "cell_type": "markdown",
      "metadata": {
        "id": "DDmS772VQYBd"
      },
      "source": [
        "Calculating the number of outliers in each numerical columns of log transformed data"
      ]
    },
    {
      "cell_type": "code",
      "metadata": {
        "id": "Eq9qTBRXLXY_"
      },
      "source": [
        "outliers_log = []\n",
        "for i in quant_col:\n",
        "    q1 = forest_log[i].quantile(0.25)\n",
        "    q3 = forest_log[i].quantile(0.75)\n",
        "    IQR = q3- q1\n",
        "    outlier_log = forest_log[i][(forest_log[i] < (q1 - IQR*1.5)) | (forest_log[i] > (q3 + 1.5*IQR))].count()\n",
        "    outliers_log.append(outlier_log)"
      ],
      "execution_count": null,
      "outputs": []
    },
    {
      "cell_type": "markdown",
      "metadata": {
        "id": "aqnT7Rl_QoGe"
      },
      "source": [
        "Calculating the number of outliers in each numerical columns of cos transformed data"
      ]
    },
    {
      "cell_type": "code",
      "metadata": {
        "id": "HYwWjqv_LXZC"
      },
      "source": [
        "outliers_cos = []\n",
        "for i in quant_col:\n",
        "    q1 = forest_cos[i].quantile(0.25)\n",
        "    q3 = forest_cos[i].quantile(0.75)\n",
        "    IQR = q3- q1\n",
        "    outlier_cos = forest_cos[i][(forest_cos[i] < (q1 - IQR*1.5)) | (forest_cos[i] > (q3 + 1.5*IQR))].count()\n",
        "    outliers_cos.append(outlier_cos)"
      ],
      "execution_count": null,
      "outputs": []
    },
    {
      "cell_type": "markdown",
      "metadata": {
        "id": "qmegosw5QuSy"
      },
      "source": [
        "Constructing a new dataframe and listing the number of outliers after each transformation to their respective columns"
      ]
    },
    {
      "cell_type": "code",
      "metadata": {
        "id": "0CFFgqA5LXZE",
        "colab": {
          "base_uri": "https://localhost:8080/"
        },
        "outputId": "190d99c4-c779-46fe-d1ae-d4383b6a1975"
      },
      "source": [
        "outliers = pd.DataFrame({'columns': quant_col, 'outlier':outliers, \n",
        "                          'sqrt_outlier': outliers_sqrt, \n",
        "                          'log_outlier': outliers_log,\n",
        "                          'cos_outlier':outliers_cos})\n",
        "outliers"
      ],
      "execution_count": null,
      "outputs": [
        {
          "output_type": "execute_result",
          "data": {
            "text/html": [
              "<div>\n",
              "<style scoped>\n",
              "    .dataframe tbody tr th:only-of-type {\n",
              "        vertical-align: middle;\n",
              "    }\n",
              "\n",
              "    .dataframe tbody tr th {\n",
              "        vertical-align: top;\n",
              "    }\n",
              "\n",
              "    .dataframe thead th {\n",
              "        text-align: right;\n",
              "    }\n",
              "</style>\n",
              "<table border=\"1\" class=\"dataframe\">\n",
              "  <thead>\n",
              "    <tr style=\"text-align: right;\">\n",
              "      <th></th>\n",
              "      <th>columns</th>\n",
              "      <th>outlier</th>\n",
              "      <th>sqrt_outlier</th>\n",
              "      <th>log_outlier</th>\n",
              "      <th>cos_outlier</th>\n",
              "    </tr>\n",
              "  </thead>\n",
              "  <tbody>\n",
              "    <tr>\n",
              "      <th>0</th>\n",
              "      <td>Elevation</td>\n",
              "      <td>15569</td>\n",
              "      <td>19308</td>\n",
              "      <td>22889</td>\n",
              "      <td>0</td>\n",
              "    </tr>\n",
              "    <tr>\n",
              "      <th>1</th>\n",
              "      <td>Aspect</td>\n",
              "      <td>0</td>\n",
              "      <td>0</td>\n",
              "      <td>14762</td>\n",
              "      <td>0</td>\n",
              "    </tr>\n",
              "    <tr>\n",
              "      <th>2</th>\n",
              "      <td>Slope</td>\n",
              "      <td>15316</td>\n",
              "      <td>7331</td>\n",
              "      <td>12186</td>\n",
              "      <td>0</td>\n",
              "    </tr>\n",
              "    <tr>\n",
              "      <th>3</th>\n",
              "      <td>Horizontal_Distance_To_Hydrology</td>\n",
              "      <td>14557</td>\n",
              "      <td>1262</td>\n",
              "      <td>24603</td>\n",
              "      <td>0</td>\n",
              "    </tr>\n",
              "    <tr>\n",
              "      <th>4</th>\n",
              "      <td>Vertical_Distance_To_Hydrology</td>\n",
              "      <td>31463</td>\n",
              "      <td>4380</td>\n",
              "      <td>4858</td>\n",
              "      <td>0</td>\n",
              "    </tr>\n",
              "    <tr>\n",
              "      <th>5</th>\n",
              "      <td>Horizontal_Distance_To_Roadways</td>\n",
              "      <td>669</td>\n",
              "      <td>0</td>\n",
              "      <td>10940</td>\n",
              "      <td>0</td>\n",
              "    </tr>\n",
              "    <tr>\n",
              "      <th>6</th>\n",
              "      <td>Hillshade_9am</td>\n",
              "      <td>17433</td>\n",
              "      <td>21984</td>\n",
              "      <td>26073</td>\n",
              "      <td>0</td>\n",
              "    </tr>\n",
              "    <tr>\n",
              "      <th>7</th>\n",
              "      <td>Hillshade_Noon</td>\n",
              "      <td>15672</td>\n",
              "      <td>18866</td>\n",
              "      <td>21368</td>\n",
              "      <td>0</td>\n",
              "    </tr>\n",
              "    <tr>\n",
              "      <th>8</th>\n",
              "      <td>Hillshade_3pm</td>\n",
              "      <td>7832</td>\n",
              "      <td>14563</td>\n",
              "      <td>21476</td>\n",
              "      <td>0</td>\n",
              "    </tr>\n",
              "    <tr>\n",
              "      <th>9</th>\n",
              "      <td>Horizontal_Distance_To_Fire_Points</td>\n",
              "      <td>31157</td>\n",
              "      <td>8120</td>\n",
              "      <td>11907</td>\n",
              "      <td>0</td>\n",
              "    </tr>\n",
              "    <tr>\n",
              "      <th>10</th>\n",
              "      <td>Hydr_Slope</td>\n",
              "      <td>11266</td>\n",
              "      <td>275</td>\n",
              "      <td>47465</td>\n",
              "      <td>0</td>\n",
              "    </tr>\n",
              "    <tr>\n",
              "      <th>11</th>\n",
              "      <td>Fire_Hydr</td>\n",
              "      <td>28673</td>\n",
              "      <td>8893</td>\n",
              "      <td>9506</td>\n",
              "      <td>0</td>\n",
              "    </tr>\n",
              "    <tr>\n",
              "      <th>12</th>\n",
              "      <td>Avg_Horizontal</td>\n",
              "      <td>9480</td>\n",
              "      <td>714</td>\n",
              "      <td>6820</td>\n",
              "      <td>0</td>\n",
              "    </tr>\n",
              "    <tr>\n",
              "      <th>13</th>\n",
              "      <td>Fire_Road</td>\n",
              "      <td>9508</td>\n",
              "      <td>81</td>\n",
              "      <td>7370</td>\n",
              "      <td>0</td>\n",
              "    </tr>\n",
              "    <tr>\n",
              "      <th>14</th>\n",
              "      <td>Hillshades</td>\n",
              "      <td>18939</td>\n",
              "      <td>21571</td>\n",
              "      <td>23888</td>\n",
              "      <td>0</td>\n",
              "    </tr>\n",
              "    <tr>\n",
              "      <th>15</th>\n",
              "      <td>Hydr_Dist</td>\n",
              "      <td>13795</td>\n",
              "      <td>1052</td>\n",
              "      <td>24603</td>\n",
              "      <td>0</td>\n",
              "    </tr>\n",
              "    <tr>\n",
              "      <th>16</th>\n",
              "      <td>Vertical_Scaled</td>\n",
              "      <td>31463</td>\n",
              "      <td>24756</td>\n",
              "      <td>17250</td>\n",
              "      <td>0</td>\n",
              "    </tr>\n",
              "  </tbody>\n",
              "</table>\n",
              "</div>"
            ],
            "text/plain": [
              "                               columns  outlier  ...  log_outlier  cos_outlier\n",
              "0                            Elevation    15569  ...        22889            0\n",
              "1                               Aspect        0  ...        14762            0\n",
              "2                                Slope    15316  ...        12186            0\n",
              "3     Horizontal_Distance_To_Hydrology    14557  ...        24603            0\n",
              "4       Vertical_Distance_To_Hydrology    31463  ...         4858            0\n",
              "5      Horizontal_Distance_To_Roadways      669  ...        10940            0\n",
              "6                        Hillshade_9am    17433  ...        26073            0\n",
              "7                       Hillshade_Noon    15672  ...        21368            0\n",
              "8                        Hillshade_3pm     7832  ...        21476            0\n",
              "9   Horizontal_Distance_To_Fire_Points    31157  ...        11907            0\n",
              "10                          Hydr_Slope    11266  ...        47465            0\n",
              "11                           Fire_Hydr    28673  ...         9506            0\n",
              "12                      Avg_Horizontal     9480  ...         6820            0\n",
              "13                           Fire_Road     9508  ...         7370            0\n",
              "14                          Hillshades    18939  ...        23888            0\n",
              "15                           Hydr_Dist    13795  ...        24603            0\n",
              "16                     Vertical_Scaled    31463  ...        17250            0\n",
              "\n",
              "[17 rows x 5 columns]"
            ]
          },
          "metadata": {
            "tags": []
          },
          "execution_count": 26
        }
      ]
    },
    {
      "cell_type": "markdown",
      "metadata": {
        "id": "yjXXFg3GRU3N"
      },
      "source": [
        "*   Will be taking Elevation, Aspect and all Hillshade columns original whereas the degree columns (slope & hydr_slope) to be cos transformed, vertical_scaled log transformed and others square root transformed; so as to have least outliers in each column.\n",
        "*   We won't be dropping any outliers because they contain major data of least distributed cover_types.\n",
        "\n"
      ]
    },
    {
      "cell_type": "markdown",
      "metadata": {
        "id": "5PuSz0w6LXZM"
      },
      "source": [
        "## Transformed Data"
      ]
    },
    {
      "cell_type": "code",
      "metadata": {
        "id": "ja16_tb7LXZN"
      },
      "source": [
        "forest_b = pd.DataFrame()\n",
        "forest_b['Elevation'] = forest_a['Elevation']\n",
        "forest_b['Aspect'] = forest_a['Aspect']\n",
        "forest_b['Slope'] = forest_cos['Slope']\n",
        "forest_b['Horizontal_Distance_To_Hydrology'] = forest_sqrt['Horizontal_Distance_To_Hydrology']\n",
        "forest_b['Vertical_Scaled'] = forest_log['Vertical_Scaled']\n",
        "forest_b['Horizontal_Distance_To_Roadways'] = forest_sqrt['Horizontal_Distance_To_Roadways']\n",
        "forest_b['Hillshade_9am'] = forest_a['Hillshade_9am']\n",
        "forest_b['Hillshade_Noon'] = forest_a['Hillshade_Noon']\n",
        "forest_b['Hillshade_3pm'] = forest_a['Hillshade_3pm']\n",
        "forest_b['Horizontal_Distance_To_Fire_Points'] = forest_sqrt['Horizontal_Distance_To_Fire_Points']\n",
        "forest_b['Hydr_Slope'] = forest_cos['Hydr_Slope']\n",
        "forest_b['Avg_Horizontal'] = forest_sqrt['Avg_Horizontal']\n",
        "forest_b['Fire_Road'] = forest_sqrt['Fire_Road']\n",
        "forest_b['Hillshades'] = forest_a['Hillshades']\n",
        "forest_b['Hydr_Dist'] = forest_sqrt['Hydr_Dist']\n",
        "forest_b['Fire_Hydr'] = forest_sqrt['Fire_Hydr']\n",
        "forest_b['Wilderness'] = forest_a['Wilderness'].astype('category')\n",
        "forest_b['Soil'] = forest_a['Soil'].astype('category')\n",
        "forest_b['Cover_Type'] = forest_a['Cover_Type'].astype('category')"
      ],
      "execution_count": null,
      "outputs": []
    },
    {
      "cell_type": "code",
      "metadata": {
        "id": "hjleaBNVLXZQ",
        "colab": {
          "base_uri": "https://localhost:8080/"
        },
        "outputId": "27e92850-9293-4462-8024-675ae5ed5f36"
      },
      "source": [
        "forest_b.info()"
      ],
      "execution_count": null,
      "outputs": [
        {
          "output_type": "stream",
          "text": [
            "<class 'pandas.core.frame.DataFrame'>\n",
            "RangeIndex: 581012 entries, 0 to 581011\n",
            "Data columns (total 19 columns):\n",
            " #   Column                              Non-Null Count   Dtype   \n",
            "---  ------                              --------------   -----   \n",
            " 0   Elevation                           581012 non-null  int64   \n",
            " 1   Aspect                              581012 non-null  int64   \n",
            " 2   Slope                               581012 non-null  float64 \n",
            " 3   Horizontal_Distance_To_Hydrology    581012 non-null  float64 \n",
            " 4   Vertical_Scaled                     581012 non-null  float64 \n",
            " 5   Horizontal_Distance_To_Roadways     581012 non-null  float64 \n",
            " 6   Hillshade_9am                       581012 non-null  int64   \n",
            " 7   Hillshade_Noon                      581012 non-null  int64   \n",
            " 8   Hillshade_3pm                       581012 non-null  int64   \n",
            " 9   Horizontal_Distance_To_Fire_Points  581012 non-null  float64 \n",
            " 10  Hydr_Slope                          581012 non-null  float64 \n",
            " 11  Avg_Horizontal                      581012 non-null  float64 \n",
            " 12  Fire_Road                           581012 non-null  float64 \n",
            " 13  Hillshades                          581012 non-null  float64 \n",
            " 14  Hydr_Dist                           581012 non-null  float64 \n",
            " 15  Fire_Hydr                           581012 non-null  float64 \n",
            " 16  Wilderness                          581012 non-null  category\n",
            " 17  Soil                                581012 non-null  category\n",
            " 18  Cover_Type                          581012 non-null  category\n",
            "dtypes: category(3), float64(11), int64(5)\n",
            "memory usage: 72.6 MB\n"
          ],
          "name": "stdout"
        }
      ]
    },
    {
      "cell_type": "markdown",
      "metadata": {
        "id": "OMk_5e0M5-8G"
      },
      "source": [
        "## Modelling on transformed data"
      ]
    },
    {
      "cell_type": "markdown",
      "metadata": {
        "id": "Qn2tOsH85-8Q"
      },
      "source": [
        "### Decision Tree"
      ]
    },
    {
      "cell_type": "code",
      "metadata": {
        "id": "rc3MlvkY5-8T"
      },
      "source": [
        "from sklearn.model_selection import train_test_split\n",
        "from sklearn.metrics import classification_report, confusion_matrix, accuracy_score\n",
        "from sklearn.tree import DecisionTreeClassifier\n",
        "import warnings\n",
        "warnings.filterwarnings(\"ignore\")"
      ],
      "execution_count": null,
      "outputs": []
    },
    {
      "cell_type": "markdown",
      "metadata": {
        "id": "apc3fIV4KTJy"
      },
      "source": [
        "Dividing data into x (independent variable) and y (dependent variable) and then splitting data into train and test in 7:3 ratio "
      ]
    },
    {
      "cell_type": "code",
      "metadata": {
        "id": "askbpJcK5-8i"
      },
      "source": [
        "x = forest_b.drop(columns = ['Cover_Type'])\n",
        "y = forest_b['Cover_Type']"
      ],
      "execution_count": null,
      "outputs": []
    },
    {
      "cell_type": "code",
      "metadata": {
        "id": "6sjW-BlX5-8s"
      },
      "source": [
        "x_train, x_test, y_train, y_test = train_test_split(x, y, test_size = .3, random_state=25)"
      ],
      "execution_count": null,
      "outputs": []
    },
    {
      "cell_type": "code",
      "metadata": {
        "id": "9Q57PlKV5-81",
        "colab": {
          "base_uri": "https://localhost:8080/",
          "height": 124
        },
        "outputId": "979b1438-64ed-4143-fb9a-1eeface86d37"
      },
      "source": [
        "dt = DecisionTreeClassifier(criterion = \"entropy\", \n",
        "                                  random_state = 25,\n",
        "                                  max_depth=19, \n",
        "                                  min_samples_leaf=10,\n",
        "                                  min_samples_split=10)\n",
        "dt.fit(x_train, y_train)"
      ],
      "execution_count": null,
      "outputs": [
        {
          "output_type": "execute_result",
          "data": {
            "text/plain": [
              "DecisionTreeClassifier(ccp_alpha=0.0, class_weight=None, criterion='entropy',\n",
              "                       max_depth=19, max_features=None, max_leaf_nodes=None,\n",
              "                       min_impurity_decrease=0.0, min_impurity_split=None,\n",
              "                       min_samples_leaf=10, min_samples_split=10,\n",
              "                       min_weight_fraction_leaf=0.0, presort='deprecated',\n",
              "                       random_state=25, splitter='best')"
            ]
          },
          "metadata": {
            "tags": []
          },
          "execution_count": 31
        }
      ]
    },
    {
      "cell_type": "code",
      "metadata": {
        "id": "V1oRaMUg5-9F",
        "colab": {
          "base_uri": "https://localhost:8080/",
          "height": 52
        },
        "outputId": "75555dd4-0bf7-448d-a5f5-3625b43d9018"
      },
      "source": [
        "print('Training Score:',dt.score(x_train, y_train))\n",
        "print('Testing Score:',dt.score(x_test, y_test))"
      ],
      "execution_count": null,
      "outputs": [
        {
          "output_type": "stream",
          "text": [
            "Training Score: 0.9350492245050503\n",
            "Testing Score: 0.9074834771433816\n"
          ],
          "name": "stdout"
        }
      ]
    },
    {
      "cell_type": "code",
      "metadata": {
        "id": "1q_FKxoe5-9P",
        "colab": {
          "base_uri": "https://localhost:8080/",
          "height": 394
        },
        "outputId": "ea094492-f356-472f-c6c7-1a42af19f1b1"
      },
      "source": [
        "y_pred = dt.predict(x_test)\n",
        "print(classification_report(y_test,y_pred))\n",
        "print(confusion_matrix(y_test,y_pred))"
      ],
      "execution_count": null,
      "outputs": [
        {
          "output_type": "stream",
          "text": [
            "              precision    recall  f1-score   support\n",
            "\n",
            "           1       0.90      0.90      0.90     63514\n",
            "           2       0.92      0.92      0.92     85045\n",
            "           3       0.90      0.92      0.91     10747\n",
            "           4       0.81      0.81      0.81       804\n",
            "           5       0.79      0.76      0.77      2844\n",
            "           6       0.85      0.82      0.83      5235\n",
            "           7       0.95      0.91      0.93      6115\n",
            "\n",
            "    accuracy                           0.91    174304\n",
            "   macro avg       0.87      0.86      0.87    174304\n",
            "weighted avg       0.91      0.91      0.91    174304\n",
            "\n",
            "[[57240  5907     8     0    74    10   275]\n",
            " [ 5557 78425   320     5   471   222    45]\n",
            " [    6   290  9854   105    22   470     0]\n",
            " [    0     2   117   652     0    33     0]\n",
            " [   55   576    42     0  2156    15     0]\n",
            " [   14   251   620    46    15  4289     0]\n",
            " [  496    56     1     0     0     0  5562]]\n"
          ],
          "name": "stdout"
        }
      ]
    },
    {
      "cell_type": "code",
      "metadata": {
        "id": "vj8EmRdF5-9Y",
        "colab": {
          "base_uri": "https://localhost:8080/",
          "height": 559
        },
        "outputId": "8c86203d-2128-4a67-b492-6a7c9f90f454"
      },
      "source": [
        "pd.DataFrame({'columns':x.columns,'Importance':dt.feature_importances_})"
      ],
      "execution_count": null,
      "outputs": [
        {
          "output_type": "execute_result",
          "data": {
            "text/html": [
              "<div>\n",
              "<style scoped>\n",
              "    .dataframe tbody tr th:only-of-type {\n",
              "        vertical-align: middle;\n",
              "    }\n",
              "\n",
              "    .dataframe tbody tr th {\n",
              "        vertical-align: top;\n",
              "    }\n",
              "\n",
              "    .dataframe thead th {\n",
              "        text-align: right;\n",
              "    }\n",
              "</style>\n",
              "<table border=\"1\" class=\"dataframe\">\n",
              "  <thead>\n",
              "    <tr style=\"text-align: right;\">\n",
              "      <th></th>\n",
              "      <th>columns</th>\n",
              "      <th>Importance</th>\n",
              "    </tr>\n",
              "  </thead>\n",
              "  <tbody>\n",
              "    <tr>\n",
              "      <th>0</th>\n",
              "      <td>Elevation</td>\n",
              "      <td>0.423955</td>\n",
              "    </tr>\n",
              "    <tr>\n",
              "      <th>1</th>\n",
              "      <td>Aspect</td>\n",
              "      <td>0.013742</td>\n",
              "    </tr>\n",
              "    <tr>\n",
              "      <th>2</th>\n",
              "      <td>Slope</td>\n",
              "      <td>0.000631</td>\n",
              "    </tr>\n",
              "    <tr>\n",
              "      <th>3</th>\n",
              "      <td>Horizontal_Distance_To_Hydrology</td>\n",
              "      <td>0.014035</td>\n",
              "    </tr>\n",
              "    <tr>\n",
              "      <th>4</th>\n",
              "      <td>Vertical_Scaled</td>\n",
              "      <td>0.023873</td>\n",
              "    </tr>\n",
              "    <tr>\n",
              "      <th>5</th>\n",
              "      <td>Horizontal_Distance_To_Roadways</td>\n",
              "      <td>0.077315</td>\n",
              "    </tr>\n",
              "    <tr>\n",
              "      <th>6</th>\n",
              "      <td>Hillshade_9am</td>\n",
              "      <td>0.024272</td>\n",
              "    </tr>\n",
              "    <tr>\n",
              "      <th>7</th>\n",
              "      <td>Hillshade_Noon</td>\n",
              "      <td>0.018327</td>\n",
              "    </tr>\n",
              "    <tr>\n",
              "      <th>8</th>\n",
              "      <td>Hillshade_3pm</td>\n",
              "      <td>0.011487</td>\n",
              "    </tr>\n",
              "    <tr>\n",
              "      <th>9</th>\n",
              "      <td>Horizontal_Distance_To_Fire_Points</td>\n",
              "      <td>0.055136</td>\n",
              "    </tr>\n",
              "    <tr>\n",
              "      <th>10</th>\n",
              "      <td>Hydr_Slope</td>\n",
              "      <td>0.001970</td>\n",
              "    </tr>\n",
              "    <tr>\n",
              "      <th>11</th>\n",
              "      <td>Avg_Horizontal</td>\n",
              "      <td>0.038962</td>\n",
              "    </tr>\n",
              "    <tr>\n",
              "      <th>12</th>\n",
              "      <td>Fire_Road</td>\n",
              "      <td>0.062102</td>\n",
              "    </tr>\n",
              "    <tr>\n",
              "      <th>13</th>\n",
              "      <td>Hillshades</td>\n",
              "      <td>0.007529</td>\n",
              "    </tr>\n",
              "    <tr>\n",
              "      <th>14</th>\n",
              "      <td>Hydr_Dist</td>\n",
              "      <td>0.029038</td>\n",
              "    </tr>\n",
              "    <tr>\n",
              "      <th>15</th>\n",
              "      <td>Fire_Hydr</td>\n",
              "      <td>0.045923</td>\n",
              "    </tr>\n",
              "    <tr>\n",
              "      <th>16</th>\n",
              "      <td>Wilderness</td>\n",
              "      <td>0.033281</td>\n",
              "    </tr>\n",
              "    <tr>\n",
              "      <th>17</th>\n",
              "      <td>Soil</td>\n",
              "      <td>0.118422</td>\n",
              "    </tr>\n",
              "  </tbody>\n",
              "</table>\n",
              "</div>"
            ],
            "text/plain": [
              "                               columns  Importance\n",
              "0                            Elevation    0.423955\n",
              "1                               Aspect    0.013742\n",
              "2                                Slope    0.000631\n",
              "3     Horizontal_Distance_To_Hydrology    0.014035\n",
              "4                      Vertical_Scaled    0.023873\n",
              "5      Horizontal_Distance_To_Roadways    0.077315\n",
              "6                        Hillshade_9am    0.024272\n",
              "7                       Hillshade_Noon    0.018327\n",
              "8                        Hillshade_3pm    0.011487\n",
              "9   Horizontal_Distance_To_Fire_Points    0.055136\n",
              "10                          Hydr_Slope    0.001970\n",
              "11                      Avg_Horizontal    0.038962\n",
              "12                           Fire_Road    0.062102\n",
              "13                          Hillshades    0.007529\n",
              "14                           Hydr_Dist    0.029038\n",
              "15                           Fire_Hydr    0.045923\n",
              "16                          Wilderness    0.033281\n",
              "17                                Soil    0.118422"
            ]
          },
          "metadata": {
            "tags": []
          },
          "execution_count": 34
        }
      ]
    },
    {
      "cell_type": "markdown",
      "metadata": {
        "id": "F6Sz5Wpr5-9j"
      },
      "source": [
        "### Random Forest"
      ]
    },
    {
      "cell_type": "code",
      "metadata": {
        "id": "fARHLXjw5-9l"
      },
      "source": [
        "from sklearn.ensemble import RandomForestClassifier"
      ],
      "execution_count": null,
      "outputs": []
    },
    {
      "cell_type": "code",
      "metadata": {
        "id": "7pxRUcIh5-9u",
        "colab": {
          "base_uri": "https://localhost:8080/",
          "height": 160
        },
        "outputId": "4d8d44fd-fddf-4ed3-c562-45e61d608107"
      },
      "source": [
        "rforest = RandomForestClassifier(criterion = \"entropy\", \n",
        "                                  random_state = 25,\n",
        "                                  max_depth=19, \n",
        "                                  min_samples_leaf=10,\n",
        "                                  min_samples_split=10)\n",
        "rforest.fit(x_train, y_train)"
      ],
      "execution_count": null,
      "outputs": [
        {
          "output_type": "execute_result",
          "data": {
            "text/plain": [
              "RandomForestClassifier(bootstrap=True, ccp_alpha=0.0, class_weight=None,\n",
              "                       criterion='entropy', max_depth=19, max_features='auto',\n",
              "                       max_leaf_nodes=None, max_samples=None,\n",
              "                       min_impurity_decrease=0.0, min_impurity_split=None,\n",
              "                       min_samples_leaf=10, min_samples_split=10,\n",
              "                       min_weight_fraction_leaf=0.0, n_estimators=100,\n",
              "                       n_jobs=None, oob_score=False, random_state=25, verbose=0,\n",
              "                       warm_start=False)"
            ]
          },
          "metadata": {
            "tags": []
          },
          "execution_count": 36
        }
      ]
    },
    {
      "cell_type": "code",
      "metadata": {
        "id": "Nxv4ko9k5-92",
        "colab": {
          "base_uri": "https://localhost:8080/",
          "height": 52
        },
        "outputId": "2916b864-31f8-45fb-a7db-921417d612c4"
      },
      "source": [
        "print('Training Score:',rforest.score(x_train, y_train))\n",
        "print('Testing Score:',rforest.score(x_test, y_test))"
      ],
      "execution_count": null,
      "outputs": [
        {
          "output_type": "stream",
          "text": [
            "Training Score: 0.9631652192727952\n",
            "Testing Score: 0.9416938222874977\n"
          ],
          "name": "stdout"
        }
      ]
    },
    {
      "cell_type": "code",
      "metadata": {
        "id": "fAr6wRop5-9_",
        "colab": {
          "base_uri": "https://localhost:8080/",
          "height": 394
        },
        "outputId": "52d8156f-3263-452b-93f7-ddbdda9ecf76"
      },
      "source": [
        "y_pred = rforest.predict(x_test)\n",
        "print(classification_report(y_test,y_pred))\n",
        "print(confusion_matrix(y_test,y_pred))"
      ],
      "execution_count": null,
      "outputs": [
        {
          "output_type": "stream",
          "text": [
            "              precision    recall  f1-score   support\n",
            "\n",
            "           1       0.95      0.93      0.94     63514\n",
            "           2       0.94      0.97      0.95     85045\n",
            "           3       0.93      0.96      0.94     10747\n",
            "           4       0.90      0.84      0.87       804\n",
            "           5       0.93      0.71      0.81      2844\n",
            "           6       0.93      0.87      0.90      5235\n",
            "           7       0.97      0.93      0.95      6115\n",
            "\n",
            "    accuracy                           0.94    174304\n",
            "   macro avg       0.94      0.89      0.91    174304\n",
            "weighted avg       0.94      0.94      0.94    174304\n",
            "\n",
            "[[58832  4537     1     0    17     3   124]\n",
            " [ 2516 82085   193     6   124    99    22]\n",
            " [    2   199 10286    44     4   212     0]\n",
            " [    0     0   112   673     0    19     0]\n",
            " [   36   705    55     0  2033    15     0]\n",
            " [    0   199   440    28     3  4565     0]\n",
            " [  406    42     0     0     0     0  5667]]\n"
          ],
          "name": "stdout"
        }
      ]
    },
    {
      "cell_type": "code",
      "metadata": {
        "id": "nwwUVeCL5--H",
        "colab": {
          "base_uri": "https://localhost:8080/",
          "height": 559
        },
        "outputId": "b1264bba-9240-46b0-84c8-98c9f4f8f9b2"
      },
      "source": [
        "pd.DataFrame({'columns':x.columns,'Importance':rforest.feature_importances_})"
      ],
      "execution_count": null,
      "outputs": [
        {
          "output_type": "execute_result",
          "data": {
            "text/html": [
              "<div>\n",
              "<style scoped>\n",
              "    .dataframe tbody tr th:only-of-type {\n",
              "        vertical-align: middle;\n",
              "    }\n",
              "\n",
              "    .dataframe tbody tr th {\n",
              "        vertical-align: top;\n",
              "    }\n",
              "\n",
              "    .dataframe thead th {\n",
              "        text-align: right;\n",
              "    }\n",
              "</style>\n",
              "<table border=\"1\" class=\"dataframe\">\n",
              "  <thead>\n",
              "    <tr style=\"text-align: right;\">\n",
              "      <th></th>\n",
              "      <th>columns</th>\n",
              "      <th>Importance</th>\n",
              "    </tr>\n",
              "  </thead>\n",
              "  <tbody>\n",
              "    <tr>\n",
              "      <th>0</th>\n",
              "      <td>Elevation</td>\n",
              "      <td>0.278344</td>\n",
              "    </tr>\n",
              "    <tr>\n",
              "      <th>1</th>\n",
              "      <td>Aspect</td>\n",
              "      <td>0.022179</td>\n",
              "    </tr>\n",
              "    <tr>\n",
              "      <th>2</th>\n",
              "      <td>Slope</td>\n",
              "      <td>0.001400</td>\n",
              "    </tr>\n",
              "    <tr>\n",
              "      <th>3</th>\n",
              "      <td>Horizontal_Distance_To_Hydrology</td>\n",
              "      <td>0.022894</td>\n",
              "    </tr>\n",
              "    <tr>\n",
              "      <th>4</th>\n",
              "      <td>Vertical_Scaled</td>\n",
              "      <td>0.025380</td>\n",
              "    </tr>\n",
              "    <tr>\n",
              "      <th>5</th>\n",
              "      <td>Horizontal_Distance_To_Roadways</td>\n",
              "      <td>0.066141</td>\n",
              "    </tr>\n",
              "    <tr>\n",
              "      <th>6</th>\n",
              "      <td>Hillshade_9am</td>\n",
              "      <td>0.022156</td>\n",
              "    </tr>\n",
              "    <tr>\n",
              "      <th>7</th>\n",
              "      <td>Hillshade_Noon</td>\n",
              "      <td>0.018386</td>\n",
              "    </tr>\n",
              "    <tr>\n",
              "      <th>8</th>\n",
              "      <td>Hillshade_3pm</td>\n",
              "      <td>0.017601</td>\n",
              "    </tr>\n",
              "    <tr>\n",
              "      <th>9</th>\n",
              "      <td>Horizontal_Distance_To_Fire_Points</td>\n",
              "      <td>0.050773</td>\n",
              "    </tr>\n",
              "    <tr>\n",
              "      <th>10</th>\n",
              "      <td>Hydr_Slope</td>\n",
              "      <td>0.004071</td>\n",
              "    </tr>\n",
              "    <tr>\n",
              "      <th>11</th>\n",
              "      <td>Avg_Horizontal</td>\n",
              "      <td>0.060736</td>\n",
              "    </tr>\n",
              "    <tr>\n",
              "      <th>12</th>\n",
              "      <td>Fire_Road</td>\n",
              "      <td>0.064568</td>\n",
              "    </tr>\n",
              "    <tr>\n",
              "      <th>13</th>\n",
              "      <td>Hillshades</td>\n",
              "      <td>0.016106</td>\n",
              "    </tr>\n",
              "    <tr>\n",
              "      <th>14</th>\n",
              "      <td>Hydr_Dist</td>\n",
              "      <td>0.025589</td>\n",
              "    </tr>\n",
              "    <tr>\n",
              "      <th>15</th>\n",
              "      <td>Fire_Hydr</td>\n",
              "      <td>0.049486</td>\n",
              "    </tr>\n",
              "    <tr>\n",
              "      <th>16</th>\n",
              "      <td>Wilderness</td>\n",
              "      <td>0.072710</td>\n",
              "    </tr>\n",
              "    <tr>\n",
              "      <th>17</th>\n",
              "      <td>Soil</td>\n",
              "      <td>0.181480</td>\n",
              "    </tr>\n",
              "  </tbody>\n",
              "</table>\n",
              "</div>"
            ],
            "text/plain": [
              "                               columns  Importance\n",
              "0                            Elevation    0.278344\n",
              "1                               Aspect    0.022179\n",
              "2                                Slope    0.001400\n",
              "3     Horizontal_Distance_To_Hydrology    0.022894\n",
              "4                      Vertical_Scaled    0.025380\n",
              "5      Horizontal_Distance_To_Roadways    0.066141\n",
              "6                        Hillshade_9am    0.022156\n",
              "7                       Hillshade_Noon    0.018386\n",
              "8                        Hillshade_3pm    0.017601\n",
              "9   Horizontal_Distance_To_Fire_Points    0.050773\n",
              "10                          Hydr_Slope    0.004071\n",
              "11                      Avg_Horizontal    0.060736\n",
              "12                           Fire_Road    0.064568\n",
              "13                          Hillshades    0.016106\n",
              "14                           Hydr_Dist    0.025589\n",
              "15                           Fire_Hydr    0.049486\n",
              "16                          Wilderness    0.072710\n",
              "17                                Soil    0.181480"
            ]
          },
          "metadata": {
            "tags": []
          },
          "execution_count": 39
        }
      ]
    },
    {
      "cell_type": "markdown",
      "metadata": {
        "id": "jg435tai5--N"
      },
      "source": [
        "### KNN"
      ]
    },
    {
      "cell_type": "markdown",
      "metadata": {
        "id": "pJiYkDdvK0_X"
      },
      "source": [
        "\n",
        "*   scaling all numerical columns and saving it in a dataframe 'x_std'\n",
        "*   concatenating all the independent data into a dataframe 'x_' \n",
        "*   dividing data to x_ (independent variable) and y_ (dependent variable)\n",
        "*   splitting data into train and test in 7:3 ratio"
      ]
    },
    {
      "cell_type": "code",
      "metadata": {
        "id": "017ApPgt5--O",
        "colab": {
          "base_uri": "https://localhost:8080/",
          "height": 209
        },
        "outputId": "69a6a3d7-1929-444b-fc96-ada2b0a1ff26"
      },
      "source": [
        "from sklearn.preprocessing import StandardScaler\n",
        "\n",
        "x1 = forest_b.drop(columns= ['Cover_Type','Soil','Wilderness'])\n",
        "y_ = forest_b['Cover_Type']\n",
        "\n",
        "x_std = StandardScaler().fit_transform(x1)\n",
        "\n",
        "x_std = pd.DataFrame(x_std, columns = x1.columns)\n",
        "\n",
        "x_ = pd.concat([x_std,forest_b[['Soil','Wilderness']]], axis = 1)\n",
        "x_.head()"
      ],
      "execution_count": null,
      "outputs": [
        {
          "output_type": "execute_result",
          "data": {
            "text/html": [
              "<div>\n",
              "<style scoped>\n",
              "    .dataframe tbody tr th:only-of-type {\n",
              "        vertical-align: middle;\n",
              "    }\n",
              "\n",
              "    .dataframe tbody tr th {\n",
              "        vertical-align: top;\n",
              "    }\n",
              "\n",
              "    .dataframe thead th {\n",
              "        text-align: right;\n",
              "    }\n",
              "</style>\n",
              "<table border=\"1\" class=\"dataframe\">\n",
              "  <thead>\n",
              "    <tr style=\"text-align: right;\">\n",
              "      <th></th>\n",
              "      <th>Elevation</th>\n",
              "      <th>Aspect</th>\n",
              "      <th>Slope</th>\n",
              "      <th>Horizontal_Distance_To_Hydrology</th>\n",
              "      <th>Vertical_Scaled</th>\n",
              "      <th>Horizontal_Distance_To_Roadways</th>\n",
              "      <th>Hillshade_9am</th>\n",
              "      <th>Hillshade_Noon</th>\n",
              "      <th>Hillshade_3pm</th>\n",
              "      <th>Horizontal_Distance_To_Fire_Points</th>\n",
              "      <th>Hydr_Slope</th>\n",
              "      <th>Avg_Horizontal</th>\n",
              "      <th>Fire_Road</th>\n",
              "      <th>Hillshades</th>\n",
              "      <th>Hydr_Dist</th>\n",
              "      <th>Fire_Hydr</th>\n",
              "      <th>Soil</th>\n",
              "      <th>Wilderness</th>\n",
              "    </tr>\n",
              "  </thead>\n",
              "  <tbody>\n",
              "    <tr>\n",
              "      <th>0</th>\n",
              "      <td>-1.297805</td>\n",
              "      <td>-0.935157</td>\n",
              "      <td>-1.389008</td>\n",
              "      <td>0.164973</td>\n",
              "      <td>-0.867052</td>\n",
              "      <td>-1.395274</td>\n",
              "      <td>0.330743</td>\n",
              "      <td>0.439143</td>\n",
              "      <td>0.142960</td>\n",
              "      <td>2.587999</td>\n",
              "      <td>1.300680</td>\n",
              "      <td>1.054833</td>\n",
              "      <td>1.068195</td>\n",
              "      <td>0.530152</td>\n",
              "      <td>0.135858</td>\n",
              "      <td>2.574818</td>\n",
              "      <td>29</td>\n",
              "      <td>1</td>\n",
              "    </tr>\n",
              "    <tr>\n",
              "      <th>1</th>\n",
              "      <td>-1.319235</td>\n",
              "      <td>-0.890480</td>\n",
              "      <td>-0.578038</td>\n",
              "      <td>-0.056053</td>\n",
              "      <td>-1.014305</td>\n",
              "      <td>-1.567204</td>\n",
              "      <td>0.293388</td>\n",
              "      <td>0.590899</td>\n",
              "      <td>0.221342</td>\n",
              "      <td>2.564187</td>\n",
              "      <td>-0.148505</td>\n",
              "      <td>0.979149</td>\n",
              "      <td>1.008612</td>\n",
              "      <td>0.645367</td>\n",
              "      <td>-0.082435</td>\n",
              "      <td>2.529746</td>\n",
              "      <td>29</td>\n",
              "      <td>1</td>\n",
              "    </tr>\n",
              "    <tr>\n",
              "      <th>2</th>\n",
              "      <td>-0.554907</td>\n",
              "      <td>-0.148836</td>\n",
              "      <td>-1.277558</td>\n",
              "      <td>0.210340</td>\n",
              "      <td>0.464875</td>\n",
              "      <td>0.655217</td>\n",
              "      <td>0.816364</td>\n",
              "      <td>0.742654</td>\n",
              "      <td>-0.196691</td>\n",
              "      <td>2.518036</td>\n",
              "      <td>0.587323</td>\n",
              "      <td>1.849922</td>\n",
              "      <td>1.855709</td>\n",
              "      <td>0.668410</td>\n",
              "      <td>0.215057</td>\n",
              "      <td>2.507987</td>\n",
              "      <td>12</td>\n",
              "      <td>1</td>\n",
              "    </tr>\n",
              "    <tr>\n",
              "      <th>3</th>\n",
              "      <td>-0.622768</td>\n",
              "      <td>-0.005869</td>\n",
              "      <td>0.943243</td>\n",
              "      <td>0.090516</td>\n",
              "      <td>1.305345</td>\n",
              "      <td>0.606471</td>\n",
              "      <td>0.965786</td>\n",
              "      <td>0.742654</td>\n",
              "      <td>-0.536343</td>\n",
              "      <td>2.557997</td>\n",
              "      <td>0.819799</td>\n",
              "      <td>1.842302</td>\n",
              "      <td>1.855709</td>\n",
              "      <td>0.461022</td>\n",
              "      <td>0.186241</td>\n",
              "      <td>2.536981</td>\n",
              "      <td>30</td>\n",
              "      <td>1</td>\n",
              "    </tr>\n",
              "    <tr>\n",
              "      <th>4</th>\n",
              "      <td>-1.301377</td>\n",
              "      <td>-0.988770</td>\n",
              "      <td>-0.578038</td>\n",
              "      <td>-0.378421</td>\n",
              "      <td>-0.891238</td>\n",
              "      <td>-1.565670</td>\n",
              "      <td>0.293388</td>\n",
              "      <td>0.540313</td>\n",
              "      <td>0.195215</td>\n",
              "      <td>2.540716</td>\n",
              "      <td>1.205062</td>\n",
              "      <td>0.940499</td>\n",
              "      <td>0.990654</td>\n",
              "      <td>0.599281</td>\n",
              "      <td>-0.401841</td>\n",
              "      <td>2.478848</td>\n",
              "      <td>29</td>\n",
              "      <td>1</td>\n",
              "    </tr>\n",
              "  </tbody>\n",
              "</table>\n",
              "</div>"
            ],
            "text/plain": [
              "   Elevation    Aspect     Slope  ...  Fire_Hydr  Soil  Wilderness\n",
              "0  -1.297805 -0.935157 -1.389008  ...   2.574818    29           1\n",
              "1  -1.319235 -0.890480 -0.578038  ...   2.529746    29           1\n",
              "2  -0.554907 -0.148836 -1.277558  ...   2.507987    12           1\n",
              "3  -0.622768 -0.005869  0.943243  ...   2.536981    30           1\n",
              "4  -1.301377 -0.988770 -0.578038  ...   2.478848    29           1\n",
              "\n",
              "[5 rows x 18 columns]"
            ]
          },
          "metadata": {
            "tags": []
          },
          "execution_count": 33
        }
      ]
    },
    {
      "cell_type": "code",
      "metadata": {
        "id": "EXlKF_B75--S"
      },
      "source": [
        "x_train_k, x_test_k, y_train_k, y_test_k = train_test_split(x_, y_, test_size = .3, random_state=25)"
      ],
      "execution_count": null,
      "outputs": []
    },
    {
      "cell_type": "code",
      "metadata": {
        "id": "o-6bclgg5--W"
      },
      "source": [
        "from sklearn.neighbors import KNeighborsClassifier"
      ],
      "execution_count": null,
      "outputs": []
    },
    {
      "cell_type": "code",
      "metadata": {
        "id": "XkbO9gbn5--a"
      },
      "source": [
        "knn = KNeighborsClassifier(metric = 'cityblock', n_neighbors= 4, weights= 'distance')\n",
        "knn.fit(x_train_k,y_train_k)\n",
        "y_pred_k = knn.predict(x_test_k)"
      ],
      "execution_count": null,
      "outputs": []
    },
    {
      "cell_type": "code",
      "metadata": {
        "id": "4ZqpJKEdw73f",
        "colab": {
          "base_uri": "https://localhost:8080/",
          "height": 52
        },
        "outputId": "c477b86f-3b88-461d-f955-1db44c65f352"
      },
      "source": [
        "print('Training Score:',knn.score(x_train_k,y_train_k))\n",
        "print('Testing Score:',knn.score(x_test_k,y_test_k))"
      ],
      "execution_count": null,
      "outputs": [
        {
          "output_type": "stream",
          "text": [
            "Training Score: 1.0\n",
            "Testing Score: 0.9225433724986231\n"
          ],
          "name": "stdout"
        }
      ]
    },
    {
      "cell_type": "code",
      "metadata": {
        "id": "snzKROfM5--e",
        "colab": {
          "base_uri": "https://localhost:8080/",
          "height": 394
        },
        "outputId": "a598a0fd-95b6-4dfd-8377-69823e6a506f"
      },
      "source": [
        "print(classification_report(y_test_k, y_pred_k))\n",
        "print(confusion_matrix(y_test_k, y_pred_k))"
      ],
      "execution_count": null,
      "outputs": [
        {
          "output_type": "stream",
          "text": [
            "              precision    recall  f1-score   support\n",
            "\n",
            "           1       0.93      0.92      0.92     63514\n",
            "           2       0.93      0.94      0.93     85045\n",
            "           3       0.91      0.91      0.91     10747\n",
            "           4       0.87      0.82      0.85       804\n",
            "           5       0.82      0.76      0.79      2844\n",
            "           6       0.83      0.84      0.84      5235\n",
            "           7       0.94      0.93      0.94      6115\n",
            "\n",
            "    accuracy                           0.92    174304\n",
            "   macro avg       0.89      0.87      0.88    174304\n",
            "weighted avg       0.92      0.92      0.92    174304\n",
            "\n",
            "[[58187  4946     7     0    56    14   304]\n",
            " [ 4145 79882   319     6   375   271    47]\n",
            " [   10   285  9823    66    35   528     0]\n",
            " [    0     3    99   663     0    39     0]\n",
            " [   83   541    43     0  2156    20     1]\n",
            " [   17   248   508    29    23  4410     0]\n",
            " [  391    42     0     0     0     0  5682]]\n"
          ],
          "name": "stdout"
        }
      ]
    },
    {
      "cell_type": "markdown",
      "metadata": {
        "id": "Y_n4IT0yLXaL"
      },
      "source": [
        "### Ensemble Techniques on transformed data"
      ]
    },
    {
      "cell_type": "code",
      "metadata": {
        "id": "a06gaKM7LXaM"
      },
      "source": [
        "#base_LR = LogisticRegression(random_state = 25)\n",
        "base_DT = DecisionTreeClassifier(criterion = \"entropy\", \n",
        "                                  random_state = 25,\n",
        "                                  max_depth=19, \n",
        "                                  min_samples_leaf=10,\n",
        "                                  min_samples_split=10)\n",
        "#base_NB = GaussianNB()\n",
        "base_RF = RandomForestClassifier(criterion = \"entropy\", \n",
        "                                  random_state = 25,\n",
        "                                  max_depth=19, \n",
        "                                  min_samples_leaf=10,\n",
        "                                  min_samples_split=10)\n",
        "base_KNN = KNeighborsClassifier(metric = 'cityblock', \n",
        "                                n_neighbors= 4, \n",
        "                                weights= 'distance')"
      ],
      "execution_count": null,
      "outputs": []
    },
    {
      "cell_type": "markdown",
      "metadata": {
        "id": "Rr9n_4tbLXaO"
      },
      "source": [
        "### Bagging"
      ]
    },
    {
      "cell_type": "code",
      "metadata": {
        "id": "nq4H2Lg6LXaP"
      },
      "source": [
        "from sklearn.ensemble import BaggingClassifier"
      ],
      "execution_count": null,
      "outputs": []
    },
    {
      "cell_type": "markdown",
      "metadata": {
        "id": "1puWBg1ILXaU"
      },
      "source": [
        "#### Decision Bag"
      ]
    },
    {
      "cell_type": "code",
      "metadata": {
        "id": "weHl1NIQLXaV",
        "colab": {
          "base_uri": "https://localhost:8080/"
        },
        "outputId": "5ed100e4-befa-4bc7-96bd-ab645363090b"
      },
      "source": [
        "bgcl_DT = BaggingClassifier(base_estimator=base_DT,n_estimators=51,oob_score=True,random_state=25)\n",
        "bgcl_DT.fit(x_train, y_train)"
      ],
      "execution_count": null,
      "outputs": [
        {
          "output_type": "execute_result",
          "data": {
            "text/plain": [
              "BaggingClassifier(base_estimator=DecisionTreeClassifier(ccp_alpha=0.0,\n",
              "                                                        class_weight=None,\n",
              "                                                        criterion='entropy',\n",
              "                                                        max_depth=19,\n",
              "                                                        max_features=None,\n",
              "                                                        max_leaf_nodes=None,\n",
              "                                                        min_impurity_decrease=0.0,\n",
              "                                                        min_impurity_split=None,\n",
              "                                                        min_samples_leaf=10,\n",
              "                                                        min_samples_split=10,\n",
              "                                                        min_weight_fraction_leaf=0.0,\n",
              "                                                        presort='deprecated',\n",
              "                                                        random_state=25,\n",
              "                                                        splitter='best'),\n",
              "                  bootstrap=True, bootstrap_features=False, max_features=1.0,\n",
              "                  max_samples=1.0, n_estimators=51, n_jobs=None, oob_score=True,\n",
              "                  random_state=25, verbose=0, warm_start=False)"
            ]
          },
          "metadata": {
            "tags": []
          },
          "execution_count": 48
        }
      ]
    },
    {
      "cell_type": "code",
      "metadata": {
        "id": "R22nZVU9LXaX",
        "colab": {
          "base_uri": "https://localhost:8080/"
        },
        "outputId": "8f460a50-cbc8-4ffb-ba33-efa13e10b08b"
      },
      "source": [
        "print('OOB SCORE:',bgcl_DT.oob_score_)\n",
        "print('Training Accuracy:',bgcl_DT.score(x_train,y_train))\n",
        "print('Testing Accuracy:',bgcl_DT.score(x_test,y_test))"
      ],
      "execution_count": null,
      "outputs": [
        {
          "output_type": "stream",
          "text": [
            "OOB SCORE: 0.9412158108520118\n",
            "Training Accuracy: 0.9670771167520679\n",
            "Testing Accuracy: 0.9446140077106664\n"
          ],
          "name": "stdout"
        }
      ]
    },
    {
      "cell_type": "code",
      "metadata": {
        "id": "QdY4D6oYLXaa",
        "colab": {
          "base_uri": "https://localhost:8080/"
        },
        "outputId": "b9827af9-b6e7-4c53-8e60-7c0b2ad2f11a"
      },
      "source": [
        "print(classification_report(y_test,bgcl_DT.predict(x_test)))\n",
        "print(confusion_matrix(y_test,bgcl_DT.predict(x_test)))"
      ],
      "execution_count": null,
      "outputs": [
        {
          "output_type": "stream",
          "text": [
            "              precision    recall  f1-score   support\n",
            "\n",
            "           1       0.95      0.93      0.94     63514\n",
            "           2       0.94      0.96      0.95     85045\n",
            "           3       0.93      0.96      0.95     10747\n",
            "           4       0.90      0.85      0.88       804\n",
            "           5       0.91      0.77      0.83      2844\n",
            "           6       0.93      0.88      0.90      5235\n",
            "           7       0.97      0.93      0.95      6115\n",
            "\n",
            "    accuracy                           0.94    174304\n",
            "   macro avg       0.93      0.90      0.91    174304\n",
            "weighted avg       0.94      0.94      0.94    174304\n",
            "\n",
            "[[59298  4031     1     0    31     1   152]\n",
            " [ 2700 81869   164     5   162   111    34]\n",
            " [    2   181 10291    44     8   221     0]\n",
            " [    0     0   101   684     0    19     0]\n",
            " [   38   556    49     0  2180    21     0]\n",
            " [    4   155   418    23     5  4630     0]\n",
            " [  386    31     0     0     0     0  5698]]\n"
          ],
          "name": "stdout"
        }
      ]
    },
    {
      "cell_type": "markdown",
      "metadata": {
        "id": "v-ytGWooLXac"
      },
      "source": [
        "#### Random Forest Bag"
      ]
    },
    {
      "cell_type": "code",
      "metadata": {
        "id": "oHAjlJslLXad",
        "colab": {
          "base_uri": "https://localhost:8080/",
          "height": 412
        },
        "outputId": "5d1e5b5d-446e-46b8-8c79-6cc75633f6c2"
      },
      "source": [
        "bgcl_RF = BaggingClassifier(base_estimator=base_RF,n_estimators=51,oob_score=True,random_state=25)\n",
        "bgcl_RF.fit(x_train, y_train)"
      ],
      "execution_count": null,
      "outputs": [
        {
          "output_type": "execute_result",
          "data": {
            "text/plain": [
              "BaggingClassifier(base_estimator=RandomForestClassifier(bootstrap=True,\n",
              "                                                        ccp_alpha=0.0,\n",
              "                                                        class_weight=None,\n",
              "                                                        criterion='entropy',\n",
              "                                                        max_depth=19,\n",
              "                                                        max_features='auto',\n",
              "                                                        max_leaf_nodes=None,\n",
              "                                                        max_samples=None,\n",
              "                                                        min_impurity_decrease=0.0,\n",
              "                                                        min_impurity_split=None,\n",
              "                                                        min_samples_leaf=10,\n",
              "                                                        min_samples_split=10,\n",
              "                                                        min_weight_fraction_leaf=0.0,\n",
              "                                                        n_estimators=100,\n",
              "                                                        n_jobs=None,\n",
              "                                                        oob_score=False,\n",
              "                                                        random_state=25,\n",
              "                                                        verbose=0,\n",
              "                                                        warm_start=False),\n",
              "                  bootstrap=True, bootstrap_features=False, max_features=1.0,\n",
              "                  max_samples=1.0, n_estimators=51, n_jobs=None, oob_score=True,\n",
              "                  random_state=25, verbose=0, warm_start=False)"
            ]
          },
          "metadata": {
            "tags": []
          },
          "execution_count": 51
        }
      ]
    },
    {
      "cell_type": "code",
      "metadata": {
        "id": "Pk8BMIqlLXaf",
        "colab": {
          "base_uri": "https://localhost:8080/",
          "height": 70
        },
        "outputId": "29a7f448-ed4f-40cc-82d1-14f68a80cf5e"
      },
      "source": [
        "print('OOB SCORE:',bgcl_RF.oob_score_)\n",
        "print('Training Accuracy:',bgcl_RF.score(x_train,y_train))\n",
        "print('Testing Accuracy:',bgcl_RF.score(x_test,y_test))"
      ],
      "execution_count": null,
      "outputs": [
        {
          "output_type": "stream",
          "text": [
            "OOB SCORE: 0.928985906350502\n",
            "Training Accuracy: 0.9482159190377372\n",
            "Testing Accuracy: 0.9295483752524325\n"
          ],
          "name": "stdout"
        }
      ]
    },
    {
      "cell_type": "code",
      "metadata": {
        "id": "O8NobvBRLXai",
        "colab": {
          "base_uri": "https://localhost:8080/",
          "height": 394
        },
        "outputId": "b96d6da2-eaac-44f6-f1dc-3e896ac494e9"
      },
      "source": [
        "print(classification_report(y_test,bgcl_RF.predict(x_test)))\n",
        "print(confusion_matrix(y_test,bgcl_RF.predict(x_test)))"
      ],
      "execution_count": null,
      "outputs": [
        {
          "output_type": "stream",
          "text": [
            "              precision    recall  f1-score   support\n",
            "\n",
            "           1       0.94      0.91      0.93     63514\n",
            "           2       0.92      0.96      0.94     85045\n",
            "           3       0.91      0.95      0.93     10747\n",
            "           4       0.90      0.80      0.85       804\n",
            "           5       0.93      0.64      0.76      2844\n",
            "           6       0.92      0.84      0.87      5235\n",
            "           7       0.97      0.90      0.94      6115\n",
            "\n",
            "    accuracy                           0.93    174304\n",
            "   macro avg       0.93      0.86      0.89    174304\n",
            "weighted avg       0.93      0.93      0.93    174304\n",
            "\n",
            "[[57859  5482     1     0    15     8   149]\n",
            " [ 2937 81604   226     5   118   129    26]\n",
            " [    3   281 10189    40     2   232     0]\n",
            " [    0     0   141   646     0    17     0]\n",
            " [   40   928    50     0  1815    11     0]\n",
            " [    0   276   550    28     1  4380     0]\n",
            " [  542    42     0     0     0     0  5531]]\n"
          ],
          "name": "stdout"
        }
      ]
    },
    {
      "cell_type": "markdown",
      "metadata": {
        "id": "D3yZKhTvLXam"
      },
      "source": [
        "#### KNN Bag"
      ]
    },
    {
      "cell_type": "code",
      "metadata": {
        "id": "kdmgQOYQLXam",
        "colab": {
          "base_uri": "https://localhost:8080/",
          "height": 196
        },
        "outputId": "312c2bb8-3c2d-443b-a970-bc6ae7d51667"
      },
      "source": [
        "bgcl_KN = BaggingClassifier(base_estimator=base_KNN,n_estimators=51,oob_score=True,random_state=25)\n",
        "bgcl_KN.fit(x_train_k, y_train_k)"
      ],
      "execution_count": null,
      "outputs": [
        {
          "output_type": "execute_result",
          "data": {
            "text/plain": [
              "BaggingClassifier(base_estimator=KNeighborsClassifier(algorithm='auto',\n",
              "                                                      leaf_size=30,\n",
              "                                                      metric='cityblock',\n",
              "                                                      metric_params=None,\n",
              "                                                      n_jobs=None,\n",
              "                                                      n_neighbors=4, p=2,\n",
              "                                                      weights='distance'),\n",
              "                  bootstrap=True, bootstrap_features=False, max_features=1.0,\n",
              "                  max_samples=1.0, n_estimators=51, n_jobs=None, oob_score=True,\n",
              "                  random_state=25, verbose=0, warm_start=False)"
            ]
          },
          "metadata": {
            "tags": []
          },
          "execution_count": 38
        }
      ]
    },
    {
      "cell_type": "code",
      "metadata": {
        "id": "Tu7suSvpLXap",
        "colab": {
          "base_uri": "https://localhost:8080/",
          "height": 70
        },
        "outputId": "5afc84d5-8cab-4fca-9c36-bed5cd453628"
      },
      "source": [
        "print('OOB SCORE:',bgcl_KN.oob_score_)\n",
        "print('Training Accuracy:',bgcl_KN.score(x_train_k,y_train_k))\n",
        "print('Testing Accuracy:',bgcl_KN.score(x_test_k,y_test_k))"
      ],
      "execution_count": null,
      "outputs": [
        {
          "output_type": "stream",
          "text": [
            "OOB SCORE: 0.9215235500654032\n",
            "Training Accuracy: 0.9998377214119221\n",
            "Testing Accuracy: 0.9233236185055994\n"
          ],
          "name": "stdout"
        }
      ]
    },
    {
      "cell_type": "code",
      "metadata": {
        "id": "haZfZdjmLXar",
        "colab": {
          "base_uri": "https://localhost:8080/",
          "height": 394
        },
        "outputId": "a7169b14-74d4-4a8d-fdfb-a4c18a1ebc4c"
      },
      "source": [
        "print(classification_report(y_test_k,bgcl_KN.predict(x_test_k)))\n",
        "print(confusion_matrix(y_test_k,bgcl_KN.predict(x_test_k)))"
      ],
      "execution_count": null,
      "outputs": [
        {
          "output_type": "stream",
          "text": [
            "              precision    recall  f1-score   support\n",
            "\n",
            "           1       0.93      0.91      0.92     63514\n",
            "           2       0.93      0.94      0.94     85045\n",
            "           3       0.91      0.92      0.91     10747\n",
            "           4       0.87      0.82      0.84       804\n",
            "           5       0.82      0.75      0.79      2844\n",
            "           6       0.84      0.84      0.84      5235\n",
            "           7       0.94      0.93      0.94      6115\n",
            "\n",
            "    accuracy                           0.92    174304\n",
            "   macro avg       0.89      0.87      0.88    174304\n",
            "weighted avg       0.92      0.92      0.92    174304\n",
            "\n",
            "[[58108  5037     6     0    52    14   297]\n",
            " [ 3946 80094   325     6   358   272    44]\n",
            " [   10   285  9854    65    33   500     0]\n",
            " [    0     3   102   657     0    42     0]\n",
            " [   80   556    45     0  2141    21     1]\n",
            " [   17   260   509    30    19  4400     0]\n",
            " [  391    39     0     0     0     0  5685]]\n"
          ],
          "name": "stdout"
        }
      ]
    },
    {
      "cell_type": "markdown",
      "metadata": {
        "id": "7mGq9FvxLXat"
      },
      "source": [
        "### AdaBoost"
      ]
    },
    {
      "cell_type": "code",
      "metadata": {
        "id": "PFgzWBKNLXau"
      },
      "source": [
        "from sklearn.ensemble import AdaBoostClassifier\n",
        "\n",
        "abcl_DT = AdaBoostClassifier(base_estimator=base_DT,n_estimators=50,random_state=25)\n",
        "\n",
        "abcl_RF = AdaBoostClassifier(base_estimator=base_RF,n_estimators=50,random_state=25)"
      ],
      "execution_count": null,
      "outputs": []
    },
    {
      "cell_type": "markdown",
      "metadata": {
        "id": "yGQOVsr-S-iT"
      },
      "source": [
        "#### Decision Tree"
      ]
    },
    {
      "cell_type": "code",
      "metadata": {
        "scrolled": true,
        "id": "q7ApBzdGLXax",
        "colab": {
          "base_uri": "https://localhost:8080/",
          "height": 52
        },
        "outputId": "bcade9b9-edb5-46f0-f3f0-b608c45c6943"
      },
      "source": [
        "abcl_DT.fit(x_train,y_train)\n",
        "print('Training Accuracy:',abcl_DT.score(x_train,y_train))\n",
        "print('Testing Accuracy:',abcl_DT.score(x_test,y_test))"
      ],
      "execution_count": null,
      "outputs": [
        {
          "output_type": "stream",
          "text": [
            "Training Accuracy: 0.9999237782389331\n",
            "Testing Accuracy: 0.9446197448136588\n"
          ],
          "name": "stdout"
        }
      ]
    },
    {
      "cell_type": "code",
      "metadata": {
        "id": "1PUu4HWLLXa0",
        "colab": {
          "base_uri": "https://localhost:8080/",
          "height": 394
        },
        "outputId": "08cf34c9-5b74-4dd6-90d1-c3905531e755"
      },
      "source": [
        "print(classification_report(y_test,abcl_DT.predict(x_test)))\n",
        "print(confusion_matrix(y_test,abcl_DT.predict(x_test)))"
      ],
      "execution_count": null,
      "outputs": [
        {
          "output_type": "stream",
          "text": [
            "              precision    recall  f1-score   support\n",
            "\n",
            "           1       0.95      0.93      0.94     63514\n",
            "           2       0.94      0.96      0.95     85045\n",
            "           3       0.94      0.96      0.95     10747\n",
            "           4       0.95      0.81      0.87       804\n",
            "           5       0.96      0.71      0.82      2844\n",
            "           6       0.94      0.89      0.91      5235\n",
            "           7       0.98      0.93      0.95      6115\n",
            "\n",
            "    accuracy                           0.94    174304\n",
            "   macro avg       0.95      0.89      0.92    174304\n",
            "weighted avg       0.94      0.94      0.94    174304\n",
            "\n",
            "[[59245  4182     0     0     9     0    78]\n",
            " [ 2682 82060   158     2    60    69    14]\n",
            " [    3   196 10357    13     3   175     0]\n",
            " [    0     0   128   650     0    26     0]\n",
            " [   42   725    31     0  2032    14     0]\n",
            " [    1   194   369    20     2  4649     0]\n",
            " [  417    40     0     0     0     0  5658]]\n"
          ],
          "name": "stdout"
        }
      ]
    },
    {
      "cell_type": "markdown",
      "metadata": {
        "id": "FE6WbDIZTB5c"
      },
      "source": [
        "#### Random Forest"
      ]
    },
    {
      "cell_type": "code",
      "metadata": {
        "id": "HFS1FH_fLXa2",
        "colab": {
          "base_uri": "https://localhost:8080/",
          "height": 52
        },
        "outputId": "ed279138-a68f-468b-afdc-9ad413e3aa03"
      },
      "source": [
        "abcl_RF.fit(x_train,y_train)\n",
        "print('Training Accuracy:',abcl_RF.score(x_train,y_train))\n",
        "print('Testing Accuracy:',abcl_RF.score(x_test,y_test))"
      ],
      "execution_count": null,
      "outputs": [
        {
          "output_type": "stream",
          "text": [
            "Training Accuracy: 0.6407840514570651\n",
            "Testing Accuracy: 0.6122292087387553\n"
          ],
          "name": "stdout"
        }
      ]
    },
    {
      "cell_type": "code",
      "metadata": {
        "id": "ogw7SEEALXbJ",
        "colab": {
          "base_uri": "https://localhost:8080/",
          "height": 394
        },
        "outputId": "50f0840e-d725-4662-e297-c48af7c876eb"
      },
      "source": [
        "print(classification_report(y_test,abcl_RF.predict(x_test)))\n",
        "print(confusion_matrix(y_test,abcl_RF.predict(x_test)))"
      ],
      "execution_count": null,
      "outputs": [
        {
          "output_type": "stream",
          "text": [
            "              precision    recall  f1-score   support\n",
            "\n",
            "           1       0.50      1.00      0.66     63514\n",
            "           2       0.97      0.32      0.48     85045\n",
            "           3       0.87      0.93      0.90     10747\n",
            "           4       0.87      0.70      0.77       804\n",
            "           5       0.96      0.40      0.57      2844\n",
            "           6       0.88      0.72      0.79      5235\n",
            "           7       1.00      0.08      0.14      6115\n",
            "\n",
            "    accuracy                           0.61    174304\n",
            "   macro avg       0.86      0.59      0.62    174304\n",
            "weighted avg       0.79      0.61      0.57    174304\n",
            "\n",
            "[[63455    58     0     0     1     0     0]\n",
            " [57318 27291   252     2    42   140     0]\n",
            " [  126   230 10007    57     7   320     0]\n",
            " [    1     0   196   559     0    48     0]\n",
            " [ 1196   469    30     0  1143     6     0]\n",
            " [  254   181   993    21     1  3785     0]\n",
            " [ 5641     0     0     0     0     0   474]]\n"
          ],
          "name": "stdout"
        }
      ]
    },
    {
      "cell_type": "markdown",
      "metadata": {
        "id": "K9HKJWwILXbL"
      },
      "source": [
        "### Gradient Boost"
      ]
    },
    {
      "cell_type": "code",
      "metadata": {
        "id": "Dcb3SW-CLXbL",
        "colab": {
          "base_uri": "https://localhost:8080/",
          "height": 196
        },
        "outputId": "eac69cd7-7e3b-49f6-df8b-03f31196a8a4"
      },
      "source": [
        "from sklearn.ensemble import GradientBoostingClassifier\n",
        "\n",
        "gbcl = GradientBoostingClassifier(random_state = 25,\n",
        "                                  max_depth=19, \n",
        "                                  min_samples_leaf=10,\n",
        "                                  min_samples_split=10,\n",
        "                                  n_estimators = 50)\n",
        "gbcl.fit(x_train, y_train)"
      ],
      "execution_count": null,
      "outputs": [
        {
          "output_type": "execute_result",
          "data": {
            "text/plain": [
              "GradientBoostingClassifier(ccp_alpha=0.0, criterion='friedman_mse', init=None,\n",
              "                           learning_rate=0.1, loss='deviance', max_depth=19,\n",
              "                           max_features=None, max_leaf_nodes=None,\n",
              "                           min_impurity_decrease=0.0, min_impurity_split=None,\n",
              "                           min_samples_leaf=10, min_samples_split=10,\n",
              "                           min_weight_fraction_leaf=0.0, n_estimators=50,\n",
              "                           n_iter_no_change=None, presort='deprecated',\n",
              "                           random_state=25, subsample=1.0, tol=0.0001,\n",
              "                           validation_fraction=0.1, verbose=0,\n",
              "                           warm_start=False)"
            ]
          },
          "metadata": {
            "tags": []
          },
          "execution_count": 37
        }
      ]
    },
    {
      "cell_type": "code",
      "metadata": {
        "id": "6VdRE2dnLXbO",
        "colab": {
          "base_uri": "https://localhost:8080/",
          "height": 52
        },
        "outputId": "8ad008e8-2b9f-435c-8bb4-e573acdfe4b8"
      },
      "source": [
        "print('Training Score:',gbcl.score(x_train,y_train))\n",
        "print('Testing Score:',gbcl.score(x_test,y_test))"
      ],
      "execution_count": null,
      "outputs": [
        {
          "output_type": "stream",
          "text": [
            "Training Score: 0.9987779930564434\n",
            "Testing Score: 0.9688131081329172\n"
          ],
          "name": "stdout"
        }
      ]
    },
    {
      "cell_type": "code",
      "metadata": {
        "id": "KkNRO68PLXbQ",
        "colab": {
          "base_uri": "https://localhost:8080/",
          "height": 394
        },
        "outputId": "8caebcde-f937-433e-c607-ea9421d1000c"
      },
      "source": [
        "print(classification_report(y_test,gbcl.predict(x_test)))\n",
        "print(confusion_matrix(y_test,gbcl.predict(x_test)))"
      ],
      "execution_count": null,
      "outputs": [
        {
          "output_type": "stream",
          "text": [
            "              precision    recall  f1-score   support\n",
            "\n",
            "           1       0.98      0.97      0.97     63514\n",
            "           2       0.97      0.98      0.98     85045\n",
            "           3       0.95      0.95      0.95     10747\n",
            "           4       0.75      0.78      0.76       804\n",
            "           5       0.92      0.84      0.88      2844\n",
            "           6       0.93      0.90      0.92      5235\n",
            "           7       0.98      0.96      0.97      6115\n",
            "\n",
            "    accuracy                           0.97    174304\n",
            "   macro avg       0.92      0.91      0.92    174304\n",
            "weighted avg       0.97      0.97      0.97    174304\n",
            "\n",
            "[[61594  1784     3     6    21     4   102]\n",
            " [ 1219 83418   131     9   151    99    18]\n",
            " [    4   159 10210   140    26   208     0]\n",
            " [    3    11   120   627     1    42     0]\n",
            " [   29   374    27     1  2401    12     0]\n",
            " [    8   145   289    57     4  4732     0]\n",
            " [  197    29     0     1     1     1  5886]]\n"
          ],
          "name": "stdout"
        }
      ]
    },
    {
      "cell_type": "code",
      "metadata": {
        "id": "Wgtu-xRSyfxL"
      },
      "source": [
        ""
      ],
      "execution_count": null,
      "outputs": []
    },
    {
      "cell_type": "markdown",
      "metadata": {
        "id": "WkxgihfJzZEG"
      },
      "source": [
        "## Smote"
      ]
    },
    {
      "cell_type": "code",
      "metadata": {
        "id": "_yU1cWjQJqCJ",
        "colab": {
          "base_uri": "https://localhost:8080/",
          "height": 108
        },
        "outputId": "ada9d548-aceb-4501-b934-d0cee80f914e"
      },
      "source": [
        "from imblearn.over_sampling import SMOTE\n",
        "from imblearn.under_sampling import RandomUnderSampler"
      ],
      "execution_count": null,
      "outputs": [
        {
          "output_type": "stream",
          "text": [
            "/usr/local/lib/python3.6/dist-packages/sklearn/externals/six.py:31: FutureWarning: The module is deprecated in version 0.21 and will be removed in version 0.23 since we've dropped support for Python 2.7. Please rely on the official version of six (https://pypi.org/project/six/).\n",
            "  \"(https://pypi.org/project/six/).\", FutureWarning)\n",
            "/usr/local/lib/python3.6/dist-packages/sklearn/utils/deprecation.py:144: FutureWarning: The sklearn.neighbors.base module is  deprecated in version 0.22 and will be removed in version 0.24. The corresponding classes / functions should instead be imported from sklearn.neighbors. Anything that cannot be imported from sklearn.neighbors is now part of the private API.\n",
            "  warnings.warn(message, FutureWarning)\n"
          ],
          "name": "stderr"
        }
      ]
    },
    {
      "cell_type": "code",
      "metadata": {
        "id": "udNSvc29Jnmk"
      },
      "source": [
        "x = forest_a.drop(columns = ['Cover_Type'])\n",
        "y = forest_a['Cover_Type']"
      ],
      "execution_count": null,
      "outputs": []
    },
    {
      "cell_type": "markdown",
      "metadata": {
        "id": "A2u4nVAeTRGt"
      },
      "source": [
        "Undersampling cover_type '1' & '2' a little as they are most densely distributed cover_types. Also, without loosing much on their given information."
      ]
    },
    {
      "cell_type": "code",
      "metadata": {
        "id": "FiO6RzNOTIwZ",
        "colab": {
          "base_uri": "https://localhost:8080/",
          "height": 52
        },
        "outputId": "9886aa73-8ed2-464a-af2f-8f5240f7210c"
      },
      "source": [
        "rus = RandomUnderSampler(sampling_strategy = {1:190000,2:250000}, random_state=25)\n",
        "X_rus, y_rus = rus.fit_sample(x, y)"
      ],
      "execution_count": null,
      "outputs": [
        {
          "output_type": "stream",
          "text": [
            "/usr/local/lib/python3.6/dist-packages/sklearn/utils/deprecation.py:87: FutureWarning: Function safe_indexing is deprecated; safe_indexing is deprecated in version 0.22 and will be removed in version 0.24.\n",
            "  warnings.warn(msg, category=FutureWarning)\n"
          ],
          "name": "stderr"
        }
      ]
    },
    {
      "cell_type": "code",
      "metadata": {
        "id": "QBEY32njTl8o",
        "colab": {
          "base_uri": "https://localhost:8080/",
          "height": 160
        },
        "outputId": "2fb810fb-3a64-4e0b-c964-12f0ba963382"
      },
      "source": [
        "a = pd.DataFrame({'y_rus':y_rus})\n",
        "a['y_rus'].value_counts()"
      ],
      "execution_count": null,
      "outputs": [
        {
          "output_type": "execute_result",
          "data": {
            "text/plain": [
              "2    250000\n",
              "1    190000\n",
              "3     35754\n",
              "7     20510\n",
              "6     17367\n",
              "5      9493\n",
              "4      2747\n",
              "Name: y_rus, dtype: int64"
            ]
          },
          "metadata": {
            "tags": []
          },
          "execution_count": 26
        }
      ]
    },
    {
      "cell_type": "markdown",
      "metadata": {
        "id": "fhz2QlSGTxpP"
      },
      "source": [
        "Oversampling the other cover_types based on their original distribution, without disturbing data too much."
      ]
    },
    {
      "cell_type": "code",
      "metadata": {
        "id": "6B5rQIt8HxOX"
      },
      "source": [
        "smote = SMOTE(sampling_strategy = {3:44000,4:6000,5:15000,6:25000,7:30000}, random_state = 25)"
      ],
      "execution_count": null,
      "outputs": []
    },
    {
      "cell_type": "code",
      "metadata": {
        "id": "bILx-4NQMtp9",
        "colab": {
          "base_uri": "https://localhost:8080/",
          "height": 196
        },
        "outputId": "979cdaf3-1816-41ba-a331-eab4a10a4dc8"
      },
      "source": [
        "x_smote, y_smote = smote.fit_sample(X_rus,y_rus)"
      ],
      "execution_count": null,
      "outputs": [
        {
          "output_type": "stream",
          "text": [
            "/usr/local/lib/python3.6/dist-packages/sklearn/utils/deprecation.py:87: FutureWarning: Function safe_indexing is deprecated; safe_indexing is deprecated in version 0.22 and will be removed in version 0.24.\n",
            "  warnings.warn(msg, category=FutureWarning)\n",
            "/usr/local/lib/python3.6/dist-packages/sklearn/utils/deprecation.py:87: FutureWarning: Function safe_indexing is deprecated; safe_indexing is deprecated in version 0.22 and will be removed in version 0.24.\n",
            "  warnings.warn(msg, category=FutureWarning)\n",
            "/usr/local/lib/python3.6/dist-packages/sklearn/utils/deprecation.py:87: FutureWarning: Function safe_indexing is deprecated; safe_indexing is deprecated in version 0.22 and will be removed in version 0.24.\n",
            "  warnings.warn(msg, category=FutureWarning)\n",
            "/usr/local/lib/python3.6/dist-packages/sklearn/utils/deprecation.py:87: FutureWarning: Function safe_indexing is deprecated; safe_indexing is deprecated in version 0.22 and will be removed in version 0.24.\n",
            "  warnings.warn(msg, category=FutureWarning)\n",
            "/usr/local/lib/python3.6/dist-packages/sklearn/utils/deprecation.py:87: FutureWarning: Function safe_indexing is deprecated; safe_indexing is deprecated in version 0.22 and will be removed in version 0.24.\n",
            "  warnings.warn(msg, category=FutureWarning)\n"
          ],
          "name": "stderr"
        }
      ]
    },
    {
      "cell_type": "code",
      "metadata": {
        "id": "hHjKo3MhM5_W"
      },
      "source": [
        "a = pd.DataFrame({'Cover_Type':y_smote})"
      ],
      "execution_count": null,
      "outputs": []
    },
    {
      "cell_type": "code",
      "metadata": {
        "id": "BCpitt_tlV4r",
        "colab": {
          "base_uri": "https://localhost:8080/",
          "height": 160
        },
        "outputId": "463a67df-d7fe-4dfa-ed05-aa450349f42e"
      },
      "source": [
        "a['Cover_Type'].value_counts()"
      ],
      "execution_count": null,
      "outputs": [
        {
          "output_type": "execute_result",
          "data": {
            "text/plain": [
              "2    250000\n",
              "1    190000\n",
              "3     44000\n",
              "7     30000\n",
              "6     25000\n",
              "5     15000\n",
              "4      6000\n",
              "Name: Cover_Type, dtype: int64"
            ]
          },
          "metadata": {
            "tags": []
          },
          "execution_count": 30
        }
      ]
    },
    {
      "cell_type": "code",
      "metadata": {
        "id": "duukUVonQe6t",
        "colab": {
          "base_uri": "https://localhost:8080/",
          "height": 189
        },
        "outputId": "6bb728be-f849-4f07-9635-0cc83819fa43"
      },
      "source": [
        "b = pd.DataFrame(x_smote)\n",
        "b.head()"
      ],
      "execution_count": null,
      "outputs": [
        {
          "output_type": "execute_result",
          "data": {
            "text/html": [
              "<div>\n",
              "<style scoped>\n",
              "    .dataframe tbody tr th:only-of-type {\n",
              "        vertical-align: middle;\n",
              "    }\n",
              "\n",
              "    .dataframe tbody tr th {\n",
              "        vertical-align: top;\n",
              "    }\n",
              "\n",
              "    .dataframe thead th {\n",
              "        text-align: right;\n",
              "    }\n",
              "</style>\n",
              "<table border=\"1\" class=\"dataframe\">\n",
              "  <thead>\n",
              "    <tr style=\"text-align: right;\">\n",
              "      <th></th>\n",
              "      <th>0</th>\n",
              "      <th>1</th>\n",
              "      <th>2</th>\n",
              "      <th>3</th>\n",
              "      <th>4</th>\n",
              "      <th>5</th>\n",
              "      <th>6</th>\n",
              "      <th>7</th>\n",
              "      <th>8</th>\n",
              "      <th>9</th>\n",
              "      <th>10</th>\n",
              "      <th>11</th>\n",
              "      <th>12</th>\n",
              "      <th>13</th>\n",
              "      <th>14</th>\n",
              "      <th>15</th>\n",
              "      <th>16</th>\n",
              "      <th>17</th>\n",
              "      <th>18</th>\n",
              "    </tr>\n",
              "  </thead>\n",
              "  <tbody>\n",
              "    <tr>\n",
              "      <th>0</th>\n",
              "      <td>3192.0</td>\n",
              "      <td>80.0</td>\n",
              "      <td>11.0</td>\n",
              "      <td>30.0</td>\n",
              "      <td>7.0</td>\n",
              "      <td>1670.0</td>\n",
              "      <td>234.0</td>\n",
              "      <td>221.0</td>\n",
              "      <td>118.0</td>\n",
              "      <td>1689.0</td>\n",
              "      <td>1.0</td>\n",
              "      <td>29.0</td>\n",
              "      <td>180.0</td>\n",
              "      <td>30.805844</td>\n",
              "      <td>191.000000</td>\n",
              "      <td>3359.0</td>\n",
              "      <td>1129.666667</td>\n",
              "      <td>859.5</td>\n",
              "      <td>13.134022</td>\n",
              "    </tr>\n",
              "    <tr>\n",
              "      <th>1</th>\n",
              "      <td>3288.0</td>\n",
              "      <td>39.0</td>\n",
              "      <td>16.0</td>\n",
              "      <td>671.0</td>\n",
              "      <td>212.0</td>\n",
              "      <td>722.0</td>\n",
              "      <td>219.0</td>\n",
              "      <td>204.0</td>\n",
              "      <td>116.0</td>\n",
              "      <td>834.0</td>\n",
              "      <td>1.0</td>\n",
              "      <td>22.0</td>\n",
              "      <td>385.0</td>\n",
              "      <td>703.693825</td>\n",
              "      <td>179.666667</td>\n",
              "      <td>1556.0</td>\n",
              "      <td>742.333333</td>\n",
              "      <td>752.5</td>\n",
              "      <td>17.533741</td>\n",
              "    </tr>\n",
              "    <tr>\n",
              "      <th>2</th>\n",
              "      <td>3271.0</td>\n",
              "      <td>274.0</td>\n",
              "      <td>11.0</td>\n",
              "      <td>626.0</td>\n",
              "      <td>37.0</td>\n",
              "      <td>601.0</td>\n",
              "      <td>192.0</td>\n",
              "      <td>243.0</td>\n",
              "      <td>191.0</td>\n",
              "      <td>716.0</td>\n",
              "      <td>3.0</td>\n",
              "      <td>32.0</td>\n",
              "      <td>210.0</td>\n",
              "      <td>627.092497</td>\n",
              "      <td>208.666667</td>\n",
              "      <td>1317.0</td>\n",
              "      <td>647.666667</td>\n",
              "      <td>671.0</td>\n",
              "      <td>3.382556</td>\n",
              "    </tr>\n",
              "    <tr>\n",
              "      <th>3</th>\n",
              "      <td>3223.0</td>\n",
              "      <td>75.0</td>\n",
              "      <td>17.0</td>\n",
              "      <td>85.0</td>\n",
              "      <td>9.0</td>\n",
              "      <td>1100.0</td>\n",
              "      <td>238.0</td>\n",
              "      <td>207.0</td>\n",
              "      <td>94.0</td>\n",
              "      <td>942.0</td>\n",
              "      <td>3.0</td>\n",
              "      <td>39.0</td>\n",
              "      <td>182.0</td>\n",
              "      <td>85.475143</td>\n",
              "      <td>179.666667</td>\n",
              "      <td>2042.0</td>\n",
              "      <td>709.000000</td>\n",
              "      <td>513.5</td>\n",
              "      <td>6.044092</td>\n",
              "    </tr>\n",
              "    <tr>\n",
              "      <th>4</th>\n",
              "      <td>3243.0</td>\n",
              "      <td>199.0</td>\n",
              "      <td>17.0</td>\n",
              "      <td>150.0</td>\n",
              "      <td>28.0</td>\n",
              "      <td>927.0</td>\n",
              "      <td>212.0</td>\n",
              "      <td>252.0</td>\n",
              "      <td>170.0</td>\n",
              "      <td>1087.0</td>\n",
              "      <td>1.0</td>\n",
              "      <td>23.0</td>\n",
              "      <td>201.0</td>\n",
              "      <td>152.590956</td>\n",
              "      <td>211.333333</td>\n",
              "      <td>2014.0</td>\n",
              "      <td>721.333333</td>\n",
              "      <td>618.5</td>\n",
              "      <td>10.573523</td>\n",
              "    </tr>\n",
              "  </tbody>\n",
              "</table>\n",
              "</div>"
            ],
            "text/plain": [
              "       0      1     2      3   ...      15           16     17         18\n",
              "0  3192.0   80.0  11.0   30.0  ...  3359.0  1129.666667  859.5  13.134022\n",
              "1  3288.0   39.0  16.0  671.0  ...  1556.0   742.333333  752.5  17.533741\n",
              "2  3271.0  274.0  11.0  626.0  ...  1317.0   647.666667  671.0   3.382556\n",
              "3  3223.0   75.0  17.0   85.0  ...  2042.0   709.000000  513.5   6.044092\n",
              "4  3243.0  199.0  17.0  150.0  ...  2014.0   721.333333  618.5  10.573523\n",
              "\n",
              "[5 rows x 19 columns]"
            ]
          },
          "metadata": {
            "tags": []
          },
          "execution_count": 31
        }
      ]
    },
    {
      "cell_type": "markdown",
      "metadata": {
        "id": "9G_G7MrBUMdE"
      },
      "source": [
        "Storing the data after doing smote in a dataframe named 'forest_smote1'"
      ]
    },
    {
      "cell_type": "code",
      "metadata": {
        "id": "Ryg66EMmbXSP",
        "colab": {
          "base_uri": "https://localhost:8080/",
          "height": 209
        },
        "outputId": "a3df4507-f184-46cc-cd8c-cd356e10070a"
      },
      "source": [
        "forest_smote1 = b.copy()\n",
        "forest_smote1.columns = forest_a.drop(columns = ['Cover_Type']).columns\n",
        "forest_smote1.head()"
      ],
      "execution_count": null,
      "outputs": [
        {
          "output_type": "execute_result",
          "data": {
            "text/html": [
              "<div>\n",
              "<style scoped>\n",
              "    .dataframe tbody tr th:only-of-type {\n",
              "        vertical-align: middle;\n",
              "    }\n",
              "\n",
              "    .dataframe tbody tr th {\n",
              "        vertical-align: top;\n",
              "    }\n",
              "\n",
              "    .dataframe thead th {\n",
              "        text-align: right;\n",
              "    }\n",
              "</style>\n",
              "<table border=\"1\" class=\"dataframe\">\n",
              "  <thead>\n",
              "    <tr style=\"text-align: right;\">\n",
              "      <th></th>\n",
              "      <th>Elevation</th>\n",
              "      <th>Aspect</th>\n",
              "      <th>Slope</th>\n",
              "      <th>Horizontal_Distance_To_Hydrology</th>\n",
              "      <th>Vertical_Distance_To_Hydrology</th>\n",
              "      <th>Horizontal_Distance_To_Roadways</th>\n",
              "      <th>Hillshade_9am</th>\n",
              "      <th>Hillshade_Noon</th>\n",
              "      <th>Hillshade_3pm</th>\n",
              "      <th>Horizontal_Distance_To_Fire_Points</th>\n",
              "      <th>Wilderness</th>\n",
              "      <th>Soil</th>\n",
              "      <th>Vertical_Scaled</th>\n",
              "      <th>Hydr_Dist</th>\n",
              "      <th>Hillshades</th>\n",
              "      <th>Fire_Road</th>\n",
              "      <th>Avg_Horizontal</th>\n",
              "      <th>Fire_Hydr</th>\n",
              "      <th>Hydr_Slope</th>\n",
              "    </tr>\n",
              "  </thead>\n",
              "  <tbody>\n",
              "    <tr>\n",
              "      <th>0</th>\n",
              "      <td>3192.0</td>\n",
              "      <td>80.0</td>\n",
              "      <td>11.0</td>\n",
              "      <td>30.0</td>\n",
              "      <td>7.0</td>\n",
              "      <td>1670.0</td>\n",
              "      <td>234.0</td>\n",
              "      <td>221.0</td>\n",
              "      <td>118.0</td>\n",
              "      <td>1689.0</td>\n",
              "      <td>1.0</td>\n",
              "      <td>29.0</td>\n",
              "      <td>180.0</td>\n",
              "      <td>30.805844</td>\n",
              "      <td>191.000000</td>\n",
              "      <td>3359.0</td>\n",
              "      <td>1129.666667</td>\n",
              "      <td>859.5</td>\n",
              "      <td>13.134022</td>\n",
              "    </tr>\n",
              "    <tr>\n",
              "      <th>1</th>\n",
              "      <td>3288.0</td>\n",
              "      <td>39.0</td>\n",
              "      <td>16.0</td>\n",
              "      <td>671.0</td>\n",
              "      <td>212.0</td>\n",
              "      <td>722.0</td>\n",
              "      <td>219.0</td>\n",
              "      <td>204.0</td>\n",
              "      <td>116.0</td>\n",
              "      <td>834.0</td>\n",
              "      <td>1.0</td>\n",
              "      <td>22.0</td>\n",
              "      <td>385.0</td>\n",
              "      <td>703.693825</td>\n",
              "      <td>179.666667</td>\n",
              "      <td>1556.0</td>\n",
              "      <td>742.333333</td>\n",
              "      <td>752.5</td>\n",
              "      <td>17.533741</td>\n",
              "    </tr>\n",
              "    <tr>\n",
              "      <th>2</th>\n",
              "      <td>3271.0</td>\n",
              "      <td>274.0</td>\n",
              "      <td>11.0</td>\n",
              "      <td>626.0</td>\n",
              "      <td>37.0</td>\n",
              "      <td>601.0</td>\n",
              "      <td>192.0</td>\n",
              "      <td>243.0</td>\n",
              "      <td>191.0</td>\n",
              "      <td>716.0</td>\n",
              "      <td>3.0</td>\n",
              "      <td>32.0</td>\n",
              "      <td>210.0</td>\n",
              "      <td>627.092497</td>\n",
              "      <td>208.666667</td>\n",
              "      <td>1317.0</td>\n",
              "      <td>647.666667</td>\n",
              "      <td>671.0</td>\n",
              "      <td>3.382556</td>\n",
              "    </tr>\n",
              "    <tr>\n",
              "      <th>3</th>\n",
              "      <td>3223.0</td>\n",
              "      <td>75.0</td>\n",
              "      <td>17.0</td>\n",
              "      <td>85.0</td>\n",
              "      <td>9.0</td>\n",
              "      <td>1100.0</td>\n",
              "      <td>238.0</td>\n",
              "      <td>207.0</td>\n",
              "      <td>94.0</td>\n",
              "      <td>942.0</td>\n",
              "      <td>3.0</td>\n",
              "      <td>39.0</td>\n",
              "      <td>182.0</td>\n",
              "      <td>85.475143</td>\n",
              "      <td>179.666667</td>\n",
              "      <td>2042.0</td>\n",
              "      <td>709.000000</td>\n",
              "      <td>513.5</td>\n",
              "      <td>6.044092</td>\n",
              "    </tr>\n",
              "    <tr>\n",
              "      <th>4</th>\n",
              "      <td>3243.0</td>\n",
              "      <td>199.0</td>\n",
              "      <td>17.0</td>\n",
              "      <td>150.0</td>\n",
              "      <td>28.0</td>\n",
              "      <td>927.0</td>\n",
              "      <td>212.0</td>\n",
              "      <td>252.0</td>\n",
              "      <td>170.0</td>\n",
              "      <td>1087.0</td>\n",
              "      <td>1.0</td>\n",
              "      <td>23.0</td>\n",
              "      <td>201.0</td>\n",
              "      <td>152.590956</td>\n",
              "      <td>211.333333</td>\n",
              "      <td>2014.0</td>\n",
              "      <td>721.333333</td>\n",
              "      <td>618.5</td>\n",
              "      <td>10.573523</td>\n",
              "    </tr>\n",
              "  </tbody>\n",
              "</table>\n",
              "</div>"
            ],
            "text/plain": [
              "   Elevation  Aspect  Slope  ...  Avg_Horizontal  Fire_Hydr  Hydr_Slope\n",
              "0     3192.0    80.0   11.0  ...     1129.666667      859.5   13.134022\n",
              "1     3288.0    39.0   16.0  ...      742.333333      752.5   17.533741\n",
              "2     3271.0   274.0   11.0  ...      647.666667      671.0    3.382556\n",
              "3     3223.0    75.0   17.0  ...      709.000000      513.5    6.044092\n",
              "4     3243.0   199.0   17.0  ...      721.333333      618.5   10.573523\n",
              "\n",
              "[5 rows x 19 columns]"
            ]
          },
          "metadata": {
            "tags": []
          },
          "execution_count": 32
        }
      ]
    },
    {
      "cell_type": "code",
      "metadata": {
        "id": "nMIike46lrIj"
      },
      "source": [
        "forest_smote1['Cover_Type'] = a['Cover_Type']"
      ],
      "execution_count": null,
      "outputs": []
    },
    {
      "cell_type": "code",
      "metadata": {
        "id": "gVMeLLAOK7lE",
        "colab": {
          "base_uri": "https://localhost:8080/",
          "height": 502
        },
        "outputId": "d193b432-bfb7-4bf1-a55e-f94a483bf3a1"
      },
      "source": [
        "forest_smote1.info()"
      ],
      "execution_count": null,
      "outputs": [
        {
          "output_type": "stream",
          "text": [
            "<class 'pandas.core.frame.DataFrame'>\n",
            "RangeIndex: 560000 entries, 0 to 559999\n",
            "Data columns (total 20 columns):\n",
            " #   Column                              Non-Null Count   Dtype  \n",
            "---  ------                              --------------   -----  \n",
            " 0   Elevation                           560000 non-null  float64\n",
            " 1   Aspect                              560000 non-null  float64\n",
            " 2   Slope                               560000 non-null  float64\n",
            " 3   Horizontal_Distance_To_Hydrology    560000 non-null  float64\n",
            " 4   Vertical_Distance_To_Hydrology      560000 non-null  float64\n",
            " 5   Horizontal_Distance_To_Roadways     560000 non-null  float64\n",
            " 6   Hillshade_9am                       560000 non-null  float64\n",
            " 7   Hillshade_Noon                      560000 non-null  float64\n",
            " 8   Hillshade_3pm                       560000 non-null  float64\n",
            " 9   Horizontal_Distance_To_Fire_Points  560000 non-null  float64\n",
            " 10  Wilderness                          560000 non-null  float64\n",
            " 11  Soil                                560000 non-null  float64\n",
            " 12  Vertical_Scaled                     560000 non-null  float64\n",
            " 13  Hydr_Dist                           560000 non-null  float64\n",
            " 14  Hillshades                          560000 non-null  float64\n",
            " 15  Fire_Road                           560000 non-null  float64\n",
            " 16  Avg_Horizontal                      560000 non-null  float64\n",
            " 17  Fire_Hydr                           560000 non-null  float64\n",
            " 18  Hydr_Slope                          560000 non-null  float64\n",
            " 19  Cover_Type                          560000 non-null  int64  \n",
            "dtypes: float64(19), int64(1)\n",
            "memory usage: 85.4 MB\n"
          ],
          "name": "stdout"
        }
      ]
    },
    {
      "cell_type": "markdown",
      "metadata": {
        "id": "qq1N7yEJUdOO"
      },
      "source": [
        "Converting Wilderness, soil and cover_type columns to category."
      ]
    },
    {
      "cell_type": "code",
      "metadata": {
        "id": "j3UhuEtNiKtT"
      },
      "source": [
        "col = ['Wilderness','Soil','Cover_Type']\n",
        "for i in col:\n",
        "  forest_smote1[i] = forest_smote1[i].astype('category')"
      ],
      "execution_count": null,
      "outputs": []
    },
    {
      "cell_type": "code",
      "metadata": {
        "id": "-iDz3SH-0H80",
        "colab": {
          "base_uri": "https://localhost:8080/",
          "height": 502
        },
        "outputId": "6989108f-12ac-475f-ab88-b067c383fac4"
      },
      "source": [
        "forest_smote1.info()"
      ],
      "execution_count": null,
      "outputs": [
        {
          "output_type": "stream",
          "text": [
            "<class 'pandas.core.frame.DataFrame'>\n",
            "RangeIndex: 560000 entries, 0 to 559999\n",
            "Data columns (total 20 columns):\n",
            " #   Column                              Non-Null Count   Dtype   \n",
            "---  ------                              --------------   -----   \n",
            " 0   Elevation                           560000 non-null  float64 \n",
            " 1   Aspect                              560000 non-null  float64 \n",
            " 2   Slope                               560000 non-null  float64 \n",
            " 3   Horizontal_Distance_To_Hydrology    560000 non-null  float64 \n",
            " 4   Vertical_Distance_To_Hydrology      560000 non-null  float64 \n",
            " 5   Horizontal_Distance_To_Roadways     560000 non-null  float64 \n",
            " 6   Hillshade_9am                       560000 non-null  float64 \n",
            " 7   Hillshade_Noon                      560000 non-null  float64 \n",
            " 8   Hillshade_3pm                       560000 non-null  float64 \n",
            " 9   Horizontal_Distance_To_Fire_Points  560000 non-null  float64 \n",
            " 10  Wilderness                          560000 non-null  category\n",
            " 11  Soil                                560000 non-null  category\n",
            " 12  Vertical_Scaled                     560000 non-null  float64 \n",
            " 13  Hydr_Dist                           560000 non-null  float64 \n",
            " 14  Hillshades                          560000 non-null  float64 \n",
            " 15  Fire_Road                           560000 non-null  float64 \n",
            " 16  Avg_Horizontal                      560000 non-null  float64 \n",
            " 17  Fire_Hydr                           560000 non-null  float64 \n",
            " 18  Hydr_Slope                          560000 non-null  float64 \n",
            " 19  Cover_Type                          560000 non-null  category\n",
            "dtypes: category(3), float64(17)\n",
            "memory usage: 75.5 MB\n"
          ],
          "name": "stdout"
        }
      ]
    },
    {
      "cell_type": "markdown",
      "metadata": {
        "id": "W_MD20Zx1dqU"
      },
      "source": [
        "## Modelling on Smote data"
      ]
    },
    {
      "cell_type": "markdown",
      "metadata": {
        "id": "q1VGIftM1dqX"
      },
      "source": [
        "### Decision Tree"
      ]
    },
    {
      "cell_type": "code",
      "metadata": {
        "id": "C3sXEBy51dqa"
      },
      "source": [
        "from sklearn.model_selection import train_test_split\n",
        "from sklearn.metrics import classification_report, confusion_matrix, accuracy_score\n",
        "from sklearn.tree import DecisionTreeClassifier\n",
        "import warnings\n",
        "warnings.filterwarnings(\"ignore\")"
      ],
      "execution_count": null,
      "outputs": []
    },
    {
      "cell_type": "markdown",
      "metadata": {
        "id": "jOe0h1HrKP-v"
      },
      "source": [
        "Dividing data into x (independent variable) and y (dependent variable) and then splitting data into train and test in 7:3 ratio"
      ]
    },
    {
      "cell_type": "code",
      "metadata": {
        "id": "lHsu1WvD1dqk"
      },
      "source": [
        "x = forest_smote1.drop(columns = ['Cover_Type','Vertical_Scaled'])\n",
        "y = forest_smote1['Cover_Type']"
      ],
      "execution_count": null,
      "outputs": []
    },
    {
      "cell_type": "code",
      "metadata": {
        "id": "oyz4szqB1dqt"
      },
      "source": [
        "x_train, x_test, y_train, y_test = train_test_split(x, y, test_size = .3, random_state=25)"
      ],
      "execution_count": null,
      "outputs": []
    },
    {
      "cell_type": "code",
      "metadata": {
        "id": "D5cB9U0_1dq3",
        "colab": {
          "base_uri": "https://localhost:8080/",
          "height": 124
        },
        "outputId": "2987d4db-cbf0-46e0-eb36-fec6362123e9"
      },
      "source": [
        "dt = DecisionTreeClassifier(criterion = \"entropy\", \n",
        "                                  random_state = 25,\n",
        "                                  max_depth=19, \n",
        "                                  min_samples_leaf=10,\n",
        "                                  min_samples_split=10)\n",
        "dt.fit(x_train, y_train)"
      ],
      "execution_count": null,
      "outputs": [
        {
          "output_type": "execute_result",
          "data": {
            "text/plain": [
              "DecisionTreeClassifier(ccp_alpha=0.0, class_weight=None, criterion='entropy',\n",
              "                       max_depth=19, max_features=None, max_leaf_nodes=None,\n",
              "                       min_impurity_decrease=0.0, min_impurity_split=None,\n",
              "                       min_samples_leaf=10, min_samples_split=10,\n",
              "                       min_weight_fraction_leaf=0.0, presort='deprecated',\n",
              "                       random_state=25, splitter='best')"
            ]
          },
          "metadata": {
            "tags": []
          },
          "execution_count": 61
        }
      ]
    },
    {
      "cell_type": "code",
      "metadata": {
        "id": "Qu2SgCuX1dq-",
        "colab": {
          "base_uri": "https://localhost:8080/",
          "height": 52
        },
        "outputId": "3596fd31-8c57-40a6-f5be-93ee98d52e53"
      },
      "source": [
        "print('Training Score:',dt.score(x_train, y_train))\n",
        "print('Testing Score:',dt.score(x_test, y_test))"
      ],
      "execution_count": null,
      "outputs": [
        {
          "output_type": "stream",
          "text": [
            "Training Score: 0.9347780612244898\n",
            "Testing Score: 0.9044642857142857\n"
          ],
          "name": "stdout"
        }
      ]
    },
    {
      "cell_type": "code",
      "metadata": {
        "id": "36-Ge99h1drG",
        "colab": {
          "base_uri": "https://localhost:8080/",
          "height": 394
        },
        "outputId": "8c532bf1-4b58-4795-d0f4-1de826cdfe2c"
      },
      "source": [
        "y_pred = dt.predict(x_test)\n",
        "print(classification_report(y_test,y_pred))\n",
        "print(confusion_matrix(y_test,y_pred))"
      ],
      "execution_count": null,
      "outputs": [
        {
          "output_type": "stream",
          "text": [
            "              precision    recall  f1-score   support\n",
            "\n",
            "           1       0.90      0.89      0.89     57141\n",
            "           2       0.91      0.91      0.91     75000\n",
            "           3       0.92      0.92      0.92     13131\n",
            "           4       0.91      0.88      0.89      1797\n",
            "           5       0.85      0.83      0.84      4468\n",
            "           6       0.87      0.87      0.87      7534\n",
            "           7       0.95      0.95      0.95      8929\n",
            "\n",
            "    accuracy                           0.90    168000\n",
            "   macro avg       0.90      0.89      0.90    168000\n",
            "weighted avg       0.90      0.90      0.90    168000\n",
            "\n",
            "[[50959  5699     6     0    93    24   360]\n",
            " [ 5351 68574   276     1   497   254    47]\n",
            " [    1   293 12079   125    30   603     0]\n",
            " [    0     4   157  1582     0    54     0]\n",
            " [   66   634    38     0  3705    25     0]\n",
            " [   18   281   601    39    18  6577     0]\n",
            " [  375    80     0     0     0     0  8474]]\n"
          ],
          "name": "stdout"
        }
      ]
    },
    {
      "cell_type": "code",
      "metadata": {
        "id": "te3Aos_W1drL",
        "colab": {
          "base_uri": "https://localhost:8080/",
          "height": 559
        },
        "outputId": "377a954a-423a-420e-97a3-87f747feed4f"
      },
      "source": [
        "pd.DataFrame({'columns':x.columns,'Importance':dt.feature_importances_})"
      ],
      "execution_count": null,
      "outputs": [
        {
          "output_type": "execute_result",
          "data": {
            "text/html": [
              "<div>\n",
              "<style scoped>\n",
              "    .dataframe tbody tr th:only-of-type {\n",
              "        vertical-align: middle;\n",
              "    }\n",
              "\n",
              "    .dataframe tbody tr th {\n",
              "        vertical-align: top;\n",
              "    }\n",
              "\n",
              "    .dataframe thead th {\n",
              "        text-align: right;\n",
              "    }\n",
              "</style>\n",
              "<table border=\"1\" class=\"dataframe\">\n",
              "  <thead>\n",
              "    <tr style=\"text-align: right;\">\n",
              "      <th></th>\n",
              "      <th>columns</th>\n",
              "      <th>Importance</th>\n",
              "    </tr>\n",
              "  </thead>\n",
              "  <tbody>\n",
              "    <tr>\n",
              "      <th>0</th>\n",
              "      <td>Elevation</td>\n",
              "      <td>0.440129</td>\n",
              "    </tr>\n",
              "    <tr>\n",
              "      <th>1</th>\n",
              "      <td>Aspect</td>\n",
              "      <td>0.014991</td>\n",
              "    </tr>\n",
              "    <tr>\n",
              "      <th>2</th>\n",
              "      <td>Slope</td>\n",
              "      <td>0.006444</td>\n",
              "    </tr>\n",
              "    <tr>\n",
              "      <th>3</th>\n",
              "      <td>Horizontal_Distance_To_Hydrology</td>\n",
              "      <td>0.017903</td>\n",
              "    </tr>\n",
              "    <tr>\n",
              "      <th>4</th>\n",
              "      <td>Vertical_Distance_To_Hydrology</td>\n",
              "      <td>0.015585</td>\n",
              "    </tr>\n",
              "    <tr>\n",
              "      <th>5</th>\n",
              "      <td>Horizontal_Distance_To_Roadways</td>\n",
              "      <td>0.067705</td>\n",
              "    </tr>\n",
              "    <tr>\n",
              "      <th>6</th>\n",
              "      <td>Hillshade_9am</td>\n",
              "      <td>0.023299</td>\n",
              "    </tr>\n",
              "    <tr>\n",
              "      <th>7</th>\n",
              "      <td>Hillshade_Noon</td>\n",
              "      <td>0.015257</td>\n",
              "    </tr>\n",
              "    <tr>\n",
              "      <th>8</th>\n",
              "      <td>Hillshade_3pm</td>\n",
              "      <td>0.011112</td>\n",
              "    </tr>\n",
              "    <tr>\n",
              "      <th>9</th>\n",
              "      <td>Horizontal_Distance_To_Fire_Points</td>\n",
              "      <td>0.052241</td>\n",
              "    </tr>\n",
              "    <tr>\n",
              "      <th>10</th>\n",
              "      <td>Wilderness</td>\n",
              "      <td>0.042485</td>\n",
              "    </tr>\n",
              "    <tr>\n",
              "      <th>11</th>\n",
              "      <td>Soil</td>\n",
              "      <td>0.110698</td>\n",
              "    </tr>\n",
              "    <tr>\n",
              "      <th>12</th>\n",
              "      <td>Hydr_Dist</td>\n",
              "      <td>0.023506</td>\n",
              "    </tr>\n",
              "    <tr>\n",
              "      <th>13</th>\n",
              "      <td>Hillshades</td>\n",
              "      <td>0.007655</td>\n",
              "    </tr>\n",
              "    <tr>\n",
              "      <th>14</th>\n",
              "      <td>Fire_Road</td>\n",
              "      <td>0.056446</td>\n",
              "    </tr>\n",
              "    <tr>\n",
              "      <th>15</th>\n",
              "      <td>Avg_Horizontal</td>\n",
              "      <td>0.035804</td>\n",
              "    </tr>\n",
              "    <tr>\n",
              "      <th>16</th>\n",
              "      <td>Fire_Hydr</td>\n",
              "      <td>0.041890</td>\n",
              "    </tr>\n",
              "    <tr>\n",
              "      <th>17</th>\n",
              "      <td>Hydr_Slope</td>\n",
              "      <td>0.016847</td>\n",
              "    </tr>\n",
              "  </tbody>\n",
              "</table>\n",
              "</div>"
            ],
            "text/plain": [
              "                               columns  Importance\n",
              "0                            Elevation    0.440129\n",
              "1                               Aspect    0.014991\n",
              "2                                Slope    0.006444\n",
              "3     Horizontal_Distance_To_Hydrology    0.017903\n",
              "4       Vertical_Distance_To_Hydrology    0.015585\n",
              "5      Horizontal_Distance_To_Roadways    0.067705\n",
              "6                        Hillshade_9am    0.023299\n",
              "7                       Hillshade_Noon    0.015257\n",
              "8                        Hillshade_3pm    0.011112\n",
              "9   Horizontal_Distance_To_Fire_Points    0.052241\n",
              "10                          Wilderness    0.042485\n",
              "11                                Soil    0.110698\n",
              "12                           Hydr_Dist    0.023506\n",
              "13                          Hillshades    0.007655\n",
              "14                           Fire_Road    0.056446\n",
              "15                      Avg_Horizontal    0.035804\n",
              "16                           Fire_Hydr    0.041890\n",
              "17                          Hydr_Slope    0.016847"
            ]
          },
          "metadata": {
            "tags": []
          },
          "execution_count": 64
        }
      ]
    },
    {
      "cell_type": "markdown",
      "metadata": {
        "id": "jhEEaHgz1drR"
      },
      "source": [
        "### Random Forest"
      ]
    },
    {
      "cell_type": "code",
      "metadata": {
        "id": "SoasrisP1drS"
      },
      "source": [
        "from sklearn.ensemble import RandomForestClassifier"
      ],
      "execution_count": null,
      "outputs": []
    },
    {
      "cell_type": "code",
      "metadata": {
        "id": "u5Rfq8mq1drX",
        "colab": {
          "base_uri": "https://localhost:8080/",
          "height": 160
        },
        "outputId": "09fc29ad-f387-4b06-c373-25d29f8fd490"
      },
      "source": [
        "rforest = RandomForestClassifier(criterion = \"entropy\", \n",
        "                                  random_state = 25,\n",
        "                                  max_depth=19, \n",
        "                                  min_samples_leaf=10,\n",
        "                                  min_samples_split=10)\n",
        "rforest.fit(x_train, y_train)"
      ],
      "execution_count": null,
      "outputs": [
        {
          "output_type": "execute_result",
          "data": {
            "text/plain": [
              "RandomForestClassifier(bootstrap=True, ccp_alpha=0.0, class_weight=None,\n",
              "                       criterion='entropy', max_depth=19, max_features='auto',\n",
              "                       max_leaf_nodes=None, max_samples=None,\n",
              "                       min_impurity_decrease=0.0, min_impurity_split=None,\n",
              "                       min_samples_leaf=10, min_samples_split=10,\n",
              "                       min_weight_fraction_leaf=0.0, n_estimators=100,\n",
              "                       n_jobs=None, oob_score=False, random_state=25, verbose=0,\n",
              "                       warm_start=False)"
            ]
          },
          "metadata": {
            "tags": []
          },
          "execution_count": 66
        }
      ]
    },
    {
      "cell_type": "code",
      "metadata": {
        "id": "kYr-ajF8dV0q",
        "colab": {
          "base_uri": "https://localhost:8080/",
          "height": 52
        },
        "outputId": "1138c8ac-01ea-467e-cf5a-6e70cb78e59f"
      },
      "source": [
        "print('Training Score:',rforest.score(x_train,y_train))\n",
        "print('Testing Score:',rforest.score(x_test, y_test))"
      ],
      "execution_count": null,
      "outputs": [
        {
          "output_type": "stream",
          "text": [
            "Training Score: 0.9679821428571429\n",
            "Testing Score: 0.9446130952380952\n"
          ],
          "name": "stdout"
        }
      ]
    },
    {
      "cell_type": "code",
      "metadata": {
        "id": "p4qXHASX1drd",
        "colab": {
          "base_uri": "https://localhost:8080/",
          "height": 394
        },
        "outputId": "5d80191e-98fa-4a56-8236-cc3c1028c11d"
      },
      "source": [
        "y_pred = rforest.predict(x_test)\n",
        "print(classification_report(y_test,y_pred))\n",
        "print(confusion_matrix(y_test,y_pred))"
      ],
      "execution_count": null,
      "outputs": [
        {
          "output_type": "stream",
          "text": [
            "              precision    recall  f1-score   support\n",
            "\n",
            "           1       0.96      0.92      0.94     57141\n",
            "           2       0.94      0.96      0.95     75000\n",
            "           3       0.94      0.96      0.95     13131\n",
            "           4       0.94      0.92      0.93      1797\n",
            "           5       0.95      0.87      0.91      4468\n",
            "           6       0.93      0.92      0.93      7534\n",
            "           7       0.97      0.97      0.97      8929\n",
            "\n",
            "    accuracy                           0.94    168000\n",
            "   macro avg       0.95      0.93      0.94    168000\n",
            "weighted avg       0.94      0.94      0.94    168000\n",
            "\n",
            "[[52726  4175     2     0    28     9   201]\n",
            " [ 2184 72236   219     2   170   152    37]\n",
            " [    0   134 12628    62     9   298     0]\n",
            " [    0     0   112  1662     0    23     0]\n",
            " [   16   529    36     0  3873    14     0]\n",
            " [    0   142   407    41     3  6941     0]\n",
            " [  263    34     0     0     3     0  8629]]\n"
          ],
          "name": "stdout"
        }
      ]
    },
    {
      "cell_type": "code",
      "metadata": {
        "id": "Q3LijLAH1drh",
        "colab": {
          "base_uri": "https://localhost:8080/",
          "height": 559
        },
        "outputId": "2aba5aa2-a03f-4144-9282-cec6bdf38077"
      },
      "source": [
        "pd.DataFrame({'columns':x.columns,'Importance':rforest.feature_importances_})"
      ],
      "execution_count": null,
      "outputs": [
        {
          "output_type": "execute_result",
          "data": {
            "text/html": [
              "<div>\n",
              "<style scoped>\n",
              "    .dataframe tbody tr th:only-of-type {\n",
              "        vertical-align: middle;\n",
              "    }\n",
              "\n",
              "    .dataframe tbody tr th {\n",
              "        vertical-align: top;\n",
              "    }\n",
              "\n",
              "    .dataframe thead th {\n",
              "        text-align: right;\n",
              "    }\n",
              "</style>\n",
              "<table border=\"1\" class=\"dataframe\">\n",
              "  <thead>\n",
              "    <tr style=\"text-align: right;\">\n",
              "      <th></th>\n",
              "      <th>columns</th>\n",
              "      <th>Importance</th>\n",
              "    </tr>\n",
              "  </thead>\n",
              "  <tbody>\n",
              "    <tr>\n",
              "      <th>0</th>\n",
              "      <td>Elevation</td>\n",
              "      <td>0.276939</td>\n",
              "    </tr>\n",
              "    <tr>\n",
              "      <th>1</th>\n",
              "      <td>Aspect</td>\n",
              "      <td>0.021180</td>\n",
              "    </tr>\n",
              "    <tr>\n",
              "      <th>2</th>\n",
              "      <td>Slope</td>\n",
              "      <td>0.012026</td>\n",
              "    </tr>\n",
              "    <tr>\n",
              "      <th>3</th>\n",
              "      <td>Horizontal_Distance_To_Hydrology</td>\n",
              "      <td>0.022812</td>\n",
              "    </tr>\n",
              "    <tr>\n",
              "      <th>4</th>\n",
              "      <td>Vertical_Distance_To_Hydrology</td>\n",
              "      <td>0.019907</td>\n",
              "    </tr>\n",
              "    <tr>\n",
              "      <th>5</th>\n",
              "      <td>Horizontal_Distance_To_Roadways</td>\n",
              "      <td>0.064350</td>\n",
              "    </tr>\n",
              "    <tr>\n",
              "      <th>6</th>\n",
              "      <td>Hillshade_9am</td>\n",
              "      <td>0.021471</td>\n",
              "    </tr>\n",
              "    <tr>\n",
              "      <th>7</th>\n",
              "      <td>Hillshade_Noon</td>\n",
              "      <td>0.016686</td>\n",
              "    </tr>\n",
              "    <tr>\n",
              "      <th>8</th>\n",
              "      <td>Hillshade_3pm</td>\n",
              "      <td>0.015512</td>\n",
              "    </tr>\n",
              "    <tr>\n",
              "      <th>9</th>\n",
              "      <td>Horizontal_Distance_To_Fire_Points</td>\n",
              "      <td>0.046639</td>\n",
              "    </tr>\n",
              "    <tr>\n",
              "      <th>10</th>\n",
              "      <td>Wilderness</td>\n",
              "      <td>0.062157</td>\n",
              "    </tr>\n",
              "    <tr>\n",
              "      <th>11</th>\n",
              "      <td>Soil</td>\n",
              "      <td>0.186461</td>\n",
              "    </tr>\n",
              "    <tr>\n",
              "      <th>12</th>\n",
              "      <td>Hydr_Dist</td>\n",
              "      <td>0.024395</td>\n",
              "    </tr>\n",
              "    <tr>\n",
              "      <th>13</th>\n",
              "      <td>Hillshades</td>\n",
              "      <td>0.013892</td>\n",
              "    </tr>\n",
              "    <tr>\n",
              "      <th>14</th>\n",
              "      <td>Fire_Road</td>\n",
              "      <td>0.062897</td>\n",
              "    </tr>\n",
              "    <tr>\n",
              "      <th>15</th>\n",
              "      <td>Avg_Horizontal</td>\n",
              "      <td>0.063525</td>\n",
              "    </tr>\n",
              "    <tr>\n",
              "      <th>16</th>\n",
              "      <td>Fire_Hydr</td>\n",
              "      <td>0.047968</td>\n",
              "    </tr>\n",
              "    <tr>\n",
              "      <th>17</th>\n",
              "      <td>Hydr_Slope</td>\n",
              "      <td>0.021183</td>\n",
              "    </tr>\n",
              "  </tbody>\n",
              "</table>\n",
              "</div>"
            ],
            "text/plain": [
              "                               columns  Importance\n",
              "0                            Elevation    0.276939\n",
              "1                               Aspect    0.021180\n",
              "2                                Slope    0.012026\n",
              "3     Horizontal_Distance_To_Hydrology    0.022812\n",
              "4       Vertical_Distance_To_Hydrology    0.019907\n",
              "5      Horizontal_Distance_To_Roadways    0.064350\n",
              "6                        Hillshade_9am    0.021471\n",
              "7                       Hillshade_Noon    0.016686\n",
              "8                        Hillshade_3pm    0.015512\n",
              "9   Horizontal_Distance_To_Fire_Points    0.046639\n",
              "10                          Wilderness    0.062157\n",
              "11                                Soil    0.186461\n",
              "12                           Hydr_Dist    0.024395\n",
              "13                          Hillshades    0.013892\n",
              "14                           Fire_Road    0.062897\n",
              "15                      Avg_Horizontal    0.063525\n",
              "16                           Fire_Hydr    0.047968\n",
              "17                          Hydr_Slope    0.021183"
            ]
          },
          "metadata": {
            "tags": []
          },
          "execution_count": 69
        }
      ]
    },
    {
      "cell_type": "markdown",
      "metadata": {
        "id": "kb1Cqucx1drn"
      },
      "source": [
        "### KNN"
      ]
    },
    {
      "cell_type": "markdown",
      "metadata": {
        "id": "QZlpL7CoKwp4"
      },
      "source": [
        "\n",
        "*   scaling all numerical columns and saving it in a dataframe 'x_std'\n",
        "*   concatenating all the independent data into a dataframe 'x_' \n",
        "*   dividing data to x_ (independent variable) and y_ (dependent variable)\n",
        "*   splitting data into train and test in 7:3 ratio"
      ]
    },
    {
      "cell_type": "code",
      "metadata": {
        "id": "UgMA8mlH1dro",
        "colab": {
          "base_uri": "https://localhost:8080/"
        },
        "outputId": "df98eafc-3559-4f11-83ed-f8683c4c88b3"
      },
      "source": [
        "from sklearn.preprocessing import StandardScaler\n",
        "\n",
        "x1 = forest_smote1.drop(columns= ['Cover_Type','Soil','Wilderness','Vertical_Scaled'])\n",
        "y_ = forest_smote1['Cover_Type']\n",
        "\n",
        "x_std = StandardScaler().fit_transform(x1)\n",
        "\n",
        "x_std = pd.DataFrame(x_std, columns = x1.columns)\n",
        "\n",
        "x_ = pd.concat([x_std,forest_smote1[['Soil','Wilderness']]], axis = 1)\n",
        "x_.head()"
      ],
      "execution_count": null,
      "outputs": [
        {
          "output_type": "execute_result",
          "data": {
            "text/html": [
              "<div>\n",
              "<style scoped>\n",
              "    .dataframe tbody tr th:only-of-type {\n",
              "        vertical-align: middle;\n",
              "    }\n",
              "\n",
              "    .dataframe tbody tr th {\n",
              "        vertical-align: top;\n",
              "    }\n",
              "\n",
              "    .dataframe thead th {\n",
              "        text-align: right;\n",
              "    }\n",
              "</style>\n",
              "<table border=\"1\" class=\"dataframe\">\n",
              "  <thead>\n",
              "    <tr style=\"text-align: right;\">\n",
              "      <th></th>\n",
              "      <th>Elevation</th>\n",
              "      <th>Aspect</th>\n",
              "      <th>Slope</th>\n",
              "      <th>Horizontal_Distance_To_Hydrology</th>\n",
              "      <th>Vertical_Distance_To_Hydrology</th>\n",
              "      <th>Horizontal_Distance_To_Roadways</th>\n",
              "      <th>Hillshade_9am</th>\n",
              "      <th>Hillshade_Noon</th>\n",
              "      <th>Hillshade_3pm</th>\n",
              "      <th>Horizontal_Distance_To_Fire_Points</th>\n",
              "      <th>Hydr_Dist</th>\n",
              "      <th>Hillshades</th>\n",
              "      <th>Fire_Road</th>\n",
              "      <th>Avg_Horizontal</th>\n",
              "      <th>Fire_Hydr</th>\n",
              "      <th>Hydr_Slope</th>\n",
              "      <th>Soil</th>\n",
              "      <th>Wilderness</th>\n",
              "    </tr>\n",
              "  </thead>\n",
              "  <tbody>\n",
              "    <tr>\n",
              "      <th>0</th>\n",
              "      <td>0.824993</td>\n",
              "      <td>-0.680594</td>\n",
              "      <td>-0.444941</td>\n",
              "      <td>-1.109565</td>\n",
              "      <td>-0.684543</td>\n",
              "      <td>-0.397925</td>\n",
              "      <td>0.806948</td>\n",
              "      <td>-0.088893</td>\n",
              "      <td>-0.613490</td>\n",
              "      <td>-0.184734</td>\n",
              "      <td>-1.114369</td>\n",
              "      <td>-0.083351</td>\n",
              "      <td>-0.364115</td>\n",
              "      <td>-0.458914</td>\n",
              "      <td>-0.357311</td>\n",
              "      <td>0.430281</td>\n",
              "      <td>29.0</td>\n",
              "      <td>1.0</td>\n",
              "    </tr>\n",
              "    <tr>\n",
              "      <th>1</th>\n",
              "      <td>1.139856</td>\n",
              "      <td>-1.046790</td>\n",
              "      <td>0.209780</td>\n",
              "      <td>1.895358</td>\n",
              "      <td>2.796892</td>\n",
              "      <td>-1.010570</td>\n",
              "      <td>0.259169</td>\n",
              "      <td>-0.929194</td>\n",
              "      <td>-0.664590</td>\n",
              "      <td>-0.838546</td>\n",
              "      <td>1.973946</td>\n",
              "      <td>-0.846651</td>\n",
              "      <td>-1.129868</td>\n",
              "      <td>-0.946347</td>\n",
              "      <td>-0.517189</td>\n",
              "      <td>0.925406</td>\n",
              "      <td>22.0</td>\n",
              "      <td>1.0</td>\n",
              "    </tr>\n",
              "    <tr>\n",
              "      <th>2</th>\n",
              "      <td>1.084099</td>\n",
              "      <td>1.052138</td>\n",
              "      <td>-0.444941</td>\n",
              "      <td>1.684404</td>\n",
              "      <td>-0.175065</td>\n",
              "      <td>-1.088767</td>\n",
              "      <td>-0.726835</td>\n",
              "      <td>0.998555</td>\n",
              "      <td>1.251671</td>\n",
              "      <td>-0.928780</td>\n",
              "      <td>1.622374</td>\n",
              "      <td>1.106501</td>\n",
              "      <td>-1.231374</td>\n",
              "      <td>-1.065479</td>\n",
              "      <td>-0.638965</td>\n",
              "      <td>-0.667104</td>\n",
              "      <td>32.0</td>\n",
              "      <td>3.0</td>\n",
              "    </tr>\n",
              "    <tr>\n",
              "      <th>3</th>\n",
              "      <td>0.926668</td>\n",
              "      <td>-0.725252</td>\n",
              "      <td>0.340724</td>\n",
              "      <td>-0.851732</td>\n",
              "      <td>-0.650578</td>\n",
              "      <td>-0.766288</td>\n",
              "      <td>0.953023</td>\n",
              "      <td>-0.780906</td>\n",
              "      <td>-1.226693</td>\n",
              "      <td>-0.755959</td>\n",
              "      <td>-0.863457</td>\n",
              "      <td>-0.846651</td>\n",
              "      <td>-0.923459</td>\n",
              "      <td>-0.988295</td>\n",
              "      <td>-0.874300</td>\n",
              "      <td>-0.367587</td>\n",
              "      <td>39.0</td>\n",
              "      <td>3.0</td>\n",
              "    </tr>\n",
              "    <tr>\n",
              "      <th>4</th>\n",
              "      <td>0.992264</td>\n",
              "      <td>0.382268</td>\n",
              "      <td>0.340724</td>\n",
              "      <td>-0.547021</td>\n",
              "      <td>-0.327908</td>\n",
              "      <td>-0.878089</td>\n",
              "      <td>0.003538</td>\n",
              "      <td>1.443421</td>\n",
              "      <td>0.715118</td>\n",
              "      <td>-0.645079</td>\n",
              "      <td>-0.555419</td>\n",
              "      <td>1.286101</td>\n",
              "      <td>-0.935351</td>\n",
              "      <td>-0.972774</td>\n",
              "      <td>-0.717410</td>\n",
              "      <td>0.142135</td>\n",
              "      <td>23.0</td>\n",
              "      <td>1.0</td>\n",
              "    </tr>\n",
              "  </tbody>\n",
              "</table>\n",
              "</div>"
            ],
            "text/plain": [
              "   Elevation    Aspect     Slope  ...  Hydr_Slope  Soil  Wilderness\n",
              "0   0.824993 -0.680594 -0.444941  ...    0.430281  29.0         1.0\n",
              "1   1.139856 -1.046790  0.209780  ...    0.925406  22.0         1.0\n",
              "2   1.084099  1.052138 -0.444941  ...   -0.667104  32.0         3.0\n",
              "3   0.926668 -0.725252  0.340724  ...   -0.367587  39.0         3.0\n",
              "4   0.992264  0.382268  0.340724  ...    0.142135  23.0         1.0\n",
              "\n",
              "[5 rows x 18 columns]"
            ]
          },
          "metadata": {
            "tags": []
          },
          "execution_count": 38
        }
      ]
    },
    {
      "cell_type": "code",
      "metadata": {
        "id": "7QD2Dus-1drr"
      },
      "source": [
        "x_train_k, x_test_k, y_train_k, y_test_k = train_test_split(x_, y_, test_size = .3, random_state=25)"
      ],
      "execution_count": null,
      "outputs": []
    },
    {
      "cell_type": "code",
      "metadata": {
        "id": "lngyWVOl1drv"
      },
      "source": [
        "from sklearn.neighbors import KNeighborsClassifier"
      ],
      "execution_count": null,
      "outputs": []
    },
    {
      "cell_type": "code",
      "metadata": {
        "id": "MqzfXWUz1drz"
      },
      "source": [
        "knn = KNeighborsClassifier(metric = 'cityblock', n_neighbors= 4, weights= 'distance')\n",
        "knn.fit(x_train_k,y_train_k)\n",
        "y_pred_k = knn.predict(x_test_k)"
      ],
      "execution_count": null,
      "outputs": []
    },
    {
      "cell_type": "code",
      "metadata": {
        "id": "6rbkfFk0dLRu",
        "colab": {
          "base_uri": "https://localhost:8080/",
          "height": 52
        },
        "outputId": "7756c755-9fab-4cdd-d554-bc77a771934e"
      },
      "source": [
        "print('Training Score:',knn.score(x_train_k,y_train_k))\n",
        "print('Testing Score:',knn.score(x_test_k,y_test_k))"
      ],
      "execution_count": null,
      "outputs": [
        {
          "output_type": "stream",
          "text": [
            "Training Score: 1.0\n",
            "Testing Score: 0.9474285714285714\n"
          ],
          "name": "stdout"
        }
      ]
    },
    {
      "cell_type": "code",
      "metadata": {
        "id": "4yVtilBg1dr2",
        "colab": {
          "base_uri": "https://localhost:8080/",
          "height": 394
        },
        "outputId": "456e33c6-dfc3-4779-ca17-8e04dc49fb19"
      },
      "source": [
        "print(classification_report(y_test_k, y_pred_k))\n",
        "print(confusion_matrix(y_test_k, y_pred_k))"
      ],
      "execution_count": null,
      "outputs": [
        {
          "output_type": "stream",
          "text": [
            "              precision    recall  f1-score   support\n",
            "\n",
            "           1       0.95      0.94      0.95     57141\n",
            "           2       0.95      0.95      0.95     75000\n",
            "           3       0.95      0.95      0.95     13131\n",
            "           4       0.92      0.93      0.93      1797\n",
            "           5       0.89      0.93      0.91      4468\n",
            "           6       0.90      0.93      0.91      7534\n",
            "           7       0.96      0.98      0.97      8929\n",
            "\n",
            "    accuracy                           0.95    168000\n",
            "   macro avg       0.93      0.94      0.94    168000\n",
            "weighted avg       0.95      0.95      0.95    168000\n",
            "\n",
            "[[53737  3011     2     0    72    14   305]\n",
            " [ 2626 71438   205     6   395   284    46]\n",
            " [    6   131 12440    94    22   438     0]\n",
            " [    0     5    77  1679     0    36     0]\n",
            " [   36   231    25     0  4166     9     1]\n",
            " [   10   157   338    44    11  6974     0]\n",
            " [  173    21     0     0     1     0  8734]]\n"
          ],
          "name": "stdout"
        }
      ]
    },
    {
      "cell_type": "markdown",
      "metadata": {
        "id": "9MvLMA6QBHYY"
      },
      "source": [
        "### Ensemble Tecniques on Smote data"
      ]
    },
    {
      "cell_type": "code",
      "metadata": {
        "id": "ddqnyqCJBHYY"
      },
      "source": [
        "#base_LR = LogisticRegression(random_state = 25)\n",
        "base_DT = DecisionTreeClassifier(criterion = \"entropy\", \n",
        "                                  random_state = 25,\n",
        "                                  max_depth=19, \n",
        "                                  min_samples_leaf=10,\n",
        "                                  min_samples_split=10)\n",
        "#base_NB = GaussianNB()\n",
        "base_RF = RandomForestClassifier(criterion = \"entropy\", \n",
        "                                  random_state = 25,\n",
        "                                  max_depth=19, \n",
        "                                  min_samples_leaf=10,\n",
        "                                  min_samples_split=10)\n",
        "base_KNN = KNeighborsClassifier(metric = 'cityblock', \n",
        "                                n_neighbors= 4, \n",
        "                                weights= 'distance')"
      ],
      "execution_count": null,
      "outputs": []
    },
    {
      "cell_type": "markdown",
      "metadata": {
        "id": "qO5rhiSLBHYc"
      },
      "source": [
        "### Bagging"
      ]
    },
    {
      "cell_type": "code",
      "metadata": {
        "id": "kD5yq1OtBHYd"
      },
      "source": [
        "from sklearn.ensemble import BaggingClassifier"
      ],
      "execution_count": null,
      "outputs": []
    },
    {
      "cell_type": "markdown",
      "metadata": {
        "id": "UOHk9v7WBHYf"
      },
      "source": [
        "#### Decision Bag"
      ]
    },
    {
      "cell_type": "code",
      "metadata": {
        "id": "wa1RmrW8BHYg",
        "colab": {
          "base_uri": "https://localhost:8080/",
          "height": 322
        },
        "outputId": "0f96ebfa-0a5f-4c77-a8f0-d234f899ce03"
      },
      "source": [
        "bgcl_DT = BaggingClassifier(base_estimator=base_DT,n_estimators=51,oob_score=True,random_state=25)\n",
        "bgcl_DT.fit(x_train, y_train)"
      ],
      "execution_count": null,
      "outputs": [
        {
          "output_type": "execute_result",
          "data": {
            "text/plain": [
              "BaggingClassifier(base_estimator=DecisionTreeClassifier(ccp_alpha=0.0,\n",
              "                                                        class_weight=None,\n",
              "                                                        criterion='entropy',\n",
              "                                                        max_depth=19,\n",
              "                                                        max_features=None,\n",
              "                                                        max_leaf_nodes=None,\n",
              "                                                        min_impurity_decrease=0.0,\n",
              "                                                        min_impurity_split=None,\n",
              "                                                        min_samples_leaf=10,\n",
              "                                                        min_samples_split=10,\n",
              "                                                        min_weight_fraction_leaf=0.0,\n",
              "                                                        presort='deprecated',\n",
              "                                                        random_state=25,\n",
              "                                                        splitter='best'),\n",
              "                  bootstrap=True, bootstrap_features=False, max_features=1.0,\n",
              "                  max_samples=1.0, n_estimators=51, n_jobs=None, oob_score=True,\n",
              "                  random_state=25, verbose=0, warm_start=False)"
            ]
          },
          "metadata": {
            "tags": []
          },
          "execution_count": 79
        }
      ]
    },
    {
      "cell_type": "code",
      "metadata": {
        "id": "tjonXbCCBHYi",
        "colab": {
          "base_uri": "https://localhost:8080/",
          "height": 70
        },
        "outputId": "cac83a86-6294-4898-d597-309881815f4d"
      },
      "source": [
        "print('OOB SCORE:',bgcl_DT.oob_score_)\n",
        "print('Training Accuracy:',bgcl_DT.score(x_train,y_train))\n",
        "print('Testing Accuracy:',bgcl_DT.score(x_test,y_test))"
      ],
      "execution_count": null,
      "outputs": [
        {
          "output_type": "stream",
          "text": [
            "OOB SCORE: 0.9428928571428571\n",
            "Training Accuracy: 0.9686377551020409\n",
            "Testing Accuracy: 0.9446964285714285\n"
          ],
          "name": "stdout"
        }
      ]
    },
    {
      "cell_type": "code",
      "metadata": {
        "id": "xaE0AzcbBHYl",
        "colab": {
          "base_uri": "https://localhost:8080/",
          "height": 394
        },
        "outputId": "8c70ebed-9497-4ef6-ddeb-62ff894f5fc9"
      },
      "source": [
        "print(classification_report(y_test,bgcl_DT.predict(x_test)))\n",
        "print(confusion_matrix(y_test,bgcl_DT.predict(x_test)))"
      ],
      "execution_count": null,
      "outputs": [
        {
          "output_type": "stream",
          "text": [
            "              precision    recall  f1-score   support\n",
            "\n",
            "           1       0.95      0.93      0.94     57141\n",
            "           2       0.94      0.96      0.95     75000\n",
            "           3       0.95      0.96      0.96     13131\n",
            "           4       0.94      0.92      0.93      1797\n",
            "           5       0.93      0.87      0.90      4468\n",
            "           6       0.94      0.93      0.93      7534\n",
            "           7       0.97      0.96      0.97      8929\n",
            "\n",
            "    accuracy                           0.94    168000\n",
            "   macro avg       0.95      0.93      0.94    168000\n",
            "weighted avg       0.94      0.94      0.94    168000\n",
            "\n",
            "[[53172  3688     1     0    49     9   222]\n",
            " [ 2667 71763   165     1   226   138    40]\n",
            " [    0   142 12644    65    13   267     0]\n",
            " [    0     2   114  1650     0    31     0]\n",
            " [   30   478    34     0  3908    18     0]\n",
            " [    3   133   366    34     7  6991     0]\n",
            " [  306    40     0     0     2     0  8581]]\n"
          ],
          "name": "stdout"
        }
      ]
    },
    {
      "cell_type": "markdown",
      "metadata": {
        "id": "Z-ExjFUYBHYn"
      },
      "source": [
        "#### Random Forest Bag"
      ]
    },
    {
      "cell_type": "code",
      "metadata": {
        "id": "DNZSHag8BHYo",
        "colab": {
          "base_uri": "https://localhost:8080/",
          "height": 412
        },
        "outputId": "60a4d90d-ed85-47aa-9501-b207a873da5a"
      },
      "source": [
        "bgcl_RF = BaggingClassifier(base_estimator=base_RF,n_estimators=51,oob_score=True,random_state=25)\n",
        "bgcl_RF.fit(x_train, y_train)"
      ],
      "execution_count": null,
      "outputs": [
        {
          "output_type": "execute_result",
          "data": {
            "text/plain": [
              "BaggingClassifier(base_estimator=RandomForestClassifier(bootstrap=True,\n",
              "                                                        ccp_alpha=0.0,\n",
              "                                                        class_weight=None,\n",
              "                                                        criterion='entropy',\n",
              "                                                        max_depth=19,\n",
              "                                                        max_features='auto',\n",
              "                                                        max_leaf_nodes=None,\n",
              "                                                        max_samples=None,\n",
              "                                                        min_impurity_decrease=0.0,\n",
              "                                                        min_impurity_split=None,\n",
              "                                                        min_samples_leaf=10,\n",
              "                                                        min_samples_split=10,\n",
              "                                                        min_weight_fraction_leaf=0.0,\n",
              "                                                        n_estimators=100,\n",
              "                                                        n_jobs=None,\n",
              "                                                        oob_score=False,\n",
              "                                                        random_state=25,\n",
              "                                                        verbose=0,\n",
              "                                                        warm_start=False),\n",
              "                  bootstrap=True, bootstrap_features=False, max_features=1.0,\n",
              "                  max_samples=1.0, n_estimators=51, n_jobs=None, oob_score=True,\n",
              "                  random_state=25, verbose=0, warm_start=False)"
            ]
          },
          "metadata": {
            "tags": []
          },
          "execution_count": 82
        }
      ]
    },
    {
      "cell_type": "code",
      "metadata": {
        "id": "g08hMhC1BHY6",
        "colab": {
          "base_uri": "https://localhost:8080/",
          "height": 70
        },
        "outputId": "91fac287-b98f-4ed7-b142-18345f2ac09a"
      },
      "source": [
        "print('OOB SCORE:',bgcl_RF.oob_score_)\n",
        "print('Training Accuracy:',bgcl_RF.score(x_train,y_train))\n",
        "print('Testing Accuracy:',bgcl_RF.score(x_test,y_test))"
      ],
      "execution_count": null,
      "outputs": [
        {
          "output_type": "stream",
          "text": [
            "OOB SCORE: 0.9328137755102041\n",
            "Training Accuracy: 0.9519668367346938\n",
            "Testing Accuracy: 0.9318511904761905\n"
          ],
          "name": "stdout"
        }
      ]
    },
    {
      "cell_type": "code",
      "metadata": {
        "id": "10tMnKg5BHY-",
        "colab": {
          "base_uri": "https://localhost:8080/",
          "height": 394
        },
        "outputId": "7133214b-073d-46a7-eb3e-c29adad64297"
      },
      "source": [
        "print(classification_report(y_test,bgcl_RF.predict(x_test)))\n",
        "print(confusion_matrix(y_test,bgcl_RF.predict(x_test)))"
      ],
      "execution_count": null,
      "outputs": [
        {
          "output_type": "stream",
          "text": [
            "              precision    recall  f1-score   support\n",
            "\n",
            "           1       0.94      0.91      0.92     57141\n",
            "           2       0.92      0.95      0.94     75000\n",
            "           3       0.93      0.96      0.94     13131\n",
            "           4       0.93      0.91      0.92      1797\n",
            "           5       0.95      0.81      0.87      4468\n",
            "           6       0.92      0.90      0.91      7534\n",
            "           7       0.97      0.95      0.96      8929\n",
            "\n",
            "    accuracy                           0.93    168000\n",
            "   macro avg       0.94      0.91      0.92    168000\n",
            "weighted avg       0.93      0.93      0.93    168000\n",
            "\n",
            "[[51820  5032     1     0    33    16   239]\n",
            " [ 2699 71622   288     3   170   181    37]\n",
            " [    1   183 12546    69     4   328     0]\n",
            " [    0     0   134  1639     0    24     0]\n",
            " [   22   745    53     0  3633    15     0]\n",
            " [    0   202   516    43     2  6771     0]\n",
            " [  368    39     0     0     2     0  8520]]\n"
          ],
          "name": "stdout"
        }
      ]
    },
    {
      "cell_type": "markdown",
      "metadata": {
        "id": "-yd6TNDLBHZB"
      },
      "source": [
        "#### KNN Bag"
      ]
    },
    {
      "cell_type": "code",
      "metadata": {
        "id": "uwc722uvBHZB",
        "colab": {
          "base_uri": "https://localhost:8080/",
          "height": 196
        },
        "outputId": "9b22af38-0574-4870-9226-905adcbd3ae0"
      },
      "source": [
        "bgcl_KN = BaggingClassifier(base_estimator=base_KNN,n_estimators=51,oob_score=True,random_state=25)\n",
        "bgcl_KN.fit(x_train_k, y_train_k)"
      ],
      "execution_count": null,
      "outputs": [
        {
          "output_type": "execute_result",
          "data": {
            "text/plain": [
              "BaggingClassifier(base_estimator=KNeighborsClassifier(algorithm='auto',\n",
              "                                                      leaf_size=30,\n",
              "                                                      metric='cityblock',\n",
              "                                                      metric_params=None,\n",
              "                                                      n_jobs=None,\n",
              "                                                      n_neighbors=4, p=2,\n",
              "                                                      weights='distance'),\n",
              "                  bootstrap=True, bootstrap_features=False, max_features=1.0,\n",
              "                  max_samples=1.0, n_estimators=51, n_jobs=None, oob_score=True,\n",
              "                  random_state=25, verbose=0, warm_start=False)"
            ]
          },
          "metadata": {
            "tags": []
          },
          "execution_count": 43
        }
      ]
    },
    {
      "cell_type": "code",
      "metadata": {
        "id": "KfzmCFDqBHZE",
        "colab": {
          "base_uri": "https://localhost:8080/",
          "height": 70
        },
        "outputId": "953580c3-5da4-4b8d-f677-dcd35cd30c7a"
      },
      "source": [
        "print('OOB SCORE:',bgcl_KN.oob_score_)\n",
        "print('Training Accuracy:',bgcl_KN.score(x_train_k,y_train_k))\n",
        "print('Testing Accuracy:',bgcl_KN.score(x_test_k,y_test_k))"
      ],
      "execution_count": null,
      "outputs": [
        {
          "output_type": "stream",
          "text": [
            "OOB SCORE: 0.9462882653061224\n",
            "Training Accuracy: 0.999859693877551\n",
            "Testing Accuracy: 0.9465357142857143\n"
          ],
          "name": "stdout"
        }
      ]
    },
    {
      "cell_type": "code",
      "metadata": {
        "id": "RIb5Ci2pBHZG",
        "colab": {
          "base_uri": "https://localhost:8080/",
          "height": 394
        },
        "outputId": "462566c8-9bea-42ed-86ef-5a37c850608c"
      },
      "source": [
        "print(classification_report(y_test_k,bgcl_KN.predict(x_test_k)))\n",
        "print(confusion_matrix(y_test_k,bgcl_KN.predict(x_test_k)))"
      ],
      "execution_count": null,
      "outputs": [
        {
          "output_type": "stream",
          "text": [
            "              precision    recall  f1-score   support\n",
            "\n",
            "           1       0.95      0.94      0.94     57141\n",
            "           2       0.95      0.95      0.95     75000\n",
            "           3       0.95      0.95      0.95     13131\n",
            "           4       0.92      0.93      0.93      1797\n",
            "           5       0.89      0.93      0.91      4468\n",
            "           6       0.89      0.92      0.91      7534\n",
            "           7       0.96      0.98      0.97      8929\n",
            "\n",
            "    accuracy                           0.95    168000\n",
            "   macro avg       0.93      0.94      0.94    168000\n",
            "weighted avg       0.95      0.95      0.95    168000\n",
            "\n",
            "[[53660  3057     4     0    77    15   328]\n",
            " [ 2588 71426   222     5   416   293    50]\n",
            " [    5   127 12421    97    21   460     0]\n",
            " [    0     5    78  1678     0    36     0]\n",
            " [   35   245    25     0  4149    13     1]\n",
            " [    9   154   363    47    12  6949     0]\n",
            " [  167    26     0     0     1     0  8735]]\n"
          ],
          "name": "stdout"
        }
      ]
    },
    {
      "cell_type": "markdown",
      "metadata": {
        "id": "AyPpP18mBHZJ"
      },
      "source": [
        "### AdaBoost"
      ]
    },
    {
      "cell_type": "code",
      "metadata": {
        "id": "3OZtGvwsBHZJ"
      },
      "source": [
        "from sklearn.ensemble import AdaBoostClassifier\n",
        "\n",
        "abcl_DT = AdaBoostClassifier(base_estimator=base_DT,n_estimators=50,random_state=25)\n",
        "\n",
        "abcl_RF = AdaBoostClassifier(base_estimator=base_RF,n_estimators=50,random_state=25)"
      ],
      "execution_count": null,
      "outputs": []
    },
    {
      "cell_type": "markdown",
      "metadata": {
        "id": "v2LOXpNHWN67"
      },
      "source": [
        "#### Decision Tree"
      ]
    },
    {
      "cell_type": "code",
      "metadata": {
        "scrolled": true,
        "id": "GfxI_GpVBHZY",
        "colab": {
          "base_uri": "https://localhost:8080/",
          "height": 52
        },
        "outputId": "e38b6705-e6db-449c-91cb-49bc2d33ea13"
      },
      "source": [
        "abcl_DT.fit(x_train,y_train)\n",
        "print('Training Accuracy:',abcl_DT.score(x_train,y_train))\n",
        "print('Testing Accuracy:',abcl_DT.score(x_test,y_test))"
      ],
      "execution_count": null,
      "outputs": [
        {
          "output_type": "stream",
          "text": [
            "Training Accuracy: 0.9999846938775511\n",
            "Testing Accuracy: 0.9593571428571429\n"
          ],
          "name": "stdout"
        }
      ]
    },
    {
      "cell_type": "code",
      "metadata": {
        "id": "dgm_-5C6BHZa",
        "colab": {
          "base_uri": "https://localhost:8080/",
          "height": 394
        },
        "outputId": "299167bf-943a-4937-8e19-27fa3e85b06c"
      },
      "source": [
        "print(classification_report(y_test,abcl_DT.predict(x_test)))\n",
        "print(confusion_matrix(y_test,abcl_DT.predict(x_test)))"
      ],
      "execution_count": null,
      "outputs": [
        {
          "output_type": "stream",
          "text": [
            "              precision    recall  f1-score   support\n",
            "\n",
            "           1       0.96      0.95      0.95     57141\n",
            "           2       0.95      0.97      0.96     75000\n",
            "           3       0.97      0.98      0.97     13131\n",
            "           4       0.97      0.94      0.96      1797\n",
            "           5       0.97      0.90      0.94      4468\n",
            "           6       0.97      0.96      0.96      7534\n",
            "           7       0.98      0.97      0.98      8929\n",
            "\n",
            "    accuracy                           0.96    168000\n",
            "   macro avg       0.97      0.95      0.96    168000\n",
            "weighted avg       0.96      0.96      0.96    168000\n",
            "\n",
            "[[54026  2986     0     0    15     1   113]\n",
            " [ 2010 72670   123     0    87    87    23]\n",
            " [    0   102 12845    34     4   146     0]\n",
            " [    0     0    77  1698     0    22     0]\n",
            " [   21   391    20     0  4031     5     0]\n",
            " [    2   111   199    19     1  7202     0]\n",
            " [  208    19     0     0     2     0  8700]]\n"
          ],
          "name": "stdout"
        }
      ]
    },
    {
      "cell_type": "markdown",
      "metadata": {
        "id": "5vDa4jMdWTIe"
      },
      "source": [
        "#### Random Forest"
      ]
    },
    {
      "cell_type": "code",
      "metadata": {
        "id": "5OgziLMdBHZf",
        "colab": {
          "base_uri": "https://localhost:8080/",
          "height": 52
        },
        "outputId": "9e7079da-c7d1-4ffe-c66d-fd10f04ac643"
      },
      "source": [
        "abcl_RF.fit(x_train,y_train)\n",
        "print('Training Accuracy:',abcl_RF.score(x_train,y_train))\n",
        "print('Testing Accuracy:',abcl_RF.score(x_test,y_test))"
      ],
      "execution_count": null,
      "outputs": [
        {
          "output_type": "stream",
          "text": [
            "Training Accuracy: 0.8682015306122449\n",
            "Testing Accuracy: 0.8300059523809524\n"
          ],
          "name": "stdout"
        }
      ]
    },
    {
      "cell_type": "code",
      "metadata": {
        "id": "QtYGvWC4BHZh",
        "colab": {
          "base_uri": "https://localhost:8080/",
          "height": 394
        },
        "outputId": "e554b259-bdb3-4726-8597-79e1686e8409"
      },
      "source": [
        "print(classification_report(y_test,abcl_RF.predict(x_test)))\n",
        "print(confusion_matrix(y_test,abcl_RF.predict(x_test)))"
      ],
      "execution_count": null,
      "outputs": [
        {
          "output_type": "stream",
          "text": [
            "              precision    recall  f1-score   support\n",
            "\n",
            "           1       0.87      0.71      0.78     57141\n",
            "           2       0.88      0.89      0.88     75000\n",
            "           3       0.91      0.91      0.91     13131\n",
            "           4       0.93      0.82      0.87      1797\n",
            "           5       0.87      0.83      0.85      4468\n",
            "           6       0.82      0.87      0.85      7534\n",
            "           7       0.48      0.98      0.64      8929\n",
            "\n",
            "    accuracy                           0.83    168000\n",
            "   macro avg       0.82      0.86      0.82    168000\n",
            "weighted avg       0.85      0.83      0.83    168000\n",
            "\n",
            "[[40303  8560     0     0   163    11  8104]\n",
            " [ 6000 66750   181     1   372   350  1346]\n",
            " [   12   156 11927    83    21   932     0]\n",
            " [    0     0   228  1469     0   100     0]\n",
            " [   61   666    28     0  3689    24     0]\n",
            " [    7   146   785    24     8  6564     0]\n",
            " [  181     6     0     0     3     0  8739]]\n"
          ],
          "name": "stdout"
        }
      ]
    },
    {
      "cell_type": "markdown",
      "metadata": {
        "id": "4LEvlN48BHZk"
      },
      "source": [
        "### Gradient Boost"
      ]
    },
    {
      "cell_type": "code",
      "metadata": {
        "id": "z3lIMSZ_BHZk",
        "colab": {
          "base_uri": "https://localhost:8080/",
          "height": 196
        },
        "outputId": "f063dad3-eac7-45a5-b880-988f5354be22"
      },
      "source": [
        "from sklearn.ensemble import GradientBoostingClassifier\n",
        "\n",
        "gbcl = GradientBoostingClassifier(random_state = 25,\n",
        "                                  max_depth=19, \n",
        "                                  min_samples_leaf=10,\n",
        "                                  min_samples_split=10,\n",
        "                                  n_estimators = 50)\n",
        "gbcl.fit(x_train, y_train)"
      ],
      "execution_count": null,
      "outputs": [
        {
          "output_type": "execute_result",
          "data": {
            "text/plain": [
              "GradientBoostingClassifier(ccp_alpha=0.0, criterion='friedman_mse', init=None,\n",
              "                           learning_rate=0.1, loss='deviance', max_depth=19,\n",
              "                           max_features=None, max_leaf_nodes=None,\n",
              "                           min_impurity_decrease=0.0, min_impurity_split=None,\n",
              "                           min_samples_leaf=10, min_samples_split=10,\n",
              "                           min_weight_fraction_leaf=0.0, n_estimators=50,\n",
              "                           n_iter_no_change=None, presort='deprecated',\n",
              "                           random_state=25, subsample=1.0, tol=0.0001,\n",
              "                           validation_fraction=0.1, verbose=0,\n",
              "                           warm_start=False)"
            ]
          },
          "metadata": {
            "tags": []
          },
          "execution_count": 48
        }
      ]
    },
    {
      "cell_type": "code",
      "metadata": {
        "id": "hE5kAgmgBHZm",
        "colab": {
          "base_uri": "https://localhost:8080/",
          "height": 52
        },
        "outputId": "4b667fa5-ab02-44cd-c917-858c08322dae"
      },
      "source": [
        "print('Training Score:',gbcl.score(x_train,y_train))\n",
        "print('Testing Score:',gbcl.score(x_test,y_test))"
      ],
      "execution_count": null,
      "outputs": [
        {
          "output_type": "stream",
          "text": [
            "Training Score: 1.0\n",
            "Testing Score: 0.9734404761904762\n"
          ],
          "name": "stdout"
        }
      ]
    },
    {
      "cell_type": "code",
      "metadata": {
        "id": "uXZ9n8jiBHZp",
        "colab": {
          "base_uri": "https://localhost:8080/",
          "height": 394
        },
        "outputId": "e431ce5a-d5c8-4e06-a6ec-bcea3770d6e9"
      },
      "source": [
        "print(classification_report(y_test,gbcl.predict(x_test)))\n",
        "print(confusion_matrix(y_test,gbcl.predict(x_test)))"
      ],
      "execution_count": null,
      "outputs": [
        {
          "output_type": "stream",
          "text": [
            "              precision    recall  f1-score   support\n",
            "\n",
            "           1       0.98      0.97      0.97     57141\n",
            "           2       0.97      0.98      0.98     75000\n",
            "           3       0.97      0.98      0.97     13131\n",
            "           4       0.96      0.95      0.95      1797\n",
            "           5       0.96      0.93      0.94      4468\n",
            "           6       0.96      0.96      0.96      7534\n",
            "           7       0.98      0.98      0.98      8929\n",
            "\n",
            "    accuracy                           0.97    168000\n",
            "   macro avg       0.97      0.96      0.97    168000\n",
            "weighted avg       0.97      0.97      0.97    168000\n",
            "\n",
            "[[55413  1559     0     0    20     8   141]\n",
            " [ 1214 73433   101     0   154    77    21]\n",
            " [    0   101 12813    58    10   149     0]\n",
            " [    0     0    68  1703     0    26     0]\n",
            " [   17   259    18     0  4170     4     0]\n",
            " [    0    88   182    21     2  7241     0]\n",
            " [  142    20     0     0     2     0  8765]]\n"
          ],
          "name": "stdout"
        }
      ]
    },
    {
      "cell_type": "markdown",
      "metadata": {
        "id": "1zzpjcA4_HX3"
      },
      "source": [
        "## Smote_Outliers & Transformation"
      ]
    },
    {
      "cell_type": "markdown",
      "metadata": {
        "id": "2MOYU_bGWrAD"
      },
      "source": [
        "\n",
        "\n",
        "*   Making three new dataframes forest_sqrt, forest_log, forest_cos\n",
        "*   Storing the square root transformation of all numerical columns of smote data in forest_sqrt\n",
        "*   Storing the log transformation of all numerical columns of smote data in forest_log\n",
        "*   Storing the cos transformation of all numerical columns of smote data in forest_cos\n",
        "\n"
      ]
    },
    {
      "cell_type": "code",
      "metadata": {
        "id": "Fm-ZLq-N_lQf",
        "colab": {
          "base_uri": "https://localhost:8080/"
        },
        "outputId": "f39701e1-375c-47cf-e929-6e314d408efa"
      },
      "source": [
        "forest_sqrt = pd.DataFrame()\n",
        "forest_log = pd.DataFrame()\n",
        "forest_cos = pd.DataFrame()\n",
        "for i in quant_col:\n",
        "  forest_sqrt[i] = np.sqrt(forest_smote1[i])\n",
        "  forest_log[i] = np.log(forest_smote1[i]+1)\n",
        "  forest_cos[i] = np.cos(forest_smote1[i])"
      ],
      "execution_count": null,
      "outputs": [
        {
          "output_type": "stream",
          "text": [
            "/usr/local/lib/python3.6/dist-packages/pandas/core/series.py:679: RuntimeWarning: invalid value encountered in sqrt\n",
            "  result = getattr(ufunc, method)(*inputs, **kwargs)\n",
            "/usr/local/lib/python3.6/dist-packages/pandas/core/series.py:679: RuntimeWarning: divide by zero encountered in log\n",
            "  result = getattr(ufunc, method)(*inputs, **kwargs)\n",
            "/usr/local/lib/python3.6/dist-packages/pandas/core/series.py:679: RuntimeWarning: invalid value encountered in log\n",
            "  result = getattr(ufunc, method)(*inputs, **kwargs)\n"
          ],
          "name": "stderr"
        }
      ]
    },
    {
      "cell_type": "markdown",
      "metadata": {
        "id": "veQ0NW40WrAF"
      },
      "source": [
        "Calculating the number of outliers in each numerical columns of smote data"
      ]
    },
    {
      "cell_type": "code",
      "metadata": {
        "id": "SSJ1nG8c_lQp"
      },
      "source": [
        "outliers = []\n",
        "for i in quant_col:\n",
        "    q1 = forest_smote1[i].quantile(0.25)\n",
        "    q3 = forest_smote1[i].quantile(0.75)\n",
        "    IQR = q3- q1\n",
        "    outlier = forest_smote1[i][(forest_smote1[i] < (q1 - IQR*1.5)) | (forest_smote1[i] > (q3 + 1.5*IQR))].count()\n",
        "    outliers.append(outlier)"
      ],
      "execution_count": null,
      "outputs": []
    },
    {
      "cell_type": "markdown",
      "metadata": {
        "id": "r9LuUm1HWrAH"
      },
      "source": [
        "Calculating the number of outliers in each numerical columns of square root transformed data"
      ]
    },
    {
      "cell_type": "code",
      "metadata": {
        "id": "0HnFe8QN_lQy"
      },
      "source": [
        "outliers_sqrt = []\n",
        "for i in quant_col:\n",
        "    q1 = forest_sqrt[i].quantile(0.25)\n",
        "    q3 = forest_sqrt[i].quantile(0.75)\n",
        "    IQR = q3- q1\n",
        "    outlier_sqrt = forest_sqrt[i][(forest_sqrt[i] < (q1 - IQR*1.5)) | (forest_sqrt[i] > (q3 + 1.5*IQR))].count()\n",
        "    outliers_sqrt.append(outlier_sqrt)"
      ],
      "execution_count": null,
      "outputs": []
    },
    {
      "cell_type": "markdown",
      "metadata": {
        "id": "pk3IyeYBWrAJ"
      },
      "source": [
        "Calculating the number of outliers in each numerical columns of log transformed data"
      ]
    },
    {
      "cell_type": "code",
      "metadata": {
        "id": "oPM2A6u9_lQ-"
      },
      "source": [
        "outliers_log = []\n",
        "for i in quant_col:\n",
        "    q1 = forest_log[i].quantile(0.25)\n",
        "    q3 = forest_log[i].quantile(0.75)\n",
        "    IQR = q3- q1\n",
        "    outlier_log = forest_log[i][(forest_log[i] < (q1 - IQR*1.5)) | (forest_log[i] > (q3 + 1.5*IQR))].count()\n",
        "    outliers_log.append(outlier_log)"
      ],
      "execution_count": null,
      "outputs": []
    },
    {
      "cell_type": "markdown",
      "metadata": {
        "id": "bV6WlQA3WrAK"
      },
      "source": [
        "Calculating the number of outliers in each numerical columns of cos transformed data"
      ]
    },
    {
      "cell_type": "code",
      "metadata": {
        "id": "9z0yHuiH_lRH"
      },
      "source": [
        "outliers_cos = []\n",
        "for i in quant_col:\n",
        "    q1 = forest_cos[i].quantile(0.25)\n",
        "    q3 = forest_cos[i].quantile(0.75)\n",
        "    IQR = q3- q1\n",
        "    outlier_cos = forest_cos[i][(forest_cos[i] < (q1 - IQR*1.5)) | (forest_cos[i] > (q3 + 1.5*IQR))].count()\n",
        "    outliers_cos.append(outlier_cos)"
      ],
      "execution_count": null,
      "outputs": []
    },
    {
      "cell_type": "markdown",
      "metadata": {
        "id": "jnwRJ62rWrAM"
      },
      "source": [
        "Constructing a new dataframe and listing the number of outliers after each transformation to their respective columns"
      ]
    },
    {
      "cell_type": "code",
      "metadata": {
        "id": "03CDqlzS_lRk",
        "colab": {
          "base_uri": "https://localhost:8080/",
          "height": 531
        },
        "outputId": "5ca9304a-5f89-4e89-825d-7ce3750a436c"
      },
      "source": [
        "outliers = pd.DataFrame({'columns': quant_col, 'outlier':outliers, \n",
        "                          'sqrt_outlier': outliers_sqrt, \n",
        "                          'log_outlier': outliers_log,\n",
        "                          'cos_outlier':outliers_cos})\n",
        "outliers"
      ],
      "execution_count": null,
      "outputs": [
        {
          "output_type": "execute_result",
          "data": {
            "text/html": [
              "<div>\n",
              "<style scoped>\n",
              "    .dataframe tbody tr th:only-of-type {\n",
              "        vertical-align: middle;\n",
              "    }\n",
              "\n",
              "    .dataframe tbody tr th {\n",
              "        vertical-align: top;\n",
              "    }\n",
              "\n",
              "    .dataframe thead th {\n",
              "        text-align: right;\n",
              "    }\n",
              "</style>\n",
              "<table border=\"1\" class=\"dataframe\">\n",
              "  <thead>\n",
              "    <tr style=\"text-align: right;\">\n",
              "      <th></th>\n",
              "      <th>columns</th>\n",
              "      <th>outlier</th>\n",
              "      <th>sqrt_outlier</th>\n",
              "      <th>log_outlier</th>\n",
              "      <th>cos_outlier</th>\n",
              "    </tr>\n",
              "  </thead>\n",
              "  <tbody>\n",
              "    <tr>\n",
              "      <th>0</th>\n",
              "      <td>Elevation</td>\n",
              "      <td>12854</td>\n",
              "      <td>16826</td>\n",
              "      <td>20499</td>\n",
              "      <td>0</td>\n",
              "    </tr>\n",
              "    <tr>\n",
              "      <th>1</th>\n",
              "      <td>Aspect</td>\n",
              "      <td>0</td>\n",
              "      <td>0</td>\n",
              "      <td>13930</td>\n",
              "      <td>0</td>\n",
              "    </tr>\n",
              "    <tr>\n",
              "      <th>2</th>\n",
              "      <td>Slope</td>\n",
              "      <td>8036</td>\n",
              "      <td>1798</td>\n",
              "      <td>11013</td>\n",
              "      <td>0</td>\n",
              "    </tr>\n",
              "    <tr>\n",
              "      <th>3</th>\n",
              "      <td>Horizontal_Distance_To_Hydrology</td>\n",
              "      <td>13095</td>\n",
              "      <td>722</td>\n",
              "      <td>25178</td>\n",
              "      <td>0</td>\n",
              "    </tr>\n",
              "    <tr>\n",
              "      <th>4</th>\n",
              "      <td>Vertical_Distance_To_Hydrology</td>\n",
              "      <td>30494</td>\n",
              "      <td>4135</td>\n",
              "      <td>4775</td>\n",
              "      <td>0</td>\n",
              "    </tr>\n",
              "    <tr>\n",
              "      <th>5</th>\n",
              "      <td>Horizontal_Distance_To_Roadways</td>\n",
              "      <td>1081</td>\n",
              "      <td>0</td>\n",
              "      <td>10606</td>\n",
              "      <td>0</td>\n",
              "    </tr>\n",
              "    <tr>\n",
              "      <th>6</th>\n",
              "      <td>Hillshade_9am</td>\n",
              "      <td>16738</td>\n",
              "      <td>22025</td>\n",
              "      <td>26079</td>\n",
              "      <td>0</td>\n",
              "    </tr>\n",
              "    <tr>\n",
              "      <th>7</th>\n",
              "      <td>Hillshade_Noon</td>\n",
              "      <td>15104</td>\n",
              "      <td>18137</td>\n",
              "      <td>20472</td>\n",
              "      <td>0</td>\n",
              "    </tr>\n",
              "    <tr>\n",
              "      <th>8</th>\n",
              "      <td>Hillshade_3pm</td>\n",
              "      <td>7512</td>\n",
              "      <td>14717</td>\n",
              "      <td>22264</td>\n",
              "      <td>0</td>\n",
              "    </tr>\n",
              "    <tr>\n",
              "      <th>9</th>\n",
              "      <td>Horizontal_Distance_To_Fire_Points</td>\n",
              "      <td>28759</td>\n",
              "      <td>7538</td>\n",
              "      <td>10207</td>\n",
              "      <td>0</td>\n",
              "    </tr>\n",
              "    <tr>\n",
              "      <th>10</th>\n",
              "      <td>Hydr_Slope</td>\n",
              "      <td>9821</td>\n",
              "      <td>200</td>\n",
              "      <td>46017</td>\n",
              "      <td>0</td>\n",
              "    </tr>\n",
              "    <tr>\n",
              "      <th>11</th>\n",
              "      <td>Fire_Hydr</td>\n",
              "      <td>26576</td>\n",
              "      <td>8257</td>\n",
              "      <td>8362</td>\n",
              "      <td>0</td>\n",
              "    </tr>\n",
              "    <tr>\n",
              "      <th>12</th>\n",
              "      <td>Avg_Horizontal</td>\n",
              "      <td>9731</td>\n",
              "      <td>676</td>\n",
              "      <td>5544</td>\n",
              "      <td>0</td>\n",
              "    </tr>\n",
              "    <tr>\n",
              "      <th>13</th>\n",
              "      <td>Fire_Road</td>\n",
              "      <td>9461</td>\n",
              "      <td>35</td>\n",
              "      <td>5526</td>\n",
              "      <td>0</td>\n",
              "    </tr>\n",
              "    <tr>\n",
              "      <th>14</th>\n",
              "      <td>Hillshades</td>\n",
              "      <td>19218</td>\n",
              "      <td>21725</td>\n",
              "      <td>23473</td>\n",
              "      <td>0</td>\n",
              "    </tr>\n",
              "    <tr>\n",
              "      <th>15</th>\n",
              "      <td>Hydr_Dist</td>\n",
              "      <td>14211</td>\n",
              "      <td>1220</td>\n",
              "      <td>25335</td>\n",
              "      <td>0</td>\n",
              "    </tr>\n",
              "    <tr>\n",
              "      <th>16</th>\n",
              "      <td>Vertical_Scaled</td>\n",
              "      <td>30494</td>\n",
              "      <td>23428</td>\n",
              "      <td>16189</td>\n",
              "      <td>0</td>\n",
              "    </tr>\n",
              "  </tbody>\n",
              "</table>\n",
              "</div>"
            ],
            "text/plain": [
              "                               columns  outlier  ...  log_outlier  cos_outlier\n",
              "0                            Elevation    12854  ...        20499            0\n",
              "1                               Aspect        0  ...        13930            0\n",
              "2                                Slope     8036  ...        11013            0\n",
              "3     Horizontal_Distance_To_Hydrology    13095  ...        25178            0\n",
              "4       Vertical_Distance_To_Hydrology    30494  ...         4775            0\n",
              "5      Horizontal_Distance_To_Roadways     1081  ...        10606            0\n",
              "6                        Hillshade_9am    16738  ...        26079            0\n",
              "7                       Hillshade_Noon    15104  ...        20472            0\n",
              "8                        Hillshade_3pm     7512  ...        22264            0\n",
              "9   Horizontal_Distance_To_Fire_Points    28759  ...        10207            0\n",
              "10                          Hydr_Slope     9821  ...        46017            0\n",
              "11                           Fire_Hydr    26576  ...         8362            0\n",
              "12                      Avg_Horizontal     9731  ...         5544            0\n",
              "13                           Fire_Road     9461  ...         5526            0\n",
              "14                          Hillshades    19218  ...        23473            0\n",
              "15                           Hydr_Dist    14211  ...        25335            0\n",
              "16                     Vertical_Scaled    30494  ...        16189            0\n",
              "\n",
              "[17 rows x 5 columns]"
            ]
          },
          "metadata": {
            "tags": []
          },
          "execution_count": 70
        }
      ]
    },
    {
      "cell_type": "markdown",
      "metadata": {
        "id": "sV0fAt2aWrAN"
      },
      "source": [
        "*   Will be taking Elevation, Aspect and all Hillshade columns original whereas the degree columns (slope & hydr_slope) to be cos transformed, vertical_scaled log transformed and others square root transformed; so as to have least outliers in each column.\n",
        "*   We won't be dropping any outliers because they contain major data of least distributed cover_types.\n",
        "\n"
      ]
    },
    {
      "cell_type": "markdown",
      "metadata": {
        "id": "zcmXiCr8_HOc"
      },
      "source": [
        "## Smote_Transformed"
      ]
    },
    {
      "cell_type": "code",
      "metadata": {
        "id": "cPZYyfdwCgDv"
      },
      "source": [
        "forest_c = pd.DataFrame()\n",
        "forest_c['Elevation'] = forest_smote1['Elevation']\n",
        "forest_c['Aspect'] = forest_smote1['Aspect']\n",
        "forest_c['Slope'] = forest_cos['Slope']\n",
        "forest_c['Horizontal_Distance_To_Hydrology'] = forest_sqrt['Horizontal_Distance_To_Hydrology']\n",
        "forest_c['Vertical_Scaled'] = forest_log['Vertical_Scaled']\n",
        "forest_c['Horizontal_Distance_To_Roadways'] = forest_sqrt['Horizontal_Distance_To_Roadways']\n",
        "forest_c['Hillshade_9am'] = forest_smote1['Hillshade_9am']\n",
        "forest_c['Hillshade_Noon'] = forest_smote1['Hillshade_Noon']\n",
        "forest_c['Hillshade_3pm'] = forest_smote1['Hillshade_3pm']\n",
        "forest_c['Horizontal_Distance_To_Fire_Points'] = forest_sqrt['Horizontal_Distance_To_Fire_Points']\n",
        "forest_c['Hydr_Slope'] = forest_cos['Hydr_Slope']\n",
        "forest_c['Fire_Hydr'] = forest_sqrt['Fire_Hydr']\n",
        "forest_c['Avg_Horizontal'] = forest_sqrt['Avg_Horizontal']\n",
        "forest_c['Fire_Road'] = forest_sqrt['Fire_Road']\n",
        "forest_c['Hillshades'] = forest_smote1['Hillshades']\n",
        "forest_c['Hydr_Dist'] = forest_sqrt['Hydr_Dist']\n",
        "forest_c['Wilderness'] = forest_smote1['Wilderness'].astype('category')\n",
        "forest_c['Soil'] = forest_smote1['Soil'].astype('category')\n",
        "forest_c['Cover_Type'] = forest_smote1['Cover_Type'].astype('category')"
      ],
      "execution_count": null,
      "outputs": []
    },
    {
      "cell_type": "code",
      "metadata": {
        "id": "mGQXTAplCf6F",
        "colab": {
          "base_uri": "https://localhost:8080/",
          "height": 484
        },
        "outputId": "e030d553-4282-461e-9bbf-ba4f7cc10fd5"
      },
      "source": [
        "forest_c.info()"
      ],
      "execution_count": null,
      "outputs": [
        {
          "output_type": "stream",
          "text": [
            "<class 'pandas.core.frame.DataFrame'>\n",
            "RangeIndex: 560000 entries, 0 to 559999\n",
            "Data columns (total 19 columns):\n",
            " #   Column                              Non-Null Count   Dtype   \n",
            "---  ------                              --------------   -----   \n",
            " 0   Elevation                           560000 non-null  float64 \n",
            " 1   Aspect                              560000 non-null  float64 \n",
            " 2   Slope                               560000 non-null  float64 \n",
            " 3   Horizontal_Distance_To_Hydrology    560000 non-null  float64 \n",
            " 4   Vertical_Scaled                     560000 non-null  float64 \n",
            " 5   Horizontal_Distance_To_Roadways     560000 non-null  float64 \n",
            " 6   Hillshade_9am                       560000 non-null  float64 \n",
            " 7   Hillshade_Noon                      560000 non-null  float64 \n",
            " 8   Hillshade_3pm                       560000 non-null  float64 \n",
            " 9   Horizontal_Distance_To_Fire_Points  560000 non-null  float64 \n",
            " 10  Hydr_Slope                          560000 non-null  float64 \n",
            " 11  Fire_Hydr                           560000 non-null  float64 \n",
            " 12  Avg_Horizontal                      560000 non-null  float64 \n",
            " 13  Fire_Road                           560000 non-null  float64 \n",
            " 14  Hillshades                          560000 non-null  float64 \n",
            " 15  Hydr_Dist                           560000 non-null  float64 \n",
            " 16  Wilderness                          560000 non-null  category\n",
            " 17  Soil                                560000 non-null  category\n",
            " 18  Cover_Type                          560000 non-null  category\n",
            "dtypes: category(3), float64(16)\n",
            "memory usage: 71.2 MB\n"
          ],
          "name": "stdout"
        }
      ]
    },
    {
      "cell_type": "markdown",
      "metadata": {
        "id": "YiQzMGLiJdOi"
      },
      "source": [
        "## Modelling on Smote transformed data"
      ]
    },
    {
      "cell_type": "markdown",
      "metadata": {
        "id": "sQvtzCixJdOt"
      },
      "source": [
        "### Decision Tree"
      ]
    },
    {
      "cell_type": "code",
      "metadata": {
        "id": "icB7J-mnJdOv"
      },
      "source": [
        "from sklearn.model_selection import train_test_split\n",
        "from sklearn.metrics import classification_report, confusion_matrix, accuracy_score\n",
        "from sklearn.tree import DecisionTreeClassifier\n",
        "import warnings\n",
        "warnings.filterwarnings(\"ignore\")"
      ],
      "execution_count": null,
      "outputs": []
    },
    {
      "cell_type": "markdown",
      "metadata": {
        "id": "mWV-xXeKKL55"
      },
      "source": [
        "Dividing data into x (independent variable) and y (dependent variable) and then splitting data into train and test in 7:3 ratio"
      ]
    },
    {
      "cell_type": "code",
      "metadata": {
        "id": "-LaL5ESuJdO9"
      },
      "source": [
        "x = forest_c.drop(columns = ['Cover_Type'])\n",
        "y = forest_c['Cover_Type']"
      ],
      "execution_count": null,
      "outputs": []
    },
    {
      "cell_type": "code",
      "metadata": {
        "id": "P0yoZbZ9JdPH"
      },
      "source": [
        "x_train, x_test, y_train, y_test = train_test_split(x, y, test_size = .3, random_state=25)"
      ],
      "execution_count": null,
      "outputs": []
    },
    {
      "cell_type": "code",
      "metadata": {
        "id": "U2_xMw95JdPS",
        "colab": {
          "base_uri": "https://localhost:8080/",
          "height": 124
        },
        "outputId": "3fb00a05-8c14-4c2b-e6fa-7ffbe782238b"
      },
      "source": [
        "dt = DecisionTreeClassifier(criterion = \"entropy\", \n",
        "                                  random_state = 25,\n",
        "                                  max_depth=19, \n",
        "                                  min_samples_leaf=10,\n",
        "                                  min_samples_split=10)\n",
        "dt.fit(x_train, y_train)"
      ],
      "execution_count": null,
      "outputs": [
        {
          "output_type": "execute_result",
          "data": {
            "text/plain": [
              "DecisionTreeClassifier(ccp_alpha=0.0, class_weight=None, criterion='entropy',\n",
              "                       max_depth=19, max_features=None, max_leaf_nodes=None,\n",
              "                       min_impurity_decrease=0.0, min_impurity_split=None,\n",
              "                       min_samples_leaf=10, min_samples_split=10,\n",
              "                       min_weight_fraction_leaf=0.0, presort='deprecated',\n",
              "                       random_state=25, splitter='best')"
            ]
          },
          "metadata": {
            "tags": []
          },
          "execution_count": 76
        }
      ]
    },
    {
      "cell_type": "code",
      "metadata": {
        "id": "8DsAlmWbJdPz",
        "colab": {
          "base_uri": "https://localhost:8080/",
          "height": 52
        },
        "outputId": "4a87736f-34ad-4571-92fd-b29bd5dd7abc"
      },
      "source": [
        "print('Training Score:',dt.score(x_train, y_train))\n",
        "print('Testing Score:',dt.score(x_test, y_test))"
      ],
      "execution_count": null,
      "outputs": [
        {
          "output_type": "stream",
          "text": [
            "Training Score: 0.933579081632653\n",
            "Testing Score: 0.9042738095238095\n"
          ],
          "name": "stdout"
        }
      ]
    },
    {
      "cell_type": "code",
      "metadata": {
        "id": "SSd0c2KCJdQJ",
        "colab": {
          "base_uri": "https://localhost:8080/",
          "height": 394
        },
        "outputId": "a2ca7cfe-3e49-4845-e03c-4b34d8089414"
      },
      "source": [
        "y_pred = dt.predict(x_test)\n",
        "print(classification_report(y_test,y_pred))\n",
        "print(confusion_matrix(y_test,y_pred))"
      ],
      "execution_count": null,
      "outputs": [
        {
          "output_type": "stream",
          "text": [
            "              precision    recall  f1-score   support\n",
            "\n",
            "           1       0.90      0.89      0.89     57141\n",
            "           2       0.91      0.91      0.91     75000\n",
            "           3       0.92      0.92      0.92     13131\n",
            "           4       0.91      0.88      0.90      1797\n",
            "           5       0.85      0.83      0.84      4468\n",
            "           6       0.87      0.87      0.87      7534\n",
            "           7       0.96      0.95      0.95      8929\n",
            "\n",
            "    accuracy                           0.90    168000\n",
            "   macro avg       0.90      0.89      0.90    168000\n",
            "weighted avg       0.90      0.90      0.90    168000\n",
            "\n",
            "[[51035  5637     5     0    93    23   348]\n",
            " [ 5418 68508   271     1   503   258    41]\n",
            " [    1   270 12065   114    26   655     0]\n",
            " [    0     4   151  1590     0    52     0]\n",
            " [   80   621    41     0  3703    23     0]\n",
            " [   19   267   628    42    24  6554     0]\n",
            " [  394    72     0     0     0     0  8463]]\n"
          ],
          "name": "stdout"
        }
      ]
    },
    {
      "cell_type": "code",
      "metadata": {
        "id": "B9hsBt-RJdQT",
        "colab": {
          "base_uri": "https://localhost:8080/",
          "height": 559
        },
        "outputId": "0b5db756-fa6e-4c07-dba6-0a039f79cab2"
      },
      "source": [
        "pd.DataFrame({'columns':x.columns,'Importance':dt.feature_importances_})"
      ],
      "execution_count": null,
      "outputs": [
        {
          "output_type": "execute_result",
          "data": {
            "text/html": [
              "<div>\n",
              "<style scoped>\n",
              "    .dataframe tbody tr th:only-of-type {\n",
              "        vertical-align: middle;\n",
              "    }\n",
              "\n",
              "    .dataframe tbody tr th {\n",
              "        vertical-align: top;\n",
              "    }\n",
              "\n",
              "    .dataframe thead th {\n",
              "        text-align: right;\n",
              "    }\n",
              "</style>\n",
              "<table border=\"1\" class=\"dataframe\">\n",
              "  <thead>\n",
              "    <tr style=\"text-align: right;\">\n",
              "      <th></th>\n",
              "      <th>columns</th>\n",
              "      <th>Importance</th>\n",
              "    </tr>\n",
              "  </thead>\n",
              "  <tbody>\n",
              "    <tr>\n",
              "      <th>0</th>\n",
              "      <td>Elevation</td>\n",
              "      <td>0.441604</td>\n",
              "    </tr>\n",
              "    <tr>\n",
              "      <th>1</th>\n",
              "      <td>Aspect</td>\n",
              "      <td>0.015660</td>\n",
              "    </tr>\n",
              "    <tr>\n",
              "      <th>2</th>\n",
              "      <td>Slope</td>\n",
              "      <td>0.000636</td>\n",
              "    </tr>\n",
              "    <tr>\n",
              "      <th>3</th>\n",
              "      <td>Horizontal_Distance_To_Hydrology</td>\n",
              "      <td>0.019125</td>\n",
              "    </tr>\n",
              "    <tr>\n",
              "      <th>4</th>\n",
              "      <td>Vertical_Scaled</td>\n",
              "      <td>0.022534</td>\n",
              "    </tr>\n",
              "    <tr>\n",
              "      <th>5</th>\n",
              "      <td>Horizontal_Distance_To_Roadways</td>\n",
              "      <td>0.069493</td>\n",
              "    </tr>\n",
              "    <tr>\n",
              "      <th>6</th>\n",
              "      <td>Hillshade_9am</td>\n",
              "      <td>0.025390</td>\n",
              "    </tr>\n",
              "    <tr>\n",
              "      <th>7</th>\n",
              "      <td>Hillshade_Noon</td>\n",
              "      <td>0.016087</td>\n",
              "    </tr>\n",
              "    <tr>\n",
              "      <th>8</th>\n",
              "      <td>Hillshade_3pm</td>\n",
              "      <td>0.012656</td>\n",
              "    </tr>\n",
              "    <tr>\n",
              "      <th>9</th>\n",
              "      <td>Horizontal_Distance_To_Fire_Points</td>\n",
              "      <td>0.053154</td>\n",
              "    </tr>\n",
              "    <tr>\n",
              "      <th>10</th>\n",
              "      <td>Hydr_Slope</td>\n",
              "      <td>0.001748</td>\n",
              "    </tr>\n",
              "    <tr>\n",
              "      <th>11</th>\n",
              "      <td>Fire_Hydr</td>\n",
              "      <td>0.041818</td>\n",
              "    </tr>\n",
              "    <tr>\n",
              "      <th>12</th>\n",
              "      <td>Avg_Horizontal</td>\n",
              "      <td>0.035329</td>\n",
              "    </tr>\n",
              "    <tr>\n",
              "      <th>13</th>\n",
              "      <td>Fire_Road</td>\n",
              "      <td>0.057883</td>\n",
              "    </tr>\n",
              "    <tr>\n",
              "      <th>14</th>\n",
              "      <td>Hillshades</td>\n",
              "      <td>0.008442</td>\n",
              "    </tr>\n",
              "    <tr>\n",
              "      <th>15</th>\n",
              "      <td>Hydr_Dist</td>\n",
              "      <td>0.024450</td>\n",
              "    </tr>\n",
              "    <tr>\n",
              "      <th>16</th>\n",
              "      <td>Wilderness</td>\n",
              "      <td>0.043809</td>\n",
              "    </tr>\n",
              "    <tr>\n",
              "      <th>17</th>\n",
              "      <td>Soil</td>\n",
              "      <td>0.110183</td>\n",
              "    </tr>\n",
              "  </tbody>\n",
              "</table>\n",
              "</div>"
            ],
            "text/plain": [
              "                               columns  Importance\n",
              "0                            Elevation    0.441604\n",
              "1                               Aspect    0.015660\n",
              "2                                Slope    0.000636\n",
              "3     Horizontal_Distance_To_Hydrology    0.019125\n",
              "4                      Vertical_Scaled    0.022534\n",
              "5      Horizontal_Distance_To_Roadways    0.069493\n",
              "6                        Hillshade_9am    0.025390\n",
              "7                       Hillshade_Noon    0.016087\n",
              "8                        Hillshade_3pm    0.012656\n",
              "9   Horizontal_Distance_To_Fire_Points    0.053154\n",
              "10                          Hydr_Slope    0.001748\n",
              "11                           Fire_Hydr    0.041818\n",
              "12                      Avg_Horizontal    0.035329\n",
              "13                           Fire_Road    0.057883\n",
              "14                          Hillshades    0.008442\n",
              "15                           Hydr_Dist    0.024450\n",
              "16                          Wilderness    0.043809\n",
              "17                                Soil    0.110183"
            ]
          },
          "metadata": {
            "tags": []
          },
          "execution_count": 79
        }
      ]
    },
    {
      "cell_type": "markdown",
      "metadata": {
        "id": "b8ApTpfzJdQh"
      },
      "source": [
        "### Random Forest"
      ]
    },
    {
      "cell_type": "code",
      "metadata": {
        "id": "mWSStT_bJdQk"
      },
      "source": [
        "from sklearn.ensemble import RandomForestClassifier"
      ],
      "execution_count": null,
      "outputs": []
    },
    {
      "cell_type": "code",
      "metadata": {
        "id": "At4cbdsvJdQr",
        "colab": {
          "base_uri": "https://localhost:8080/",
          "height": 160
        },
        "outputId": "59b6d75b-f094-47d2-b8d2-77a41e9c4c04"
      },
      "source": [
        "rforest = RandomForestClassifier(criterion = \"entropy\", \n",
        "                                  random_state = 25,\n",
        "                                  max_depth=19, \n",
        "                                  min_samples_leaf=10,\n",
        "                                  min_samples_split=10)\n",
        "rforest.fit(x_train, y_train)"
      ],
      "execution_count": null,
      "outputs": [
        {
          "output_type": "execute_result",
          "data": {
            "text/plain": [
              "RandomForestClassifier(bootstrap=True, ccp_alpha=0.0, class_weight=None,\n",
              "                       criterion='entropy', max_depth=19, max_features='auto',\n",
              "                       max_leaf_nodes=None, max_samples=None,\n",
              "                       min_impurity_decrease=0.0, min_impurity_split=None,\n",
              "                       min_samples_leaf=10, min_samples_split=10,\n",
              "                       min_weight_fraction_leaf=0.0, n_estimators=100,\n",
              "                       n_jobs=None, oob_score=False, random_state=25, verbose=0,\n",
              "                       warm_start=False)"
            ]
          },
          "metadata": {
            "tags": []
          },
          "execution_count": 81
        }
      ]
    },
    {
      "cell_type": "code",
      "metadata": {
        "id": "NfHNxM4QJdQx",
        "colab": {
          "base_uri": "https://localhost:8080/",
          "height": 52
        },
        "outputId": "fe9b0230-7265-4b53-be46-b23ba678d837"
      },
      "source": [
        "print('Training Score:',rforest.score(x_train, y_train))\n",
        "print('Testing Score:',rforest.score(x_test, y_test))"
      ],
      "execution_count": null,
      "outputs": [
        {
          "output_type": "stream",
          "text": [
            "Training Score: 0.9660892857142858\n",
            "Testing Score: 0.9425238095238095\n"
          ],
          "name": "stdout"
        }
      ]
    },
    {
      "cell_type": "code",
      "metadata": {
        "id": "_3s4VXVJJdQ5",
        "colab": {
          "base_uri": "https://localhost:8080/",
          "height": 394
        },
        "outputId": "aa33baea-f127-44f7-fb82-cf9c20a367c6"
      },
      "source": [
        "y_pred = rforest.predict(x_test)\n",
        "print(classification_report(y_test,y_pred))\n",
        "print(confusion_matrix(y_test,y_pred))"
      ],
      "execution_count": null,
      "outputs": [
        {
          "output_type": "stream",
          "text": [
            "              precision    recall  f1-score   support\n",
            "\n",
            "           1       0.95      0.92      0.94     57141\n",
            "           2       0.93      0.96      0.95     75000\n",
            "           3       0.94      0.96      0.95     13131\n",
            "           4       0.94      0.92      0.93      1797\n",
            "           5       0.95      0.86      0.90      4468\n",
            "           6       0.93      0.92      0.92      7534\n",
            "           7       0.97      0.96      0.97      8929\n",
            "\n",
            "    accuracy                           0.94    168000\n",
            "   macro avg       0.95      0.93      0.94    168000\n",
            "weighted avg       0.94      0.94      0.94    168000\n",
            "\n",
            "[[52615  4270     2     0    35    14   205]\n",
            " [ 2305 72101   229     2   175   153    35]\n",
            " [    0   141 12617    64     6   303     0]\n",
            " [    0     0   108  1661     0    28     0]\n",
            " [   18   562    37     0  3837    14     0]\n",
            " [    1   139   431    38     2  6923     0]\n",
            " [  304    32     0     0     3     0  8590]]\n"
          ],
          "name": "stdout"
        }
      ]
    },
    {
      "cell_type": "code",
      "metadata": {
        "id": "kVYWsk7DJdQ_",
        "colab": {
          "base_uri": "https://localhost:8080/",
          "height": 559
        },
        "outputId": "a2f9e03c-3d41-4353-ba3c-bc9d1c9fd6d1"
      },
      "source": [
        "pd.DataFrame({'columns':x.columns,'Importance':rforest.feature_importances_})"
      ],
      "execution_count": null,
      "outputs": [
        {
          "output_type": "execute_result",
          "data": {
            "text/html": [
              "<div>\n",
              "<style scoped>\n",
              "    .dataframe tbody tr th:only-of-type {\n",
              "        vertical-align: middle;\n",
              "    }\n",
              "\n",
              "    .dataframe tbody tr th {\n",
              "        vertical-align: top;\n",
              "    }\n",
              "\n",
              "    .dataframe thead th {\n",
              "        text-align: right;\n",
              "    }\n",
              "</style>\n",
              "<table border=\"1\" class=\"dataframe\">\n",
              "  <thead>\n",
              "    <tr style=\"text-align: right;\">\n",
              "      <th></th>\n",
              "      <th>columns</th>\n",
              "      <th>Importance</th>\n",
              "    </tr>\n",
              "  </thead>\n",
              "  <tbody>\n",
              "    <tr>\n",
              "      <th>0</th>\n",
              "      <td>Elevation</td>\n",
              "      <td>0.274747</td>\n",
              "    </tr>\n",
              "    <tr>\n",
              "      <th>1</th>\n",
              "      <td>Aspect</td>\n",
              "      <td>0.021580</td>\n",
              "    </tr>\n",
              "    <tr>\n",
              "      <th>2</th>\n",
              "      <td>Slope</td>\n",
              "      <td>0.001343</td>\n",
              "    </tr>\n",
              "    <tr>\n",
              "      <th>3</th>\n",
              "      <td>Horizontal_Distance_To_Hydrology</td>\n",
              "      <td>0.023040</td>\n",
              "    </tr>\n",
              "    <tr>\n",
              "      <th>4</th>\n",
              "      <td>Vertical_Scaled</td>\n",
              "      <td>0.023904</td>\n",
              "    </tr>\n",
              "    <tr>\n",
              "      <th>5</th>\n",
              "      <td>Horizontal_Distance_To_Roadways</td>\n",
              "      <td>0.063958</td>\n",
              "    </tr>\n",
              "    <tr>\n",
              "      <th>6</th>\n",
              "      <td>Hillshade_9am</td>\n",
              "      <td>0.023120</td>\n",
              "    </tr>\n",
              "    <tr>\n",
              "      <th>7</th>\n",
              "      <td>Hillshade_Noon</td>\n",
              "      <td>0.018676</td>\n",
              "    </tr>\n",
              "    <tr>\n",
              "      <th>8</th>\n",
              "      <td>Hillshade_3pm</td>\n",
              "      <td>0.017703</td>\n",
              "    </tr>\n",
              "    <tr>\n",
              "      <th>9</th>\n",
              "      <td>Horizontal_Distance_To_Fire_Points</td>\n",
              "      <td>0.048153</td>\n",
              "    </tr>\n",
              "    <tr>\n",
              "      <th>10</th>\n",
              "      <td>Hydr_Slope</td>\n",
              "      <td>0.003805</td>\n",
              "    </tr>\n",
              "    <tr>\n",
              "      <th>11</th>\n",
              "      <td>Fire_Hydr</td>\n",
              "      <td>0.047482</td>\n",
              "    </tr>\n",
              "    <tr>\n",
              "      <th>12</th>\n",
              "      <td>Avg_Horizontal</td>\n",
              "      <td>0.061701</td>\n",
              "    </tr>\n",
              "    <tr>\n",
              "      <th>13</th>\n",
              "      <td>Fire_Road</td>\n",
              "      <td>0.063872</td>\n",
              "    </tr>\n",
              "    <tr>\n",
              "      <th>14</th>\n",
              "      <td>Hillshades</td>\n",
              "      <td>0.015655</td>\n",
              "    </tr>\n",
              "    <tr>\n",
              "      <th>15</th>\n",
              "      <td>Hydr_Dist</td>\n",
              "      <td>0.025129</td>\n",
              "    </tr>\n",
              "    <tr>\n",
              "      <th>16</th>\n",
              "      <td>Wilderness</td>\n",
              "      <td>0.076517</td>\n",
              "    </tr>\n",
              "    <tr>\n",
              "      <th>17</th>\n",
              "      <td>Soil</td>\n",
              "      <td>0.189615</td>\n",
              "    </tr>\n",
              "  </tbody>\n",
              "</table>\n",
              "</div>"
            ],
            "text/plain": [
              "                               columns  Importance\n",
              "0                            Elevation    0.274747\n",
              "1                               Aspect    0.021580\n",
              "2                                Slope    0.001343\n",
              "3     Horizontal_Distance_To_Hydrology    0.023040\n",
              "4                      Vertical_Scaled    0.023904\n",
              "5      Horizontal_Distance_To_Roadways    0.063958\n",
              "6                        Hillshade_9am    0.023120\n",
              "7                       Hillshade_Noon    0.018676\n",
              "8                        Hillshade_3pm    0.017703\n",
              "9   Horizontal_Distance_To_Fire_Points    0.048153\n",
              "10                          Hydr_Slope    0.003805\n",
              "11                           Fire_Hydr    0.047482\n",
              "12                      Avg_Horizontal    0.061701\n",
              "13                           Fire_Road    0.063872\n",
              "14                          Hillshades    0.015655\n",
              "15                           Hydr_Dist    0.025129\n",
              "16                          Wilderness    0.076517\n",
              "17                                Soil    0.189615"
            ]
          },
          "metadata": {
            "tags": []
          },
          "execution_count": 84
        }
      ]
    },
    {
      "cell_type": "markdown",
      "metadata": {
        "id": "azoVoP-qJdRE"
      },
      "source": [
        "### KNN"
      ]
    },
    {
      "cell_type": "markdown",
      "metadata": {
        "id": "xlCXtmLQKtKc"
      },
      "source": [
        "*   scaling all numerical columns and saving it in a dataframe 'x_std'\n",
        "*   concatenating all the independent data into a dataframe 'x_' \n",
        "*   dividing data to x_ (independent variable) and y_ (dependent variable)\n",
        "*   splitting data into train and test in 7:3 ratio\n"
      ]
    },
    {
      "cell_type": "code",
      "metadata": {
        "id": "czBVTFu6JdRG",
        "colab": {
          "base_uri": "https://localhost:8080/",
          "height": 209
        },
        "outputId": "5873c000-0058-4cfb-8e94-318706f1c349"
      },
      "source": [
        "from sklearn.preprocessing import StandardScaler\n",
        "\n",
        "x1 = forest_c.drop(columns= ['Cover_Type','Soil','Wilderness'])\n",
        "y_ = forest_c['Cover_Type']\n",
        "\n",
        "x_std = StandardScaler().fit_transform(x1)\n",
        "\n",
        "x_std = pd.DataFrame(x_std, columns = x1.columns)\n",
        "\n",
        "x_ = pd.concat([x_std,forest_c[['Soil','Wilderness']]], axis = 1)\n",
        "x_.head()"
      ],
      "execution_count": null,
      "outputs": [
        {
          "output_type": "execute_result",
          "data": {
            "text/html": [
              "<div>\n",
              "<style scoped>\n",
              "    .dataframe tbody tr th:only-of-type {\n",
              "        vertical-align: middle;\n",
              "    }\n",
              "\n",
              "    .dataframe tbody tr th {\n",
              "        vertical-align: top;\n",
              "    }\n",
              "\n",
              "    .dataframe thead th {\n",
              "        text-align: right;\n",
              "    }\n",
              "</style>\n",
              "<table border=\"1\" class=\"dataframe\">\n",
              "  <thead>\n",
              "    <tr style=\"text-align: right;\">\n",
              "      <th></th>\n",
              "      <th>Elevation</th>\n",
              "      <th>Aspect</th>\n",
              "      <th>Slope</th>\n",
              "      <th>Horizontal_Distance_To_Hydrology</th>\n",
              "      <th>Vertical_Scaled</th>\n",
              "      <th>Horizontal_Distance_To_Roadways</th>\n",
              "      <th>Hillshade_9am</th>\n",
              "      <th>Hillshade_Noon</th>\n",
              "      <th>Hillshade_3pm</th>\n",
              "      <th>Horizontal_Distance_To_Fire_Points</th>\n",
              "      <th>Hydr_Slope</th>\n",
              "      <th>Fire_Hydr</th>\n",
              "      <th>Avg_Horizontal</th>\n",
              "      <th>Fire_Road</th>\n",
              "      <th>Hillshades</th>\n",
              "      <th>Hydr_Dist</th>\n",
              "      <th>Soil</th>\n",
              "      <th>Wilderness</th>\n",
              "    </tr>\n",
              "  </thead>\n",
              "  <tbody>\n",
              "    <tr>\n",
              "      <th>0</th>\n",
              "      <td>0.824993</td>\n",
              "      <td>-0.680594</td>\n",
              "      <td>0.015748</td>\n",
              "      <td>-1.367684</td>\n",
              "      <td>-0.711715</td>\n",
              "      <td>-0.242203</td>\n",
              "      <td>0.806948</td>\n",
              "      <td>-0.088893</td>\n",
              "      <td>-0.613490</td>\n",
              "      <td>-0.031070</td>\n",
              "      <td>1.082570</td>\n",
              "      <td>-0.242679</td>\n",
              "      <td>-0.360650</td>\n",
              "      <td>-0.245514</td>\n",
              "      <td>-0.083351</td>\n",
              "      <td>-1.371248</td>\n",
              "      <td>29.0</td>\n",
              "      <td>1.0</td>\n",
              "    </tr>\n",
              "    <tr>\n",
              "      <th>1</th>\n",
              "      <td>1.139856</td>\n",
              "      <td>-1.046790</td>\n",
              "      <td>-1.343958</td>\n",
              "      <td>1.619367</td>\n",
              "      <td>2.444306</td>\n",
              "      <td>-1.089579</td>\n",
              "      <td>0.259169</td>\n",
              "      <td>-0.929194</td>\n",
              "      <td>-0.664590</td>\n",
              "      <td>-0.884791</td>\n",
              "      <td>0.267644</td>\n",
              "      <td>-0.436214</td>\n",
              "      <td>-0.984879</td>\n",
              "      <td>-1.272567</td>\n",
              "      <td>-0.846651</td>\n",
              "      <td>1.663775</td>\n",
              "      <td>22.0</td>\n",
              "      <td>1.0</td>\n",
              "    </tr>\n",
              "    <tr>\n",
              "      <th>2</th>\n",
              "      <td>1.084099</td>\n",
              "      <td>1.052138</td>\n",
              "      <td>0.015748</td>\n",
              "      <td>1.490143</td>\n",
              "      <td>-0.072622</td>\n",
              "      <td>-1.232150</td>\n",
              "      <td>-0.726835</td>\n",
              "      <td>0.998555</td>\n",
              "      <td>1.251671</td>\n",
              "      <td>-1.032981</td>\n",
              "      <td>-1.419384</td>\n",
              "      <td>-0.593060</td>\n",
              "      <td>-1.161074</td>\n",
              "      <td>-1.447657</td>\n",
              "      <td>1.106501</td>\n",
              "      <td>1.448859</td>\n",
              "      <td>32.0</td>\n",
              "      <td>3.0</td>\n",
              "    </tr>\n",
              "    <tr>\n",
              "      <th>3</th>\n",
              "      <td>0.926668</td>\n",
              "      <td>-0.725252</td>\n",
              "      <td>-0.379393</td>\n",
              "      <td>-0.820428</td>\n",
              "      <td>-0.665920</td>\n",
              "      <td>-0.708370</td>\n",
              "      <td>0.953023</td>\n",
              "      <td>-0.780906</td>\n",
              "      <td>-1.226693</td>\n",
              "      <td>-0.758116</td>\n",
              "      <td>1.259621</td>\n",
              "      <td>-0.925946</td>\n",
              "      <td>-1.045563</td>\n",
              "      <td>-0.953958</td>\n",
              "      <td>-0.846651</td>\n",
              "      <td>-0.836644</td>\n",
              "      <td>39.0</td>\n",
              "      <td>3.0</td>\n",
              "    </tr>\n",
              "    <tr>\n",
              "      <th>4</th>\n",
              "      <td>0.992264</td>\n",
              "      <td>0.382268</td>\n",
              "      <td>-0.379393</td>\n",
              "      <td>-0.377644</td>\n",
              "      <td>-0.254274</td>\n",
              "      <td>-0.873029</td>\n",
              "      <td>0.003538</td>\n",
              "      <td>1.443421</td>\n",
              "      <td>0.715118</td>\n",
              "      <td>-0.598972</td>\n",
              "      <td>-0.645086</td>\n",
              "      <td>-0.699194</td>\n",
              "      <td>-1.022947</td>\n",
              "      <td>-0.971208</td>\n",
              "      <td>1.286101</td>\n",
              "      <td>-0.387040</td>\n",
              "      <td>23.0</td>\n",
              "      <td>1.0</td>\n",
              "    </tr>\n",
              "  </tbody>\n",
              "</table>\n",
              "</div>"
            ],
            "text/plain": [
              "   Elevation    Aspect     Slope  ...  Hydr_Dist  Soil  Wilderness\n",
              "0   0.824993 -0.680594  0.015748  ...  -1.371248  29.0         1.0\n",
              "1   1.139856 -1.046790 -1.343958  ...   1.663775  22.0         1.0\n",
              "2   1.084099  1.052138  0.015748  ...   1.448859  32.0         3.0\n",
              "3   0.926668 -0.725252 -0.379393  ...  -0.836644  39.0         3.0\n",
              "4   0.992264  0.382268 -0.379393  ...  -0.387040  23.0         1.0\n",
              "\n",
              "[5 rows x 18 columns]"
            ]
          },
          "metadata": {
            "tags": []
          },
          "execution_count": 44
        }
      ]
    },
    {
      "cell_type": "code",
      "metadata": {
        "id": "x-Exq1SjJdRL"
      },
      "source": [
        "x_train_k, x_test_k, y_train_k, y_test_k = train_test_split(x_, y_, test_size = .3, random_state=25)"
      ],
      "execution_count": null,
      "outputs": []
    },
    {
      "cell_type": "code",
      "metadata": {
        "id": "S3orC5g-JdRP"
      },
      "source": [
        "from sklearn.neighbors import KNeighborsClassifier"
      ],
      "execution_count": null,
      "outputs": []
    },
    {
      "cell_type": "code",
      "metadata": {
        "id": "acC3WNgUJdRV"
      },
      "source": [
        "knn = KNeighborsClassifier(metric = 'cityblock', n_neighbors= 4, weights= 'distance')\n",
        "knn.fit(x_train_k,y_train_k)\n",
        "y_pred_k = knn.predict(x_test_k)"
      ],
      "execution_count": null,
      "outputs": []
    },
    {
      "cell_type": "code",
      "metadata": {
        "id": "OzTA8iwle5vf",
        "colab": {
          "base_uri": "https://localhost:8080/",
          "height": 52
        },
        "outputId": "3c5c1f0b-19bd-4181-b7b4-a21ab72b69b5"
      },
      "source": [
        "print('Training Score:',knn.score(x_train_k,y_train_k))\n",
        "print('Testing Score:',knn.score(x_test_k,y_test_k))"
      ],
      "execution_count": null,
      "outputs": [
        {
          "output_type": "stream",
          "text": [
            "Training Score: 1.0\n",
            "Testing Score: 0.92225\n"
          ],
          "name": "stdout"
        }
      ]
    },
    {
      "cell_type": "code",
      "metadata": {
        "id": "w7QVtL81JdRg",
        "colab": {
          "base_uri": "https://localhost:8080/",
          "height": 394
        },
        "outputId": "ec01ef2f-631d-4098-9f38-ea608f3fed9d"
      },
      "source": [
        "print(classification_report(y_test_k, y_pred_k))\n",
        "print(confusion_matrix(y_test_k, y_pred_k))"
      ],
      "execution_count": null,
      "outputs": [
        {
          "output_type": "stream",
          "text": [
            "              precision    recall  f1-score   support\n",
            "\n",
            "           1       0.92      0.91      0.92     57141\n",
            "           2       0.93      0.93      0.93     75000\n",
            "           3       0.93      0.93      0.93     13131\n",
            "           4       0.92      0.91      0.91      1797\n",
            "           5       0.85      0.88      0.86      4468\n",
            "           6       0.87      0.90      0.89      7534\n",
            "           7       0.95      0.97      0.96      8929\n",
            "\n",
            "    accuracy                           0.92    168000\n",
            "   macro avg       0.91      0.92      0.91    168000\n",
            "weighted avg       0.92      0.92      0.92    168000\n",
            "\n",
            "[[51935  4662     9     0    86    18   431]\n",
            " [ 3873 69810   331     8   582   338    58]\n",
            " [    6   199 12238    98    29   561     0]\n",
            " [    0     4   100  1641     1    51     0]\n",
            " [   78   415    41     0  3920    14     0]\n",
            " [   19   219   469    46    16  6765     0]\n",
            " [  263    37     0     0     0     0  8629]]\n"
          ],
          "name": "stdout"
        }
      ]
    },
    {
      "cell_type": "markdown",
      "metadata": {
        "id": "FnGsYuYG_Sd_"
      },
      "source": [
        "### Ensemble Techniques on Smote Transformed data"
      ]
    },
    {
      "cell_type": "code",
      "metadata": {
        "id": "x_frdN7g_SeA"
      },
      "source": [
        "#base_LR = LogisticRegression(random_state = 25)\n",
        "base_DT = DecisionTreeClassifier(criterion = \"entropy\", \n",
        "                                  random_state = 25,\n",
        "                                  max_depth=19, \n",
        "                                  min_samples_leaf=10,\n",
        "                                  min_samples_split=10)\n",
        "#base_NB = GaussianNB()\n",
        "base_RF = RandomForestClassifier(criterion = \"entropy\", \n",
        "                                  random_state = 25,\n",
        "                                  max_depth=19, \n",
        "                                  min_samples_leaf=10,\n",
        "                                  min_samples_split=10)\n",
        "base_KNN = KNeighborsClassifier(metric = 'cityblock', \n",
        "                                n_neighbors= 4, \n",
        "                                weights= 'distance')"
      ],
      "execution_count": null,
      "outputs": []
    },
    {
      "cell_type": "markdown",
      "metadata": {
        "id": "62CZWrgMm4M5"
      },
      "source": [
        "### Bagging"
      ]
    },
    {
      "cell_type": "code",
      "metadata": {
        "id": "-AcinCODt59n"
      },
      "source": [
        "from sklearn.ensemble import BaggingClassifier"
      ],
      "execution_count": null,
      "outputs": []
    },
    {
      "cell_type": "markdown",
      "metadata": {
        "id": "ZDmFviKBMKHl"
      },
      "source": [
        "#### Decision Bag"
      ]
    },
    {
      "cell_type": "code",
      "metadata": {
        "id": "JRm9AJ4fJePE",
        "colab": {
          "base_uri": "https://localhost:8080/"
        },
        "outputId": "4675a65f-32a0-404c-e0ff-ec50bb43f9eb"
      },
      "source": [
        "bgcl_DT = BaggingClassifier(base_estimator=base_DT,n_estimators=51,oob_score=True,random_state=25)\n",
        "bgcl_DT.fit(x_train, y_train)"
      ],
      "execution_count": null,
      "outputs": [
        {
          "output_type": "execute_result",
          "data": {
            "text/plain": [
              "BaggingClassifier(base_estimator=DecisionTreeClassifier(ccp_alpha=0.0,\n",
              "                                                        class_weight=None,\n",
              "                                                        criterion='entropy',\n",
              "                                                        max_depth=19,\n",
              "                                                        max_features=None,\n",
              "                                                        max_leaf_nodes=None,\n",
              "                                                        min_impurity_decrease=0.0,\n",
              "                                                        min_impurity_split=None,\n",
              "                                                        min_samples_leaf=10,\n",
              "                                                        min_samples_split=10,\n",
              "                                                        min_weight_fraction_leaf=0.0,\n",
              "                                                        presort='deprecated',\n",
              "                                                        random_state=25,\n",
              "                                                        splitter='best'),\n",
              "                  bootstrap=True, bootstrap_features=False, max_features=1.0,\n",
              "                  max_samples=1.0, n_estimators=51, n_jobs=None, oob_score=True,\n",
              "                  random_state=25, verbose=0, warm_start=False)"
            ]
          },
          "metadata": {
            "tags": []
          },
          "execution_count": 93
        }
      ]
    },
    {
      "cell_type": "code",
      "metadata": {
        "id": "pZWgXjxct595",
        "colab": {
          "base_uri": "https://localhost:8080/"
        },
        "outputId": "48aa8bcc-2b9f-4c86-ae39-2c5e7c5fc3b3"
      },
      "source": [
        "print('OOB SCORE:',bgcl_DT.oob_score_)\n",
        "print('Training Score:',bgcl_DT.score(x_train,y_train))\n",
        "print('Testing Score:',bgcl_DT.score(x_test,y_test))"
      ],
      "execution_count": null,
      "outputs": [
        {
          "output_type": "stream",
          "text": [
            "OOB SCORE: 0.942125\n",
            "Training Score: 0.968\n",
            "Testing Score: 0.9435714285714286\n"
          ],
          "name": "stdout"
        }
      ]
    },
    {
      "cell_type": "code",
      "metadata": {
        "id": "bJznUaJ8rQua",
        "colab": {
          "base_uri": "https://localhost:8080/"
        },
        "outputId": "93bd838b-06eb-4cc1-ed1f-bb9394e7b893"
      },
      "source": [
        "print(classification_report(y_test,bgcl_DT.predict(x_test)))\n",
        "print(confusion_matrix(y_test,bgcl_DT.predict(x_test)))"
      ],
      "execution_count": null,
      "outputs": [
        {
          "output_type": "stream",
          "text": [
            "              precision    recall  f1-score   support\n",
            "\n",
            "           1       0.95      0.93      0.94     57141\n",
            "           2       0.94      0.96      0.95     75000\n",
            "           3       0.95      0.96      0.95     13131\n",
            "           4       0.94      0.92      0.93      1797\n",
            "           5       0.93      0.87      0.90      4468\n",
            "           6       0.93      0.93      0.93      7534\n",
            "           7       0.97      0.96      0.96      8929\n",
            "\n",
            "    accuracy                           0.94    168000\n",
            "   macro avg       0.94      0.93      0.94    168000\n",
            "weighted avg       0.94      0.94      0.94    168000\n",
            "\n",
            "[[53066  3787     2     0    45     8   233]\n",
            " [ 2689 71731   167     1   236   135    41]\n",
            " [    0   149 12605    68    12   297     0]\n",
            " [    0     2   117  1647     0    31     0]\n",
            " [   29   491    29     0  3902    17     0]\n",
            " [    4   135   365    33     8  6989     0]\n",
            " [  308    39     0     0     2     0  8580]]\n"
          ],
          "name": "stdout"
        }
      ]
    },
    {
      "cell_type": "markdown",
      "metadata": {
        "id": "5mlKRaN_SmVt"
      },
      "source": [
        "#### Random Forest Bag"
      ]
    },
    {
      "cell_type": "code",
      "metadata": {
        "id": "u9Qg6PT_t5-G",
        "colab": {
          "base_uri": "https://localhost:8080/",
          "height": 412
        },
        "outputId": "0acd45f3-5567-4575-d1ae-39f264e4cd2a"
      },
      "source": [
        "bgcl_RF = BaggingClassifier(base_estimator=base_RF,n_estimators=51,oob_score=True,random_state=25)\n",
        "bgcl_RF.fit(x_train, y_train)"
      ],
      "execution_count": null,
      "outputs": [
        {
          "output_type": "execute_result",
          "data": {
            "text/plain": [
              "BaggingClassifier(base_estimator=RandomForestClassifier(bootstrap=True,\n",
              "                                                        ccp_alpha=0.0,\n",
              "                                                        class_weight=None,\n",
              "                                                        criterion='entropy',\n",
              "                                                        max_depth=19,\n",
              "                                                        max_features='auto',\n",
              "                                                        max_leaf_nodes=None,\n",
              "                                                        max_samples=None,\n",
              "                                                        min_impurity_decrease=0.0,\n",
              "                                                        min_impurity_split=None,\n",
              "                                                        min_samples_leaf=10,\n",
              "                                                        min_samples_split=10,\n",
              "                                                        min_weight_fraction_leaf=0.0,\n",
              "                                                        n_estimators=100,\n",
              "                                                        n_jobs=None,\n",
              "                                                        oob_score=False,\n",
              "                                                        random_state=25,\n",
              "                                                        verbose=0,\n",
              "                                                        warm_start=False),\n",
              "                  bootstrap=True, bootstrap_features=False, max_features=1.0,\n",
              "                  max_samples=1.0, n_estimators=51, n_jobs=None, oob_score=True,\n",
              "                  random_state=25, verbose=0, warm_start=False)"
            ]
          },
          "metadata": {
            "tags": []
          },
          "execution_count": 46
        }
      ]
    },
    {
      "cell_type": "code",
      "metadata": {
        "id": "nvvZlk_bUIXE",
        "colab": {
          "base_uri": "https://localhost:8080/",
          "height": 70
        },
        "outputId": "aae0a558-5c66-4d75-e9a5-f94627b45cd3"
      },
      "source": [
        "print('OOB SCORE:',bgcl_RF.oob_score_)\n",
        "print('Training Score:',bgcl_RF.score(x_train,y_train))\n",
        "print('Accuracy:',bgcl_RF.score(x_test,y_test))"
      ],
      "execution_count": null,
      "outputs": [
        {
          "output_type": "stream",
          "text": [
            "OOB SCORE: 0.9314260204081632\n",
            "Training Score: 0.9508010204081633\n",
            "Accuracy: 0.9302738095238096\n"
          ],
          "name": "stdout"
        }
      ]
    },
    {
      "cell_type": "code",
      "metadata": {
        "id": "3U4Ukdw7t5-W",
        "colab": {
          "base_uri": "https://localhost:8080/",
          "height": 394
        },
        "outputId": "a55470fa-f8be-4412-cf6b-880091f64de1"
      },
      "source": [
        "print(classification_report(y_test,bgcl_RF.predict(x_test)))\n",
        "print(confusion_matrix(y_test,bgcl_RF.predict(x_test)))"
      ],
      "execution_count": null,
      "outputs": [
        {
          "output_type": "stream",
          "text": [
            "              precision    recall  f1-score   support\n",
            "\n",
            "           1       0.94      0.91      0.92     57141\n",
            "           2       0.92      0.95      0.94     75000\n",
            "           3       0.92      0.95      0.94     13131\n",
            "           4       0.93      0.91      0.92      1797\n",
            "           5       0.94      0.81      0.87      4468\n",
            "           6       0.92      0.89      0.91      7534\n",
            "           7       0.97      0.95      0.96      8929\n",
            "\n",
            "    accuracy                           0.93    168000\n",
            "   macro avg       0.94      0.91      0.92    168000\n",
            "weighted avg       0.93      0.93      0.93    168000\n",
            "\n",
            "[[51730  5112     2     0    34    16   247]\n",
            " [ 2741 71539   302     3   180   199    36]\n",
            " [    0   194 12526    71     4   336     0]\n",
            " [    0     0   132  1638     0    27     0]\n",
            " [   21   759    62     0  3610    16     0]\n",
            " [    0   201   556    41     2  6734     0]\n",
            " [  377    41     0     0     2     0  8509]]\n"
          ],
          "name": "stdout"
        }
      ]
    },
    {
      "cell_type": "markdown",
      "metadata": {
        "id": "wH5r_cacMVPr"
      },
      "source": [
        "#### KNN Bag"
      ]
    },
    {
      "cell_type": "code",
      "metadata": {
        "id": "LeEiEJXwt5-d",
        "colab": {
          "base_uri": "https://localhost:8080/",
          "height": 196
        },
        "outputId": "810d5d00-b170-4e41-fedf-f9b6fbaab145"
      },
      "source": [
        "bgcl_KN = BaggingClassifier(base_estimator=base_KNN,n_estimators=51,oob_score=True,random_state=25)\n",
        "bgcl_KN.fit(x_train_k, y_train_k)"
      ],
      "execution_count": null,
      "outputs": [
        {
          "output_type": "execute_result",
          "data": {
            "text/plain": [
              "BaggingClassifier(base_estimator=KNeighborsClassifier(algorithm='auto',\n",
              "                                                      leaf_size=30,\n",
              "                                                      metric='cityblock',\n",
              "                                                      metric_params=None,\n",
              "                                                      n_jobs=None,\n",
              "                                                      n_neighbors=4, p=2,\n",
              "                                                      weights='distance'),\n",
              "                  bootstrap=True, bootstrap_features=False, max_features=1.0,\n",
              "                  max_samples=1.0, n_estimators=51, n_jobs=None, oob_score=True,\n",
              "                  random_state=25, verbose=0, warm_start=False)"
            ]
          },
          "metadata": {
            "tags": []
          },
          "execution_count": 52
        }
      ]
    },
    {
      "cell_type": "code",
      "metadata": {
        "id": "-P-ubWn1L586",
        "colab": {
          "base_uri": "https://localhost:8080/",
          "height": 70
        },
        "outputId": "ffad14d6-c090-4dd4-c70d-67b65dec8012"
      },
      "source": [
        "print('OOB SCORE:',bgcl_KN.oob_score_)\n",
        "print('Training Score:',bgcl_KN.score(x_train_k,y_train_k))\n",
        "print('Testing Score:',bgcl_KN.score(x_test_k,y_test_k))"
      ],
      "execution_count": null,
      "outputs": [
        {
          "output_type": "stream",
          "text": [
            "OOB SCORE: 0.9216607142857143\n",
            "Training Score: 0.9997882653061224\n",
            "Testing Score: 0.9227202380952381\n"
          ],
          "name": "stdout"
        }
      ]
    },
    {
      "cell_type": "code",
      "metadata": {
        "id": "M74y98k3rv2t"
      },
      "source": [
        "print(classification_report(y_test_k,bgcl_KN.predict(x_test_k)))\n",
        "print(confusion_matrix(y_test_k,bgcl_KN.predict(x_test_k)))"
      ],
      "execution_count": null,
      "outputs": []
    },
    {
      "cell_type": "markdown",
      "metadata": {
        "id": "Bp2MHHaPt5-s"
      },
      "source": [
        "### AdaBoost"
      ]
    },
    {
      "cell_type": "code",
      "metadata": {
        "id": "GMlsNDG4t5-t"
      },
      "source": [
        "from sklearn.ensemble import AdaBoostClassifier\n",
        "\n",
        "abcl_DT = AdaBoostClassifier(base_estimator=base_DT,n_estimators=50,random_state=25)\n",
        "\n",
        "abcl_RF = AdaBoostClassifier(base_estimator=base_RF,n_estimators=50,random_state=25)"
      ],
      "execution_count": null,
      "outputs": []
    },
    {
      "cell_type": "markdown",
      "metadata": {
        "id": "wn-ZqwuvXzFx"
      },
      "source": [
        "#### Decision Tree"
      ]
    },
    {
      "cell_type": "code",
      "metadata": {
        "scrolled": true,
        "id": "gFLWg6lUt5-2",
        "colab": {
          "base_uri": "https://localhost:8080/",
          "height": 52
        },
        "outputId": "1ac592a2-9410-48cf-faa0-237075983529"
      },
      "source": [
        "abcl_DT.fit(x_train,y_train)\n",
        "print('AdaBoost DT Training Score:',abcl_DT.score(x_train,y_train))\n",
        "print('AdaBoost DT Testing Score:',abcl_DT.score(x_test,y_test))"
      ],
      "execution_count": null,
      "outputs": [
        {
          "output_type": "stream",
          "text": [
            "AdaBoost DT Training Score: 0.9999642857142857\n",
            "AdaBoost DT Testing Score: 0.9449821428571429\n"
          ],
          "name": "stdout"
        }
      ]
    },
    {
      "cell_type": "code",
      "metadata": {
        "id": "NYHmfmdnUbLL",
        "colab": {
          "base_uri": "https://localhost:8080/",
          "height": 394
        },
        "outputId": "9efe34c5-7ab9-41c1-8f67-c42cb5d23d52"
      },
      "source": [
        "print(classification_report(y_test,abcl_DT.predict(x_test)))\n",
        "print(confusion_matrix(y_test,abcl_DT.predict(x_test)))"
      ],
      "execution_count": null,
      "outputs": [
        {
          "output_type": "stream",
          "text": [
            "              precision    recall  f1-score   support\n",
            "\n",
            "           1       0.95      0.93      0.94     57141\n",
            "           2       0.94      0.96      0.95     75000\n",
            "           3       0.95      0.97      0.96     13131\n",
            "           4       0.96      0.93      0.95      1797\n",
            "           5       0.97      0.85      0.91      4468\n",
            "           6       0.96      0.93      0.94      7534\n",
            "           7       0.98      0.96      0.97      8929\n",
            "\n",
            "    accuracy                           0.94    168000\n",
            "   macro avg       0.96      0.93      0.95    168000\n",
            "weighted avg       0.95      0.94      0.94    168000\n",
            "\n",
            "[[52995  4014     1     0     8     2   121]\n",
            " [ 2709 71892   167     1    98   114    19]\n",
            " [    0   137 12770    38     4   182     0]\n",
            " [    0     0   105  1667     0    25     0]\n",
            " [   25   587    32     0  3820     4     0]\n",
            " [    1   153   320    22     2  7036     0]\n",
            " [  320    30     0     0     2     0  8577]]\n"
          ],
          "name": "stdout"
        }
      ]
    },
    {
      "cell_type": "markdown",
      "metadata": {
        "id": "SD2FfVJEX4Nm"
      },
      "source": [
        "#### Random Forest"
      ]
    },
    {
      "cell_type": "code",
      "metadata": {
        "id": "OwlC671Uo1qc",
        "colab": {
          "base_uri": "https://localhost:8080/",
          "height": 52
        },
        "outputId": "1f29ace5-e78f-48f0-c31b-99d3aa32cd3e"
      },
      "source": [
        "abcl_RF.fit(x_train,y_train)\n",
        "print('AdaBoost RF Training Score:',abcl_RF.score(x_train,y_train))\n",
        "print('AdaBoost RF Testing Score:',abcl_RF.score(x_test,y_test))"
      ],
      "execution_count": null,
      "outputs": [
        {
          "output_type": "stream",
          "text": [
            "AdaBoost RF Training Score: 0.8300484693877551\n",
            "AdaBoost RF Testing Score: 0.7931785714285714\n"
          ],
          "name": "stdout"
        }
      ]
    },
    {
      "cell_type": "code",
      "metadata": {
        "id": "PmdHHHS0o1q_",
        "colab": {
          "base_uri": "https://localhost:8080/",
          "height": 394
        },
        "outputId": "955ff54a-8d89-44ce-e02d-e9162e6faa67"
      },
      "source": [
        "print(classification_report(y_test,abcl_RF.predict(x_test)))\n",
        "print(confusion_matrix(y_test,abcl_RF.predict(x_test)))"
      ],
      "execution_count": null,
      "outputs": [
        {
          "output_type": "stream",
          "text": [
            "              precision    recall  f1-score   support\n",
            "\n",
            "           1       0.66      0.97      0.78     57141\n",
            "           2       0.96      0.62      0.75     75000\n",
            "           3       0.90      0.93      0.92     13131\n",
            "           4       0.92      0.87      0.89      1797\n",
            "           5       0.91      0.76      0.83      4468\n",
            "           6       0.87      0.85      0.86      7534\n",
            "           7       0.88      0.88      0.88      8929\n",
            "\n",
            "    accuracy                           0.79    168000\n",
            "   macro avg       0.87      0.84      0.84    168000\n",
            "weighted avg       0.84      0.79      0.79    168000\n",
            "\n",
            "[[55169  1100     0     0    24     6   842]\n",
            " [27380 46609   260     1   258   302   190]\n",
            " [   15   164 12246   113    25   568     0]\n",
            " [    0     0   160  1558     0    79     0]\n",
            " [  271   749    36     0  3390    22     0]\n",
            " [   36   148   886    28     9  6427     0]\n",
            " [ 1066     4     0     0     4     0  7855]]\n"
          ],
          "name": "stdout"
        }
      ]
    },
    {
      "cell_type": "markdown",
      "metadata": {
        "id": "tYm2lQFy-tzj"
      },
      "source": [
        "### Gradient Boosting"
      ]
    },
    {
      "cell_type": "code",
      "metadata": {
        "id": "iOVicYxm-yjm",
        "colab": {
          "base_uri": "https://localhost:8080/",
          "height": 196
        },
        "outputId": "9fe92289-813b-425e-974b-4c477998a603"
      },
      "source": [
        "from sklearn.ensemble import GradientBoostingClassifier\n",
        "\n",
        "gbcl = GradientBoostingClassifier(random_state = 25,\n",
        "                                  max_depth=19, \n",
        "                                  min_samples_leaf=10,\n",
        "                                  min_samples_split=10,\n",
        "                                  n_estimators = 50)\n",
        "gbcl.fit(x_train, y_train)"
      ],
      "execution_count": null,
      "outputs": [
        {
          "output_type": "execute_result",
          "data": {
            "text/plain": [
              "GradientBoostingClassifier(ccp_alpha=0.0, criterion='friedman_mse', init=None,\n",
              "                           learning_rate=0.1, loss='deviance', max_depth=19,\n",
              "                           max_features=None, max_leaf_nodes=None,\n",
              "                           min_impurity_decrease=0.0, min_impurity_split=None,\n",
              "                           min_samples_leaf=10, min_samples_split=10,\n",
              "                           min_weight_fraction_leaf=0.0, n_estimators=50,\n",
              "                           n_iter_no_change=None, presort='deprecated',\n",
              "                           random_state=25, subsample=1.0, tol=0.0001,\n",
              "                           validation_fraction=0.1, verbose=0,\n",
              "                           warm_start=False)"
            ]
          },
          "metadata": {
            "tags": []
          },
          "execution_count": 49
        }
      ]
    },
    {
      "cell_type": "code",
      "metadata": {
        "id": "w-Y8P2iQ-yjv",
        "colab": {
          "base_uri": "https://localhost:8080/",
          "height": 52
        },
        "outputId": "ab6eef3c-38e1-42e0-e8e3-42496f0b2499"
      },
      "source": [
        "print(gbcl.score(x_train,y_train))\n",
        "print(gbcl.score(x_test,y_test))"
      ],
      "execution_count": null,
      "outputs": [
        {
          "output_type": "stream",
          "text": [
            "1.0\n",
            "0.97275\n"
          ],
          "name": "stdout"
        }
      ]
    },
    {
      "cell_type": "code",
      "metadata": {
        "id": "usCVxUVL-yjz",
        "colab": {
          "base_uri": "https://localhost:8080/",
          "height": 394
        },
        "outputId": "7fbb87e5-08c4-472d-d5d1-04147727b6ab"
      },
      "source": [
        "print(classification_report(y_test,gbcl.predict(x_test)))\n",
        "print(confusion_matrix(y_test,gbcl.predict(x_test)))"
      ],
      "execution_count": null,
      "outputs": [
        {
          "output_type": "stream",
          "text": [
            "              precision    recall  f1-score   support\n",
            "\n",
            "           1       0.98      0.97      0.97     57141\n",
            "           2       0.97      0.98      0.98     75000\n",
            "           3       0.97      0.98      0.97     13131\n",
            "           4       0.95      0.94      0.94      1797\n",
            "           5       0.96      0.93      0.95      4468\n",
            "           6       0.96      0.96      0.96      7534\n",
            "           7       0.98      0.98      0.98      8929\n",
            "\n",
            "    accuracy                           0.97    168000\n",
            "   macro avg       0.97      0.96      0.96    168000\n",
            "weighted avg       0.97      0.97      0.97    168000\n",
            "\n",
            "[[55303  1668     0     0    23     6   141]\n",
            " [ 1193 73476   103     1   135    74    18]\n",
            " [    0   104 12806    62     4   155     0]\n",
            " [    0     0    79  1688     0    30     0]\n",
            " [   19   249    20     0  4172     8     0]\n",
            " [    2    86   194    27     2  7223     0]\n",
            " [  154    19     0     0     2     0  8754]]\n"
          ],
          "name": "stdout"
        }
      ]
    },
    {
      "cell_type": "markdown",
      "metadata": {
        "id": "guCO9sl8j7UJ"
      },
      "source": [
        "## Smote_Transformed_Original"
      ]
    },
    {
      "cell_type": "markdown",
      "metadata": {
        "id": "sJtcJqntZuUo"
      },
      "source": [
        "Constructing a dataframe with original features after applying smote and transforming it."
      ]
    },
    {
      "cell_type": "code",
      "metadata": {
        "id": "qLjVSzl4j7UQ",
        "colab": {
          "base_uri": "https://localhost:8080/"
        },
        "outputId": "6312f683-d5c9-4e59-ef72-2983658d0c56"
      },
      "source": [
        "forest_e = forest_c.drop(columns = forest_c.columns[10:16])\n",
        "forest_e.info()"
      ],
      "execution_count": null,
      "outputs": [
        {
          "output_type": "stream",
          "text": [
            "<class 'pandas.core.frame.DataFrame'>\n",
            "RangeIndex: 560000 entries, 0 to 559999\n",
            "Data columns (total 13 columns):\n",
            " #   Column                              Non-Null Count   Dtype   \n",
            "---  ------                              --------------   -----   \n",
            " 0   Elevation                           560000 non-null  float64 \n",
            " 1   Aspect                              560000 non-null  float64 \n",
            " 2   Slope                               560000 non-null  float64 \n",
            " 3   Horizontal_Distance_To_Hydrology    560000 non-null  float64 \n",
            " 4   Vertical_Scaled                     560000 non-null  float64 \n",
            " 5   Horizontal_Distance_To_Roadways     560000 non-null  float64 \n",
            " 6   Hillshade_9am                       560000 non-null  float64 \n",
            " 7   Hillshade_Noon                      560000 non-null  float64 \n",
            " 8   Hillshade_3pm                       560000 non-null  float64 \n",
            " 9   Horizontal_Distance_To_Fire_Points  560000 non-null  float64 \n",
            " 10  Wilderness                          560000 non-null  category\n",
            " 11  Soil                                560000 non-null  category\n",
            " 12  Cover_Type                          560000 non-null  category\n",
            "dtypes: category(3), float64(10)\n",
            "memory usage: 45.6 MB\n"
          ],
          "name": "stdout"
        }
      ]
    },
    {
      "cell_type": "markdown",
      "metadata": {
        "id": "UXVtovtDj7Ud"
      },
      "source": [
        "## Modelling on smote transformed original data\n"
      ]
    },
    {
      "cell_type": "markdown",
      "metadata": {
        "id": "2QNH2oE3j7Ue"
      },
      "source": [
        "### Decision Tree"
      ]
    },
    {
      "cell_type": "code",
      "metadata": {
        "id": "Gbfv5Amfj7Ug"
      },
      "source": [
        "from sklearn.model_selection import train_test_split\n",
        "from sklearn.metrics import classification_report, confusion_matrix, accuracy_score\n",
        "from sklearn.tree import DecisionTreeClassifier\n",
        "import warnings\n",
        "warnings.filterwarnings(\"ignore\")"
      ],
      "execution_count": null,
      "outputs": []
    },
    {
      "cell_type": "markdown",
      "metadata": {
        "id": "LZAYr_gzJ7FU"
      },
      "source": [
        "Dividing data into x (independent variable) and y (dependent variable) and then splitting data into train and test in 7:3 ratio"
      ]
    },
    {
      "cell_type": "code",
      "metadata": {
        "id": "uFdsmlpHj7Un"
      },
      "source": [
        "x = forest_e.drop(columns = ['Cover_Type'])\n",
        "y = forest_e['Cover_Type']"
      ],
      "execution_count": null,
      "outputs": []
    },
    {
      "cell_type": "code",
      "metadata": {
        "id": "kDrHFMNKj7Uv"
      },
      "source": [
        "x_train, x_test, y_train, y_test = train_test_split(x, y, test_size = .3, random_state=25)"
      ],
      "execution_count": null,
      "outputs": []
    },
    {
      "cell_type": "code",
      "metadata": {
        "id": "0YXMCptxj7Uz",
        "colab": {
          "base_uri": "https://localhost:8080/",
          "height": 124
        },
        "outputId": "27e875f9-0ba1-4094-9b53-a9d5dfeff728"
      },
      "source": [
        "dt = DecisionTreeClassifier(criterion = \"entropy\", \n",
        "                                  random_state = 25,\n",
        "                                  max_depth=19, \n",
        "                                  min_samples_leaf=10,\n",
        "                                  min_samples_split=10)\n",
        "dt.fit(x_train, y_train)"
      ],
      "execution_count": null,
      "outputs": [
        {
          "output_type": "execute_result",
          "data": {
            "text/plain": [
              "DecisionTreeClassifier(ccp_alpha=0.0, class_weight=None, criterion='entropy',\n",
              "                       max_depth=19, max_features=None, max_leaf_nodes=None,\n",
              "                       min_impurity_decrease=0.0, min_impurity_split=None,\n",
              "                       min_samples_leaf=10, min_samples_split=10,\n",
              "                       min_weight_fraction_leaf=0.0, presort='deprecated',\n",
              "                       random_state=25, splitter='best')"
            ]
          },
          "metadata": {
            "tags": []
          },
          "execution_count": 60
        }
      ]
    },
    {
      "cell_type": "code",
      "metadata": {
        "id": "11yKWlGSj7U4",
        "colab": {
          "base_uri": "https://localhost:8080/",
          "height": 52
        },
        "outputId": "42baa474-ac09-4aa5-e016-9a4842d49795"
      },
      "source": [
        "print('Training Score:',dt.score(x_train, y_train))\n",
        "print('Testing Score:',dt.score(x_test, y_test))"
      ],
      "execution_count": null,
      "outputs": [
        {
          "output_type": "stream",
          "text": [
            "Training Score: 0.9298903061224489\n",
            "Testing Score: 0.9005833333333333\n"
          ],
          "name": "stdout"
        }
      ]
    },
    {
      "cell_type": "code",
      "metadata": {
        "id": "g5PwoV2Jj7U_",
        "colab": {
          "base_uri": "https://localhost:8080/",
          "height": 394
        },
        "outputId": "fcfda5c1-a26b-45cd-e004-70367c723815"
      },
      "source": [
        "y_pred = dt.predict(x_test)\n",
        "print(classification_report(y_test,y_pred))\n",
        "print(confusion_matrix(y_test,y_pred))"
      ],
      "execution_count": null,
      "outputs": [
        {
          "output_type": "stream",
          "text": [
            "              precision    recall  f1-score   support\n",
            "\n",
            "           1       0.89      0.89      0.89     57141\n",
            "           2       0.91      0.91      0.91     75000\n",
            "           3       0.92      0.91      0.91     13131\n",
            "           4       0.91      0.89      0.90      1797\n",
            "           5       0.84      0.84      0.84      4468\n",
            "           6       0.86      0.87      0.87      7534\n",
            "           7       0.94      0.94      0.94      8929\n",
            "\n",
            "    accuracy                           0.90    168000\n",
            "   macro avg       0.90      0.89      0.89    168000\n",
            "weighted avg       0.90      0.90      0.90    168000\n",
            "\n",
            "[[50771  5846     5     0    84    11   424]\n",
            " [ 5533 68333   257     1   588   216    72]\n",
            " [    8   296 11968   105    30   724     0]\n",
            " [    0     6   146  1598     0    47     0]\n",
            " [   65   593    52     0  3738    20     0]\n",
            " [   34   297   618    52    13  6520     0]\n",
            " [  463    94     0     0     2     0  8370]]\n"
          ],
          "name": "stdout"
        }
      ]
    },
    {
      "cell_type": "code",
      "metadata": {
        "id": "3Dl1ecgFj7VE",
        "colab": {
          "base_uri": "https://localhost:8080/",
          "height": 388
        },
        "outputId": "7e555507-8978-4b71-fb13-50c0041d4f50"
      },
      "source": [
        "pd.DataFrame({'columns':x.columns,'Importance':dt.feature_importances_})"
      ],
      "execution_count": null,
      "outputs": [
        {
          "output_type": "execute_result",
          "data": {
            "text/html": [
              "<div>\n",
              "<style scoped>\n",
              "    .dataframe tbody tr th:only-of-type {\n",
              "        vertical-align: middle;\n",
              "    }\n",
              "\n",
              "    .dataframe tbody tr th {\n",
              "        vertical-align: top;\n",
              "    }\n",
              "\n",
              "    .dataframe thead th {\n",
              "        text-align: right;\n",
              "    }\n",
              "</style>\n",
              "<table border=\"1\" class=\"dataframe\">\n",
              "  <thead>\n",
              "    <tr style=\"text-align: right;\">\n",
              "      <th></th>\n",
              "      <th>columns</th>\n",
              "      <th>Importance</th>\n",
              "    </tr>\n",
              "  </thead>\n",
              "  <tbody>\n",
              "    <tr>\n",
              "      <th>0</th>\n",
              "      <td>Elevation</td>\n",
              "      <td>0.448585</td>\n",
              "    </tr>\n",
              "    <tr>\n",
              "      <th>1</th>\n",
              "      <td>Aspect</td>\n",
              "      <td>0.020652</td>\n",
              "    </tr>\n",
              "    <tr>\n",
              "      <th>2</th>\n",
              "      <td>Slope</td>\n",
              "      <td>0.001047</td>\n",
              "    </tr>\n",
              "    <tr>\n",
              "      <th>3</th>\n",
              "      <td>Horizontal_Distance_To_Hydrology</td>\n",
              "      <td>0.046650</td>\n",
              "    </tr>\n",
              "    <tr>\n",
              "      <th>4</th>\n",
              "      <td>Vertical_Scaled</td>\n",
              "      <td>0.030602</td>\n",
              "    </tr>\n",
              "    <tr>\n",
              "      <th>5</th>\n",
              "      <td>Horizontal_Distance_To_Roadways</td>\n",
              "      <td>0.109451</td>\n",
              "    </tr>\n",
              "    <tr>\n",
              "      <th>6</th>\n",
              "      <td>Hillshade_9am</td>\n",
              "      <td>0.025406</td>\n",
              "    </tr>\n",
              "    <tr>\n",
              "      <th>7</th>\n",
              "      <td>Hillshade_Noon</td>\n",
              "      <td>0.023538</td>\n",
              "    </tr>\n",
              "    <tr>\n",
              "      <th>8</th>\n",
              "      <td>Hillshade_3pm</td>\n",
              "      <td>0.015247</td>\n",
              "    </tr>\n",
              "    <tr>\n",
              "      <th>9</th>\n",
              "      <td>Horizontal_Distance_To_Fire_Points</td>\n",
              "      <td>0.116505</td>\n",
              "    </tr>\n",
              "    <tr>\n",
              "      <th>10</th>\n",
              "      <td>Wilderness</td>\n",
              "      <td>0.044900</td>\n",
              "    </tr>\n",
              "    <tr>\n",
              "      <th>11</th>\n",
              "      <td>Soil</td>\n",
              "      <td>0.117418</td>\n",
              "    </tr>\n",
              "  </tbody>\n",
              "</table>\n",
              "</div>"
            ],
            "text/plain": [
              "                               columns  Importance\n",
              "0                            Elevation    0.448585\n",
              "1                               Aspect    0.020652\n",
              "2                                Slope    0.001047\n",
              "3     Horizontal_Distance_To_Hydrology    0.046650\n",
              "4                      Vertical_Scaled    0.030602\n",
              "5      Horizontal_Distance_To_Roadways    0.109451\n",
              "6                        Hillshade_9am    0.025406\n",
              "7                       Hillshade_Noon    0.023538\n",
              "8                        Hillshade_3pm    0.015247\n",
              "9   Horizontal_Distance_To_Fire_Points    0.116505\n",
              "10                          Wilderness    0.044900\n",
              "11                                Soil    0.117418"
            ]
          },
          "metadata": {
            "tags": []
          },
          "execution_count": 63
        }
      ]
    },
    {
      "cell_type": "markdown",
      "metadata": {
        "id": "rakrjX71j7VI"
      },
      "source": [
        "### Random Forest"
      ]
    },
    {
      "cell_type": "code",
      "metadata": {
        "id": "VylvI3c6j7VJ"
      },
      "source": [
        "from sklearn.ensemble import RandomForestClassifier"
      ],
      "execution_count": null,
      "outputs": []
    },
    {
      "cell_type": "code",
      "metadata": {
        "id": "kvn_h4dHj7VN",
        "colab": {
          "base_uri": "https://localhost:8080/",
          "height": 160
        },
        "outputId": "3dccbce0-cd43-4953-de7b-651c436c4e49"
      },
      "source": [
        "rforest = RandomForestClassifier(criterion = \"entropy\", \n",
        "                                  random_state = 25,\n",
        "                                  max_depth=19, \n",
        "                                  min_samples_leaf=10,\n",
        "                                  min_samples_split=10)\n",
        "rforest.fit(x_train, y_train)"
      ],
      "execution_count": null,
      "outputs": [
        {
          "output_type": "execute_result",
          "data": {
            "text/plain": [
              "RandomForestClassifier(bootstrap=True, ccp_alpha=0.0, class_weight=None,\n",
              "                       criterion='entropy', max_depth=19, max_features='auto',\n",
              "                       max_leaf_nodes=None, max_samples=None,\n",
              "                       min_impurity_decrease=0.0, min_impurity_split=None,\n",
              "                       min_samples_leaf=10, min_samples_split=10,\n",
              "                       min_weight_fraction_leaf=0.0, n_estimators=100,\n",
              "                       n_jobs=None, oob_score=False, random_state=25, verbose=0,\n",
              "                       warm_start=False)"
            ]
          },
          "metadata": {
            "tags": []
          },
          "execution_count": 65
        }
      ]
    },
    {
      "cell_type": "code",
      "metadata": {
        "id": "ulxHJ-vuj7VS",
        "colab": {
          "base_uri": "https://localhost:8080/",
          "height": 52
        },
        "outputId": "54ec1398-7ecf-414e-8c8a-cd2ef96fc757"
      },
      "source": [
        "print('Training Score:',rforest.score(x_train, y_train))\n",
        "print('Testing Score:',rforest.score(x_test, y_test))"
      ],
      "execution_count": null,
      "outputs": [
        {
          "output_type": "stream",
          "text": [
            "Training Score: 0.9545841836734694\n",
            "Testing Score: 0.9291130952380953\n"
          ],
          "name": "stdout"
        }
      ]
    },
    {
      "cell_type": "code",
      "metadata": {
        "id": "SbokSCvBj7VW",
        "colab": {
          "base_uri": "https://localhost:8080/",
          "height": 394
        },
        "outputId": "5a73a436-14b3-40d3-d4b3-bdf69da1806d"
      },
      "source": [
        "y_pred = rforest.predict(x_test)\n",
        "print(classification_report(y_test,y_pred))\n",
        "print(confusion_matrix(y_test,y_pred))"
      ],
      "execution_count": null,
      "outputs": [
        {
          "output_type": "stream",
          "text": [
            "              precision    recall  f1-score   support\n",
            "\n",
            "           1       0.94      0.90      0.92     57141\n",
            "           2       0.92      0.95      0.93     75000\n",
            "           3       0.93      0.95      0.94     13131\n",
            "           4       0.94      0.93      0.93      1797\n",
            "           5       0.94      0.82      0.88      4468\n",
            "           6       0.92      0.90      0.91      7534\n",
            "           7       0.97      0.95      0.96      8929\n",
            "\n",
            "    accuracy                           0.93    168000\n",
            "   macro avg       0.94      0.91      0.92    168000\n",
            "weighted avg       0.93      0.93      0.93    168000\n",
            "\n",
            "[[51517  5353     2     0    24    20   225]\n",
            " [ 2848 71504   250     1   179   184    34]\n",
            " [    4   186 12522    68     8   343     0]\n",
            " [    0     0   110  1665     0    22     0]\n",
            " [   24   727    51     0  3648    18     0]\n",
            " [    2   181   552    38     2  6759     0]\n",
            " [  415    36     0     0     2     0  8476]]\n"
          ],
          "name": "stdout"
        }
      ]
    },
    {
      "cell_type": "code",
      "metadata": {
        "id": "SCu3Nqkdj7Vi",
        "colab": {
          "base_uri": "https://localhost:8080/",
          "height": 388
        },
        "outputId": "b570669b-9939-40ef-e4ec-18923c4f1687"
      },
      "source": [
        "pd.DataFrame({'columns':x.columns,'Importance':rforest.feature_importances_})"
      ],
      "execution_count": null,
      "outputs": [
        {
          "output_type": "execute_result",
          "data": {
            "text/html": [
              "<div>\n",
              "<style scoped>\n",
              "    .dataframe tbody tr th:only-of-type {\n",
              "        vertical-align: middle;\n",
              "    }\n",
              "\n",
              "    .dataframe tbody tr th {\n",
              "        vertical-align: top;\n",
              "    }\n",
              "\n",
              "    .dataframe thead th {\n",
              "        text-align: right;\n",
              "    }\n",
              "</style>\n",
              "<table border=\"1\" class=\"dataframe\">\n",
              "  <thead>\n",
              "    <tr style=\"text-align: right;\">\n",
              "      <th></th>\n",
              "      <th>columns</th>\n",
              "      <th>Importance</th>\n",
              "    </tr>\n",
              "  </thead>\n",
              "  <tbody>\n",
              "    <tr>\n",
              "      <th>0</th>\n",
              "      <td>Elevation</td>\n",
              "      <td>0.310944</td>\n",
              "    </tr>\n",
              "    <tr>\n",
              "      <th>1</th>\n",
              "      <td>Aspect</td>\n",
              "      <td>0.029215</td>\n",
              "    </tr>\n",
              "    <tr>\n",
              "      <th>2</th>\n",
              "      <td>Slope</td>\n",
              "      <td>0.003131</td>\n",
              "    </tr>\n",
              "    <tr>\n",
              "      <th>3</th>\n",
              "      <td>Horizontal_Distance_To_Hydrology</td>\n",
              "      <td>0.044182</td>\n",
              "    </tr>\n",
              "    <tr>\n",
              "      <th>4</th>\n",
              "      <td>Vertical_Scaled</td>\n",
              "      <td>0.035856</td>\n",
              "    </tr>\n",
              "    <tr>\n",
              "      <th>5</th>\n",
              "      <td>Horizontal_Distance_To_Roadways</td>\n",
              "      <td>0.105092</td>\n",
              "    </tr>\n",
              "    <tr>\n",
              "      <th>6</th>\n",
              "      <td>Hillshade_9am</td>\n",
              "      <td>0.028668</td>\n",
              "    </tr>\n",
              "    <tr>\n",
              "      <th>7</th>\n",
              "      <td>Hillshade_Noon</td>\n",
              "      <td>0.028786</td>\n",
              "    </tr>\n",
              "    <tr>\n",
              "      <th>8</th>\n",
              "      <td>Hillshade_3pm</td>\n",
              "      <td>0.025045</td>\n",
              "    </tr>\n",
              "    <tr>\n",
              "      <th>9</th>\n",
              "      <td>Horizontal_Distance_To_Fire_Points</td>\n",
              "      <td>0.093682</td>\n",
              "    </tr>\n",
              "    <tr>\n",
              "      <th>10</th>\n",
              "      <td>Wilderness</td>\n",
              "      <td>0.091925</td>\n",
              "    </tr>\n",
              "    <tr>\n",
              "      <th>11</th>\n",
              "      <td>Soil</td>\n",
              "      <td>0.203474</td>\n",
              "    </tr>\n",
              "  </tbody>\n",
              "</table>\n",
              "</div>"
            ],
            "text/plain": [
              "                               columns  Importance\n",
              "0                            Elevation    0.310944\n",
              "1                               Aspect    0.029215\n",
              "2                                Slope    0.003131\n",
              "3     Horizontal_Distance_To_Hydrology    0.044182\n",
              "4                      Vertical_Scaled    0.035856\n",
              "5      Horizontal_Distance_To_Roadways    0.105092\n",
              "6                        Hillshade_9am    0.028668\n",
              "7                       Hillshade_Noon    0.028786\n",
              "8                        Hillshade_3pm    0.025045\n",
              "9   Horizontal_Distance_To_Fire_Points    0.093682\n",
              "10                          Wilderness    0.091925\n",
              "11                                Soil    0.203474"
            ]
          },
          "metadata": {
            "tags": []
          },
          "execution_count": 68
        }
      ]
    },
    {
      "cell_type": "markdown",
      "metadata": {
        "id": "NcfgsPoej7Vn"
      },
      "source": [
        "### KNN"
      ]
    },
    {
      "cell_type": "markdown",
      "metadata": {
        "id": "TuUaAm4QKmsl"
      },
      "source": [
        "*   scaling all numerical columns and saving it in a dataframe 'x_std'\n",
        "*   concatenating all the independent data into a dataframe 'x_' \n",
        "*   dividing data to x_ (independent variable) and y_ (dependent variable)\n",
        "*   splitting data into train and test in 7:3 ratio"
      ]
    },
    {
      "cell_type": "code",
      "metadata": {
        "id": "sosWNuHpj7Vo",
        "colab": {
          "base_uri": "https://localhost:8080/"
        },
        "outputId": "edd143d5-82d5-4c74-c08e-e4c7b39b8450"
      },
      "source": [
        "from sklearn.preprocessing import StandardScaler\n",
        "\n",
        "x1 = forest_e.drop(columns= ['Cover_Type','Soil','Wilderness'])\n",
        "y_ = forest_e['Cover_Type']\n",
        "\n",
        "x_std = StandardScaler().fit_transform(x1)\n",
        "\n",
        "x_std = pd.DataFrame(x_std, columns = x1.columns)\n",
        "\n",
        "x_ = pd.concat([x_std,forest_e[['Soil','Wilderness']]], axis = 1)\n",
        "x_.head()"
      ],
      "execution_count": null,
      "outputs": [
        {
          "output_type": "execute_result",
          "data": {
            "text/html": [
              "<div>\n",
              "<style scoped>\n",
              "    .dataframe tbody tr th:only-of-type {\n",
              "        vertical-align: middle;\n",
              "    }\n",
              "\n",
              "    .dataframe tbody tr th {\n",
              "        vertical-align: top;\n",
              "    }\n",
              "\n",
              "    .dataframe thead th {\n",
              "        text-align: right;\n",
              "    }\n",
              "</style>\n",
              "<table border=\"1\" class=\"dataframe\">\n",
              "  <thead>\n",
              "    <tr style=\"text-align: right;\">\n",
              "      <th></th>\n",
              "      <th>Elevation</th>\n",
              "      <th>Aspect</th>\n",
              "      <th>Slope</th>\n",
              "      <th>Horizontal_Distance_To_Hydrology</th>\n",
              "      <th>Vertical_Scaled</th>\n",
              "      <th>Horizontal_Distance_To_Roadways</th>\n",
              "      <th>Hillshade_9am</th>\n",
              "      <th>Hillshade_Noon</th>\n",
              "      <th>Hillshade_3pm</th>\n",
              "      <th>Horizontal_Distance_To_Fire_Points</th>\n",
              "      <th>Soil</th>\n",
              "      <th>Wilderness</th>\n",
              "    </tr>\n",
              "  </thead>\n",
              "  <tbody>\n",
              "    <tr>\n",
              "      <th>0</th>\n",
              "      <td>0.824993</td>\n",
              "      <td>-0.680594</td>\n",
              "      <td>0.015748</td>\n",
              "      <td>-1.367684</td>\n",
              "      <td>-0.711715</td>\n",
              "      <td>-0.242203</td>\n",
              "      <td>0.806948</td>\n",
              "      <td>-0.088893</td>\n",
              "      <td>-0.613490</td>\n",
              "      <td>-0.031070</td>\n",
              "      <td>29.0</td>\n",
              "      <td>1.0</td>\n",
              "    </tr>\n",
              "    <tr>\n",
              "      <th>1</th>\n",
              "      <td>1.139856</td>\n",
              "      <td>-1.046790</td>\n",
              "      <td>-1.343958</td>\n",
              "      <td>1.619367</td>\n",
              "      <td>2.444306</td>\n",
              "      <td>-1.089579</td>\n",
              "      <td>0.259169</td>\n",
              "      <td>-0.929194</td>\n",
              "      <td>-0.664590</td>\n",
              "      <td>-0.884791</td>\n",
              "      <td>22.0</td>\n",
              "      <td>1.0</td>\n",
              "    </tr>\n",
              "    <tr>\n",
              "      <th>2</th>\n",
              "      <td>1.084099</td>\n",
              "      <td>1.052138</td>\n",
              "      <td>0.015748</td>\n",
              "      <td>1.490143</td>\n",
              "      <td>-0.072622</td>\n",
              "      <td>-1.232150</td>\n",
              "      <td>-0.726835</td>\n",
              "      <td>0.998555</td>\n",
              "      <td>1.251671</td>\n",
              "      <td>-1.032981</td>\n",
              "      <td>32.0</td>\n",
              "      <td>3.0</td>\n",
              "    </tr>\n",
              "    <tr>\n",
              "      <th>3</th>\n",
              "      <td>0.926668</td>\n",
              "      <td>-0.725252</td>\n",
              "      <td>-0.379393</td>\n",
              "      <td>-0.820428</td>\n",
              "      <td>-0.665920</td>\n",
              "      <td>-0.708370</td>\n",
              "      <td>0.953023</td>\n",
              "      <td>-0.780906</td>\n",
              "      <td>-1.226693</td>\n",
              "      <td>-0.758116</td>\n",
              "      <td>39.0</td>\n",
              "      <td>3.0</td>\n",
              "    </tr>\n",
              "    <tr>\n",
              "      <th>4</th>\n",
              "      <td>0.992264</td>\n",
              "      <td>0.382268</td>\n",
              "      <td>-0.379393</td>\n",
              "      <td>-0.377644</td>\n",
              "      <td>-0.254274</td>\n",
              "      <td>-0.873029</td>\n",
              "      <td>0.003538</td>\n",
              "      <td>1.443421</td>\n",
              "      <td>0.715118</td>\n",
              "      <td>-0.598972</td>\n",
              "      <td>23.0</td>\n",
              "      <td>1.0</td>\n",
              "    </tr>\n",
              "  </tbody>\n",
              "</table>\n",
              "</div>"
            ],
            "text/plain": [
              "   Elevation    Aspect  ...  Soil  Wilderness\n",
              "0   0.824993 -0.680594  ...  29.0         1.0\n",
              "1   1.139856 -1.046790  ...  22.0         1.0\n",
              "2   1.084099  1.052138  ...  32.0         3.0\n",
              "3   0.926668 -0.725252  ...  39.0         3.0\n",
              "4   0.992264  0.382268  ...  23.0         1.0\n",
              "\n",
              "[5 rows x 12 columns]"
            ]
          },
          "metadata": {
            "tags": []
          },
          "execution_count": 48
        }
      ]
    },
    {
      "cell_type": "code",
      "metadata": {
        "id": "DX6NDMB7j7Vx"
      },
      "source": [
        "x_train_k, x_test_k, y_train_k, y_test_k = train_test_split(x_, y_, test_size = .3, random_state=25)"
      ],
      "execution_count": null,
      "outputs": []
    },
    {
      "cell_type": "code",
      "metadata": {
        "id": "VCs_1ZT8j7V3"
      },
      "source": [
        "from sklearn.neighbors import KNeighborsClassifier"
      ],
      "execution_count": null,
      "outputs": []
    },
    {
      "cell_type": "code",
      "metadata": {
        "id": "flWX2HDQj7V7"
      },
      "source": [
        "knn = KNeighborsClassifier(metric = 'cityblock', n_neighbors= 4, weights= 'distance')\n",
        "knn.fit(x_train_k,y_train_k)\n",
        "y_pred_k = knn.predict(x_test_k)"
      ],
      "execution_count": null,
      "outputs": []
    },
    {
      "cell_type": "code",
      "metadata": {
        "id": "Vo_Jz0EPj7V_",
        "colab": {
          "base_uri": "https://localhost:8080/",
          "height": 52
        },
        "outputId": "48e7d0a1-c359-4f26-8909-565a6a5409fe"
      },
      "source": [
        "print('Training Score:',knn.score(x_train_k,y_train_k))\n",
        "print('Testing Score:',knn.score(x_test_k,y_test_k))"
      ],
      "execution_count": null,
      "outputs": [
        {
          "output_type": "stream",
          "text": [
            "Training Score: 1.0\n",
            "Testing Score: 0.9183690476190476\n"
          ],
          "name": "stdout"
        }
      ]
    },
    {
      "cell_type": "code",
      "metadata": {
        "id": "oQSAwHQ7j7WQ",
        "colab": {
          "base_uri": "https://localhost:8080/",
          "height": 394
        },
        "outputId": "b78cb6b0-f5e8-4bdb-eaa0-62bd3844daa6"
      },
      "source": [
        "print(classification_report(y_test_k, y_pred_k))\n",
        "print(confusion_matrix(y_test_k, y_pred_k))"
      ],
      "execution_count": null,
      "outputs": [
        {
          "output_type": "stream",
          "text": [
            "              precision    recall  f1-score   support\n",
            "\n",
            "           1       0.92      0.90      0.91     57141\n",
            "           2       0.92      0.93      0.93     75000\n",
            "           3       0.93      0.93      0.93     13131\n",
            "           4       0.91      0.92      0.91      1797\n",
            "           5       0.86      0.87      0.87      4468\n",
            "           6       0.87      0.89      0.88      7534\n",
            "           7       0.94      0.96      0.95      8929\n",
            "\n",
            "    accuracy                           0.92    168000\n",
            "   macro avg       0.91      0.91      0.91    168000\n",
            "weighted avg       0.92      0.92      0.92    168000\n",
            "\n",
            "[[51659  4922     5     0    84    25   446]\n",
            " [ 4135 69630   310     5   520   332    68]\n",
            " [    5   218 12179   107    31   590     1]\n",
            " [    0     1    98  1645     0    53     0]\n",
            " [   81   426    39     0  3903    19     0]\n",
            " [   19   237   526    49    12  6691     0]\n",
            " [  304    46     0     0     0     0  8579]]\n"
          ],
          "name": "stdout"
        }
      ]
    },
    {
      "cell_type": "markdown",
      "metadata": {
        "id": "dx5uAUNFj7WW"
      },
      "source": [
        "### Ensemble on smote transformed original data"
      ]
    },
    {
      "cell_type": "code",
      "metadata": {
        "id": "maTlUXgtC8y7"
      },
      "source": [
        "#base_LR = LogisticRegression(random_state = 25)\n",
        "base_DT = DecisionTreeClassifier(criterion = \"entropy\", \n",
        "                                  random_state = 25,\n",
        "                                  max_depth=19, \n",
        "                                  min_samples_leaf=10,\n",
        "                                  min_samples_split=10)\n",
        "#base_NB = GaussianNB()\n",
        "base_RF = RandomForestClassifier(criterion = \"entropy\", \n",
        "                                  random_state = 25,\n",
        "                                  max_depth=19, \n",
        "                                  min_samples_leaf=10,\n",
        "                                  min_samples_split=10)\n",
        "base_KNN = KNeighborsClassifier(metric = 'cityblock', \n",
        "                                n_neighbors= 4, \n",
        "                                weights= 'distance')"
      ],
      "execution_count": null,
      "outputs": []
    },
    {
      "cell_type": "markdown",
      "metadata": {
        "id": "oECW2xj9C8zE"
      },
      "source": [
        "### Bagging"
      ]
    },
    {
      "cell_type": "code",
      "metadata": {
        "id": "3GZipma0C8zG"
      },
      "source": [
        "from sklearn.ensemble import BaggingClassifier"
      ],
      "execution_count": null,
      "outputs": []
    },
    {
      "cell_type": "markdown",
      "metadata": {
        "id": "qhDa50oPC8zK"
      },
      "source": [
        "#### Decision Bag"
      ]
    },
    {
      "cell_type": "code",
      "metadata": {
        "id": "BxzgbHS6C8zL",
        "colab": {
          "base_uri": "https://localhost:8080/",
          "height": 322
        },
        "outputId": "d1d5db53-ef79-40b4-8931-84cf43e9dd2b"
      },
      "source": [
        "bgcl_DT = BaggingClassifier(base_estimator=base_DT,n_estimators=51,oob_score=True,random_state=25)\n",
        "bgcl_DT.fit(x_train, y_train)"
      ],
      "execution_count": null,
      "outputs": [
        {
          "output_type": "execute_result",
          "data": {
            "text/plain": [
              "BaggingClassifier(base_estimator=DecisionTreeClassifier(ccp_alpha=0.0,\n",
              "                                                        class_weight=None,\n",
              "                                                        criterion='entropy',\n",
              "                                                        max_depth=19,\n",
              "                                                        max_features=None,\n",
              "                                                        max_leaf_nodes=None,\n",
              "                                                        min_impurity_decrease=0.0,\n",
              "                                                        min_impurity_split=None,\n",
              "                                                        min_samples_leaf=10,\n",
              "                                                        min_samples_split=10,\n",
              "                                                        min_weight_fraction_leaf=0.0,\n",
              "                                                        presort='deprecated',\n",
              "                                                        random_state=25,\n",
              "                                                        splitter='best'),\n",
              "                  bootstrap=True, bootstrap_features=False, max_features=1.0,\n",
              "                  max_samples=1.0, n_estimators=51, n_jobs=None, oob_score=True,\n",
              "                  random_state=25, verbose=0, warm_start=False)"
            ]
          },
          "metadata": {
            "tags": []
          },
          "execution_count": 52
        }
      ]
    },
    {
      "cell_type": "code",
      "metadata": {
        "id": "YGRxlnkoC8zQ",
        "colab": {
          "base_uri": "https://localhost:8080/",
          "height": 70
        },
        "outputId": "17665fcd-ac7a-4aa3-ad41-d533384b3b81"
      },
      "source": [
        "print('OOB SCORE:',bgcl_DT.oob_score_)\n",
        "print('Training Accuracy:',bgcl_DT.score(x_train,y_train))\n",
        "print('Testing Accuracy:',bgcl_DT.score(x_test,y_test))"
      ],
      "execution_count": null,
      "outputs": [
        {
          "output_type": "stream",
          "text": [
            "OOB SCORE: 0.9377474489795918\n",
            "Training Accuracy: 0.9637704081632653\n",
            "Testing Accuracy: 0.9398630952380952\n"
          ],
          "name": "stdout"
        }
      ]
    },
    {
      "cell_type": "code",
      "metadata": {
        "id": "QFg_HhtkC8zX",
        "colab": {
          "base_uri": "https://localhost:8080/",
          "height": 394
        },
        "outputId": "8a3cd367-2ca1-4597-e1bd-60805b2bacee"
      },
      "source": [
        "print(classification_report(y_test,bgcl_DT.predict(x_test)))\n",
        "print(confusion_matrix(y_test,bgcl_DT.predict(x_test)))"
      ],
      "execution_count": null,
      "outputs": [
        {
          "output_type": "stream",
          "text": [
            "              precision    recall  f1-score   support\n",
            "\n",
            "           1       0.94      0.92      0.93     57141\n",
            "           2       0.94      0.95      0.94     75000\n",
            "           3       0.95      0.96      0.95     13131\n",
            "           4       0.94      0.91      0.93      1797\n",
            "           5       0.92      0.87      0.89      4468\n",
            "           6       0.93      0.92      0.93      7534\n",
            "           7       0.97      0.96      0.96      8929\n",
            "\n",
            "    accuracy                           0.94    168000\n",
            "   macro avg       0.94      0.93      0.93    168000\n",
            "weighted avg       0.94      0.94      0.94    168000\n",
            "\n",
            "[[52728  4119     3     0    42    10   239]\n",
            " [ 2798 71580   180     2   272   127    41]\n",
            " [    0   165 12572    74    18   302     0]\n",
            " [    0     2   126  1642     0    27     0]\n",
            " [   45   498    35     0  3870    20     0]\n",
            " [    4   148   384    34     5  6959     0]\n",
            " [  350    32     0     0     1     0  8546]]\n"
          ],
          "name": "stdout"
        }
      ]
    },
    {
      "cell_type": "markdown",
      "metadata": {
        "id": "EwN8_9mLC8za"
      },
      "source": [
        "#### Random Forest Bag"
      ]
    },
    {
      "cell_type": "code",
      "metadata": {
        "id": "5K9T5O40C8zb",
        "colab": {
          "base_uri": "https://localhost:8080/",
          "height": 412
        },
        "outputId": "ee37aacd-3ab0-496c-81b6-152484de2ca9"
      },
      "source": [
        "bgcl_RF = BaggingClassifier(base_estimator=base_RF,n_estimators=51,oob_score=True,random_state=25)\n",
        "bgcl_RF.fit(x_train, y_train)"
      ],
      "execution_count": null,
      "outputs": [
        {
          "output_type": "execute_result",
          "data": {
            "text/plain": [
              "BaggingClassifier(base_estimator=RandomForestClassifier(bootstrap=True,\n",
              "                                                        ccp_alpha=0.0,\n",
              "                                                        class_weight=None,\n",
              "                                                        criterion='entropy',\n",
              "                                                        max_depth=19,\n",
              "                                                        max_features='auto',\n",
              "                                                        max_leaf_nodes=None,\n",
              "                                                        max_samples=None,\n",
              "                                                        min_impurity_decrease=0.0,\n",
              "                                                        min_impurity_split=None,\n",
              "                                                        min_samples_leaf=10,\n",
              "                                                        min_samples_split=10,\n",
              "                                                        min_weight_fraction_leaf=0.0,\n",
              "                                                        n_estimators=100,\n",
              "                                                        n_jobs=None,\n",
              "                                                        oob_score=False,\n",
              "                                                        random_state=25,\n",
              "                                                        verbose=0,\n",
              "                                                        warm_start=False),\n",
              "                  bootstrap=True, bootstrap_features=False, max_features=1.0,\n",
              "                  max_samples=1.0, n_estimators=51, n_jobs=None, oob_score=True,\n",
              "                  random_state=25, verbose=0, warm_start=False)"
            ]
          },
          "metadata": {
            "tags": []
          },
          "execution_count": 55
        }
      ]
    },
    {
      "cell_type": "code",
      "metadata": {
        "id": "S1E5WJsZC8zi",
        "colab": {
          "base_uri": "https://localhost:8080/",
          "height": 70
        },
        "outputId": "3e47c2e2-332e-4625-ee94-8bdbd376e01e"
      },
      "source": [
        "print('OOB SCORE:',bgcl_RF.oob_score_)\n",
        "print('Training Accuracy:',bgcl_RF.score(x_train,y_train))\n",
        "print('Testing Accuracy:',bgcl_RF.score(x_test,y_test))"
      ],
      "execution_count": null,
      "outputs": [
        {
          "output_type": "stream",
          "text": [
            "OOB SCORE: 0.9156454081632653\n",
            "Training Accuracy: 0.9361173469387755\n",
            "Testing Accuracy: 0.9147738095238095\n"
          ],
          "name": "stdout"
        }
      ]
    },
    {
      "cell_type": "code",
      "metadata": {
        "id": "rR8kxpt2C8zo",
        "colab": {
          "base_uri": "https://localhost:8080/",
          "height": 394
        },
        "outputId": "10c7b704-684e-488b-8b48-4c3c9d981e4d"
      },
      "source": [
        "print(classification_report(y_test,bgcl_RF.predict(x_test)))\n",
        "print(confusion_matrix(y_test,bgcl_RF.predict(x_test)))"
      ],
      "execution_count": null,
      "outputs": [
        {
          "output_type": "stream",
          "text": [
            "              precision    recall  f1-score   support\n",
            "\n",
            "           1       0.93      0.88      0.91     57141\n",
            "           2       0.90      0.94      0.92     75000\n",
            "           3       0.91      0.94      0.93     13131\n",
            "           4       0.93      0.90      0.92      1797\n",
            "           5       0.94      0.75      0.84      4468\n",
            "           6       0.91      0.87      0.89      7534\n",
            "           7       0.96      0.93      0.95      8929\n",
            "\n",
            "    accuracy                           0.91    168000\n",
            "   macro avg       0.93      0.89      0.91    168000\n",
            "weighted avg       0.92      0.91      0.91    168000\n",
            "\n",
            "[[50547  6255     4     0    24    21   290]\n",
            " [ 3374 70865   330     1   180   212    38]\n",
            " [    2   253 12401    79     2   394     0]\n",
            " [    0     0   158  1623     0    16     0]\n",
            " [   21   998    64     0  3368    17     0]\n",
            " [    9   268   673    43     2  6539     0]\n",
            " [  548    40     0     0     2     0  8339]]\n"
          ],
          "name": "stdout"
        }
      ]
    },
    {
      "cell_type": "markdown",
      "metadata": {
        "id": "mt32hNFKC8zr"
      },
      "source": [
        "#### KNN Bag"
      ]
    },
    {
      "cell_type": "code",
      "metadata": {
        "id": "PNnWt1zvC8zr",
        "colab": {
          "base_uri": "https://localhost:8080/",
          "height": 196
        },
        "outputId": "8f2acaae-0ae6-4482-96d2-889128d59bb3"
      },
      "source": [
        "bgcl_KN = BaggingClassifier(base_estimator=base_KNN,n_estimators=51,oob_score=True,random_state=25)\n",
        "bgcl_KN.fit(x_train_k, y_train_k)"
      ],
      "execution_count": null,
      "outputs": [
        {
          "output_type": "execute_result",
          "data": {
            "text/plain": [
              "BaggingClassifier(base_estimator=KNeighborsClassifier(algorithm='auto',\n",
              "                                                      leaf_size=30,\n",
              "                                                      metric='cityblock',\n",
              "                                                      metric_params=None,\n",
              "                                                      n_jobs=None,\n",
              "                                                      n_neighbors=4, p=2,\n",
              "                                                      weights='distance'),\n",
              "                  bootstrap=True, bootstrap_features=False, max_features=1.0,\n",
              "                  max_samples=1.0, n_estimators=51, n_jobs=None, oob_score=True,\n",
              "                  random_state=25, verbose=0, warm_start=False)"
            ]
          },
          "metadata": {
            "tags": []
          },
          "execution_count": 53
        }
      ]
    },
    {
      "cell_type": "code",
      "metadata": {
        "id": "SzwyJTq2C8zu",
        "colab": {
          "base_uri": "https://localhost:8080/",
          "height": 70
        },
        "outputId": "e9b6be0d-8eec-4978-9a9b-2f10d9d3270e"
      },
      "source": [
        "print('OOB SCORE:',bgcl_KN.oob_score_)\n",
        "print('Training Accuracy:',bgcl_KN.score(x_train_k,y_train_k))\n",
        "print('Testing Accuracy:',bgcl_KN.score(x_test_k,y_test_k))"
      ],
      "execution_count": null,
      "outputs": [
        {
          "output_type": "stream",
          "text": [
            "OOB SCORE: 0.9172729591836735\n",
            "Training Accuracy: 0.9997423469387755\n",
            "Testing Accuracy: 0.9179821428571429\n"
          ],
          "name": "stdout"
        }
      ]
    },
    {
      "cell_type": "code",
      "metadata": {
        "id": "MO1OIRqqC8zy",
        "colab": {
          "base_uri": "https://localhost:8080/",
          "height": 394
        },
        "outputId": "ea37229c-a84b-4f43-a736-ef0a1cfbe80d"
      },
      "source": [
        "print(classification_report(y_test_k,bgcl_KN.predict(x_test_k)))\n",
        "print(confusion_matrix(y_test_k,bgcl_KN.predict(x_test_k)))"
      ],
      "execution_count": null,
      "outputs": [
        {
          "output_type": "stream",
          "text": [
            "              precision    recall  f1-score   support\n",
            "\n",
            "           1       0.92      0.90      0.91     57141\n",
            "           2       0.92      0.93      0.93     75000\n",
            "           3       0.92      0.93      0.93     13131\n",
            "           4       0.91      0.91      0.91      1797\n",
            "           5       0.86      0.86      0.86      4468\n",
            "           6       0.87      0.89      0.88      7534\n",
            "           7       0.94      0.96      0.95      8929\n",
            "\n",
            "    accuracy                           0.92    168000\n",
            "   macro avg       0.91      0.91      0.91    168000\n",
            "weighted avg       0.92      0.92      0.92    168000\n",
            "\n",
            "[[51509  5046    10     0    83    26   467]\n",
            " [ 3969 69799   305     4   524   330    69]\n",
            " [    4   209 12174   105    28   611     0]\n",
            " [    0     1   103  1639     0    54     0]\n",
            " [   76   469    46     0  3857    20     0]\n",
            " [   17   242   541    45    12  6677     0]\n",
            " [  312    50     0     0     1     0  8566]]\n"
          ],
          "name": "stdout"
        }
      ]
    },
    {
      "cell_type": "markdown",
      "metadata": {
        "id": "qOyTLRDlC8z3"
      },
      "source": [
        "### AdaBoost"
      ]
    },
    {
      "cell_type": "code",
      "metadata": {
        "id": "hyTtHU89C8z4"
      },
      "source": [
        "from sklearn.ensemble import AdaBoostClassifier\n",
        "\n",
        "abcl_DT = AdaBoostClassifier(base_estimator=base_DT,n_estimators=50,random_state=25)\n",
        "\n",
        "abcl_RF = AdaBoostClassifier(base_estimator=base_RF,n_estimators=50,random_state=25)"
      ],
      "execution_count": null,
      "outputs": []
    },
    {
      "cell_type": "markdown",
      "metadata": {
        "id": "N6Goxk0laT56"
      },
      "source": [
        "#### Decision Tree"
      ]
    },
    {
      "cell_type": "code",
      "metadata": {
        "scrolled": true,
        "id": "bPWbXvmFC8z-",
        "colab": {
          "base_uri": "https://localhost:8080/",
          "height": 52
        },
        "outputId": "836c11c9-58db-433c-cc45-75af50cc3f98"
      },
      "source": [
        "abcl_DT.fit(x_train,y_train)\n",
        "print('Training Accuracy:',abcl_DT.score(x_train,y_train))\n",
        "print('Testing Accuracy:',abcl_DT.score(x_test,y_test))"
      ],
      "execution_count": null,
      "outputs": [
        {
          "output_type": "stream",
          "text": [
            "Training Accuracy: 0.9999234693877551\n",
            "Testing Accuracy: 0.9455833333333333\n"
          ],
          "name": "stdout"
        }
      ]
    },
    {
      "cell_type": "code",
      "metadata": {
        "id": "T3JN5PKSC80B",
        "colab": {
          "base_uri": "https://localhost:8080/",
          "height": 394
        },
        "outputId": "a5d3a4fb-3ab4-4de2-cf97-3430d022c0da"
      },
      "source": [
        "print(classification_report(y_test,abcl_DT.predict(x_test)))\n",
        "print(confusion_matrix(y_test,abcl_DT.predict(x_test)))"
      ],
      "execution_count": null,
      "outputs": [
        {
          "output_type": "stream",
          "text": [
            "              precision    recall  f1-score   support\n",
            "\n",
            "           1       0.95      0.93      0.94     57141\n",
            "           2       0.94      0.96      0.95     75000\n",
            "           3       0.96      0.97      0.96     13131\n",
            "           4       0.96      0.93      0.95      1797\n",
            "           5       0.97      0.86      0.91      4468\n",
            "           6       0.96      0.94      0.95      7534\n",
            "           7       0.98      0.96      0.97      8929\n",
            "\n",
            "    accuracy                           0.95    168000\n",
            "   macro avg       0.96      0.94      0.95    168000\n",
            "weighted avg       0.95      0.95      0.95    168000\n",
            "\n",
            "[[52980  4016     0     0    12     4   129]\n",
            " [ 2642 71968   171     0    93   108    18]\n",
            " [    0   147 12749    43     5   187     0]\n",
            " [    0     0    90  1680     0    27     0]\n",
            " [   26   565    34     0  3840     3     0]\n",
            " [    5   151   290    25     3  7060     0]\n",
            " [  320    27     0     0     1     0  8581]]\n"
          ],
          "name": "stdout"
        }
      ]
    },
    {
      "cell_type": "markdown",
      "metadata": {
        "id": "FzOT8Ox5aXW2"
      },
      "source": [
        "#### Random Forest"
      ]
    },
    {
      "cell_type": "code",
      "metadata": {
        "id": "aw4rXuugC80E",
        "colab": {
          "base_uri": "https://localhost:8080/",
          "height": 52
        },
        "outputId": "d8d63b72-4996-4a1e-efd1-63e2c5e873db"
      },
      "source": [
        "abcl_RF.fit(x_train,y_train)\n",
        "print('Training Accuracy:',abcl_RF.score(x_train,y_train))\n",
        "print('Testing Accuracy:',abcl_RF.score(x_test,y_test))"
      ],
      "execution_count": null,
      "outputs": [
        {
          "output_type": "stream",
          "text": [
            "Training Accuracy: 0.9022525510204081\n",
            "Testing Accuracy: 0.8503273809523809\n"
          ],
          "name": "stdout"
        }
      ]
    },
    {
      "cell_type": "code",
      "metadata": {
        "id": "wUsd1W0YC80H",
        "colab": {
          "base_uri": "https://localhost:8080/",
          "height": 394
        },
        "outputId": "19ba6c91-cd6f-4c10-ce83-fc2c9ec7ac86"
      },
      "source": [
        "print(classification_report(y_test,abcl_RF.predict(x_test)))\n",
        "print(confusion_matrix(y_test,abcl_RF.predict(x_test)))"
      ],
      "execution_count": null,
      "outputs": [
        {
          "output_type": "stream",
          "text": [
            "              precision    recall  f1-score   support\n",
            "\n",
            "           1       0.83      0.81      0.82     57141\n",
            "           2       0.87      0.87      0.87     75000\n",
            "           3       0.88      0.90      0.89     13131\n",
            "           4       0.91      0.83      0.87      1797\n",
            "           5       0.91      0.78      0.84      4468\n",
            "           6       0.79      0.82      0.81      7534\n",
            "           7       0.81      0.94      0.87      8929\n",
            "\n",
            "    accuracy                           0.85    168000\n",
            "   macro avg       0.86      0.85      0.85    168000\n",
            "weighted avg       0.85      0.85      0.85    168000\n",
            "\n",
            "[[46494  8720     1     0    64    20  1842]\n",
            " [ 8748 65047   283     1   261   491   169]\n",
            " [    3   203 11795   104    10  1016     0]\n",
            " [    0     0   220  1486     0    91     0]\n",
            " [   45   899    36     0  3472    16     0]\n",
            " [    3   192  1108    36     4  6191     0]\n",
            " [  500    56     0     0     3     0  8370]]\n"
          ],
          "name": "stdout"
        }
      ]
    },
    {
      "cell_type": "markdown",
      "metadata": {
        "id": "QqOzeuuij7XS"
      },
      "source": [
        "### Gradient Boosting"
      ]
    },
    {
      "cell_type": "code",
      "metadata": {
        "id": "-tvRwBTVj7XT",
        "colab": {
          "base_uri": "https://localhost:8080/",
          "height": 196
        },
        "outputId": "5776652e-e722-4cb1-ff3f-adb3b8ee13de"
      },
      "source": [
        "from sklearn.ensemble import GradientBoostingClassifier\n",
        "\n",
        "gbcl = GradientBoostingClassifier(random_state = 25,\n",
        "                                  max_depth=19, \n",
        "                                  min_samples_leaf=10,\n",
        "                                  min_samples_split=10,\n",
        "                                  n_estimators = 50)\n",
        "gbcl.fit(x_train, y_train)"
      ],
      "execution_count": null,
      "outputs": [
        {
          "output_type": "execute_result",
          "data": {
            "text/plain": [
              "GradientBoostingClassifier(ccp_alpha=0.0, criterion='friedman_mse', init=None,\n",
              "                           learning_rate=0.1, loss='deviance', max_depth=19,\n",
              "                           max_features=None, max_leaf_nodes=None,\n",
              "                           min_impurity_decrease=0.0, min_impurity_split=None,\n",
              "                           min_samples_leaf=10, min_samples_split=10,\n",
              "                           min_weight_fraction_leaf=0.0, n_estimators=50,\n",
              "                           n_iter_no_change=None, presort='deprecated',\n",
              "                           random_state=25, subsample=1.0, tol=0.0001,\n",
              "                           validation_fraction=0.1, verbose=0,\n",
              "                           warm_start=False)"
            ]
          },
          "metadata": {
            "tags": []
          },
          "execution_count": 61
        }
      ]
    },
    {
      "cell_type": "code",
      "metadata": {
        "id": "V7sNo5hcj7XX",
        "colab": {
          "base_uri": "https://localhost:8080/",
          "height": 52
        },
        "outputId": "a0350166-6851-4b55-b14c-59199f79ea0e"
      },
      "source": [
        "print(gbcl.score(x_train,y_train))\n",
        "print(gbcl.score(x_test,y_test))"
      ],
      "execution_count": null,
      "outputs": [
        {
          "output_type": "stream",
          "text": [
            "1.0\n",
            "0.9702738095238095\n"
          ],
          "name": "stdout"
        }
      ]
    },
    {
      "cell_type": "code",
      "metadata": {
        "id": "WoOIYH38j7Xb",
        "colab": {
          "base_uri": "https://localhost:8080/",
          "height": 394
        },
        "outputId": "9b16329e-5b14-43f6-fbfb-c2571c6fd72d"
      },
      "source": [
        "print(classification_report(y_test,gbcl.predict(x_test)))\n",
        "print(confusion_matrix(y_test,gbcl.predict(x_test)))"
      ],
      "execution_count": null,
      "outputs": [
        {
          "output_type": "stream",
          "text": [
            "              precision    recall  f1-score   support\n",
            "\n",
            "           1       0.97      0.96      0.97     57141\n",
            "           2       0.97      0.98      0.97     75000\n",
            "           3       0.97      0.97      0.97     13131\n",
            "           4       0.95      0.94      0.95      1797\n",
            "           5       0.96      0.93      0.94      4468\n",
            "           6       0.96      0.96      0.96      7534\n",
            "           7       0.98      0.98      0.98      8929\n",
            "\n",
            "    accuracy                           0.97    168000\n",
            "   macro avg       0.97      0.96      0.96    168000\n",
            "weighted avg       0.97      0.97      0.97    168000\n",
            "\n",
            "[[55128  1842     1     0    20     6   144]\n",
            " [ 1342 73304   102     1   150    76    25]\n",
            " [    1    98 12801    60     9   162     0]\n",
            " [    0     0    79  1692     0    26     0]\n",
            " [   19   280    26     0  4135     8     0]\n",
            " [    2    98   206    29     2  7197     0]\n",
            " [  163    17     0     0     0     0  8749]]\n"
          ],
          "name": "stdout"
        }
      ]
    },
    {
      "cell_type": "markdown",
      "metadata": {
        "id": "KHGwhlf_jW4Q"
      },
      "source": [
        "## Smote Transformed Added Features"
      ]
    },
    {
      "cell_type": "markdown",
      "metadata": {
        "id": "Fwaj3hhpYM-6"
      },
      "source": [
        "Constructing a dataframe with added features and removing features on which some feature engineering has been applied, so as to gauge their performance in classifying cover_types."
      ]
    },
    {
      "cell_type": "code",
      "metadata": {
        "id": "OLMTjwmSjW4h"
      },
      "source": [
        "forest_d = forest_c.drop(columns = forest_c.columns[3:10])"
      ],
      "execution_count": null,
      "outputs": []
    },
    {
      "cell_type": "code",
      "metadata": {
        "id": "foolWNlljW4u",
        "colab": {
          "base_uri": "https://localhost:8080/"
        },
        "outputId": "7abb8925-c0bd-4d8b-e1f6-bcd7dfabfb12"
      },
      "source": [
        "forest_d.info()"
      ],
      "execution_count": null,
      "outputs": [
        {
          "output_type": "stream",
          "text": [
            "<class 'pandas.core.frame.DataFrame'>\n",
            "RangeIndex: 560000 entries, 0 to 559999\n",
            "Data columns (total 12 columns):\n",
            " #   Column          Non-Null Count   Dtype   \n",
            "---  ------          --------------   -----   \n",
            " 0   Elevation       560000 non-null  float64 \n",
            " 1   Aspect          560000 non-null  float64 \n",
            " 2   Slope           560000 non-null  float64 \n",
            " 3   Hydr_Slope      560000 non-null  float64 \n",
            " 4   Fire_Hydr       560000 non-null  float64 \n",
            " 5   Avg_Horizontal  560000 non-null  float64 \n",
            " 6   Fire_Road       560000 non-null  float64 \n",
            " 7   Hillshades      560000 non-null  float64 \n",
            " 8   Hydr_Dist       560000 non-null  float64 \n",
            " 9   Wilderness      560000 non-null  category\n",
            " 10  Soil            560000 non-null  category\n",
            " 11  Cover_Type      560000 non-null  category\n",
            "dtypes: category(3), float64(9)\n",
            "memory usage: 41.3 MB\n"
          ],
          "name": "stdout"
        }
      ]
    },
    {
      "cell_type": "markdown",
      "metadata": {
        "id": "I_KdKtNtjW40"
      },
      "source": [
        "## Modelling on smote transformed added features"
      ]
    },
    {
      "cell_type": "markdown",
      "metadata": {
        "id": "WSMci8IZjW41"
      },
      "source": [
        "### Decision Tree"
      ]
    },
    {
      "cell_type": "code",
      "metadata": {
        "id": "x7JKqoBcjW42"
      },
      "source": [
        "from sklearn.model_selection import train_test_split\n",
        "from sklearn.metrics import classification_report, confusion_matrix, accuracy_score\n",
        "from sklearn.tree import DecisionTreeClassifier\n",
        "import warnings\n",
        "warnings.filterwarnings(\"ignore\")"
      ],
      "execution_count": null,
      "outputs": []
    },
    {
      "cell_type": "markdown",
      "metadata": {
        "id": "mn4Uwf8GKIrZ"
      },
      "source": [
        "Dividing data into x (independent variable) and y (dependent variable) and then splitting data into train and test in 7:3 ratio"
      ]
    },
    {
      "cell_type": "code",
      "metadata": {
        "id": "EM5Au5f0jW46"
      },
      "source": [
        "x = forest_d.drop(columns = ['Cover_Type'])\n",
        "y = forest_d['Cover_Type']"
      ],
      "execution_count": null,
      "outputs": []
    },
    {
      "cell_type": "code",
      "metadata": {
        "id": "lmY_h9stjW4-"
      },
      "source": [
        "x_train, x_test, y_train, y_test = train_test_split(x, y, test_size = .3, random_state=25)"
      ],
      "execution_count": null,
      "outputs": []
    },
    {
      "cell_type": "code",
      "metadata": {
        "id": "XgvpHzuOjW5C",
        "colab": {
          "base_uri": "https://localhost:8080/",
          "height": 124
        },
        "outputId": "4a5d27a3-5513-411c-fed7-5c39fdc58130"
      },
      "source": [
        "dt = DecisionTreeClassifier(criterion = \"entropy\", \n",
        "                                  random_state = 25,\n",
        "                                  max_depth=19, \n",
        "                                  min_samples_leaf=10,\n",
        "                                  min_samples_split=10)\n",
        "dt.fit(x_train, y_train)"
      ],
      "execution_count": null,
      "outputs": [
        {
          "output_type": "execute_result",
          "data": {
            "text/plain": [
              "DecisionTreeClassifier(ccp_alpha=0.0, class_weight=None, criterion='entropy',\n",
              "                       max_depth=19, max_features=None, max_leaf_nodes=None,\n",
              "                       min_impurity_decrease=0.0, min_impurity_split=None,\n",
              "                       min_samples_leaf=10, min_samples_split=10,\n",
              "                       min_weight_fraction_leaf=0.0, presort='deprecated',\n",
              "                       random_state=25, splitter='best')"
            ]
          },
          "metadata": {
            "tags": []
          },
          "execution_count": 49
        }
      ]
    },
    {
      "cell_type": "code",
      "metadata": {
        "id": "hyuEYVejjW5I",
        "colab": {
          "base_uri": "https://localhost:8080/",
          "height": 52
        },
        "outputId": "28999dd0-12e0-44af-f7c1-0a67a2002e9f"
      },
      "source": [
        "print('Training Score:',dt.score(x_train, y_train))\n",
        "print('Testing Score:',dt.score(x_test, y_test))"
      ],
      "execution_count": null,
      "outputs": [
        {
          "output_type": "stream",
          "text": [
            "Training Score: 0.9311326530612245\n",
            "Testing Score: 0.9000119047619047\n"
          ],
          "name": "stdout"
        }
      ]
    },
    {
      "cell_type": "code",
      "metadata": {
        "id": "eV4_Qj2ZjW5M",
        "colab": {
          "base_uri": "https://localhost:8080/",
          "height": 394
        },
        "outputId": "a68a7aeb-9da6-48ea-806f-5778d396ed9e"
      },
      "source": [
        "y_pred = dt.predict(x_test)\n",
        "print(classification_report(y_test,y_pred))\n",
        "print(confusion_matrix(y_test,y_pred))"
      ],
      "execution_count": null,
      "outputs": [
        {
          "output_type": "stream",
          "text": [
            "              precision    recall  f1-score   support\n",
            "\n",
            "           1       0.89      0.89      0.89     57141\n",
            "           2       0.90      0.91      0.91     75000\n",
            "           3       0.91      0.93      0.92     13131\n",
            "           4       0.91      0.89      0.90      1797\n",
            "           5       0.85      0.84      0.85      4468\n",
            "           6       0.88      0.86      0.87      7534\n",
            "           7       0.95      0.94      0.95      8929\n",
            "\n",
            "    accuracy                           0.90    168000\n",
            "   macro avg       0.90      0.89      0.90    168000\n",
            "weighted avg       0.90      0.90      0.90    168000\n",
            "\n",
            "[[50632  6055     2     0    60    22   370]\n",
            " [ 5620 68153   331     2   556   272    66]\n",
            " [    1   310 12149   104    28   539     0]\n",
            " [    0     0   151  1598     0    48     0]\n",
            " [   76   563    42     0  3763    24     0]\n",
            " [    9   254   684    60    22  6505     0]\n",
            " [  452    73     0     0     2     0  8402]]\n"
          ],
          "name": "stdout"
        }
      ]
    },
    {
      "cell_type": "code",
      "metadata": {
        "id": "Uc0B6ZlAjW5P",
        "colab": {
          "base_uri": "https://localhost:8080/",
          "height": 360
        },
        "outputId": "f1763517-f14a-42c8-8dff-2c94fd72dae3"
      },
      "source": [
        "pd.DataFrame({'columns':x.columns,'Importance':dt.feature_importances_})"
      ],
      "execution_count": null,
      "outputs": [
        {
          "output_type": "execute_result",
          "data": {
            "text/html": [
              "<div>\n",
              "<style scoped>\n",
              "    .dataframe tbody tr th:only-of-type {\n",
              "        vertical-align: middle;\n",
              "    }\n",
              "\n",
              "    .dataframe tbody tr th {\n",
              "        vertical-align: top;\n",
              "    }\n",
              "\n",
              "    .dataframe thead th {\n",
              "        text-align: right;\n",
              "    }\n",
              "</style>\n",
              "<table border=\"1\" class=\"dataframe\">\n",
              "  <thead>\n",
              "    <tr style=\"text-align: right;\">\n",
              "      <th></th>\n",
              "      <th>columns</th>\n",
              "      <th>Importance</th>\n",
              "    </tr>\n",
              "  </thead>\n",
              "  <tbody>\n",
              "    <tr>\n",
              "      <th>0</th>\n",
              "      <td>Elevation</td>\n",
              "      <td>0.451208</td>\n",
              "    </tr>\n",
              "    <tr>\n",
              "      <th>1</th>\n",
              "      <td>Aspect</td>\n",
              "      <td>0.045149</td>\n",
              "    </tr>\n",
              "    <tr>\n",
              "      <th>2</th>\n",
              "      <td>Slope</td>\n",
              "      <td>0.000987</td>\n",
              "    </tr>\n",
              "    <tr>\n",
              "      <th>3</th>\n",
              "      <td>Hydr_Slope</td>\n",
              "      <td>0.002850</td>\n",
              "    </tr>\n",
              "    <tr>\n",
              "      <th>4</th>\n",
              "      <td>Fire_Hydr</td>\n",
              "      <td>0.101960</td>\n",
              "    </tr>\n",
              "    <tr>\n",
              "      <th>5</th>\n",
              "      <td>Avg_Horizontal</td>\n",
              "      <td>0.059003</td>\n",
              "    </tr>\n",
              "    <tr>\n",
              "      <th>6</th>\n",
              "      <td>Fire_Road</td>\n",
              "      <td>0.085741</td>\n",
              "    </tr>\n",
              "    <tr>\n",
              "      <th>7</th>\n",
              "      <td>Hillshades</td>\n",
              "      <td>0.028389</td>\n",
              "    </tr>\n",
              "    <tr>\n",
              "      <th>8</th>\n",
              "      <td>Hydr_Dist</td>\n",
              "      <td>0.052383</td>\n",
              "    </tr>\n",
              "    <tr>\n",
              "      <th>9</th>\n",
              "      <td>Wilderness</td>\n",
              "      <td>0.042226</td>\n",
              "    </tr>\n",
              "    <tr>\n",
              "      <th>10</th>\n",
              "      <td>Soil</td>\n",
              "      <td>0.130104</td>\n",
              "    </tr>\n",
              "  </tbody>\n",
              "</table>\n",
              "</div>"
            ],
            "text/plain": [
              "           columns  Importance\n",
              "0        Elevation    0.451208\n",
              "1           Aspect    0.045149\n",
              "2            Slope    0.000987\n",
              "3       Hydr_Slope    0.002850\n",
              "4        Fire_Hydr    0.101960\n",
              "5   Avg_Horizontal    0.059003\n",
              "6        Fire_Road    0.085741\n",
              "7       Hillshades    0.028389\n",
              "8        Hydr_Dist    0.052383\n",
              "9       Wilderness    0.042226\n",
              "10            Soil    0.130104"
            ]
          },
          "metadata": {
            "tags": []
          },
          "execution_count": 52
        }
      ]
    },
    {
      "cell_type": "markdown",
      "metadata": {
        "id": "4K0Frr3TjW5R"
      },
      "source": [
        "### Random Forest"
      ]
    },
    {
      "cell_type": "code",
      "metadata": {
        "id": "IE5SEqAujW5S"
      },
      "source": [
        "from sklearn.ensemble import RandomForestClassifier"
      ],
      "execution_count": null,
      "outputs": []
    },
    {
      "cell_type": "code",
      "metadata": {
        "id": "lSouqcNIjW5U",
        "colab": {
          "base_uri": "https://localhost:8080/",
          "height": 160
        },
        "outputId": "64ebec7f-0f7e-4200-d5ff-04c8e5debd3b"
      },
      "source": [
        "rforest = RandomForestClassifier(criterion = \"entropy\", \n",
        "                                  random_state = 25,\n",
        "                                  max_depth=19, \n",
        "                                  min_samples_leaf=10,\n",
        "                                  min_samples_split=10)\n",
        "rforest.fit(x_train, y_train)"
      ],
      "execution_count": null,
      "outputs": [
        {
          "output_type": "execute_result",
          "data": {
            "text/plain": [
              "RandomForestClassifier(bootstrap=True, ccp_alpha=0.0, class_weight=None,\n",
              "                       criterion='entropy', max_depth=19, max_features='auto',\n",
              "                       max_leaf_nodes=None, max_samples=None,\n",
              "                       min_impurity_decrease=0.0, min_impurity_split=None,\n",
              "                       min_samples_leaf=10, min_samples_split=10,\n",
              "                       min_weight_fraction_leaf=0.0, n_estimators=100,\n",
              "                       n_jobs=None, oob_score=False, random_state=25, verbose=0,\n",
              "                       warm_start=False)"
            ]
          },
          "metadata": {
            "tags": []
          },
          "execution_count": 54
        }
      ]
    },
    {
      "cell_type": "code",
      "metadata": {
        "id": "apKv-dkojW5X",
        "colab": {
          "base_uri": "https://localhost:8080/",
          "height": 52
        },
        "outputId": "9c0b1f84-fc11-4379-e56e-ee0f4b594dd5"
      },
      "source": [
        "print('Training Score:',rforest.score(x_train, y_train))\n",
        "print('Testing Score:',rforest.score(x_test, y_test))"
      ],
      "execution_count": null,
      "outputs": [
        {
          "output_type": "stream",
          "text": [
            "Training Score: 0.9568979591836735\n",
            "Testing Score: 0.9308214285714286\n"
          ],
          "name": "stdout"
        }
      ]
    },
    {
      "cell_type": "code",
      "metadata": {
        "id": "OVSNi6SFjW5a",
        "colab": {
          "base_uri": "https://localhost:8080/",
          "height": 394
        },
        "outputId": "d1e00e9e-0e2d-43b1-e114-52a5d6197056"
      },
      "source": [
        "y_pred = rforest.predict(x_test)\n",
        "print(classification_report(y_test,y_pred))\n",
        "print(confusion_matrix(y_test,y_pred))"
      ],
      "execution_count": null,
      "outputs": [
        {
          "output_type": "stream",
          "text": [
            "              precision    recall  f1-score   support\n",
            "\n",
            "           1       0.94      0.91      0.92     57141\n",
            "           2       0.92      0.95      0.94     75000\n",
            "           3       0.93      0.95      0.94     13131\n",
            "           4       0.93      0.91      0.92      1797\n",
            "           5       0.94      0.83      0.88      4468\n",
            "           6       0.92      0.90      0.91      7534\n",
            "           7       0.97      0.96      0.96      8929\n",
            "\n",
            "    accuracy                           0.93    168000\n",
            "   macro avg       0.93      0.92      0.92    168000\n",
            "weighted avg       0.93      0.93      0.93    168000\n",
            "\n",
            "[[51846  5013     1     0    41     7   233]\n",
            " [ 2965 71318   252     3   200   224    38]\n",
            " [    2   176 12531    79     4   339     0]\n",
            " [    0     0   126  1638     0    33     0]\n",
            " [   21   676    48     0  3705    18     0]\n",
            " [    0   165   529    40     3  6797     0]\n",
            " [  347    37     0     0     2     0  8543]]\n"
          ],
          "name": "stdout"
        }
      ]
    },
    {
      "cell_type": "code",
      "metadata": {
        "id": "2Ubf_g_ejW5e",
        "colab": {
          "base_uri": "https://localhost:8080/"
        },
        "outputId": "08070f86-050c-46d2-9561-bdd3fa1b8dcb"
      },
      "source": [
        "pd.DataFrame({'columns':x.columns,'Importance':rforest.feature_importances_})"
      ],
      "execution_count": null,
      "outputs": [
        {
          "output_type": "execute_result",
          "data": {
            "text/html": [
              "<div>\n",
              "<style scoped>\n",
              "    .dataframe tbody tr th:only-of-type {\n",
              "        vertical-align: middle;\n",
              "    }\n",
              "\n",
              "    .dataframe tbody tr th {\n",
              "        vertical-align: top;\n",
              "    }\n",
              "\n",
              "    .dataframe thead th {\n",
              "        text-align: right;\n",
              "    }\n",
              "</style>\n",
              "<table border=\"1\" class=\"dataframe\">\n",
              "  <thead>\n",
              "    <tr style=\"text-align: right;\">\n",
              "      <th></th>\n",
              "      <th>columns</th>\n",
              "      <th>Importance</th>\n",
              "    </tr>\n",
              "  </thead>\n",
              "  <tbody>\n",
              "    <tr>\n",
              "      <th>0</th>\n",
              "      <td>Elevation</td>\n",
              "      <td>0.312762</td>\n",
              "    </tr>\n",
              "    <tr>\n",
              "      <th>1</th>\n",
              "      <td>Aspect</td>\n",
              "      <td>0.046572</td>\n",
              "    </tr>\n",
              "    <tr>\n",
              "      <th>2</th>\n",
              "      <td>Slope</td>\n",
              "      <td>0.003383</td>\n",
              "    </tr>\n",
              "    <tr>\n",
              "      <th>3</th>\n",
              "      <td>Hydr_Slope</td>\n",
              "      <td>0.008432</td>\n",
              "    </tr>\n",
              "    <tr>\n",
              "      <th>4</th>\n",
              "      <td>Fire_Hydr</td>\n",
              "      <td>0.085029</td>\n",
              "    </tr>\n",
              "    <tr>\n",
              "      <th>5</th>\n",
              "      <td>Avg_Horizontal</td>\n",
              "      <td>0.092105</td>\n",
              "    </tr>\n",
              "    <tr>\n",
              "      <th>6</th>\n",
              "      <td>Fire_Road</td>\n",
              "      <td>0.086688</td>\n",
              "    </tr>\n",
              "    <tr>\n",
              "      <th>7</th>\n",
              "      <td>Hillshades</td>\n",
              "      <td>0.033169</td>\n",
              "    </tr>\n",
              "    <tr>\n",
              "      <th>8</th>\n",
              "      <td>Hydr_Dist</td>\n",
              "      <td>0.050677</td>\n",
              "    </tr>\n",
              "    <tr>\n",
              "      <th>9</th>\n",
              "      <td>Wilderness</td>\n",
              "      <td>0.079746</td>\n",
              "    </tr>\n",
              "    <tr>\n",
              "      <th>10</th>\n",
              "      <td>Soil</td>\n",
              "      <td>0.201437</td>\n",
              "    </tr>\n",
              "  </tbody>\n",
              "</table>\n",
              "</div>"
            ],
            "text/plain": [
              "           columns  Importance\n",
              "0        Elevation    0.312762\n",
              "1           Aspect    0.046572\n",
              "2            Slope    0.003383\n",
              "3       Hydr_Slope    0.008432\n",
              "4        Fire_Hydr    0.085029\n",
              "5   Avg_Horizontal    0.092105\n",
              "6        Fire_Road    0.086688\n",
              "7       Hillshades    0.033169\n",
              "8        Hydr_Dist    0.050677\n",
              "9       Wilderness    0.079746\n",
              "10            Soil    0.201437"
            ]
          },
          "metadata": {
            "tags": []
          },
          "execution_count": 57
        }
      ]
    },
    {
      "cell_type": "markdown",
      "metadata": {
        "id": "p9UnCB_SjW5g"
      },
      "source": [
        "### KNN"
      ]
    },
    {
      "cell_type": "markdown",
      "metadata": {
        "id": "ZO-a2I1LKpzL"
      },
      "source": [
        "*   scaling all numerical columns and saving it in a dataframe 'x_std'\n",
        "*   concatenating all the independent data into a dataframe 'x_' \n",
        "*   dividing data to x_ (independent variable) and y_ (dependent variable)\n",
        "*   splitting data into train and test in 7:3 ratio\n"
      ]
    },
    {
      "cell_type": "code",
      "metadata": {
        "id": "7c9alHgdjW5h",
        "colab": {
          "base_uri": "https://localhost:8080/"
        },
        "outputId": "0e639d11-bbe7-468d-f1c5-551732050489"
      },
      "source": [
        "from sklearn.preprocessing import StandardScaler\n",
        "\n",
        "x1 = forest_d.drop(columns= ['Cover_Type','Soil','Wilderness'])\n",
        "y_ = forest_d['Cover_Type']\n",
        "\n",
        "x_std = StandardScaler().fit_transform(x1)\n",
        "\n",
        "x_std = pd.DataFrame(x_std, columns = x1.columns)\n",
        "\n",
        "x_ = pd.concat([x_std,forest_d[['Soil','Wilderness']]], axis = 1)\n",
        "x_.head()"
      ],
      "execution_count": null,
      "outputs": [
        {
          "output_type": "execute_result",
          "data": {
            "text/html": [
              "<div>\n",
              "<style scoped>\n",
              "    .dataframe tbody tr th:only-of-type {\n",
              "        vertical-align: middle;\n",
              "    }\n",
              "\n",
              "    .dataframe tbody tr th {\n",
              "        vertical-align: top;\n",
              "    }\n",
              "\n",
              "    .dataframe thead th {\n",
              "        text-align: right;\n",
              "    }\n",
              "</style>\n",
              "<table border=\"1\" class=\"dataframe\">\n",
              "  <thead>\n",
              "    <tr style=\"text-align: right;\">\n",
              "      <th></th>\n",
              "      <th>Elevation</th>\n",
              "      <th>Aspect</th>\n",
              "      <th>Slope</th>\n",
              "      <th>Hydr_Slope</th>\n",
              "      <th>Fire_Hydr</th>\n",
              "      <th>Avg_Horizontal</th>\n",
              "      <th>Fire_Road</th>\n",
              "      <th>Hillshades</th>\n",
              "      <th>Hydr_Dist</th>\n",
              "      <th>Soil</th>\n",
              "      <th>Wilderness</th>\n",
              "    </tr>\n",
              "  </thead>\n",
              "  <tbody>\n",
              "    <tr>\n",
              "      <th>0</th>\n",
              "      <td>0.824993</td>\n",
              "      <td>-0.680594</td>\n",
              "      <td>0.015748</td>\n",
              "      <td>1.082570</td>\n",
              "      <td>-0.242679</td>\n",
              "      <td>-0.360650</td>\n",
              "      <td>-0.245514</td>\n",
              "      <td>-0.083351</td>\n",
              "      <td>-1.371248</td>\n",
              "      <td>29.0</td>\n",
              "      <td>1.0</td>\n",
              "    </tr>\n",
              "    <tr>\n",
              "      <th>1</th>\n",
              "      <td>1.139856</td>\n",
              "      <td>-1.046790</td>\n",
              "      <td>-1.343958</td>\n",
              "      <td>0.267644</td>\n",
              "      <td>-0.436214</td>\n",
              "      <td>-0.984879</td>\n",
              "      <td>-1.272567</td>\n",
              "      <td>-0.846651</td>\n",
              "      <td>1.663775</td>\n",
              "      <td>22.0</td>\n",
              "      <td>1.0</td>\n",
              "    </tr>\n",
              "    <tr>\n",
              "      <th>2</th>\n",
              "      <td>1.084099</td>\n",
              "      <td>1.052138</td>\n",
              "      <td>0.015748</td>\n",
              "      <td>-1.419384</td>\n",
              "      <td>-0.593060</td>\n",
              "      <td>-1.161074</td>\n",
              "      <td>-1.447657</td>\n",
              "      <td>1.106501</td>\n",
              "      <td>1.448859</td>\n",
              "      <td>32.0</td>\n",
              "      <td>3.0</td>\n",
              "    </tr>\n",
              "    <tr>\n",
              "      <th>3</th>\n",
              "      <td>0.926668</td>\n",
              "      <td>-0.725252</td>\n",
              "      <td>-0.379393</td>\n",
              "      <td>1.259621</td>\n",
              "      <td>-0.925946</td>\n",
              "      <td>-1.045563</td>\n",
              "      <td>-0.953958</td>\n",
              "      <td>-0.846651</td>\n",
              "      <td>-0.836644</td>\n",
              "      <td>39.0</td>\n",
              "      <td>3.0</td>\n",
              "    </tr>\n",
              "    <tr>\n",
              "      <th>4</th>\n",
              "      <td>0.992264</td>\n",
              "      <td>0.382268</td>\n",
              "      <td>-0.379393</td>\n",
              "      <td>-0.645086</td>\n",
              "      <td>-0.699194</td>\n",
              "      <td>-1.022947</td>\n",
              "      <td>-0.971208</td>\n",
              "      <td>1.286101</td>\n",
              "      <td>-0.387040</td>\n",
              "      <td>23.0</td>\n",
              "      <td>1.0</td>\n",
              "    </tr>\n",
              "  </tbody>\n",
              "</table>\n",
              "</div>"
            ],
            "text/plain": [
              "   Elevation    Aspect     Slope  ...  Hydr_Dist  Soil  Wilderness\n",
              "0   0.824993 -0.680594  0.015748  ...  -1.371248  29.0         1.0\n",
              "1   1.139856 -1.046790 -1.343958  ...   1.663775  22.0         1.0\n",
              "2   1.084099  1.052138  0.015748  ...   1.448859  32.0         3.0\n",
              "3   0.926668 -0.725252 -0.379393  ...  -0.836644  39.0         3.0\n",
              "4   0.992264  0.382268 -0.379393  ...  -0.387040  23.0         1.0\n",
              "\n",
              "[5 rows x 11 columns]"
            ]
          },
          "metadata": {
            "tags": []
          },
          "execution_count": 48
        }
      ]
    },
    {
      "cell_type": "code",
      "metadata": {
        "id": "XlmqrB6ojW5k"
      },
      "source": [
        "x_train_k, x_test_k, y_train_k, y_test_k = train_test_split(x_, y_, test_size = .3, random_state=25)"
      ],
      "execution_count": null,
      "outputs": []
    },
    {
      "cell_type": "code",
      "metadata": {
        "id": "pyksGFOqjW5n"
      },
      "source": [
        "from sklearn.neighbors import KNeighborsClassifier"
      ],
      "execution_count": null,
      "outputs": []
    },
    {
      "cell_type": "code",
      "metadata": {
        "id": "7BIjEhX7jW5p"
      },
      "source": [
        "knn = KNeighborsClassifier(metric = 'cityblock', n_neighbors= 4, weights= 'distance')\n",
        "knn.fit(x_train_k,y_train_k)\n",
        "y_pred_k = knn.predict(x_test_k)"
      ],
      "execution_count": null,
      "outputs": []
    },
    {
      "cell_type": "code",
      "metadata": {
        "id": "UfBBpvb8jW5s",
        "colab": {
          "base_uri": "https://localhost:8080/",
          "height": 52
        },
        "outputId": "9870a109-fe0c-4b8c-eb29-b1a4011740e3"
      },
      "source": [
        "print('Training Score:',knn.score(x_train_k,y_train_k))\n",
        "print('Testing Score:',knn.score(x_test_k,y_test_k))"
      ],
      "execution_count": null,
      "outputs": [
        {
          "output_type": "stream",
          "text": [
            "Training Score: 1.0\n",
            "Testing Score: 0.9009940476190477\n"
          ],
          "name": "stdout"
        }
      ]
    },
    {
      "cell_type": "code",
      "metadata": {
        "id": "Lhk6Bx8gjW5w",
        "colab": {
          "base_uri": "https://localhost:8080/"
        },
        "outputId": "02573977-1453-41c7-9772-9672a00de654"
      },
      "source": [
        "print(classification_report(y_test_k, y_pred_k))\n",
        "print(confusion_matrix(y_test_k, y_pred_k))"
      ],
      "execution_count": null,
      "outputs": [
        {
          "output_type": "stream",
          "text": [
            "              precision    recall  f1-score   support\n",
            "\n",
            "           1       0.90      0.89      0.89     57141\n",
            "           2       0.91      0.91      0.91     75000\n",
            "           3       0.90      0.91      0.91     13131\n",
            "           4       0.90      0.89      0.90      1797\n",
            "           5       0.81      0.83      0.82      4468\n",
            "           6       0.84      0.86      0.85      7534\n",
            "           7       0.93      0.95      0.94      8929\n",
            "\n",
            "    accuracy                           0.90    168000\n",
            "   macro avg       0.89      0.89      0.89    168000\n",
            "weighted avg       0.90      0.90      0.90    168000\n",
            "\n",
            "[[50616  5845     7     0   111    20   542]\n",
            " [ 4914 68464   394     3   712   431    82]\n",
            " [    4   274 11978   120    36   719     0]\n",
            " [    0     1   129  1595     0    72     0]\n",
            " [   80   614    48     0  3713    11     2]\n",
            " [   23   270   689    48    23  6481     0]\n",
            " [  351    55     0     0     3     0  8520]]\n"
          ],
          "name": "stdout"
        }
      ]
    },
    {
      "cell_type": "markdown",
      "metadata": {
        "id": "WzJfmjEcjW5z"
      },
      "source": [
        "### Ensemble Techniques on smote transformed added features"
      ]
    },
    {
      "cell_type": "code",
      "metadata": {
        "id": "0sDT-4nQjW5z"
      },
      "source": [
        "#base_LR = LogisticRegression(random_state = 25)\n",
        "base_DT = DecisionTreeClassifier(criterion = \"entropy\", \n",
        "                                  random_state = 25,\n",
        "                                  max_depth=19, \n",
        "                                  min_samples_leaf=10,\n",
        "                                  min_samples_split=10)\n",
        "#base_NB = GaussianNB()\n",
        "base_RF = RandomForestClassifier(criterion = \"entropy\", \n",
        "                                  random_state = 25,\n",
        "                                  max_depth=19, \n",
        "                                  min_samples_leaf=10,\n",
        "                                  min_samples_split=10)\n",
        "base_KNN = KNeighborsClassifier(metric = 'cityblock', \n",
        "                                n_neighbors= 4, \n",
        "                                weights= 'distance')"
      ],
      "execution_count": null,
      "outputs": []
    },
    {
      "cell_type": "markdown",
      "metadata": {
        "id": "-xRapZJrjW52"
      },
      "source": [
        "### Bagging"
      ]
    },
    {
      "cell_type": "code",
      "metadata": {
        "id": "8gy6ItPvjW52"
      },
      "source": [
        "from sklearn.ensemble import BaggingClassifier"
      ],
      "execution_count": null,
      "outputs": []
    },
    {
      "cell_type": "markdown",
      "metadata": {
        "id": "FOfsMdObjW54"
      },
      "source": [
        "#### Decision Bag"
      ]
    },
    {
      "cell_type": "code",
      "metadata": {
        "id": "DhceVKf7jW55",
        "colab": {
          "base_uri": "https://localhost:8080/",
          "height": 322
        },
        "outputId": "a96bb62c-b96c-4f6c-c0df-e9e39691c56f"
      },
      "source": [
        "bgcl_DT = BaggingClassifier(base_estimator=base_DT,n_estimators=51,oob_score=True,random_state=25)\n",
        "bgcl_DT.fit(x_train, y_train)"
      ],
      "execution_count": null,
      "outputs": [
        {
          "output_type": "execute_result",
          "data": {
            "text/plain": [
              "BaggingClassifier(base_estimator=DecisionTreeClassifier(ccp_alpha=0.0,\n",
              "                                                        class_weight=None,\n",
              "                                                        criterion='entropy',\n",
              "                                                        max_depth=19,\n",
              "                                                        max_features=None,\n",
              "                                                        max_leaf_nodes=None,\n",
              "                                                        min_impurity_decrease=0.0,\n",
              "                                                        min_impurity_split=None,\n",
              "                                                        min_samples_leaf=10,\n",
              "                                                        min_samples_split=10,\n",
              "                                                        min_weight_fraction_leaf=0.0,\n",
              "                                                        presort='deprecated',\n",
              "                                                        random_state=25,\n",
              "                                                        splitter='best'),\n",
              "                  bootstrap=True, bootstrap_features=False, max_features=1.0,\n",
              "                  max_samples=1.0, n_estimators=51, n_jobs=None, oob_score=True,\n",
              "                  random_state=25, verbose=0, warm_start=False)"
            ]
          },
          "metadata": {
            "tags": []
          },
          "execution_count": 66
        }
      ]
    },
    {
      "cell_type": "code",
      "metadata": {
        "id": "fTKWa_uKjW59",
        "colab": {
          "base_uri": "https://localhost:8080/",
          "height": 70
        },
        "outputId": "6028ba98-533e-4960-e161-1dd36a328671"
      },
      "source": [
        "print('OOB SCORE:',bgcl_DT.oob_score_)\n",
        "print('Training Score:',bgcl_DT.score(x_train,y_train))\n",
        "print('Testing Score:',bgcl_DT.score(x_test,y_test))"
      ],
      "execution_count": null,
      "outputs": [
        {
          "output_type": "stream",
          "text": [
            "OOB SCORE: 0.935094387755102\n",
            "Training Score: 0.9624744897959183\n",
            "Testing Score: 0.9360595238095238\n"
          ],
          "name": "stdout"
        }
      ]
    },
    {
      "cell_type": "code",
      "metadata": {
        "id": "m07-GPtdjW6B",
        "colab": {
          "base_uri": "https://localhost:8080/",
          "height": 394
        },
        "outputId": "8bbc265e-a5c8-45d7-f970-1e2adc733d62"
      },
      "source": [
        "print(classification_report(y_test,bgcl_DT.predict(x_test)))\n",
        "print(confusion_matrix(y_test,bgcl_DT.predict(x_test)))"
      ],
      "execution_count": null,
      "outputs": [
        {
          "output_type": "stream",
          "text": [
            "              precision    recall  f1-score   support\n",
            "\n",
            "           1       0.94      0.92      0.93     57141\n",
            "           2       0.93      0.95      0.94     75000\n",
            "           3       0.94      0.95      0.94     13131\n",
            "           4       0.93      0.92      0.93      1797\n",
            "           5       0.92      0.87      0.90      4468\n",
            "           6       0.92      0.91      0.92      7534\n",
            "           7       0.97      0.96      0.96      8929\n",
            "\n",
            "    accuracy                           0.94    168000\n",
            "   macro avg       0.94      0.93      0.93    168000\n",
            "weighted avg       0.94      0.94      0.94    168000\n",
            "\n",
            "[[52550  4313     2     0    33     6   237]\n",
            " [ 3080 71249   195     1   266   170    39]\n",
            " [    0   204 12445    83    13   386     0]\n",
            " [    0     0   111  1656     0    30     0]\n",
            " [   32   477    40     0  3898    21     0]\n",
            " [    3   146   449    39     5  6892     0]\n",
            " [  316    43     0     0     2     0  8568]]\n"
          ],
          "name": "stdout"
        }
      ]
    },
    {
      "cell_type": "markdown",
      "metadata": {
        "id": "UdH5PBtnjW6F"
      },
      "source": [
        "#### Random Forest Bag"
      ]
    },
    {
      "cell_type": "code",
      "metadata": {
        "id": "10oRfk59jW6I",
        "colab": {
          "base_uri": "https://localhost:8080/",
          "height": 412
        },
        "outputId": "6932c4e5-62d6-4d41-a316-1853929719a1"
      },
      "source": [
        "bgcl_RF = BaggingClassifier(base_estimator=base_RF,n_estimators=51,oob_score=True,random_state=25)\n",
        "bgcl_RF.fit(x_train, y_train)"
      ],
      "execution_count": null,
      "outputs": [
        {
          "output_type": "execute_result",
          "data": {
            "text/plain": [
              "BaggingClassifier(base_estimator=RandomForestClassifier(bootstrap=True,\n",
              "                                                        ccp_alpha=0.0,\n",
              "                                                        class_weight=None,\n",
              "                                                        criterion='entropy',\n",
              "                                                        max_depth=19,\n",
              "                                                        max_features='auto',\n",
              "                                                        max_leaf_nodes=None,\n",
              "                                                        max_samples=None,\n",
              "                                                        min_impurity_decrease=0.0,\n",
              "                                                        min_impurity_split=None,\n",
              "                                                        min_samples_leaf=10,\n",
              "                                                        min_samples_split=10,\n",
              "                                                        min_weight_fraction_leaf=0.0,\n",
              "                                                        n_estimators=100,\n",
              "                                                        n_jobs=None,\n",
              "                                                        oob_score=False,\n",
              "                                                        random_state=25,\n",
              "                                                        verbose=0,\n",
              "                                                        warm_start=False),\n",
              "                  bootstrap=True, bootstrap_features=False, max_features=1.0,\n",
              "                  max_samples=1.0, n_estimators=51, n_jobs=None, oob_score=True,\n",
              "                  random_state=25, verbose=0, warm_start=False)"
            ]
          },
          "metadata": {
            "tags": []
          },
          "execution_count": 53
        }
      ]
    },
    {
      "cell_type": "code",
      "metadata": {
        "id": "4P987UazjW6K",
        "colab": {
          "base_uri": "https://localhost:8080/",
          "height": 70
        },
        "outputId": "82ec6868-76ff-4a69-b67a-c01ec1850ccb"
      },
      "source": [
        "print('OOB SCORE:',bgcl_RF.oob_score_)\n",
        "print('Training Score:',bgcl_RF.score(x_train,y_train))\n",
        "print('Accuracy:',bgcl_RF.score(x_test,y_test))"
      ],
      "execution_count": null,
      "outputs": [
        {
          "output_type": "stream",
          "text": [
            "OOB SCORE: 0.9179770408163266\n",
            "Training Score: 0.9384056122448979\n",
            "Accuracy: 0.9166130952380952\n"
          ],
          "name": "stdout"
        }
      ]
    },
    {
      "cell_type": "code",
      "metadata": {
        "id": "aMwR5ivYjW6N",
        "colab": {
          "base_uri": "https://localhost:8080/",
          "height": 394
        },
        "outputId": "fb58097f-dcbe-48a8-9f16-e8db1ce8910c"
      },
      "source": [
        "print(classification_report(y_test,bgcl_RF.predict(x_test)))\n",
        "print(confusion_matrix(y_test,bgcl_RF.predict(x_test)))"
      ],
      "execution_count": null,
      "outputs": [
        {
          "output_type": "stream",
          "text": [
            "              precision    recall  f1-score   support\n",
            "\n",
            "           1       0.93      0.89      0.91     57141\n",
            "           2       0.91      0.94      0.92     75000\n",
            "           3       0.91      0.95      0.93     13131\n",
            "           4       0.92      0.90      0.91      1797\n",
            "           5       0.93      0.77      0.85      4468\n",
            "           6       0.90      0.88      0.89      7534\n",
            "           7       0.96      0.94      0.95      8929\n",
            "\n",
            "    accuracy                           0.92    168000\n",
            "   macro avg       0.92      0.90      0.91    168000\n",
            "weighted avg       0.92      0.92      0.92    168000\n",
            "\n",
            "[[50802  5985     1     0    46    14   293]\n",
            " [ 3497 70674   331     3   197   260    38]\n",
            " [    0   244 12417    90     2   378     0]\n",
            " [    0     0   147  1623     0    27     0]\n",
            " [   28   898    64     0  3458    20     0]\n",
            " [    0   220   671    39     3  6601     0]\n",
            " [  472    39     0     0     2     0  8416]]\n"
          ],
          "name": "stdout"
        }
      ]
    },
    {
      "cell_type": "markdown",
      "metadata": {
        "id": "de-w8lN3jW6P"
      },
      "source": [
        "#### KNN Bag"
      ]
    },
    {
      "cell_type": "code",
      "metadata": {
        "id": "nkOutJ5_jW6P",
        "colab": {
          "base_uri": "https://localhost:8080/",
          "height": 196
        },
        "outputId": "b621583a-6c7d-4b3e-ae82-0c52ad9080ed"
      },
      "source": [
        "bgcl_KN = BaggingClassifier(base_estimator=base_KNN,n_estimators=51,oob_score=True,random_state=25)\n",
        "bgcl_KN.fit(x_train_k, y_train_k)"
      ],
      "execution_count": null,
      "outputs": [
        {
          "output_type": "execute_result",
          "data": {
            "text/plain": [
              "BaggingClassifier(base_estimator=KNeighborsClassifier(algorithm='auto',\n",
              "                                                      leaf_size=30,\n",
              "                                                      metric='cityblock',\n",
              "                                                      metric_params=None,\n",
              "                                                      n_jobs=None,\n",
              "                                                      n_neighbors=4, p=2,\n",
              "                                                      weights='distance'),\n",
              "                  bootstrap=True, bootstrap_features=False, max_features=1.0,\n",
              "                  max_samples=1.0, n_estimators=51, n_jobs=None, oob_score=True,\n",
              "                  random_state=25, verbose=0, warm_start=False)"
            ]
          },
          "metadata": {
            "tags": []
          },
          "execution_count": 53
        }
      ]
    },
    {
      "cell_type": "code",
      "metadata": {
        "id": "rjl7UFySjW6S",
        "colab": {
          "base_uri": "https://localhost:8080/",
          "height": 70
        },
        "outputId": "ad62f711-af45-4caf-f358-a3f2b9340089"
      },
      "source": [
        "print('OOB SCORE:',bgcl_KN.oob_score_)\n",
        "print('Training Score:',bgcl_KN.score(x_train_k,y_train_k))\n",
        "print('Testing Score:',bgcl_KN.score(x_test_k,y_test_k))"
      ],
      "execution_count": null,
      "outputs": [
        {
          "output_type": "stream",
          "text": [
            "OOB SCORE: 0.9001326530612245\n",
            "Training Score: 0.9997397959183674\n",
            "Testing Score: 0.9016904761904762\n"
          ],
          "name": "stdout"
        }
      ]
    },
    {
      "cell_type": "code",
      "metadata": {
        "id": "E1ajsmv2jW6V",
        "colab": {
          "base_uri": "https://localhost:8080/",
          "height": 394
        },
        "outputId": "1f9c516a-614d-4b0e-aa82-f462e4c6a33f"
      },
      "source": [
        "print(classification_report(y_test_k,bgcl_KN.predict(x_test_k)))\n",
        "print(confusion_matrix(y_test_k,bgcl_KN.predict(x_test_k)))"
      ],
      "execution_count": null,
      "outputs": [
        {
          "output_type": "stream",
          "text": [
            "              precision    recall  f1-score   support\n",
            "\n",
            "           1       0.91      0.88      0.90     57141\n",
            "           2       0.91      0.92      0.91     75000\n",
            "           3       0.90      0.91      0.91     13131\n",
            "           4       0.91      0.89      0.90      1797\n",
            "           5       0.81      0.82      0.82      4468\n",
            "           6       0.84      0.86      0.85      7534\n",
            "           7       0.93      0.95      0.94      8929\n",
            "\n",
            "    accuracy                           0.90    168000\n",
            "   macro avg       0.89      0.89      0.89    168000\n",
            "weighted avg       0.90      0.90      0.90    168000\n",
            "\n",
            "[[50464  5977     9     0   105    17   569]\n",
            " [ 4639 68779   399     3   682   421    77]\n",
            " [    5   272 11990   109    32   723     0]\n",
            " [    0     0   133  1592     0    72     0]\n",
            " [   77   643    50     0  3678    18     2]\n",
            " [   20   258   706    47    26  6477     0]\n",
            " [  360    62     0     0     3     0  8504]]\n"
          ],
          "name": "stdout"
        }
      ]
    },
    {
      "cell_type": "markdown",
      "metadata": {
        "id": "JIAqUN35jW6X"
      },
      "source": [
        "### AdaBoost"
      ]
    },
    {
      "cell_type": "code",
      "metadata": {
        "id": "Zi3O3YUQjW6X"
      },
      "source": [
        "from sklearn.ensemble import AdaBoostClassifier\n",
        "\n",
        "abcl_DT = AdaBoostClassifier(base_estimator=base_DT,n_estimators=50,random_state=25)\n",
        "\n",
        "abcl_RF = AdaBoostClassifier(base_estimator=base_RF,n_estimators=50,random_state=25)"
      ],
      "execution_count": null,
      "outputs": []
    },
    {
      "cell_type": "markdown",
      "metadata": {
        "id": "8IGSgipYZfzt"
      },
      "source": [
        "#### Decision Tree"
      ]
    },
    {
      "cell_type": "code",
      "metadata": {
        "scrolled": true,
        "id": "kuKFrMZNjW6c",
        "colab": {
          "base_uri": "https://localhost:8080/",
          "height": 52
        },
        "outputId": "c31cc440-dcaa-4e2b-906a-5f6a1c4ef2f7"
      },
      "source": [
        "abcl_DT.fit(x_train,y_train)\n",
        "print('AdaBoost DT Training Score:',abcl_DT.score(x_train,y_train))\n",
        "print('AdaBoost DT Testing Score:',abcl_DT.score(x_test,y_test))"
      ],
      "execution_count": null,
      "outputs": [
        {
          "output_type": "stream",
          "text": [
            "AdaBoost DT Training Score: 0.9995841836734694\n",
            "AdaBoost DT Testing Score: 0.927672619047619\n"
          ],
          "name": "stdout"
        }
      ]
    },
    {
      "cell_type": "code",
      "metadata": {
        "id": "9Nz41Q_YjW6g",
        "colab": {
          "base_uri": "https://localhost:8080/",
          "height": 394
        },
        "outputId": "dcc46ac7-aa7d-4fe4-c75e-ab06e7c09cdd"
      },
      "source": [
        "print(classification_report(y_test,abcl_DT.predict(x_test)))\n",
        "print(confusion_matrix(y_test,abcl_DT.predict(x_test)))"
      ],
      "execution_count": null,
      "outputs": [
        {
          "output_type": "stream",
          "text": [
            "              precision    recall  f1-score   support\n",
            "\n",
            "           1       0.93      0.91      0.92     57141\n",
            "           2       0.92      0.95      0.93     75000\n",
            "           3       0.94      0.96      0.95     13131\n",
            "           4       0.96      0.91      0.94      1797\n",
            "           5       0.97      0.81      0.88      4468\n",
            "           6       0.95      0.91      0.93      7534\n",
            "           7       0.98      0.95      0.96      8929\n",
            "\n",
            "    accuracy                           0.93    168000\n",
            "   macro avg       0.95      0.91      0.93    168000\n",
            "weighted avg       0.93      0.93      0.93    168000\n",
            "\n",
            "[[51724  5278     0     0    10     3   126]\n",
            " [ 3627 70882   235     0    99   133    24]\n",
            " [    0   197 12661    42     6   225     0]\n",
            " [    0     0   126  1642     0    29     0]\n",
            " [   24   776    36     0  3626     6     0]\n",
            " [    0   183   455    25     1  6870     0]\n",
            " [  449    34     0     0     2     0  8444]]\n"
          ],
          "name": "stdout"
        }
      ]
    },
    {
      "cell_type": "markdown",
      "metadata": {
        "id": "Q58VWJcAZkN8"
      },
      "source": [
        "#### Random Forest"
      ]
    },
    {
      "cell_type": "code",
      "metadata": {
        "id": "pZS1Gnj4jW6i",
        "colab": {
          "base_uri": "https://localhost:8080/",
          "height": 52
        },
        "outputId": "a2d04631-f72f-4896-8daa-72b595866186"
      },
      "source": [
        "abcl_RF.fit(x_train,y_train)\n",
        "print('AdaBoost RF Training Score:',abcl_RF.score(x_train,y_train))\n",
        "print('AdaBoost RF Testing Score:',abcl_RF.score(x_test,y_test))"
      ],
      "execution_count": null,
      "outputs": [
        {
          "output_type": "stream",
          "text": [
            "AdaBoost RF Training Score: 0.8717780612244898\n",
            "AdaBoost RF Testing Score: 0.8222916666666666\n"
          ],
          "name": "stdout"
        }
      ]
    },
    {
      "cell_type": "code",
      "metadata": {
        "id": "l29dLMebjW6k",
        "colab": {
          "base_uri": "https://localhost:8080/",
          "height": 394
        },
        "outputId": "fa175c53-4f93-4e9d-be05-08ff82d81baf"
      },
      "source": [
        "print(classification_report(y_test,abcl_RF.predict(x_test)))\n",
        "print(confusion_matrix(y_test,abcl_RF.predict(x_test)))"
      ],
      "execution_count": null,
      "outputs": [
        {
          "output_type": "stream",
          "text": [
            "              precision    recall  f1-score   support\n",
            "\n",
            "           1       0.84      0.74      0.79     57141\n",
            "           2       0.88      0.85      0.87     75000\n",
            "           3       0.84      0.93      0.88     13131\n",
            "           4       0.88      0.71      0.79      1797\n",
            "           5       0.64      0.90      0.75      4468\n",
            "           6       0.84      0.79      0.81      7534\n",
            "           7       0.54      0.97      0.69      8929\n",
            "\n",
            "    accuracy                           0.82    168000\n",
            "   macro avg       0.78      0.84      0.80    168000\n",
            "weighted avg       0.84      0.82      0.82    168000\n",
            "\n",
            "[[42100  8066     2     0   559    17  6397]\n",
            " [ 7436 63967   444     1  1673   437  1042]\n",
            " [   21   169 12217   135    41   548     0]\n",
            " [    0     0   441  1284     0    72     0]\n",
            " [   83   297    44     0  4026    18     0]\n",
            " [   30   146  1374    35    24  5925     0]\n",
            " [  285    13     0     0     5     0  8626]]\n"
          ],
          "name": "stdout"
        }
      ]
    },
    {
      "cell_type": "markdown",
      "metadata": {
        "id": "HZsCNcqRjW6n"
      },
      "source": [
        "### Gradient Boosting"
      ]
    },
    {
      "cell_type": "code",
      "metadata": {
        "id": "gZRLj3kcjW6n",
        "colab": {
          "base_uri": "https://localhost:8080/",
          "height": 196
        },
        "outputId": "a6271ae8-72ce-4a54-dbed-f91fe37cc013"
      },
      "source": [
        "from sklearn.ensemble import GradientBoostingClassifier\n",
        "\n",
        "gbcl = GradientBoostingClassifier(random_state = 25,\n",
        "                                  max_depth=19, \n",
        "                                  min_samples_leaf=10,\n",
        "                                  min_samples_split=10,\n",
        "                                  n_estimators = 50)\n",
        "gbcl.fit(x_train, y_train)"
      ],
      "execution_count": null,
      "outputs": [
        {
          "output_type": "execute_result",
          "data": {
            "text/plain": [
              "GradientBoostingClassifier(ccp_alpha=0.0, criterion='friedman_mse', init=None,\n",
              "                           learning_rate=0.1, loss='deviance', max_depth=19,\n",
              "                           max_features=None, max_leaf_nodes=None,\n",
              "                           min_impurity_decrease=0.0, min_impurity_split=None,\n",
              "                           min_samples_leaf=10, min_samples_split=10,\n",
              "                           min_weight_fraction_leaf=0.0, n_estimators=50,\n",
              "                           n_iter_no_change=None, presort='deprecated',\n",
              "                           random_state=25, subsample=1.0, tol=0.0001,\n",
              "                           validation_fraction=0.1, verbose=0,\n",
              "                           warm_start=False)"
            ]
          },
          "metadata": {
            "tags": []
          },
          "execution_count": 56
        }
      ]
    },
    {
      "cell_type": "code",
      "metadata": {
        "id": "3FByGrp2jW6q",
        "colab": {
          "base_uri": "https://localhost:8080/",
          "height": 52
        },
        "outputId": "29692148-64d6-49ad-9316-c8af08458cbd"
      },
      "source": [
        "print(gbcl.score(x_train,y_train))\n",
        "print(gbcl.score(x_test,y_test))"
      ],
      "execution_count": null,
      "outputs": [
        {
          "output_type": "stream",
          "text": [
            "1.0\n",
            "0.9670892857142858\n"
          ],
          "name": "stdout"
        }
      ]
    },
    {
      "cell_type": "code",
      "metadata": {
        "id": "HFrgynU3jW6s",
        "colab": {
          "base_uri": "https://localhost:8080/",
          "height": 394
        },
        "outputId": "50233696-9de7-4fb1-adbf-9537a18d02f6"
      },
      "source": [
        "print(classification_report(y_test,gbcl.predict(x_test)))\n",
        "print(confusion_matrix(y_test,gbcl.predict(x_test)))"
      ],
      "execution_count": null,
      "outputs": [
        {
          "output_type": "stream",
          "text": [
            "              precision    recall  f1-score   support\n",
            "\n",
            "           1       0.97      0.96      0.97     57141\n",
            "           2       0.97      0.97      0.97     75000\n",
            "           3       0.96      0.97      0.97     13131\n",
            "           4       0.95      0.94      0.95      1797\n",
            "           5       0.95      0.92      0.93      4468\n",
            "           6       0.96      0.95      0.95      7534\n",
            "           7       0.98      0.98      0.98      8929\n",
            "\n",
            "    accuracy                           0.97    168000\n",
            "   macro avg       0.96      0.96      0.96    168000\n",
            "weighted avg       0.97      0.97      0.97    168000\n",
            "\n",
            "[[54927  2029     3     0    24    11   147]\n",
            " [ 1471 73112   123     1   169    99    25]\n",
            " [    0   114 12760    64     9   184     0]\n",
            " [    0     0    78  1695     0    24     0]\n",
            " [   22   316    24     0  4102     4     0]\n",
            " [    2   100   254    24     2  7152     0]\n",
            " [  178    26     0     0     2     0  8723]]\n"
          ],
          "name": "stdout"
        }
      ]
    },
    {
      "cell_type": "markdown",
      "metadata": {
        "id": "SMHeO5xQJP77"
      },
      "source": [
        "## Smote-Transformed selected Features"
      ]
    },
    {
      "cell_type": "markdown",
      "metadata": {
        "id": "ge5E_9CTa-vd"
      },
      "source": [
        "Selecting features on basis of their importance in decision tree and random forest models. Also, considering the overall performance of the models."
      ]
    },
    {
      "cell_type": "code",
      "metadata": {
        "id": "Bhxi_HU0JP9_"
      },
      "source": [
        "forest_f = forest_c.drop(columns = forest_c.columns[2:5])\n",
        "forest_f = forest_f.drop(columns = forest_c.columns[7:9])\n",
        "forest_f = forest_f.drop(columns = forest_c.columns[10])\n",
        "forest_f = forest_f.drop(columns = forest_c.columns[14])"
      ],
      "execution_count": null,
      "outputs": []
    },
    {
      "cell_type": "code",
      "metadata": {
        "id": "-IqlRX57JP-J",
        "colab": {
          "base_uri": "https://localhost:8080/"
        },
        "outputId": "bd991f5b-6d8f-45ca-ab56-7606c57d5a82"
      },
      "source": [
        "forest_f.info()"
      ],
      "execution_count": null,
      "outputs": [
        {
          "output_type": "stream",
          "text": [
            "<class 'pandas.core.frame.DataFrame'>\n",
            "RangeIndex: 560000 entries, 0 to 559999\n",
            "Data columns (total 12 columns):\n",
            " #   Column                              Non-Null Count   Dtype   \n",
            "---  ------                              --------------   -----   \n",
            " 0   Elevation                           560000 non-null  float64 \n",
            " 1   Aspect                              560000 non-null  float64 \n",
            " 2   Horizontal_Distance_To_Roadways     560000 non-null  float64 \n",
            " 3   Hillshade_9am                       560000 non-null  float64 \n",
            " 4   Horizontal_Distance_To_Fire_Points  560000 non-null  float64 \n",
            " 5   Fire_Hydr                           560000 non-null  float64 \n",
            " 6   Avg_Horizontal                      560000 non-null  float64 \n",
            " 7   Fire_Road                           560000 non-null  float64 \n",
            " 8   Hydr_Dist                           560000 non-null  float64 \n",
            " 9   Wilderness                          560000 non-null  category\n",
            " 10  Soil                                560000 non-null  category\n",
            " 11  Cover_Type                          560000 non-null  category\n",
            "dtypes: category(3), float64(9)\n",
            "memory usage: 41.3 MB\n"
          ],
          "name": "stdout"
        }
      ]
    },
    {
      "cell_type": "markdown",
      "metadata": {
        "id": "CXhADPOSJP-g"
      },
      "source": [
        "## Modelling on selected features"
      ]
    },
    {
      "cell_type": "markdown",
      "metadata": {
        "id": "oCj41-0EJP-i"
      },
      "source": [
        "### Decision Tree"
      ]
    },
    {
      "cell_type": "code",
      "metadata": {
        "id": "7LcSvvn5JP-j"
      },
      "source": [
        "from sklearn.model_selection import train_test_split\n",
        "from sklearn.metrics import classification_report, confusion_matrix, accuracy_score\n",
        "from sklearn.tree import DecisionTreeClassifier\n",
        "import warnings\n",
        "warnings.filterwarnings(\"ignore\")"
      ],
      "execution_count": null,
      "outputs": []
    },
    {
      "cell_type": "markdown",
      "metadata": {
        "id": "HxUb8fvoJ3rJ"
      },
      "source": [
        "Dividing data into x (independent variable) and y (dependent variable) and then splitting data into train and test in 7:3 ratio"
      ]
    },
    {
      "cell_type": "code",
      "metadata": {
        "id": "bhtXHo19JP-7"
      },
      "source": [
        "x = forest_f.drop(columns = ['Cover_Type'])\n",
        "y = forest_f['Cover_Type']"
      ],
      "execution_count": null,
      "outputs": []
    },
    {
      "cell_type": "code",
      "metadata": {
        "id": "rsfxtnSOJP_A"
      },
      "source": [
        "x_train, x_test, y_train, y_test = train_test_split(x, y, test_size = .3, random_state=25)"
      ],
      "execution_count": null,
      "outputs": []
    },
    {
      "cell_type": "code",
      "metadata": {
        "id": "WvTDK4hvJP_H",
        "colab": {
          "base_uri": "https://localhost:8080/",
          "height": 124
        },
        "outputId": "d5361959-450a-45cf-ba6b-7dc86673539b"
      },
      "source": [
        "dt = DecisionTreeClassifier(criterion = \"entropy\", \n",
        "                                  random_state = 25,\n",
        "                                  max_depth=19, \n",
        "                                  min_samples_leaf=10,\n",
        "                                  min_samples_split=10)\n",
        "dt.fit(x_train, y_train)"
      ],
      "execution_count": null,
      "outputs": [
        {
          "output_type": "execute_result",
          "data": {
            "text/plain": [
              "DecisionTreeClassifier(ccp_alpha=0.0, class_weight=None, criterion='entropy',\n",
              "                       max_depth=19, max_features=None, max_leaf_nodes=None,\n",
              "                       min_impurity_decrease=0.0, min_impurity_split=None,\n",
              "                       min_samples_leaf=10, min_samples_split=10,\n",
              "                       min_weight_fraction_leaf=0.0, presort='deprecated',\n",
              "                       random_state=25, splitter='best')"
            ]
          },
          "metadata": {
            "tags": []
          },
          "execution_count": 47
        }
      ]
    },
    {
      "cell_type": "code",
      "metadata": {
        "id": "MjSwNIJ0JP_k",
        "colab": {
          "base_uri": "https://localhost:8080/",
          "height": 52
        },
        "outputId": "022913cd-357c-4bc5-e71f-7ca761d06d13"
      },
      "source": [
        "print('Training Score:',dt.score(x_train, y_train))\n",
        "print('Testing Score:',dt.score(x_test, y_test))"
      ],
      "execution_count": null,
      "outputs": [
        {
          "output_type": "stream",
          "text": [
            "Training Score: 0.9358571428571428\n",
            "Testing Score: 0.907\n"
          ],
          "name": "stdout"
        }
      ]
    },
    {
      "cell_type": "code",
      "metadata": {
        "id": "lowl1VFcJP_s",
        "colab": {
          "base_uri": "https://localhost:8080/",
          "height": 394
        },
        "outputId": "4bb4675c-623c-4c28-cba8-ed6aff4ff630"
      },
      "source": [
        "y_pred = dt.predict(x_test)\n",
        "print(classification_report(y_test,y_pred))\n",
        "print(confusion_matrix(y_test,y_pred))"
      ],
      "execution_count": null,
      "outputs": [
        {
          "output_type": "stream",
          "text": [
            "              precision    recall  f1-score   support\n",
            "\n",
            "           1       0.91      0.89      0.90     57141\n",
            "           2       0.91      0.92      0.91     75000\n",
            "           3       0.91      0.92      0.92     13131\n",
            "           4       0.91      0.88      0.89      1797\n",
            "           5       0.85      0.84      0.85      4468\n",
            "           6       0.88      0.88      0.88      7534\n",
            "           7       0.94      0.95      0.95      8929\n",
            "\n",
            "    accuracy                           0.91    168000\n",
            "   macro avg       0.90      0.90      0.90    168000\n",
            "weighted avg       0.91      0.91      0.91    168000\n",
            "\n",
            "[[50772  5817     2     0    69    19   462]\n",
            " [ 4767 69116   288     1   520   251    57]\n",
            " [    7   351 12064   104    41   564     0]\n",
            " [    0     4   154  1584     0    55     0]\n",
            " [   73   553    51     0  3760    31     0]\n",
            " [   10   219   627    54    22  6602     0]\n",
            " [  389    60     0     0     2     0  8478]]\n"
          ],
          "name": "stdout"
        }
      ]
    },
    {
      "cell_type": "code",
      "metadata": {
        "id": "PJ3bl4pJJP_z",
        "colab": {
          "base_uri": "https://localhost:8080/",
          "height": 360
        },
        "outputId": "84e44b16-3e35-4627-ccc9-ac5e02eb4b55"
      },
      "source": [
        "pd.DataFrame({'columns':x.columns,'Importance':dt.feature_importances_})"
      ],
      "execution_count": null,
      "outputs": [
        {
          "output_type": "execute_result",
          "data": {
            "text/html": [
              "<div>\n",
              "<style scoped>\n",
              "    .dataframe tbody tr th:only-of-type {\n",
              "        vertical-align: middle;\n",
              "    }\n",
              "\n",
              "    .dataframe tbody tr th {\n",
              "        vertical-align: top;\n",
              "    }\n",
              "\n",
              "    .dataframe thead th {\n",
              "        text-align: right;\n",
              "    }\n",
              "</style>\n",
              "<table border=\"1\" class=\"dataframe\">\n",
              "  <thead>\n",
              "    <tr style=\"text-align: right;\">\n",
              "      <th></th>\n",
              "      <th>columns</th>\n",
              "      <th>Importance</th>\n",
              "    </tr>\n",
              "  </thead>\n",
              "  <tbody>\n",
              "    <tr>\n",
              "      <th>0</th>\n",
              "      <td>Elevation</td>\n",
              "      <td>0.443170</td>\n",
              "    </tr>\n",
              "    <tr>\n",
              "      <th>1</th>\n",
              "      <td>Aspect</td>\n",
              "      <td>0.035527</td>\n",
              "    </tr>\n",
              "    <tr>\n",
              "      <th>2</th>\n",
              "      <td>Horizontal_Distance_To_Roadways</td>\n",
              "      <td>0.076752</td>\n",
              "    </tr>\n",
              "    <tr>\n",
              "      <th>3</th>\n",
              "      <td>Hillshade_9am</td>\n",
              "      <td>0.032482</td>\n",
              "    </tr>\n",
              "    <tr>\n",
              "      <th>4</th>\n",
              "      <td>Horizontal_Distance_To_Fire_Points</td>\n",
              "      <td>0.054285</td>\n",
              "    </tr>\n",
              "    <tr>\n",
              "      <th>5</th>\n",
              "      <td>Fire_Hydr</td>\n",
              "      <td>0.047462</td>\n",
              "    </tr>\n",
              "    <tr>\n",
              "      <th>6</th>\n",
              "      <td>Avg_Horizontal</td>\n",
              "      <td>0.038130</td>\n",
              "    </tr>\n",
              "    <tr>\n",
              "      <th>7</th>\n",
              "      <td>Fire_Road</td>\n",
              "      <td>0.064403</td>\n",
              "    </tr>\n",
              "    <tr>\n",
              "      <th>8</th>\n",
              "      <td>Hydr_Dist</td>\n",
              "      <td>0.047827</td>\n",
              "    </tr>\n",
              "    <tr>\n",
              "      <th>9</th>\n",
              "      <td>Wilderness</td>\n",
              "      <td>0.042145</td>\n",
              "    </tr>\n",
              "    <tr>\n",
              "      <th>10</th>\n",
              "      <td>Soil</td>\n",
              "      <td>0.117816</td>\n",
              "    </tr>\n",
              "  </tbody>\n",
              "</table>\n",
              "</div>"
            ],
            "text/plain": [
              "                               columns  Importance\n",
              "0                            Elevation    0.443170\n",
              "1                               Aspect    0.035527\n",
              "2      Horizontal_Distance_To_Roadways    0.076752\n",
              "3                        Hillshade_9am    0.032482\n",
              "4   Horizontal_Distance_To_Fire_Points    0.054285\n",
              "5                            Fire_Hydr    0.047462\n",
              "6                       Avg_Horizontal    0.038130\n",
              "7                            Fire_Road    0.064403\n",
              "8                            Hydr_Dist    0.047827\n",
              "9                           Wilderness    0.042145\n",
              "10                                Soil    0.117816"
            ]
          },
          "metadata": {
            "tags": []
          },
          "execution_count": 50
        }
      ]
    },
    {
      "cell_type": "markdown",
      "metadata": {
        "id": "3PTgLEG9JP_6"
      },
      "source": [
        "### Random Forest"
      ]
    },
    {
      "cell_type": "code",
      "metadata": {
        "id": "DqqtkmpQJP_8"
      },
      "source": [
        "from sklearn.ensemble import RandomForestClassifier"
      ],
      "execution_count": null,
      "outputs": []
    },
    {
      "cell_type": "code",
      "metadata": {
        "id": "T1f4I9OJJQAN",
        "colab": {
          "base_uri": "https://localhost:8080/",
          "height": 160
        },
        "outputId": "e4da3f53-c64a-4ebf-ad5d-9cc32bebb5c0"
      },
      "source": [
        "rforest = RandomForestClassifier(criterion = \"entropy\", \n",
        "                                  random_state = 25,\n",
        "                                  max_depth=19, \n",
        "                                  min_samples_leaf=10,\n",
        "                                  min_samples_split=10)\n",
        "rforest.fit(x_train, y_train)"
      ],
      "execution_count": null,
      "outputs": [
        {
          "output_type": "execute_result",
          "data": {
            "text/plain": [
              "RandomForestClassifier(bootstrap=True, ccp_alpha=0.0, class_weight=None,\n",
              "                       criterion='entropy', max_depth=19, max_features='auto',\n",
              "                       max_leaf_nodes=None, max_samples=None,\n",
              "                       min_impurity_decrease=0.0, min_impurity_split=None,\n",
              "                       min_samples_leaf=10, min_samples_split=10,\n",
              "                       min_weight_fraction_leaf=0.0, n_estimators=100,\n",
              "                       n_jobs=None, oob_score=False, random_state=25, verbose=0,\n",
              "                       warm_start=False)"
            ]
          },
          "metadata": {
            "tags": []
          },
          "execution_count": 52
        }
      ]
    },
    {
      "cell_type": "code",
      "metadata": {
        "id": "MmdpTWd1JQAY",
        "colab": {
          "base_uri": "https://localhost:8080/",
          "height": 52
        },
        "outputId": "b3420219-f38e-425f-d2ab-ec608469addf"
      },
      "source": [
        "print('Training Score:',rforest.score(x_train, y_train))\n",
        "print('Testing Score:',rforest.score(x_test, y_test))"
      ],
      "execution_count": null,
      "outputs": [
        {
          "output_type": "stream",
          "text": [
            "Training Score: 0.9672219387755102\n",
            "Testing Score: 0.9461845238095238\n"
          ],
          "name": "stdout"
        }
      ]
    },
    {
      "cell_type": "code",
      "metadata": {
        "id": "dMvOZ10uJQAi",
        "colab": {
          "base_uri": "https://localhost:8080/",
          "height": 394
        },
        "outputId": "48ed1b85-ead0-46dd-9984-94572e4842b3"
      },
      "source": [
        "y_pred = rforest.predict(x_test)\n",
        "print(classification_report(y_test,y_pred))\n",
        "print(confusion_matrix(y_test,y_pred))"
      ],
      "execution_count": null,
      "outputs": [
        {
          "output_type": "stream",
          "text": [
            "              precision    recall  f1-score   support\n",
            "\n",
            "           1       0.95      0.93      0.94     57141\n",
            "           2       0.94      0.96      0.95     75000\n",
            "           3       0.94      0.96      0.95     13131\n",
            "           4       0.94      0.93      0.94      1797\n",
            "           5       0.94      0.87      0.90      4468\n",
            "           6       0.94      0.92      0.93      7534\n",
            "           7       0.97      0.96      0.97      8929\n",
            "\n",
            "    accuracy                           0.95    168000\n",
            "   macro avg       0.95      0.93      0.94    168000\n",
            "weighted avg       0.95      0.95      0.95    168000\n",
            "\n",
            "[[53098  3795     1     0    39     5   203]\n",
            " [ 2257 72153   207     2   207   137    37]\n",
            " [    0   149 12619    63     8   292     0]\n",
            " [    0     0    93  1673     0    31     0]\n",
            " [   17   519    41     0  3880    11     0]\n",
            " [    0   131   442    35     4  6922     0]\n",
            " [  276    36     0     0     3     0  8614]]\n"
          ],
          "name": "stdout"
        }
      ]
    },
    {
      "cell_type": "code",
      "metadata": {
        "id": "7l6KhlLlJQAu",
        "colab": {
          "base_uri": "https://localhost:8080/",
          "height": 360
        },
        "outputId": "d30e7a49-e615-4b25-b6d8-afd56506c471"
      },
      "source": [
        "pd.DataFrame({'columns':x.columns,'Importance':rforest.feature_importances_})"
      ],
      "execution_count": null,
      "outputs": [
        {
          "output_type": "execute_result",
          "data": {
            "text/html": [
              "<div>\n",
              "<style scoped>\n",
              "    .dataframe tbody tr th:only-of-type {\n",
              "        vertical-align: middle;\n",
              "    }\n",
              "\n",
              "    .dataframe tbody tr th {\n",
              "        vertical-align: top;\n",
              "    }\n",
              "\n",
              "    .dataframe thead th {\n",
              "        text-align: right;\n",
              "    }\n",
              "</style>\n",
              "<table border=\"1\" class=\"dataframe\">\n",
              "  <thead>\n",
              "    <tr style=\"text-align: right;\">\n",
              "      <th></th>\n",
              "      <th>columns</th>\n",
              "      <th>Importance</th>\n",
              "    </tr>\n",
              "  </thead>\n",
              "  <tbody>\n",
              "    <tr>\n",
              "      <th>0</th>\n",
              "      <td>Elevation</td>\n",
              "      <td>0.293245</td>\n",
              "    </tr>\n",
              "    <tr>\n",
              "      <th>1</th>\n",
              "      <td>Aspect</td>\n",
              "      <td>0.037148</td>\n",
              "    </tr>\n",
              "    <tr>\n",
              "      <th>2</th>\n",
              "      <td>Horizontal_Distance_To_Roadways</td>\n",
              "      <td>0.071888</td>\n",
              "    </tr>\n",
              "    <tr>\n",
              "      <th>3</th>\n",
              "      <td>Hillshade_9am</td>\n",
              "      <td>0.031676</td>\n",
              "    </tr>\n",
              "    <tr>\n",
              "      <th>4</th>\n",
              "      <td>Horizontal_Distance_To_Fire_Points</td>\n",
              "      <td>0.052535</td>\n",
              "    </tr>\n",
              "    <tr>\n",
              "      <th>5</th>\n",
              "      <td>Fire_Hydr</td>\n",
              "      <td>0.055029</td>\n",
              "    </tr>\n",
              "    <tr>\n",
              "      <th>6</th>\n",
              "      <td>Avg_Horizontal</td>\n",
              "      <td>0.073451</td>\n",
              "    </tr>\n",
              "    <tr>\n",
              "      <th>7</th>\n",
              "      <td>Fire_Road</td>\n",
              "      <td>0.069435</td>\n",
              "    </tr>\n",
              "    <tr>\n",
              "      <th>8</th>\n",
              "      <td>Hydr_Dist</td>\n",
              "      <td>0.045413</td>\n",
              "    </tr>\n",
              "    <tr>\n",
              "      <th>9</th>\n",
              "      <td>Wilderness</td>\n",
              "      <td>0.075373</td>\n",
              "    </tr>\n",
              "    <tr>\n",
              "      <th>10</th>\n",
              "      <td>Soil</td>\n",
              "      <td>0.194807</td>\n",
              "    </tr>\n",
              "  </tbody>\n",
              "</table>\n",
              "</div>"
            ],
            "text/plain": [
              "                               columns  Importance\n",
              "0                            Elevation    0.293245\n",
              "1                               Aspect    0.037148\n",
              "2      Horizontal_Distance_To_Roadways    0.071888\n",
              "3                        Hillshade_9am    0.031676\n",
              "4   Horizontal_Distance_To_Fire_Points    0.052535\n",
              "5                            Fire_Hydr    0.055029\n",
              "6                       Avg_Horizontal    0.073451\n",
              "7                            Fire_Road    0.069435\n",
              "8                            Hydr_Dist    0.045413\n",
              "9                           Wilderness    0.075373\n",
              "10                                Soil    0.194807"
            ]
          },
          "metadata": {
            "tags": []
          },
          "execution_count": 55
        }
      ]
    },
    {
      "cell_type": "markdown",
      "metadata": {
        "id": "_IrztdcGJQA9"
      },
      "source": [
        "### KNN"
      ]
    },
    {
      "cell_type": "markdown",
      "metadata": {
        "id": "cxjnVfsMKjiO"
      },
      "source": [
        "\n",
        "*   scaling all numerical columns and saving it in a dataframe 'x_std'\n",
        "*   concatenating all the independent data into a dataframe 'x_' \n",
        "*   dividing data to x_ (independent variable) and y_ (dependent variable)\n",
        "*   splitting data into train and test in 7:3 ratio"
      ]
    },
    {
      "cell_type": "code",
      "metadata": {
        "id": "2JdPNtzmJQA_",
        "colab": {
          "base_uri": "https://localhost:8080/",
          "height": 189
        },
        "outputId": "40c3d767-3bbf-4f5f-e78c-a53f1da18682"
      },
      "source": [
        "from sklearn.preprocessing import StandardScaler\n",
        "\n",
        "x1 = forest_f.drop(columns= ['Cover_Type','Soil','Wilderness'])\n",
        "y_ = forest_f['Cover_Type']\n",
        "\n",
        "x_std = StandardScaler().fit_transform(x1)\n",
        "\n",
        "x_std = pd.DataFrame(x_std, columns = x1.columns)\n",
        "\n",
        "x_ = pd.concat([x_std,forest_f[['Soil','Wilderness']]], axis = 1)\n",
        "x_.head()"
      ],
      "execution_count": null,
      "outputs": [
        {
          "output_type": "execute_result",
          "data": {
            "text/html": [
              "<div>\n",
              "<style scoped>\n",
              "    .dataframe tbody tr th:only-of-type {\n",
              "        vertical-align: middle;\n",
              "    }\n",
              "\n",
              "    .dataframe tbody tr th {\n",
              "        vertical-align: top;\n",
              "    }\n",
              "\n",
              "    .dataframe thead th {\n",
              "        text-align: right;\n",
              "    }\n",
              "</style>\n",
              "<table border=\"1\" class=\"dataframe\">\n",
              "  <thead>\n",
              "    <tr style=\"text-align: right;\">\n",
              "      <th></th>\n",
              "      <th>Elevation</th>\n",
              "      <th>Aspect</th>\n",
              "      <th>Horizontal_Distance_To_Roadways</th>\n",
              "      <th>Hillshade_9am</th>\n",
              "      <th>Horizontal_Distance_To_Fire_Points</th>\n",
              "      <th>Fire_Hydr</th>\n",
              "      <th>Avg_Horizontal</th>\n",
              "      <th>Fire_Road</th>\n",
              "      <th>Hydr_Dist</th>\n",
              "      <th>Soil</th>\n",
              "      <th>Wilderness</th>\n",
              "    </tr>\n",
              "  </thead>\n",
              "  <tbody>\n",
              "    <tr>\n",
              "      <th>0</th>\n",
              "      <td>0.824993</td>\n",
              "      <td>-0.680594</td>\n",
              "      <td>-0.242203</td>\n",
              "      <td>0.806948</td>\n",
              "      <td>-0.031070</td>\n",
              "      <td>-0.242679</td>\n",
              "      <td>-0.360650</td>\n",
              "      <td>-0.245514</td>\n",
              "      <td>-1.371248</td>\n",
              "      <td>29.0</td>\n",
              "      <td>1.0</td>\n",
              "    </tr>\n",
              "    <tr>\n",
              "      <th>1</th>\n",
              "      <td>1.139856</td>\n",
              "      <td>-1.046790</td>\n",
              "      <td>-1.089579</td>\n",
              "      <td>0.259169</td>\n",
              "      <td>-0.884791</td>\n",
              "      <td>-0.436214</td>\n",
              "      <td>-0.984879</td>\n",
              "      <td>-1.272567</td>\n",
              "      <td>1.663775</td>\n",
              "      <td>22.0</td>\n",
              "      <td>1.0</td>\n",
              "    </tr>\n",
              "    <tr>\n",
              "      <th>2</th>\n",
              "      <td>1.084099</td>\n",
              "      <td>1.052138</td>\n",
              "      <td>-1.232150</td>\n",
              "      <td>-0.726835</td>\n",
              "      <td>-1.032981</td>\n",
              "      <td>-0.593060</td>\n",
              "      <td>-1.161074</td>\n",
              "      <td>-1.447657</td>\n",
              "      <td>1.448859</td>\n",
              "      <td>32.0</td>\n",
              "      <td>3.0</td>\n",
              "    </tr>\n",
              "    <tr>\n",
              "      <th>3</th>\n",
              "      <td>0.926668</td>\n",
              "      <td>-0.725252</td>\n",
              "      <td>-0.708370</td>\n",
              "      <td>0.953023</td>\n",
              "      <td>-0.758116</td>\n",
              "      <td>-0.925946</td>\n",
              "      <td>-1.045563</td>\n",
              "      <td>-0.953958</td>\n",
              "      <td>-0.836644</td>\n",
              "      <td>39.0</td>\n",
              "      <td>3.0</td>\n",
              "    </tr>\n",
              "    <tr>\n",
              "      <th>4</th>\n",
              "      <td>0.992264</td>\n",
              "      <td>0.382268</td>\n",
              "      <td>-0.873029</td>\n",
              "      <td>0.003538</td>\n",
              "      <td>-0.598972</td>\n",
              "      <td>-0.699194</td>\n",
              "      <td>-1.022947</td>\n",
              "      <td>-0.971208</td>\n",
              "      <td>-0.387040</td>\n",
              "      <td>23.0</td>\n",
              "      <td>1.0</td>\n",
              "    </tr>\n",
              "  </tbody>\n",
              "</table>\n",
              "</div>"
            ],
            "text/plain": [
              "   Elevation    Aspect  ...  Soil  Wilderness\n",
              "0   0.824993 -0.680594  ...  29.0         1.0\n",
              "1   1.139856 -1.046790  ...  22.0         1.0\n",
              "2   1.084099  1.052138  ...  32.0         3.0\n",
              "3   0.926668 -0.725252  ...  39.0         3.0\n",
              "4   0.992264  0.382268  ...  23.0         1.0\n",
              "\n",
              "[5 rows x 11 columns]"
            ]
          },
          "metadata": {
            "tags": []
          },
          "execution_count": 49
        }
      ]
    },
    {
      "cell_type": "code",
      "metadata": {
        "id": "cmVaki-JJQBG"
      },
      "source": [
        "x_train_k, x_test_k, y_train_k, y_test_k = train_test_split(x_, y_, test_size = .3, random_state=25)"
      ],
      "execution_count": null,
      "outputs": []
    },
    {
      "cell_type": "code",
      "metadata": {
        "id": "RL8KkpBDJQBo"
      },
      "source": [
        "from sklearn.neighbors import KNeighborsClassifier"
      ],
      "execution_count": null,
      "outputs": []
    },
    {
      "cell_type": "code",
      "metadata": {
        "id": "CSJjL5-PJQBv"
      },
      "source": [
        "knn = KNeighborsClassifier(metric = 'cityblock', n_neighbors= 4, weights= 'distance')\n",
        "knn.fit(x_train_k,y_train_k)\n",
        "y_pred_k = knn.predict(x_test_k)"
      ],
      "execution_count": null,
      "outputs": []
    },
    {
      "cell_type": "code",
      "metadata": {
        "id": "oR73eS6kJQB3",
        "colab": {
          "base_uri": "https://localhost:8080/",
          "height": 52
        },
        "outputId": "b42fb44f-b068-4dcf-b7b6-58ea02d8a5fa"
      },
      "source": [
        "print('Training Score:',knn.score(x_train_k,y_train_k))\n",
        "print('Testing Score:',knn.score(x_test_k,y_test_k))"
      ],
      "execution_count": null,
      "outputs": [
        {
          "output_type": "stream",
          "text": [
            "Training Score: 1.0\n",
            "Testing Score: 0.9617559523809524\n"
          ],
          "name": "stdout"
        }
      ]
    },
    {
      "cell_type": "code",
      "metadata": {
        "id": "TSeKuLECJQB-",
        "colab": {
          "base_uri": "https://localhost:8080/",
          "height": 394
        },
        "outputId": "0d4d5bc7-19e4-4062-846e-4ea473233ad7"
      },
      "source": [
        "print(classification_report(y_test_k, y_pred_k))\n",
        "print(confusion_matrix(y_test_k, y_pred_k))"
      ],
      "execution_count": null,
      "outputs": [
        {
          "output_type": "stream",
          "text": [
            "              precision    recall  f1-score   support\n",
            "\n",
            "           1       0.96      0.96      0.96     57141\n",
            "           2       0.96      0.96      0.96     75000\n",
            "           3       0.97      0.97      0.97     13131\n",
            "           4       0.95      0.95      0.95      1797\n",
            "           5       0.91      0.95      0.93      4468\n",
            "           6       0.95      0.96      0.95      7534\n",
            "           7       0.97      0.98      0.97      8929\n",
            "\n",
            "    accuracy                           0.96    168000\n",
            "   macro avg       0.95      0.96      0.96    168000\n",
            "weighted avg       0.96      0.96      0.96    168000\n",
            "\n",
            "[[54589  2243     1     0    52     9   247]\n",
            " [ 2005 72369   140     1   321   124    40]\n",
            " [    1    97 12710    62    21   240     0]\n",
            " [    0     0    61  1701     0    35     0]\n",
            " [   19   193    24     0  4227     4     1]\n",
            " [   10    84   187    31    10  7212     0]\n",
            " [  149    12     0     0     1     0  8767]]\n"
          ],
          "name": "stdout"
        }
      ]
    },
    {
      "cell_type": "markdown",
      "metadata": {
        "id": "SOpP6bibJQCJ"
      },
      "source": [
        "### Ensemble Techniques on selected features"
      ]
    },
    {
      "cell_type": "code",
      "metadata": {
        "id": "7H_-JpEZJQCK"
      },
      "source": [
        "#base_LR = LogisticRegression(random_state = 25)\n",
        "base_DT = DecisionTreeClassifier(criterion = \"entropy\", \n",
        "                                  random_state = 25,\n",
        "                                  max_depth=19, \n",
        "                                  min_samples_leaf=10,\n",
        "                                  min_samples_split=10)\n",
        "#base_NB = GaussianNB()\n",
        "base_RF = RandomForestClassifier(criterion = \"entropy\", \n",
        "                                  random_state = 25,\n",
        "                                  max_depth=19, \n",
        "                                  min_samples_leaf=10,\n",
        "                                  min_samples_split=10)\n",
        "base_KNN = KNeighborsClassifier(metric = 'cityblock', \n",
        "                                n_neighbors= 4, \n",
        "                                weights= 'distance')"
      ],
      "execution_count": null,
      "outputs": []
    },
    {
      "cell_type": "markdown",
      "metadata": {
        "id": "l4JxI8xOJQCW"
      },
      "source": [
        "### Bagging"
      ]
    },
    {
      "cell_type": "code",
      "metadata": {
        "id": "JGLWatQiJQCY"
      },
      "source": [
        "from sklearn.ensemble import BaggingClassifier"
      ],
      "execution_count": null,
      "outputs": []
    },
    {
      "cell_type": "markdown",
      "metadata": {
        "id": "8ar8FafZJQCe"
      },
      "source": [
        "#### Decision Bag"
      ]
    },
    {
      "cell_type": "code",
      "metadata": {
        "id": "Rdq01VcUJQCi",
        "colab": {
          "base_uri": "https://localhost:8080/",
          "height": 322
        },
        "outputId": "67324b38-0408-4d92-b005-19928140b49c"
      },
      "source": [
        "bgcl_DT = BaggingClassifier(base_estimator=base_DT,n_estimators=51,oob_score=True,random_state=25)\n",
        "bgcl_DT.fit(x_train, y_train)"
      ],
      "execution_count": null,
      "outputs": [
        {
          "output_type": "execute_result",
          "data": {
            "text/plain": [
              "BaggingClassifier(base_estimator=DecisionTreeClassifier(ccp_alpha=0.0,\n",
              "                                                        class_weight=None,\n",
              "                                                        criterion='entropy',\n",
              "                                                        max_depth=19,\n",
              "                                                        max_features=None,\n",
              "                                                        max_leaf_nodes=None,\n",
              "                                                        min_impurity_decrease=0.0,\n",
              "                                                        min_impurity_split=None,\n",
              "                                                        min_samples_leaf=10,\n",
              "                                                        min_samples_split=10,\n",
              "                                                        min_weight_fraction_leaf=0.0,\n",
              "                                                        presort='deprecated',\n",
              "                                                        random_state=25,\n",
              "                                                        splitter='best'),\n",
              "                  bootstrap=True, bootstrap_features=False, max_features=1.0,\n",
              "                  max_samples=1.0, n_estimators=51, n_jobs=None, oob_score=True,\n",
              "                  random_state=25, verbose=0, warm_start=False)"
            ]
          },
          "metadata": {
            "tags": []
          },
          "execution_count": 64
        }
      ]
    },
    {
      "cell_type": "code",
      "metadata": {
        "id": "sIDJPknqJQC1",
        "colab": {
          "base_uri": "https://localhost:8080/",
          "height": 70
        },
        "outputId": "f0b7f9be-b625-4985-ab5a-bf859393a472"
      },
      "source": [
        "print('OOB SCORE:',bgcl_DT.oob_score_)\n",
        "print('Training Accuracy:',bgcl_DT.score(x_train,y_train))\n",
        "print('Testing Accuracy:',bgcl_DT.score(x_test,y_test))"
      ],
      "execution_count": null,
      "outputs": [
        {
          "output_type": "stream",
          "text": [
            "OOB SCORE: 0.9427142857142857\n",
            "Training Accuracy: 0.9671224489795919\n",
            "Testing Accuracy: 0.9439285714285715\n"
          ],
          "name": "stdout"
        }
      ]
    },
    {
      "cell_type": "code",
      "metadata": {
        "id": "0YOR2teDJQDB",
        "colab": {
          "base_uri": "https://localhost:8080/",
          "height": 394
        },
        "outputId": "3c5a729a-8e50-4f98-f2d0-703941f8dfcc"
      },
      "source": [
        "print(classification_report(y_test,bgcl_DT.predict(x_test)))\n",
        "print(confusion_matrix(y_test,bgcl_DT.predict(x_test)))"
      ],
      "execution_count": null,
      "outputs": [
        {
          "output_type": "stream",
          "text": [
            "              precision    recall  f1-score   support\n",
            "\n",
            "           1       0.95      0.93      0.94     57141\n",
            "           2       0.94      0.96      0.95     75000\n",
            "           3       0.95      0.96      0.95     13131\n",
            "           4       0.94      0.92      0.93      1797\n",
            "           5       0.92      0.87      0.89      4468\n",
            "           6       0.93      0.93      0.93      7534\n",
            "           7       0.97      0.96      0.96      8929\n",
            "\n",
            "    accuracy                           0.94    168000\n",
            "   macro avg       0.94      0.93      0.94    168000\n",
            "weighted avg       0.94      0.94      0.94    168000\n",
            "\n",
            "[[53304  3552     2     0    45     6   232]\n",
            " [ 2765 71645   164     1   262   125    38]\n",
            " [    0   181 12554    65    12   319     0]\n",
            " [    0     2   107  1653     0    35     0]\n",
            " [   35   500    41     0  3873    19     0]\n",
            " [    2   128   384    38     5  6977     0]\n",
            " [  300    53     0     0     2     0  8574]]\n"
          ],
          "name": "stdout"
        }
      ]
    },
    {
      "cell_type": "markdown",
      "metadata": {
        "id": "TRsDbxnSJQDK"
      },
      "source": [
        "#### Random Forest Bag"
      ]
    },
    {
      "cell_type": "code",
      "metadata": {
        "id": "y7ofMrDTJQDM",
        "colab": {
          "base_uri": "https://localhost:8080/",
          "height": 412
        },
        "outputId": "f54ffc4b-7451-4040-d8c5-89bbe78d5938"
      },
      "source": [
        "bgcl_RF = BaggingClassifier(base_estimator=base_RF,n_estimators=51,oob_score=True,random_state=25)\n",
        "bgcl_RF.fit(x_train, y_train)"
      ],
      "execution_count": null,
      "outputs": [
        {
          "output_type": "execute_result",
          "data": {
            "text/plain": [
              "BaggingClassifier(base_estimator=RandomForestClassifier(bootstrap=True,\n",
              "                                                        ccp_alpha=0.0,\n",
              "                                                        class_weight=None,\n",
              "                                                        criterion='entropy',\n",
              "                                                        max_depth=19,\n",
              "                                                        max_features='auto',\n",
              "                                                        max_leaf_nodes=None,\n",
              "                                                        max_samples=None,\n",
              "                                                        min_impurity_decrease=0.0,\n",
              "                                                        min_impurity_split=None,\n",
              "                                                        min_samples_leaf=10,\n",
              "                                                        min_samples_split=10,\n",
              "                                                        min_weight_fraction_leaf=0.0,\n",
              "                                                        n_estimators=100,\n",
              "                                                        n_jobs=None,\n",
              "                                                        oob_score=False,\n",
              "                                                        random_state=25,\n",
              "                                                        verbose=0,\n",
              "                                                        warm_start=False),\n",
              "                  bootstrap=True, bootstrap_features=False, max_features=1.0,\n",
              "                  max_samples=1.0, n_estimators=51, n_jobs=None, oob_score=True,\n",
              "                  random_state=25, verbose=0, warm_start=False)"
            ]
          },
          "metadata": {
            "tags": []
          },
          "execution_count": 67
        }
      ]
    },
    {
      "cell_type": "code",
      "metadata": {
        "id": "29m3ZpjAJQDW",
        "colab": {
          "base_uri": "https://localhost:8080/",
          "height": 70
        },
        "outputId": "b2e8ff4c-cf91-4887-f794-51d48d5ce647"
      },
      "source": [
        "print('OOB SCORE:',bgcl_RF.oob_score_)\n",
        "print('Training Accuracy:',bgcl_RF.score(x_train,y_train))\n",
        "print('Testing Accuracy:',bgcl_RF.score(x_test,y_test))"
      ],
      "execution_count": null,
      "outputs": [
        {
          "output_type": "stream",
          "text": [
            "OOB SCORE: 0.9362295918367347\n",
            "Training Accuracy: 0.9529362244897959\n",
            "Testing Accuracy: 0.9353630952380952\n"
          ],
          "name": "stdout"
        }
      ]
    },
    {
      "cell_type": "code",
      "metadata": {
        "id": "POGnhA7EJQDe",
        "colab": {
          "base_uri": "https://localhost:8080/",
          "height": 394
        },
        "outputId": "5278bdc0-8d74-44d0-f3ea-8154fa410730"
      },
      "source": [
        "print(classification_report(y_test,bgcl_RF.predict(x_test)))\n",
        "print(confusion_matrix(y_test,bgcl_RF.predict(x_test)))"
      ],
      "execution_count": null,
      "outputs": [
        {
          "output_type": "stream",
          "text": [
            "              precision    recall  f1-score   support\n",
            "\n",
            "           1       0.95      0.91      0.93     57141\n",
            "           2       0.93      0.96      0.94     75000\n",
            "           3       0.93      0.96      0.94     13131\n",
            "           4       0.94      0.92      0.93      1797\n",
            "           5       0.93      0.82      0.87      4468\n",
            "           6       0.92      0.90      0.91      7534\n",
            "           7       0.97      0.96      0.96      8929\n",
            "\n",
            "    accuracy                           0.94    168000\n",
            "   macro avg       0.94      0.92      0.93    168000\n",
            "weighted avg       0.94      0.94      0.94    168000\n",
            "\n",
            "[[52264  4569     2     0    49     9   248]\n",
            " [ 2590 71711   261     1   222   175    40]\n",
            " [    0   193 12543    73     6   316     0]\n",
            " [    0     0   114  1650     0    33     0]\n",
            " [   20   700    64     0  3667    17     0]\n",
            " [    0   176   565    35     3  6755     0]\n",
            " [  336    40     0     0     2     0  8551]]\n"
          ],
          "name": "stdout"
        }
      ]
    },
    {
      "cell_type": "markdown",
      "metadata": {
        "id": "CM8ueAZGJQDm"
      },
      "source": [
        "#### KNN Bag"
      ]
    },
    {
      "cell_type": "code",
      "metadata": {
        "id": "WYsUqEfLJQDo",
        "colab": {
          "base_uri": "https://localhost:8080/",
          "height": 196
        },
        "outputId": "22081d05-e30e-4a3b-f7c3-7480c4582aa5"
      },
      "source": [
        "bgcl_KN = BaggingClassifier(base_estimator=base_KNN,n_estimators=51,oob_score=True,random_state=25)\n",
        "bgcl_KN.fit(x_train_k, y_train_k)"
      ],
      "execution_count": null,
      "outputs": [
        {
          "output_type": "execute_result",
          "data": {
            "text/plain": [
              "BaggingClassifier(base_estimator=KNeighborsClassifier(algorithm='auto',\n",
              "                                                      leaf_size=30,\n",
              "                                                      metric='cityblock',\n",
              "                                                      metric_params=None,\n",
              "                                                      n_jobs=None,\n",
              "                                                      n_neighbors=4, p=2,\n",
              "                                                      weights='distance'),\n",
              "                  bootstrap=True, bootstrap_features=False, max_features=1.0,\n",
              "                  max_samples=1.0, n_estimators=51, n_jobs=None, oob_score=True,\n",
              "                  random_state=25, verbose=0, warm_start=False)"
            ]
          },
          "metadata": {
            "tags": []
          },
          "execution_count": 62
        }
      ]
    },
    {
      "cell_type": "code",
      "metadata": {
        "id": "6jYC8tCPJQDy",
        "colab": {
          "base_uri": "https://localhost:8080/",
          "height": 70
        },
        "outputId": "96708b49-d9fc-4466-9cfd-6875baeac06d"
      },
      "source": [
        "print('OOB SCORE:',bgcl_KN.oob_score_)\n",
        "print('Training Accuracy:',bgcl_KN.score(x_train_k,y_train_k))\n",
        "print('Testing Accuracy:',bgcl_KN.score(x_test_k,y_test_k))"
      ],
      "execution_count": null,
      "outputs": [
        {
          "output_type": "stream",
          "text": [
            "OOB SCORE: 0.9611454081632653\n",
            "Training Accuracy: 0.9998724489795918\n",
            "Testing Accuracy: 0.9611904761904762\n"
          ],
          "name": "stdout"
        }
      ]
    },
    {
      "cell_type": "code",
      "metadata": {
        "id": "uBPwewmoJQD8",
        "colab": {
          "base_uri": "https://localhost:8080/",
          "height": 394
        },
        "outputId": "dbc415ea-1dd0-4db3-c93e-15f42f167524"
      },
      "source": [
        "print(classification_report(y_test_k,bgcl_KN.predict(x_test_k)))\n",
        "print(confusion_matrix(y_test_k,bgcl_KN.predict(x_test_k)))"
      ],
      "execution_count": null,
      "outputs": [
        {
          "output_type": "stream",
          "text": [
            "              precision    recall  f1-score   support\n",
            "\n",
            "           1       0.96      0.95      0.96     57141\n",
            "           2       0.96      0.97      0.96     75000\n",
            "           3       0.97      0.97      0.97     13131\n",
            "           4       0.94      0.94      0.94      1797\n",
            "           5       0.91      0.94      0.93      4468\n",
            "           6       0.94      0.96      0.95      7534\n",
            "           7       0.97      0.98      0.97      8929\n",
            "\n",
            "    accuracy                           0.96    168000\n",
            "   macro avg       0.95      0.96      0.95    168000\n",
            "weighted avg       0.96      0.96      0.96    168000\n",
            "\n",
            "[[54519  2299     0     0    55     8   260]\n",
            " [ 1960 72390   143     1   325   137    44]\n",
            " [    1    97 12680    69    19   265     0]\n",
            " [    0     0    68  1690     0    39     0]\n",
            " [   19   196    26     0  4222     4     1]\n",
            " [    8    84   190    32     8  7212     0]\n",
            " [  148    13     0     0     1     0  8767]]\n"
          ],
          "name": "stdout"
        }
      ]
    },
    {
      "cell_type": "markdown",
      "metadata": {
        "id": "rW6_-SXkJQEC"
      },
      "source": [
        "### AdaBoost"
      ]
    },
    {
      "cell_type": "code",
      "metadata": {
        "id": "XmkbGh1tJQED"
      },
      "source": [
        "from sklearn.ensemble import AdaBoostClassifier\n",
        "abcl_DT = AdaBoostClassifier(base_estimator=base_DT,n_estimators=50,random_state=25)\n",
        "\n",
        "abcl_RF = AdaBoostClassifier(base_estimator=base_RF,n_estimators=50,random_state=25)"
      ],
      "execution_count": null,
      "outputs": []
    },
    {
      "cell_type": "markdown",
      "metadata": {
        "id": "r65KSThSeTBS"
      },
      "source": [
        "##### Decision Tree"
      ]
    },
    {
      "cell_type": "code",
      "metadata": {
        "scrolled": true,
        "id": "Nnd6qub2JQEJ",
        "colab": {
          "base_uri": "https://localhost:8080/",
          "height": 52
        },
        "outputId": "ea919ba2-2cec-4352-af6e-b37bacf67e7d"
      },
      "source": [
        "abcl_DT.fit(x_train,y_train)\n",
        "print('Training Accuracy:',abcl_DT.score(x_train,y_train))\n",
        "print('Testing Accuracy:',abcl_DT.score(x_test,y_test))"
      ],
      "execution_count": null,
      "outputs": [
        {
          "output_type": "stream",
          "text": [
            "Training Accuracy: 0.9998724489795918\n",
            "Testing Accuracy: 0.9660892857142858\n"
          ],
          "name": "stdout"
        }
      ]
    },
    {
      "cell_type": "code",
      "metadata": {
        "id": "1LufMsT8JQEP",
        "colab": {
          "base_uri": "https://localhost:8080/",
          "height": 394
        },
        "outputId": "9c329a00-6656-429b-f2f8-a4f4f19ade8a"
      },
      "source": [
        "print(classification_report(y_test,abcl_DT.predict(x_test)))\n",
        "print(confusion_matrix(y_test,abcl_DT.predict(x_test)))"
      ],
      "execution_count": null,
      "outputs": [
        {
          "output_type": "stream",
          "text": [
            "              precision    recall  f1-score   support\n",
            "\n",
            "           1       0.97      0.96      0.96     57141\n",
            "           2       0.96      0.97      0.97     75000\n",
            "           3       0.97      0.98      0.97     13131\n",
            "           4       0.96      0.95      0.96      1797\n",
            "           5       0.97      0.92      0.95      4468\n",
            "           6       0.97      0.96      0.96      7534\n",
            "           7       0.98      0.98      0.98      8929\n",
            "\n",
            "    accuracy                           0.97    168000\n",
            "   macro avg       0.97      0.96      0.96    168000\n",
            "weighted avg       0.97      0.97      0.97    168000\n",
            "\n",
            "[[54630  2369     0     0    16     5   121]\n",
            " [ 1666 73035   101     0    98    76    24]\n",
            " [    0    95 12845    44     3   144     0]\n",
            " [    0     0    71  1708     0    18     0]\n",
            " [   16   316    20     0  4112     4     0]\n",
            " [    0    83   199    25     3  7224     0]\n",
            " [  163    15     0     0     2     0  8749]]\n"
          ],
          "name": "stdout"
        }
      ]
    },
    {
      "cell_type": "markdown",
      "metadata": {
        "id": "vBd-UVbneYQB"
      },
      "source": [
        "#### Random Forest"
      ]
    },
    {
      "cell_type": "code",
      "metadata": {
        "id": "uO9uw_-yJQEX",
        "colab": {
          "base_uri": "https://localhost:8080/",
          "height": 52
        },
        "outputId": "fd106287-08c5-4fe0-e293-d16893f909f3"
      },
      "source": [
        "abcl_RF.fit(x_train,y_train)\n",
        "print('Training Accuracy:',abcl_RF.score(x_train,y_train))\n",
        "print('Testing Accuracy:',abcl_RF.score(x_test,y_test))"
      ],
      "execution_count": null,
      "outputs": [
        {
          "output_type": "stream",
          "text": [
            "Training Accuracy: 0.6251556122448979\n",
            "Testing Accuracy: 0.6043333333333333\n"
          ],
          "name": "stdout"
        }
      ]
    },
    {
      "cell_type": "code",
      "metadata": {
        "id": "yvRF-9ZeJQEg",
        "colab": {
          "base_uri": "https://localhost:8080/",
          "height": 394
        },
        "outputId": "4465e5cd-c0fc-421f-ac6a-9712a97e479e"
      },
      "source": [
        "print(classification_report(y_test,abcl_RF.predict(x_test)))\n",
        "print(confusion_matrix(y_test,abcl_RF.predict(x_test)))"
      ],
      "execution_count": null,
      "outputs": [
        {
          "output_type": "stream",
          "text": [
            "              precision    recall  f1-score   support\n",
            "\n",
            "           1       0.48      1.00      0.65     57141\n",
            "           2       0.88      0.33      0.48     75000\n",
            "           3       0.93      0.88      0.90     13131\n",
            "           4       0.95      0.91      0.93      1797\n",
            "           5       0.99      0.14      0.24      4468\n",
            "           6       0.95      0.71      0.81      7534\n",
            "           7       1.00      0.03      0.07      8929\n",
            "\n",
            "    accuracy                           0.60    168000\n",
            "   macro avg       0.88      0.57      0.58    168000\n",
            "weighted avg       0.76      0.60      0.56    168000\n",
            "\n",
            "[[57123    18     0     0     0     0     0]\n",
            " [49914 25007    61     0     0    18     0]\n",
            " [  235  1125 11494    54     4   219     0]\n",
            " [    0    17   114  1636     0    30     0]\n",
            " [ 2639  1208    13     0   608     0     0]\n",
            " [  613   925   616    30     0  5350     0]\n",
            " [ 8592    27     0     0     0     0   310]]\n"
          ],
          "name": "stdout"
        }
      ]
    },
    {
      "cell_type": "markdown",
      "metadata": {
        "id": "qrms6a6hJQEp"
      },
      "source": [
        "### Gradient Boosting"
      ]
    },
    {
      "cell_type": "code",
      "metadata": {
        "id": "CrNmJAA2JQEq",
        "colab": {
          "base_uri": "https://localhost:8080/",
          "height": 196
        },
        "outputId": "d5cb46cb-8715-45ab-de2c-3f23ca9ac851"
      },
      "source": [
        "from sklearn.ensemble import GradientBoostingClassifier\n",
        "\n",
        "gbcl = GradientBoostingClassifier(random_state = 25,\n",
        "                                  max_depth=19, \n",
        "                                  min_samples_leaf=10,\n",
        "                                  min_samples_split=10,\n",
        "                                  n_estimators = 50)\n",
        "gbcl.fit(x_train, y_train)"
      ],
      "execution_count": null,
      "outputs": [
        {
          "output_type": "execute_result",
          "data": {
            "text/plain": [
              "GradientBoostingClassifier(ccp_alpha=0.0, criterion='friedman_mse', init=None,\n",
              "                           learning_rate=0.1, loss='deviance', max_depth=19,\n",
              "                           max_features=None, max_leaf_nodes=None,\n",
              "                           min_impurity_decrease=0.0, min_impurity_split=None,\n",
              "                           min_samples_leaf=10, min_samples_split=10,\n",
              "                           min_weight_fraction_leaf=0.0, n_estimators=50,\n",
              "                           n_iter_no_change=None, presort='deprecated',\n",
              "                           random_state=25, subsample=1.0, tol=0.0001,\n",
              "                           validation_fraction=0.1, verbose=0,\n",
              "                           warm_start=False)"
            ]
          },
          "metadata": {
            "tags": []
          },
          "execution_count": 59
        }
      ]
    },
    {
      "cell_type": "code",
      "metadata": {
        "id": "1eDaHRWJJQEx",
        "colab": {
          "base_uri": "https://localhost:8080/",
          "height": 52
        },
        "outputId": "3dab13a2-f53b-4091-9bbd-28fdd2ab6dff"
      },
      "source": [
        "print('Training Score:',gbcl.score(x_train,y_train))\n",
        "print('Testing Score:',gbcl.score(x_test,y_test))"
      ],
      "execution_count": null,
      "outputs": [
        {
          "output_type": "stream",
          "text": [
            "Training Score: 1.0\n",
            "Testing Score: 0.9724702380952381\n"
          ],
          "name": "stdout"
        }
      ]
    },
    {
      "cell_type": "code",
      "metadata": {
        "id": "_YOLDkJSJQE8",
        "colab": {
          "base_uri": "https://localhost:8080/",
          "height": 394
        },
        "outputId": "97614f54-984c-4aa6-9f37-4661e9829428"
      },
      "source": [
        "print(classification_report(y_test,gbcl.predict(x_test)))\n",
        "print(confusion_matrix(y_test,gbcl.predict(x_test)))"
      ],
      "execution_count": null,
      "outputs": [
        {
          "output_type": "stream",
          "text": [
            "              precision    recall  f1-score   support\n",
            "\n",
            "           1       0.98      0.97      0.97     57141\n",
            "           2       0.97      0.98      0.98     75000\n",
            "           3       0.97      0.97      0.97     13131\n",
            "           4       0.95      0.94      0.94      1797\n",
            "           5       0.96      0.94      0.95      4468\n",
            "           6       0.96      0.96      0.96      7534\n",
            "           7       0.98      0.98      0.98      8929\n",
            "\n",
            "    accuracy                           0.97    168000\n",
            "   macro avg       0.97      0.96      0.96    168000\n",
            "weighted avg       0.97      0.97      0.97    168000\n",
            "\n",
            "[[55350  1624     1     0    21     8   137]\n",
            " [ 1250 73386   101     0   163    72    28]\n",
            " [    0   104 12785    67     9   166     0]\n",
            " [    0     0    73  1693     0    31     0]\n",
            " [   14   237    17     0  4193     7     0]\n",
            " [    1    80   214    28     1  7210     0]\n",
            " [  150    19     0     0     2     0  8758]]\n"
          ],
          "name": "stdout"
        }
      ]
    }
  ]
}